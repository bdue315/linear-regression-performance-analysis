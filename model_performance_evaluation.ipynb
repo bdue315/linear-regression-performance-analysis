{
 "cells": [
  {
   "cell_type": "markdown",
   "metadata": {},
   "source": [
    "Hello Bridget!\n",
    "\n",
    "I’m happy to review your project today.\n",
    "I will mark your mistakes and give you some hints how it is possible to fix them. We are getting ready for real job, where your team leader/senior colleague will do exactly the same. Don't worry and study with pleasure!\n",
    "\n",
    "Below you will find my comments - **please do not move, modify or delete them**.\n",
    "\n",
    "You can find my comments in green, yellow or red boxes like this:\n",
    "\n",
    "<div class=\"alert alert-block alert-success\">\n",
    "<b>Reviewer's comment</b> <a class=\"tocSkip\"></a>\n",
    "\n",
    "Success. Everything is done succesfully.\n",
    "</div>\n",
    "\n",
    "<div class=\"alert alert-block alert-warning\">\n",
    "<b>Reviewer's comment</b> <a class=\"tocSkip\"></a>\n",
    "\n",
    "Remarks. Some recommendations.\n",
    "</div>\n",
    "\n",
    "<div class=\"alert alert-block alert-danger\">\n",
    "\n",
    "<b>Reviewer's comment</b> <a class=\"tocSkip\"></a>\n",
    "\n",
    "Needs fixing. The block requires some corrections. Work can't be accepted with the red comments.\n",
    "</div>\n",
    "\n",
    "You can answer me by using this:\n",
    "\n",
    "<div class=\"alert alert-block alert-info\">\n",
    "<b>Student answer.</b> <a class=\"tocSkip\"></a>\n",
    "\n",
    "Text here.\n",
    "</div>"
   ]
  },
  {
   "cell_type": "markdown",
   "metadata": {},
   "source": [
    "Rusty Bargain used car sales service is developing an app to attract new customers. In that app, you can quickly find out the market value of your car. You have access to historical data: technical specifications, trim versions, and prices. You need to build the model to determine the value. \n",
    "\n",
    "Rusty Bargain is interested in:\n",
    "\n",
    "- the quality of the prediction;\n",
    "- the speed of the prediction;\n",
    "- the time required for training"
   ]
  },
  {
   "cell_type": "markdown",
   "metadata": {},
   "source": [
    "## Data preparation"
   ]
  },
  {
   "cell_type": "markdown",
   "metadata": {},
   "source": [
    "### Import Libraries"
   ]
  },
  {
   "cell_type": "code",
   "execution_count": 3,
   "metadata": {},
   "outputs": [],
   "source": [
    "import numpy as np\n",
    "import pandas as pd\n",
    "import math\n",
    "import time\n",
    "\n",
    "import seaborn as sns\n",
    "import matplotlib.pyplot as plt\n",
    "\n",
    "import sklearn.linear_model\n",
    "import sklearn.metrics\n",
    "import sklearn.preprocessing\n",
    "import xgboost as xgb\n",
    "import lightgbm as lgb\n",
    "\n",
    "from sklearn.metrics import mean_squared_error\n",
    "from sklearn.metrics import r2_score\n",
    "from sklearn.neighbors import KNeighborsClassifier\n",
    "from sklearn.neighbors import NearestNeighbors\n",
    "from sklearn.dummy import DummyClassifier\n",
    "from sklearn.linear_model import LinearRegression\n",
    "from sklearn.model_selection import train_test_split\n",
    "from IPython.display import display\n",
    "from sklearn.ensemble import GradientBoostingRegressor\n",
    "from catboost import CatBoostRegressor\n",
    "from sklearn.preprocessing import StandardScaler, LabelEncoder\n",
    "from sklearn.metrics import mean_squared_error, make_scorer\n",
    "from sklearn.model_selection import cross_val_score, GridSearchCV, KFold\n",
    "from sklearn.tree import DecisionTreeRegressor\n",
    "from sklearn.ensemble import RandomForestRegressor\n",
    "from sklearn.model_selection import RandomizedSearchCV"
   ]
  },
  {
   "cell_type": "markdown",
   "metadata": {},
   "source": [
    "### Import data"
   ]
  },
  {
   "cell_type": "code",
   "execution_count": 4,
   "metadata": {},
   "outputs": [],
   "source": [
    "df = pd.read_csv('/datasets/car_data.csv')"
   ]
  },
  {
   "cell_type": "markdown",
   "metadata": {},
   "source": [
    "### Data Review"
   ]
  },
  {
   "cell_type": "code",
   "execution_count": 5,
   "metadata": {
    "scrolled": false
   },
   "outputs": [
    {
     "data": {
      "text/html": [
       "<div>\n",
       "<style scoped>\n",
       "    .dataframe tbody tr th:only-of-type {\n",
       "        vertical-align: middle;\n",
       "    }\n",
       "\n",
       "    .dataframe tbody tr th {\n",
       "        vertical-align: top;\n",
       "    }\n",
       "\n",
       "    .dataframe thead th {\n",
       "        text-align: right;\n",
       "    }\n",
       "</style>\n",
       "<table border=\"1\" class=\"dataframe\">\n",
       "  <thead>\n",
       "    <tr style=\"text-align: right;\">\n",
       "      <th></th>\n",
       "      <th>DateCrawled</th>\n",
       "      <th>Price</th>\n",
       "      <th>VehicleType</th>\n",
       "      <th>RegistrationYear</th>\n",
       "      <th>Gearbox</th>\n",
       "      <th>Power</th>\n",
       "      <th>Model</th>\n",
       "      <th>Mileage</th>\n",
       "      <th>RegistrationMonth</th>\n",
       "      <th>FuelType</th>\n",
       "      <th>Brand</th>\n",
       "      <th>NotRepaired</th>\n",
       "      <th>DateCreated</th>\n",
       "      <th>NumberOfPictures</th>\n",
       "      <th>PostalCode</th>\n",
       "      <th>LastSeen</th>\n",
       "    </tr>\n",
       "  </thead>\n",
       "  <tbody>\n",
       "    <tr>\n",
       "      <th>334901</th>\n",
       "      <td>29/03/2016 03:36</td>\n",
       "      <td>1300</td>\n",
       "      <td>NaN</td>\n",
       "      <td>1910</td>\n",
       "      <td>NaN</td>\n",
       "      <td>0</td>\n",
       "      <td>NaN</td>\n",
       "      <td>5000</td>\n",
       "      <td>9</td>\n",
       "      <td>NaN</td>\n",
       "      <td>audi</td>\n",
       "      <td>NaN</td>\n",
       "      <td>29/03/2016 00:00</td>\n",
       "      <td>0</td>\n",
       "      <td>82256</td>\n",
       "      <td>05/04/2016 17:25</td>\n",
       "    </tr>\n",
       "    <tr>\n",
       "      <th>87135</th>\n",
       "      <td>18/03/2016 23:41</td>\n",
       "      <td>3799</td>\n",
       "      <td>small</td>\n",
       "      <td>2005</td>\n",
       "      <td>manual</td>\n",
       "      <td>199</td>\n",
       "      <td>punto</td>\n",
       "      <td>150000</td>\n",
       "      <td>10</td>\n",
       "      <td>gasoline</td>\n",
       "      <td>fiat</td>\n",
       "      <td>no</td>\n",
       "      <td>18/03/2016 00:00</td>\n",
       "      <td>0</td>\n",
       "      <td>74855</td>\n",
       "      <td>05/04/2016 23:16</td>\n",
       "    </tr>\n",
       "    <tr>\n",
       "      <th>97546</th>\n",
       "      <td>02/04/2016 15:39</td>\n",
       "      <td>500</td>\n",
       "      <td>sedan</td>\n",
       "      <td>1999</td>\n",
       "      <td>manual</td>\n",
       "      <td>101</td>\n",
       "      <td>golf</td>\n",
       "      <td>150000</td>\n",
       "      <td>5</td>\n",
       "      <td>petrol</td>\n",
       "      <td>volkswagen</td>\n",
       "      <td>no</td>\n",
       "      <td>02/04/2016 00:00</td>\n",
       "      <td>0</td>\n",
       "      <td>96524</td>\n",
       "      <td>02/04/2016 15:39</td>\n",
       "    </tr>\n",
       "    <tr>\n",
       "      <th>250315</th>\n",
       "      <td>24/03/2016 17:36</td>\n",
       "      <td>950</td>\n",
       "      <td>sedan</td>\n",
       "      <td>1998</td>\n",
       "      <td>auto</td>\n",
       "      <td>224</td>\n",
       "      <td>e_klasse</td>\n",
       "      <td>150000</td>\n",
       "      <td>11</td>\n",
       "      <td>petrol</td>\n",
       "      <td>mercedes_benz</td>\n",
       "      <td>NaN</td>\n",
       "      <td>24/03/2016 00:00</td>\n",
       "      <td>0</td>\n",
       "      <td>57462</td>\n",
       "      <td>03/04/2016 09:45</td>\n",
       "    </tr>\n",
       "    <tr>\n",
       "      <th>81231</th>\n",
       "      <td>11/03/2016 20:37</td>\n",
       "      <td>12250</td>\n",
       "      <td>wagon</td>\n",
       "      <td>2008</td>\n",
       "      <td>manual</td>\n",
       "      <td>177</td>\n",
       "      <td>3er</td>\n",
       "      <td>100000</td>\n",
       "      <td>11</td>\n",
       "      <td>gasoline</td>\n",
       "      <td>bmw</td>\n",
       "      <td>no</td>\n",
       "      <td>11/03/2016 00:00</td>\n",
       "      <td>0</td>\n",
       "      <td>3051</td>\n",
       "      <td>06/04/2016 02:46</td>\n",
       "    </tr>\n",
       "    <tr>\n",
       "      <th>307868</th>\n",
       "      <td>30/03/2016 12:57</td>\n",
       "      <td>2250</td>\n",
       "      <td>NaN</td>\n",
       "      <td>2017</td>\n",
       "      <td>manual</td>\n",
       "      <td>101</td>\n",
       "      <td>zafira</td>\n",
       "      <td>150000</td>\n",
       "      <td>11</td>\n",
       "      <td>gasoline</td>\n",
       "      <td>opel</td>\n",
       "      <td>no</td>\n",
       "      <td>30/03/2016 00:00</td>\n",
       "      <td>0</td>\n",
       "      <td>47137</td>\n",
       "      <td>07/04/2016 04:15</td>\n",
       "    </tr>\n",
       "    <tr>\n",
       "      <th>232852</th>\n",
       "      <td>20/03/2016 14:42</td>\n",
       "      <td>4000</td>\n",
       "      <td>sedan</td>\n",
       "      <td>2003</td>\n",
       "      <td>auto</td>\n",
       "      <td>177</td>\n",
       "      <td>e_klasse</td>\n",
       "      <td>150000</td>\n",
       "      <td>5</td>\n",
       "      <td>gasoline</td>\n",
       "      <td>mercedes_benz</td>\n",
       "      <td>no</td>\n",
       "      <td>20/03/2016 00:00</td>\n",
       "      <td>0</td>\n",
       "      <td>94060</td>\n",
       "      <td>20/03/2016 14:42</td>\n",
       "    </tr>\n",
       "    <tr>\n",
       "      <th>128809</th>\n",
       "      <td>29/03/2016 09:52</td>\n",
       "      <td>7100</td>\n",
       "      <td>suv</td>\n",
       "      <td>2004</td>\n",
       "      <td>auto</td>\n",
       "      <td>450</td>\n",
       "      <td>cayenne</td>\n",
       "      <td>150000</td>\n",
       "      <td>11</td>\n",
       "      <td>petrol</td>\n",
       "      <td>porsche</td>\n",
       "      <td>no</td>\n",
       "      <td>29/03/2016 00:00</td>\n",
       "      <td>0</td>\n",
       "      <td>42109</td>\n",
       "      <td>29/03/2016 09:52</td>\n",
       "    </tr>\n",
       "    <tr>\n",
       "      <th>270437</th>\n",
       "      <td>02/04/2016 13:48</td>\n",
       "      <td>2650</td>\n",
       "      <td>small</td>\n",
       "      <td>2005</td>\n",
       "      <td>manual</td>\n",
       "      <td>101</td>\n",
       "      <td>polo</td>\n",
       "      <td>150000</td>\n",
       "      <td>10</td>\n",
       "      <td>gasoline</td>\n",
       "      <td>volkswagen</td>\n",
       "      <td>no</td>\n",
       "      <td>02/04/2016 00:00</td>\n",
       "      <td>0</td>\n",
       "      <td>4860</td>\n",
       "      <td>06/04/2016 12:16</td>\n",
       "    </tr>\n",
       "    <tr>\n",
       "      <th>4046</th>\n",
       "      <td>04/04/2016 08:56</td>\n",
       "      <td>1990</td>\n",
       "      <td>wagon</td>\n",
       "      <td>1996</td>\n",
       "      <td>manual</td>\n",
       "      <td>110</td>\n",
       "      <td>NaN</td>\n",
       "      <td>150000</td>\n",
       "      <td>5</td>\n",
       "      <td>gasoline</td>\n",
       "      <td>audi</td>\n",
       "      <td>no</td>\n",
       "      <td>04/04/2016 00:00</td>\n",
       "      <td>0</td>\n",
       "      <td>15848</td>\n",
       "      <td>06/04/2016 10:16</td>\n",
       "    </tr>\n",
       "  </tbody>\n",
       "</table>\n",
       "</div>"
      ],
      "text/plain": [
       "             DateCrawled  Price VehicleType  RegistrationYear Gearbox  Power  \\\n",
       "334901  29/03/2016 03:36   1300         NaN              1910     NaN      0   \n",
       "87135   18/03/2016 23:41   3799       small              2005  manual    199   \n",
       "97546   02/04/2016 15:39    500       sedan              1999  manual    101   \n",
       "250315  24/03/2016 17:36    950       sedan              1998    auto    224   \n",
       "81231   11/03/2016 20:37  12250       wagon              2008  manual    177   \n",
       "307868  30/03/2016 12:57   2250         NaN              2017  manual    101   \n",
       "232852  20/03/2016 14:42   4000       sedan              2003    auto    177   \n",
       "128809  29/03/2016 09:52   7100         suv              2004    auto    450   \n",
       "270437  02/04/2016 13:48   2650       small              2005  manual    101   \n",
       "4046    04/04/2016 08:56   1990       wagon              1996  manual    110   \n",
       "\n",
       "           Model  Mileage  RegistrationMonth  FuelType          Brand  \\\n",
       "334901       NaN     5000                  9       NaN           audi   \n",
       "87135      punto   150000                 10  gasoline           fiat   \n",
       "97546       golf   150000                  5    petrol     volkswagen   \n",
       "250315  e_klasse   150000                 11    petrol  mercedes_benz   \n",
       "81231        3er   100000                 11  gasoline            bmw   \n",
       "307868    zafira   150000                 11  gasoline           opel   \n",
       "232852  e_klasse   150000                  5  gasoline  mercedes_benz   \n",
       "128809   cayenne   150000                 11    petrol        porsche   \n",
       "270437      polo   150000                 10  gasoline     volkswagen   \n",
       "4046         NaN   150000                  5  gasoline           audi   \n",
       "\n",
       "       NotRepaired       DateCreated  NumberOfPictures  PostalCode  \\\n",
       "334901         NaN  29/03/2016 00:00                 0       82256   \n",
       "87135           no  18/03/2016 00:00                 0       74855   \n",
       "97546           no  02/04/2016 00:00                 0       96524   \n",
       "250315         NaN  24/03/2016 00:00                 0       57462   \n",
       "81231           no  11/03/2016 00:00                 0        3051   \n",
       "307868          no  30/03/2016 00:00                 0       47137   \n",
       "232852          no  20/03/2016 00:00                 0       94060   \n",
       "128809          no  29/03/2016 00:00                 0       42109   \n",
       "270437          no  02/04/2016 00:00                 0        4860   \n",
       "4046            no  04/04/2016 00:00                 0       15848   \n",
       "\n",
       "                LastSeen  \n",
       "334901  05/04/2016 17:25  \n",
       "87135   05/04/2016 23:16  \n",
       "97546   02/04/2016 15:39  \n",
       "250315  03/04/2016 09:45  \n",
       "81231   06/04/2016 02:46  \n",
       "307868  07/04/2016 04:15  \n",
       "232852  20/03/2016 14:42  \n",
       "128809  29/03/2016 09:52  \n",
       "270437  06/04/2016 12:16  \n",
       "4046    06/04/2016 10:16  "
      ]
     },
     "execution_count": 5,
     "metadata": {},
     "output_type": "execute_result"
    }
   ],
   "source": [
    "df.sample(10)"
   ]
  },
  {
   "cell_type": "code",
   "execution_count": 6,
   "metadata": {},
   "outputs": [],
   "source": [
    "#Lowercase columns\n",
    "df.columns = df.columns.str.lower()"
   ]
  },
  {
   "cell_type": "code",
   "execution_count": 7,
   "metadata": {},
   "outputs": [],
   "source": [
    "#Rename columns w/ underscores\n",
    "df = df.rename(columns={\n",
    "    'datecrawled': 'date_crawled',\n",
    "    'vehicletype': 'vehicle_type',\n",
    "    'registrationyear': 'registration_year',\n",
    "    'registrationmonth': 'registration_month',\n",
    "    'fueltype': 'fuel_type',\n",
    "    'notrepaired': 'not_repaired',\n",
    "    'datecreated': 'date_created',\n",
    "    'numberofpictures': 'num_of_pictures',\n",
    "    'postalcode': 'postal_code',\n",
    "    'lastseen': 'last_seen'\n",
    "})"
   ]
  },
  {
   "cell_type": "code",
   "execution_count": 8,
   "metadata": {
    "scrolled": true
   },
   "outputs": [
    {
     "name": "stdout",
     "output_type": "stream",
     "text": [
      "(354369, 16)\n",
      "<class 'pandas.core.frame.DataFrame'>\n",
      "RangeIndex: 354369 entries, 0 to 354368\n",
      "Data columns (total 16 columns):\n",
      " #   Column              Non-Null Count   Dtype \n",
      "---  ------              --------------   ----- \n",
      " 0   date_crawled        354369 non-null  object\n",
      " 1   price               354369 non-null  int64 \n",
      " 2   vehicle_type        316879 non-null  object\n",
      " 3   registration_year   354369 non-null  int64 \n",
      " 4   gearbox             334536 non-null  object\n",
      " 5   power               354369 non-null  int64 \n",
      " 6   model               334664 non-null  object\n",
      " 7   mileage             354369 non-null  int64 \n",
      " 8   registration_month  354369 non-null  int64 \n",
      " 9   fuel_type           321474 non-null  object\n",
      " 10  brand               354369 non-null  object\n",
      " 11  not_repaired        283215 non-null  object\n",
      " 12  date_created        354369 non-null  object\n",
      " 13  num_of_pictures     354369 non-null  int64 \n",
      " 14  postal_code         354369 non-null  int64 \n",
      " 15  last_seen           354369 non-null  object\n",
      "dtypes: int64(7), object(9)\n",
      "memory usage: 43.3+ MB\n"
     ]
    }
   ],
   "source": [
    "print(df.shape)\n",
    "df.info()"
   ]
  },
  {
   "cell_type": "code",
   "execution_count": 9,
   "metadata": {},
   "outputs": [
    {
     "data": {
      "text/html": [
       "<div>\n",
       "<style scoped>\n",
       "    .dataframe tbody tr th:only-of-type {\n",
       "        vertical-align: middle;\n",
       "    }\n",
       "\n",
       "    .dataframe tbody tr th {\n",
       "        vertical-align: top;\n",
       "    }\n",
       "\n",
       "    .dataframe thead th {\n",
       "        text-align: right;\n",
       "    }\n",
       "</style>\n",
       "<table border=\"1\" class=\"dataframe\">\n",
       "  <thead>\n",
       "    <tr style=\"text-align: right;\">\n",
       "      <th></th>\n",
       "      <th>price</th>\n",
       "      <th>registration_year</th>\n",
       "      <th>power</th>\n",
       "      <th>mileage</th>\n",
       "      <th>registration_month</th>\n",
       "      <th>num_of_pictures</th>\n",
       "      <th>postal_code</th>\n",
       "    </tr>\n",
       "  </thead>\n",
       "  <tbody>\n",
       "    <tr>\n",
       "      <th>count</th>\n",
       "      <td>354369.000000</td>\n",
       "      <td>354369.000000</td>\n",
       "      <td>354369.000000</td>\n",
       "      <td>354369.000000</td>\n",
       "      <td>354369.000000</td>\n",
       "      <td>354369.0</td>\n",
       "      <td>354369.000000</td>\n",
       "    </tr>\n",
       "    <tr>\n",
       "      <th>mean</th>\n",
       "      <td>4416.656776</td>\n",
       "      <td>2004.234448</td>\n",
       "      <td>110.094337</td>\n",
       "      <td>128211.172535</td>\n",
       "      <td>5.714645</td>\n",
       "      <td>0.0</td>\n",
       "      <td>50508.689087</td>\n",
       "    </tr>\n",
       "    <tr>\n",
       "      <th>std</th>\n",
       "      <td>4514.158514</td>\n",
       "      <td>90.227958</td>\n",
       "      <td>189.850405</td>\n",
       "      <td>37905.341530</td>\n",
       "      <td>3.726421</td>\n",
       "      <td>0.0</td>\n",
       "      <td>25783.096248</td>\n",
       "    </tr>\n",
       "    <tr>\n",
       "      <th>min</th>\n",
       "      <td>0.000000</td>\n",
       "      <td>1000.000000</td>\n",
       "      <td>0.000000</td>\n",
       "      <td>5000.000000</td>\n",
       "      <td>0.000000</td>\n",
       "      <td>0.0</td>\n",
       "      <td>1067.000000</td>\n",
       "    </tr>\n",
       "    <tr>\n",
       "      <th>25%</th>\n",
       "      <td>1050.000000</td>\n",
       "      <td>1999.000000</td>\n",
       "      <td>69.000000</td>\n",
       "      <td>125000.000000</td>\n",
       "      <td>3.000000</td>\n",
       "      <td>0.0</td>\n",
       "      <td>30165.000000</td>\n",
       "    </tr>\n",
       "    <tr>\n",
       "      <th>50%</th>\n",
       "      <td>2700.000000</td>\n",
       "      <td>2003.000000</td>\n",
       "      <td>105.000000</td>\n",
       "      <td>150000.000000</td>\n",
       "      <td>6.000000</td>\n",
       "      <td>0.0</td>\n",
       "      <td>49413.000000</td>\n",
       "    </tr>\n",
       "    <tr>\n",
       "      <th>75%</th>\n",
       "      <td>6400.000000</td>\n",
       "      <td>2008.000000</td>\n",
       "      <td>143.000000</td>\n",
       "      <td>150000.000000</td>\n",
       "      <td>9.000000</td>\n",
       "      <td>0.0</td>\n",
       "      <td>71083.000000</td>\n",
       "    </tr>\n",
       "    <tr>\n",
       "      <th>max</th>\n",
       "      <td>20000.000000</td>\n",
       "      <td>9999.000000</td>\n",
       "      <td>20000.000000</td>\n",
       "      <td>150000.000000</td>\n",
       "      <td>12.000000</td>\n",
       "      <td>0.0</td>\n",
       "      <td>99998.000000</td>\n",
       "    </tr>\n",
       "  </tbody>\n",
       "</table>\n",
       "</div>"
      ],
      "text/plain": [
       "               price  registration_year          power        mileage  \\\n",
       "count  354369.000000      354369.000000  354369.000000  354369.000000   \n",
       "mean     4416.656776        2004.234448     110.094337  128211.172535   \n",
       "std      4514.158514          90.227958     189.850405   37905.341530   \n",
       "min         0.000000        1000.000000       0.000000    5000.000000   \n",
       "25%      1050.000000        1999.000000      69.000000  125000.000000   \n",
       "50%      2700.000000        2003.000000     105.000000  150000.000000   \n",
       "75%      6400.000000        2008.000000     143.000000  150000.000000   \n",
       "max     20000.000000        9999.000000   20000.000000  150000.000000   \n",
       "\n",
       "       registration_month  num_of_pictures    postal_code  \n",
       "count       354369.000000         354369.0  354369.000000  \n",
       "mean             5.714645              0.0   50508.689087  \n",
       "std              3.726421              0.0   25783.096248  \n",
       "min              0.000000              0.0    1067.000000  \n",
       "25%              3.000000              0.0   30165.000000  \n",
       "50%              6.000000              0.0   49413.000000  \n",
       "75%              9.000000              0.0   71083.000000  \n",
       "max             12.000000              0.0   99998.000000  "
      ]
     },
     "execution_count": 9,
     "metadata": {},
     "output_type": "execute_result"
    }
   ],
   "source": [
    "df.describe()"
   ]
  },
  {
   "cell_type": "markdown",
   "metadata": {},
   "source": [
    "**Notes:**\n",
    "\n",
    "1. Convert to datetime\n",
    " -- date_crawled\n",
    " -- date_created\n",
    " -- last_seen\n",
    "2. Check for missing values\n",
    "3. Check for duplicates\n",
    "4. Outliers\n",
    " -- registration_year (min of 1000 and max 9999)\n",
    " -- power (min of 0)\n",
    "5. Drop last_seen (irrelevant) and Number of pictures (no data; all 0s)\n"
   ]
  },
  {
   "cell_type": "markdown",
   "metadata": {},
   "source": [
    "<div class=\"alert alert-block alert-success\">\n",
    "<b>Reviewer's comment V1</b> <a class=\"tocSkip\"></a>\n",
    "\n",
    "Correct\n",
    "    \n",
    "</div>"
   ]
  },
  {
   "cell_type": "markdown",
   "metadata": {},
   "source": [
    "### Data Preprocessing"
   ]
  },
  {
   "cell_type": "code",
   "execution_count": 10,
   "metadata": {},
   "outputs": [],
   "source": [
    "#Convert columns to datetime\n",
    "df[['date_crawled', 'date_created', 'last_seen']] = df[['date_crawled', 'date_created', 'last_seen']].apply(pd.to_datetime)"
   ]
  },
  {
   "cell_type": "code",
   "execution_count": 11,
   "metadata": {},
   "outputs": [
    {
     "data": {
      "text/plain": [
       "262"
      ]
     },
     "execution_count": 11,
     "metadata": {},
     "output_type": "execute_result"
    }
   ],
   "source": [
    "#Check for duplicated values\n",
    "df.duplicated().sum()"
   ]
  },
  {
   "cell_type": "code",
   "execution_count": 12,
   "metadata": {},
   "outputs": [],
   "source": [
    "#Drop duplicates\n",
    "df = df.drop_duplicates().reset_index(drop=True)"
   ]
  },
  {
   "cell_type": "code",
   "execution_count": 13,
   "metadata": {
    "scrolled": true
   },
   "outputs": [
    {
     "data": {
      "text/plain": [
       "date_crawled              0\n",
       "price                     0\n",
       "vehicle_type          37484\n",
       "registration_year         0\n",
       "gearbox               19830\n",
       "power                     0\n",
       "model                 19701\n",
       "mileage                   0\n",
       "registration_month        0\n",
       "fuel_type             32889\n",
       "brand                     0\n",
       "not_repaired          71145\n",
       "date_created              0\n",
       "num_of_pictures           0\n",
       "postal_code               0\n",
       "last_seen                 0\n",
       "dtype: int64"
      ]
     },
     "execution_count": 13,
     "metadata": {},
     "output_type": "execute_result"
    }
   ],
   "source": [
    "#Check for missing values\n",
    "df.isna().sum()"
   ]
  },
  {
   "cell_type": "code",
   "execution_count": 14,
   "metadata": {},
   "outputs": [],
   "source": [
    "#Drop missing values because using One Hot Encoding instead of Label Encoder\n",
    "df.dropna(inplace=True)"
   ]
  },
  {
   "cell_type": "markdown",
   "metadata": {},
   "source": [
    "<div class=\"alert alert-block alert-warning\">\n",
    "<b>Reviewer's comment V1</b> <a class=\"tocSkip\"></a>\n",
    "\n",
    "Actually no one model including CatBoost can handle missing values. You handled NaNs with LabelEncoder. It encoded NaNs as additional category. You can check the data after encoding to see that there are not NaNs. So, you code didn't throw an error because of LabelEncoder and not because of CatBoost:)\n",
    "    \n",
    "</div>"
   ]
  },
  {
   "cell_type": "markdown",
   "metadata": {},
   "source": [
    "<div class=\"alert alert-block alert-info\">\n",
    "<b>Student answer.</b> <a class=\"tocSkip\"></a>\n",
    "OK thank you for this info. Think I understand. I dropped missing values now since I didn't use LabelEncoder this time.\n",
    "</div>"
   ]
  },
  {
   "cell_type": "markdown",
   "metadata": {},
   "source": [
    "<div class=\"alert alert-block alert-warning\">\n",
    "<b>Reviewer's comment V2</b> <a class=\"tocSkip\"></a>\n",
    "\n",
    "When you work with ML models it's always not a good idea to remove a row because of NaN in one column because you lose information from other columns which can be useful for model training. So, instead of dropping NaNs it's better to fill them.\n",
    "    \n",
    "Previously everything was fine due to LabelEncoder. If you don't use LabelEncoder now, you need to fill all the missing values. One of the best way to fill NaNs in categorical columns is to fill them with a placeholder like string 'unknown'.\n",
    "  \n",
    "</div>"
   ]
  },
  {
   "cell_type": "code",
   "execution_count": 15,
   "metadata": {
    "scrolled": true
   },
   "outputs": [
    {
     "data": {
      "text/plain": [
       "3     26502\n",
       "6     23354\n",
       "4     21927\n",
       "5     21562\n",
       "7     20236\n",
       "10    19663\n",
       "9     18152\n",
       "12    18094\n",
       "11    18053\n",
       "1     17378\n",
       "8     16890\n",
       "2     16225\n",
       "0      7531\n",
       "Name: registration_month, dtype: int64"
      ]
     },
     "execution_count": 15,
     "metadata": {},
     "output_type": "execute_result"
    }
   ],
   "source": [
    "#Check unique value counts for missing data\n",
    "df['registration_month'].value_counts()"
   ]
  },
  {
   "cell_type": "code",
   "execution_count": 16,
   "metadata": {},
   "outputs": [],
   "source": [
    "#Impute missing values with most frequent month\n",
    "most_frequent_month = df['registration_month'].mode()[0]\n",
    "df['registration_month'] = df['registration_month'].replace(0, most_frequent_month)"
   ]
  },
  {
   "cell_type": "code",
   "execution_count": 17,
   "metadata": {},
   "outputs": [],
   "source": [
    "#Handle outliers for registration_year\n",
    "df = df[(df['registration_year'] >= 1920) & (df['registration_year'] <= 2025)]"
   ]
  },
  {
   "cell_type": "code",
   "execution_count": 18,
   "metadata": {},
   "outputs": [],
   "source": [
    "#Handle outliers for power\n",
    "df = df[df['power'] >= 100]"
   ]
  },
  {
   "cell_type": "code",
   "execution_count": 19,
   "metadata": {},
   "outputs": [],
   "source": [
    "#Feature engineer a new time column from the relavant datetime ones\n",
    "df['created_to_crawled'] =  df['date_crawled'] - df['date_created']"
   ]
  },
  {
   "cell_type": "code",
   "execution_count": 20,
   "metadata": {},
   "outputs": [],
   "source": [
    "#Convert new feature to datetime with seconds as unit\n",
    "df['created_to_crawled'] = df['created_to_crawled'].astype('int64') // 10**9 "
   ]
  },
  {
   "cell_type": "code",
   "execution_count": 21,
   "metadata": {},
   "outputs": [],
   "source": [
    "#Drop last_seen and num_of_pictures columns because irrelavant; drop date columns now that new feature exists\n",
    "df.drop(columns=['num_of_pictures', 'last_seen', 'date_crawled', 'date_created'], inplace=True)"
   ]
  },
  {
   "cell_type": "code",
   "execution_count": 22,
   "metadata": {
    "scrolled": true
   },
   "outputs": [
    {
     "name": "stdout",
     "output_type": "stream",
     "text": [
      "<class 'pandas.core.frame.DataFrame'>\n",
      "Int64Index: 156209 entries, 5 to 354105\n",
      "Data columns (total 13 columns):\n",
      " #   Column              Non-Null Count   Dtype \n",
      "---  ------              --------------   ----- \n",
      " 0   price               156209 non-null  int64 \n",
      " 1   vehicle_type        156209 non-null  object\n",
      " 2   registration_year   156209 non-null  int64 \n",
      " 3   gearbox             156209 non-null  object\n",
      " 4   power               156209 non-null  int64 \n",
      " 5   model               156209 non-null  object\n",
      " 6   mileage             156209 non-null  int64 \n",
      " 7   registration_month  156209 non-null  int64 \n",
      " 8   fuel_type           156209 non-null  object\n",
      " 9   brand               156209 non-null  object\n",
      " 10  not_repaired        156209 non-null  object\n",
      " 11  postal_code         156209 non-null  int64 \n",
      " 12  created_to_crawled  156209 non-null  int64 \n",
      "dtypes: int64(7), object(6)\n",
      "memory usage: 16.7+ MB\n"
     ]
    }
   ],
   "source": [
    "df.info()"
   ]
  },
  {
   "cell_type": "code",
   "execution_count": 23,
   "metadata": {},
   "outputs": [],
   "source": [
    "#Rename the categorical features columns names to be used in LGB encoding\n",
    "df.rename(columns={'vehicle_type': 'name_vehicle_type', 'gearbox': 'name_gearbox', 'model': 'name_model',\n",
    "                   'fuel_type': 'name_fuel_type', 'brand': 'name_brand', 'not_repaired': 'name_not_repaired'\n",
    "                  }, inplace=True)"
   ]
  },
  {
   "cell_type": "code",
   "execution_count": 24,
   "metadata": {},
   "outputs": [],
   "source": [
    "#Convert columns to be used in categorical feature encoding process to category datatype\n",
    "df[[\n",
    "    'name_vehicle_type',\n",
    "    'name_gearbox',\n",
    "    'name_model',\n",
    "    'name_fuel_type',\n",
    "    'name_brand',\n",
    "    'name_not_repaired'\n",
    "]] = df[[\n",
    "    'name_vehicle_type',\n",
    "    'name_gearbox',\n",
    "    'name_model',\n",
    "    'name_fuel_type',\n",
    "    'name_brand',\n",
    "    'name_not_repaired'\n",
    "]].astype('category')\n"
   ]
  },
  {
   "cell_type": "code",
   "execution_count": 25,
   "metadata": {},
   "outputs": [
    {
     "name": "stdout",
     "output_type": "stream",
     "text": [
      "<class 'pandas.core.frame.DataFrame'>\n",
      "Int64Index: 156209 entries, 5 to 354105\n",
      "Data columns (total 13 columns):\n",
      " #   Column              Non-Null Count   Dtype   \n",
      "---  ------              --------------   -----   \n",
      " 0   price               156209 non-null  int64   \n",
      " 1   name_vehicle_type   156209 non-null  category\n",
      " 2   registration_year   156209 non-null  int64   \n",
      " 3   name_gearbox        156209 non-null  category\n",
      " 4   power               156209 non-null  int64   \n",
      " 5   name_model          156209 non-null  category\n",
      " 6   mileage             156209 non-null  int64   \n",
      " 7   registration_month  156209 non-null  int64   \n",
      " 8   name_fuel_type      156209 non-null  category\n",
      " 9   name_brand          156209 non-null  category\n",
      " 10  name_not_repaired   156209 non-null  category\n",
      " 11  postal_code         156209 non-null  int64   \n",
      " 12  created_to_crawled  156209 non-null  int64   \n",
      "dtypes: category(6), int64(7)\n",
      "memory usage: 10.6 MB\n"
     ]
    }
   ],
   "source": [
    "df.info()"
   ]
  },
  {
   "cell_type": "code",
   "execution_count": 26,
   "metadata": {},
   "outputs": [],
   "source": [
    "#Scale numerical features before one hot encoding\n",
    "\n",
    "numerical_features = ['registration_year', 'power', 'mileage', 'registration_month', \n",
    "                      'postal_code', 'created_to_crawled']\n",
    "\n",
    "# Apply StandardScaler to numerical features\n",
    "scaler = StandardScaler()\n",
    "df[numerical_features] = scaler.fit_transform(df[numerical_features])"
   ]
  },
  {
   "cell_type": "code",
   "execution_count": 27,
   "metadata": {},
   "outputs": [],
   "source": [
    "#Create categorical features variable to use for further processing\n",
    "categorical_features = [\n",
    "    'name_vehicle_type',\n",
    "    'name_gearbox',\n",
    "    'name_model',\n",
    "    'name_fuel_type',\n",
    "    'name_brand',\n",
    "    'name_not_repaired'\n",
    "]"
   ]
  },
  {
   "cell_type": "code",
   "execution_count": 28,
   "metadata": {},
   "outputs": [
    {
     "name": "stdout",
     "output_type": "stream",
     "text": [
      "name_vehicle_type\n",
      "sedan          55072\n",
      "wagon          43824\n",
      "bus            17938\n",
      "convertible    12533\n",
      "coupe          10641\n",
      "suv             8471\n",
      "small           6881\n",
      "other            849\n",
      "Name: name_vehicle_type, dtype: int64\n",
      "-----------------------\n",
      "name_gearbox\n",
      "manual    113245\n",
      "auto       42964\n",
      "Name: name_gearbox, dtype: int64\n",
      "-----------------------\n",
      "name_model\n",
      "3er           14288\n",
      "other         11818\n",
      "golf          11310\n",
      "a4             7297\n",
      "passat         6739\n",
      "              ...  \n",
      "sandero           1\n",
      "rangerover        1\n",
      "ypsilon           1\n",
      "picanto           1\n",
      "kalos             1\n",
      "Name: name_model, Length: 234, dtype: int64\n",
      "-----------------------\n",
      "name_fuel_type\n",
      "petrol      88249\n",
      "gasoline    64499\n",
      "lpg          3146\n",
      "cng           224\n",
      "hybrid         54\n",
      "other          25\n",
      "electric       12\n",
      "Name: name_fuel_type, dtype: int64\n",
      "-----------------------\n",
      "name_brand\n",
      "volkswagen       28815\n",
      "bmw              26307\n",
      "mercedes_benz    20399\n",
      "audi             19827\n",
      "opel             13231\n",
      "ford              9164\n",
      "renault           4299\n",
      "peugeot           4034\n",
      "mazda             2834\n",
      "skoda             2532\n",
      "volvo             2306\n",
      "seat              2296\n",
      "mini              1873\n",
      "toyota            1772\n",
      "nissan            1676\n",
      "citroen           1561\n",
      "alfa_romeo        1546\n",
      "fiat              1493\n",
      "hyundai           1492\n",
      "kia               1182\n",
      "mitsubishi        1166\n",
      "honda             1076\n",
      "chrysler           939\n",
      "chevrolet          743\n",
      "porsche            524\n",
      "jeep               466\n",
      "suzuki             407\n",
      "saab               400\n",
      "subaru             390\n",
      "jaguar             372\n",
      "land_rover         367\n",
      "dacia              222\n",
      "rover              182\n",
      "lancia             119\n",
      "daewoo              88\n",
      "smart               63\n",
      "daihatsu            44\n",
      "lada                 2\n",
      "Name: name_brand, dtype: int64\n",
      "-----------------------\n",
      "name_not_repaired\n",
      "no     140885\n",
      "yes     15324\n",
      "Name: name_not_repaired, dtype: int64\n",
      "-----------------------\n"
     ]
    }
   ],
   "source": [
    "#Review unique values for each feature\n",
    "for feature in categorical_features:\n",
    "    print(feature)\n",
    "    print(df[feature].value_counts())\n",
    "    print(\"-----------------------\")"
   ]
  },
  {
   "cell_type": "code",
   "execution_count": 29,
   "metadata": {},
   "outputs": [
    {
     "name": "stdout",
     "output_type": "stream",
     "text": [
      "name_vehicle_type : 8\n",
      "-------------------------\n",
      "name_gearbox : 2\n",
      "-------------------------\n",
      "name_model : 234\n",
      "-------------------------\n",
      "name_fuel_type : 7\n",
      "-------------------------\n",
      "name_brand : 38\n",
      "-------------------------\n",
      "name_not_repaired : 2\n",
      "-------------------------\n"
     ]
    }
   ],
   "source": [
    "for feature in categorical_features:\n",
    "    print(feature, \":\", df[feature].value_counts().count())\n",
    "    print(\"-------------------------\")"
   ]
  },
  {
   "cell_type": "code",
   "execution_count": 30,
   "metadata": {},
   "outputs": [],
   "source": [
    "#One Hot Encoding preperation\n",
    "#Removing infrequent categories\n",
    "\n",
    "threshold = 10\n",
    "\n",
    "for column in categorical_features:\n",
    "    value_counts = df[column].value_counts()\n",
    "    to_remove = value_counts[value_counts < threshold].index\n",
    "    df[column] = df[column].apply(lambda x: 'Other' if x in to_remove else x)"
   ]
  },
  {
   "cell_type": "code",
   "execution_count": 31,
   "metadata": {},
   "outputs": [],
   "source": [
    "#Apply One-Hot Encoding to columns with fewer unique values\n",
    "df_encoded = pd.get_dummies(df, columns=['name_vehicle_type', 'name_gearbox', 'name_fuel_type', 'name_not_repaired'], drop_first=True)"
   ]
  },
  {
   "cell_type": "code",
   "execution_count": 32,
   "metadata": {},
   "outputs": [],
   "source": [
    "#Linear Regression data preparation\n",
    "#Drop brand and model columns because there are too many unique values for one hot encoding\n",
    "\n",
    "df_encoded.drop(columns=['name_model', 'name_brand'], inplace=True)"
   ]
  },
  {
   "cell_type": "code",
   "execution_count": 33,
   "metadata": {},
   "outputs": [
    {
     "name": "stdout",
     "output_type": "stream",
     "text": [
      "<class 'pandas.core.frame.DataFrame'>\n",
      "Int64Index: 156209 entries, 5 to 354105\n",
      "Data columns (total 22 columns):\n",
      " #   Column                         Non-Null Count   Dtype  \n",
      "---  ------                         --------------   -----  \n",
      " 0   price                          156209 non-null  int64  \n",
      " 1   registration_year              156209 non-null  float64\n",
      " 2   power                          156209 non-null  float64\n",
      " 3   mileage                        156209 non-null  float64\n",
      " 4   registration_month             156209 non-null  float64\n",
      " 5   postal_code                    156209 non-null  float64\n",
      " 6   created_to_crawled             156209 non-null  float64\n",
      " 7   name_vehicle_type_convertible  156209 non-null  uint8  \n",
      " 8   name_vehicle_type_coupe        156209 non-null  uint8  \n",
      " 9   name_vehicle_type_other        156209 non-null  uint8  \n",
      " 10  name_vehicle_type_sedan        156209 non-null  uint8  \n",
      " 11  name_vehicle_type_small        156209 non-null  uint8  \n",
      " 12  name_vehicle_type_suv          156209 non-null  uint8  \n",
      " 13  name_vehicle_type_wagon        156209 non-null  uint8  \n",
      " 14  name_gearbox_manual            156209 non-null  uint8  \n",
      " 15  name_fuel_type_electric        156209 non-null  uint8  \n",
      " 16  name_fuel_type_gasoline        156209 non-null  uint8  \n",
      " 17  name_fuel_type_hybrid          156209 non-null  uint8  \n",
      " 18  name_fuel_type_lpg             156209 non-null  uint8  \n",
      " 19  name_fuel_type_other           156209 non-null  uint8  \n",
      " 20  name_fuel_type_petrol          156209 non-null  uint8  \n",
      " 21  name_not_repaired_yes          156209 non-null  uint8  \n",
      "dtypes: float64(6), int64(1), uint8(15)\n",
      "memory usage: 11.8 MB\n"
     ]
    }
   ],
   "source": [
    "df_encoded.info()"
   ]
  },
  {
   "cell_type": "markdown",
   "metadata": {},
   "source": [
    "<div class=\"alert alert-block alert-success\">\n",
    "<b>Reviewer's comment V1</b> <a class=\"tocSkip\"></a>\n",
    "\n",
    "Everythings is correct. Good job!\n",
    "    \n",
    "</div>"
   ]
  },
  {
   "cell_type": "markdown",
   "metadata": {},
   "source": [
    "### Splitting X and y sets; Training, Test, and Validation sets"
   ]
  },
  {
   "cell_type": "code",
   "execution_count": 34,
   "metadata": {},
   "outputs": [],
   "source": [
    "#Create X and y sets\n",
    "#Original dataframe\n",
    "\n",
    "X_original = df.drop(['price'], axis=1)\n",
    "y_original = df['price']\n",
    "\n",
    "#df_encoded dataframe\n",
    "\n",
    "X_encoded = df_encoded.drop(['price'], axis=1)\n",
    "y_encoded = df_encoded['price']"
   ]
  },
  {
   "cell_type": "code",
   "execution_count": 35,
   "metadata": {},
   "outputs": [],
   "source": [
    "#Create train, test, and validation sets\n",
    "#Original sets\n",
    "\n",
    "X_original_temp, X_original_test, y_original_temp, y_original_test = train_test_split(\n",
    "    X_original, y_original, test_size=0.2, random_state=101)\n",
    "\n",
    "X_original_train, X_original_val, y_original_train, y_original_val = train_test_split(\n",
    "    X_original_temp, y_original_temp, test_size=0.25, random_state=101)\n",
    "\n",
    "#One Hot Encoded sets\n",
    "\n",
    "X_encoded_temp, X_encoded_test, y_encoded_temp, y_encoded_test = train_test_split(\n",
    "    X_encoded, y_encoded, test_size=0.2, random_state=101)\n",
    "\n",
    "X_encoded_train, X_encoded_val, y_encoded_train, y_encoded_val = train_test_split(\n",
    "    X_encoded_temp, y_encoded_temp, test_size=0.25, random_state=101)"
   ]
  },
  {
   "cell_type": "code",
   "execution_count": 36,
   "metadata": {},
   "outputs": [
    {
     "name": "stdout",
     "output_type": "stream",
     "text": [
      "(93725, 21)\n",
      "(93725,)\n",
      "(93725, 12)\n",
      "(93725,)\n"
     ]
    }
   ],
   "source": [
    "print(X_encoded_train.shape)\n",
    "print(y_encoded_train.shape)\n",
    "print(X_original_train.shape)\n",
    "print(y_original_train.shape)"
   ]
  },
  {
   "cell_type": "markdown",
   "metadata": {},
   "source": [
    "**Conclusion:**\n",
    "\n",
    "Performed the following data preprocessing:\n",
    "1. Datetime conversion\n",
    "2. Feature engineered new elapsed time between date features\n",
    "3. Dropped duplicates\n",
    "4. Addressed Outliers\n",
    "5. Handled 0 values in month data\n",
    "6. Dropped irrelevant columns\n",
    "7. Created train, test, validation sets for original df and another set that's label encoded"
   ]
  },
  {
   "cell_type": "markdown",
   "metadata": {},
   "source": [
    "## Model training"
   ]
  },
  {
   "cell_type": "code",
   "execution_count": 37,
   "metadata": {},
   "outputs": [],
   "source": [
    "def rmse(y_true, y_pred):\n",
    "    return np.sqrt(mean_squared_error(y_true, y_pred))\n",
    "\n",
    "rmse_scorer = make_scorer(rmse, greater_is_better=False)"
   ]
  },
  {
   "cell_type": "code",
   "execution_count": 43,
   "metadata": {},
   "outputs": [
    {
     "name": "stdout",
     "output_type": "stream",
     "text": [
      "Baseline Linear Regression RMSE: 3370.619291921021\n",
      "Baseline Test Linear Regression RMSE: 6281.211347513317\n"
     ]
    }
   ],
   "source": [
    "#Linear Regression as base model\n",
    "\n",
    "linear_model = LinearRegression()\n",
    "linear_model.fit(X_encoded_train, y_encoded_train)\n",
    "y_encoded_val_pred = linear_model.predict(X_encoded_val)\n",
    "\n",
    "#Get baseline RMSE\n",
    "linear_rmse = mean_squared_error(y_encoded_val, y_encoded_val_pred, squared=False)\n",
    "\n",
    "#Get baseline test RMSE\n",
    "test_rmse_linear = np.sqrt(mean_squared_error(y_encoded_test, y_encoded_val_pred))\n",
    "\n",
    "print(f'Baseline Linear Regression RMSE: {linear_rmse}')\n",
    "print(f'Baseline Test Linear Regression RMSE: {test_rmse_linear}')"
   ]
  },
  {
   "cell_type": "markdown",
   "metadata": {},
   "source": [
    "<div class=\"alert alert-block alert-danger\">\n",
    "<b>Reviewer's comment V1</b> <a class=\"tocSkip\"></a>\n",
    "\n",
    "1. LabelEncoder is not suitable for linear models. For linear models only one hot encoding can be used\n",
    "2. For linear models all numerical features should be scaled. Not all features but only initially numerical features.\n",
    "    \n",
    "</div>"
   ]
  },
  {
   "cell_type": "markdown",
   "metadata": {},
   "source": [
    "<div class=\"alert alert-block alert-info\">\n",
    "<b>Student answer.</b> <a class=\"tocSkip\"></a>\n",
    "\n",
    "Thanks for the feedback. This makes sense. I implemented both feedback suggestions above and reran linear regression and updated all conclusions accordingly\n",
    "</div>"
   ]
  },
  {
   "cell_type": "markdown",
   "metadata": {},
   "source": [
    "<div class=\"alert alert-block alert-warning\">\n",
    "<b>Reviewer's comment V2</b> <a class=\"tocSkip\"></a>\n",
    "\n",
    "Good job! But:\n",
    "1. It's proper to use scaling after splitting the data because scaler should be trained only on train data as any other algorithm from sklearn.\n",
    "2. Linear models can easily handle thousands of features. So, it's not necessary to remove features with a lot of unique values from ohe if you work with linear models only.\n",
    "    \n",
    "</div>"
   ]
  },
  {
   "cell_type": "code",
   "execution_count": 46,
   "metadata": {
    "scrolled": true
   },
   "outputs": [
    {
     "name": "stdout",
     "output_type": "stream",
     "text": [
      "Fitting 5 folds for each of 54 candidates, totalling 270 fits\n",
      "[CV] END criterion=mse, max_depth=2, max_leaf_nodes=5, min_samples_leaf=20, min_samples_split=10; total time=   0.1s\n",
      "[CV] END criterion=mse, max_depth=2, max_leaf_nodes=5, min_samples_leaf=20, min_samples_split=10; total time=   0.1s\n",
      "[CV] END criterion=mse, max_depth=2, max_leaf_nodes=5, min_samples_leaf=20, min_samples_split=10; total time=   0.1s\n",
      "[CV] END criterion=mse, max_depth=2, max_leaf_nodes=5, min_samples_leaf=20, min_samples_split=10; total time=   0.1s\n",
      "[CV] END criterion=mse, max_depth=2, max_leaf_nodes=5, min_samples_leaf=20, min_samples_split=10; total time=   0.1s\n",
      "[CV] END criterion=mse, max_depth=2, max_leaf_nodes=5, min_samples_leaf=20, min_samples_split=20; total time=   0.1s\n",
      "[CV] END criterion=mse, max_depth=2, max_leaf_nodes=5, min_samples_leaf=20, min_samples_split=20; total time=   0.1s\n",
      "[CV] END criterion=mse, max_depth=2, max_leaf_nodes=5, min_samples_leaf=20, min_samples_split=20; total time=   0.1s\n",
      "[CV] END criterion=mse, max_depth=2, max_leaf_nodes=5, min_samples_leaf=20, min_samples_split=20; total time=   0.1s\n",
      "[CV] END criterion=mse, max_depth=2, max_leaf_nodes=5, min_samples_leaf=20, min_samples_split=20; total time=   0.1s\n",
      "[CV] END criterion=mse, max_depth=2, max_leaf_nodes=5, min_samples_leaf=40, min_samples_split=10; total time=   0.1s\n",
      "[CV] END criterion=mse, max_depth=2, max_leaf_nodes=5, min_samples_leaf=40, min_samples_split=10; total time=   0.1s\n",
      "[CV] END criterion=mse, max_depth=2, max_leaf_nodes=5, min_samples_leaf=40, min_samples_split=10; total time=   0.1s\n",
      "[CV] END criterion=mse, max_depth=2, max_leaf_nodes=5, min_samples_leaf=40, min_samples_split=10; total time=   0.1s\n",
      "[CV] END criterion=mse, max_depth=2, max_leaf_nodes=5, min_samples_leaf=40, min_samples_split=10; total time=   0.1s\n",
      "[CV] END criterion=mse, max_depth=2, max_leaf_nodes=5, min_samples_leaf=40, min_samples_split=20; total time=   0.1s\n",
      "[CV] END criterion=mse, max_depth=2, max_leaf_nodes=5, min_samples_leaf=40, min_samples_split=20; total time=   0.1s\n",
      "[CV] END criterion=mse, max_depth=2, max_leaf_nodes=5, min_samples_leaf=40, min_samples_split=20; total time=   0.1s\n",
      "[CV] END criterion=mse, max_depth=2, max_leaf_nodes=5, min_samples_leaf=40, min_samples_split=20; total time=   0.1s\n",
      "[CV] END criterion=mse, max_depth=2, max_leaf_nodes=5, min_samples_leaf=40, min_samples_split=20; total time=   0.1s\n",
      "[CV] END criterion=mse, max_depth=2, max_leaf_nodes=5, min_samples_leaf=100, min_samples_split=10; total time=   0.1s\n",
      "[CV] END criterion=mse, max_depth=2, max_leaf_nodes=5, min_samples_leaf=100, min_samples_split=10; total time=   0.1s\n",
      "[CV] END criterion=mse, max_depth=2, max_leaf_nodes=5, min_samples_leaf=100, min_samples_split=10; total time=   0.1s\n",
      "[CV] END criterion=mse, max_depth=2, max_leaf_nodes=5, min_samples_leaf=100, min_samples_split=10; total time=   0.1s\n",
      "[CV] END criterion=mse, max_depth=2, max_leaf_nodes=5, min_samples_leaf=100, min_samples_split=10; total time=   0.1s\n",
      "[CV] END criterion=mse, max_depth=2, max_leaf_nodes=5, min_samples_leaf=100, min_samples_split=20; total time=   0.1s\n",
      "[CV] END criterion=mse, max_depth=2, max_leaf_nodes=5, min_samples_leaf=100, min_samples_split=20; total time=   0.1s\n",
      "[CV] END criterion=mse, max_depth=2, max_leaf_nodes=5, min_samples_leaf=100, min_samples_split=20; total time=   0.1s\n",
      "[CV] END criterion=mse, max_depth=2, max_leaf_nodes=5, min_samples_leaf=100, min_samples_split=20; total time=   0.1s\n",
      "[CV] END criterion=mse, max_depth=2, max_leaf_nodes=5, min_samples_leaf=100, min_samples_split=20; total time=   0.1s\n",
      "[CV] END criterion=mse, max_depth=2, max_leaf_nodes=20, min_samples_leaf=20, min_samples_split=10; total time=   0.1s\n",
      "[CV] END criterion=mse, max_depth=2, max_leaf_nodes=20, min_samples_leaf=20, min_samples_split=10; total time=   0.1s\n",
      "[CV] END criterion=mse, max_depth=2, max_leaf_nodes=20, min_samples_leaf=20, min_samples_split=10; total time=   0.1s\n",
      "[CV] END criterion=mse, max_depth=2, max_leaf_nodes=20, min_samples_leaf=20, min_samples_split=10; total time=   0.1s\n",
      "[CV] END criterion=mse, max_depth=2, max_leaf_nodes=20, min_samples_leaf=20, min_samples_split=10; total time=   0.1s\n",
      "[CV] END criterion=mse, max_depth=2, max_leaf_nodes=20, min_samples_leaf=20, min_samples_split=20; total time=   0.1s\n",
      "[CV] END criterion=mse, max_depth=2, max_leaf_nodes=20, min_samples_leaf=20, min_samples_split=20; total time=   0.1s\n",
      "[CV] END criterion=mse, max_depth=2, max_leaf_nodes=20, min_samples_leaf=20, min_samples_split=20; total time=   0.1s\n",
      "[CV] END criterion=mse, max_depth=2, max_leaf_nodes=20, min_samples_leaf=20, min_samples_split=20; total time=   0.1s\n",
      "[CV] END criterion=mse, max_depth=2, max_leaf_nodes=20, min_samples_leaf=20, min_samples_split=20; total time=   0.1s\n",
      "[CV] END criterion=mse, max_depth=2, max_leaf_nodes=20, min_samples_leaf=40, min_samples_split=10; total time=   0.1s\n",
      "[CV] END criterion=mse, max_depth=2, max_leaf_nodes=20, min_samples_leaf=40, min_samples_split=10; total time=   0.1s\n",
      "[CV] END criterion=mse, max_depth=2, max_leaf_nodes=20, min_samples_leaf=40, min_samples_split=10; total time=   0.1s\n",
      "[CV] END criterion=mse, max_depth=2, max_leaf_nodes=20, min_samples_leaf=40, min_samples_split=10; total time=   0.1s\n",
      "[CV] END criterion=mse, max_depth=2, max_leaf_nodes=20, min_samples_leaf=40, min_samples_split=10; total time=   0.1s\n",
      "[CV] END criterion=mse, max_depth=2, max_leaf_nodes=20, min_samples_leaf=40, min_samples_split=20; total time=   0.1s\n",
      "[CV] END criterion=mse, max_depth=2, max_leaf_nodes=20, min_samples_leaf=40, min_samples_split=20; total time=   0.1s\n",
      "[CV] END criterion=mse, max_depth=2, max_leaf_nodes=20, min_samples_leaf=40, min_samples_split=20; total time=   0.1s\n",
      "[CV] END criterion=mse, max_depth=2, max_leaf_nodes=20, min_samples_leaf=40, min_samples_split=20; total time=   0.1s\n",
      "[CV] END criterion=mse, max_depth=2, max_leaf_nodes=20, min_samples_leaf=40, min_samples_split=20; total time=   0.1s\n",
      "[CV] END criterion=mse, max_depth=2, max_leaf_nodes=20, min_samples_leaf=100, min_samples_split=10; total time=   0.1s\n",
      "[CV] END criterion=mse, max_depth=2, max_leaf_nodes=20, min_samples_leaf=100, min_samples_split=10; total time=   0.1s\n",
      "[CV] END criterion=mse, max_depth=2, max_leaf_nodes=20, min_samples_leaf=100, min_samples_split=10; total time=   0.1s\n",
      "[CV] END criterion=mse, max_depth=2, max_leaf_nodes=20, min_samples_leaf=100, min_samples_split=10; total time=   0.1s\n",
      "[CV] END criterion=mse, max_depth=2, max_leaf_nodes=20, min_samples_leaf=100, min_samples_split=10; total time=   0.1s\n",
      "[CV] END criterion=mse, max_depth=2, max_leaf_nodes=20, min_samples_leaf=100, min_samples_split=20; total time=   0.1s\n",
      "[CV] END criterion=mse, max_depth=2, max_leaf_nodes=20, min_samples_leaf=100, min_samples_split=20; total time=   0.1s\n",
      "[CV] END criterion=mse, max_depth=2, max_leaf_nodes=20, min_samples_leaf=100, min_samples_split=20; total time=   0.1s\n",
      "[CV] END criterion=mse, max_depth=2, max_leaf_nodes=20, min_samples_leaf=100, min_samples_split=20; total time=   0.1s\n",
      "[CV] END criterion=mse, max_depth=2, max_leaf_nodes=20, min_samples_leaf=100, min_samples_split=20; total time=   0.1s\n",
      "[CV] END criterion=mse, max_depth=2, max_leaf_nodes=100, min_samples_leaf=20, min_samples_split=10; total time=   0.1s\n",
      "[CV] END criterion=mse, max_depth=2, max_leaf_nodes=100, min_samples_leaf=20, min_samples_split=10; total time=   0.1s\n",
      "[CV] END criterion=mse, max_depth=2, max_leaf_nodes=100, min_samples_leaf=20, min_samples_split=10; total time=   0.1s\n",
      "[CV] END criterion=mse, max_depth=2, max_leaf_nodes=100, min_samples_leaf=20, min_samples_split=10; total time=   0.1s\n",
      "[CV] END criterion=mse, max_depth=2, max_leaf_nodes=100, min_samples_leaf=20, min_samples_split=10; total time=   0.1s\n",
      "[CV] END criterion=mse, max_depth=2, max_leaf_nodes=100, min_samples_leaf=20, min_samples_split=20; total time=   0.1s\n",
      "[CV] END criterion=mse, max_depth=2, max_leaf_nodes=100, min_samples_leaf=20, min_samples_split=20; total time=   0.1s\n",
      "[CV] END criterion=mse, max_depth=2, max_leaf_nodes=100, min_samples_leaf=20, min_samples_split=20; total time=   0.1s\n",
      "[CV] END criterion=mse, max_depth=2, max_leaf_nodes=100, min_samples_leaf=20, min_samples_split=20; total time=   0.1s\n",
      "[CV] END criterion=mse, max_depth=2, max_leaf_nodes=100, min_samples_leaf=20, min_samples_split=20; total time=   0.1s\n",
      "[CV] END criterion=mse, max_depth=2, max_leaf_nodes=100, min_samples_leaf=40, min_samples_split=10; total time=   0.1s\n"
     ]
    },
    {
     "name": "stdout",
     "output_type": "stream",
     "text": [
      "[CV] END criterion=mse, max_depth=2, max_leaf_nodes=100, min_samples_leaf=40, min_samples_split=10; total time=   0.1s\n",
      "[CV] END criterion=mse, max_depth=2, max_leaf_nodes=100, min_samples_leaf=40, min_samples_split=10; total time=   0.1s\n",
      "[CV] END criterion=mse, max_depth=2, max_leaf_nodes=100, min_samples_leaf=40, min_samples_split=10; total time=   0.1s\n",
      "[CV] END criterion=mse, max_depth=2, max_leaf_nodes=100, min_samples_leaf=40, min_samples_split=10; total time=   0.1s\n",
      "[CV] END criterion=mse, max_depth=2, max_leaf_nodes=100, min_samples_leaf=40, min_samples_split=20; total time=   0.1s\n",
      "[CV] END criterion=mse, max_depth=2, max_leaf_nodes=100, min_samples_leaf=40, min_samples_split=20; total time=   0.1s\n",
      "[CV] END criterion=mse, max_depth=2, max_leaf_nodes=100, min_samples_leaf=40, min_samples_split=20; total time=   0.1s\n",
      "[CV] END criterion=mse, max_depth=2, max_leaf_nodes=100, min_samples_leaf=40, min_samples_split=20; total time=   0.1s\n",
      "[CV] END criterion=mse, max_depth=2, max_leaf_nodes=100, min_samples_leaf=40, min_samples_split=20; total time=   0.1s\n",
      "[CV] END criterion=mse, max_depth=2, max_leaf_nodes=100, min_samples_leaf=100, min_samples_split=10; total time=   0.1s\n",
      "[CV] END criterion=mse, max_depth=2, max_leaf_nodes=100, min_samples_leaf=100, min_samples_split=10; total time=   0.1s\n",
      "[CV] END criterion=mse, max_depth=2, max_leaf_nodes=100, min_samples_leaf=100, min_samples_split=10; total time=   0.1s\n",
      "[CV] END criterion=mse, max_depth=2, max_leaf_nodes=100, min_samples_leaf=100, min_samples_split=10; total time=   0.1s\n",
      "[CV] END criterion=mse, max_depth=2, max_leaf_nodes=100, min_samples_leaf=100, min_samples_split=10; total time=   0.1s\n",
      "[CV] END criterion=mse, max_depth=2, max_leaf_nodes=100, min_samples_leaf=100, min_samples_split=20; total time=   0.1s\n",
      "[CV] END criterion=mse, max_depth=2, max_leaf_nodes=100, min_samples_leaf=100, min_samples_split=20; total time=   0.1s\n",
      "[CV] END criterion=mse, max_depth=2, max_leaf_nodes=100, min_samples_leaf=100, min_samples_split=20; total time=   0.1s\n",
      "[CV] END criterion=mse, max_depth=2, max_leaf_nodes=100, min_samples_leaf=100, min_samples_split=20; total time=   0.1s\n",
      "[CV] END criterion=mse, max_depth=2, max_leaf_nodes=100, min_samples_leaf=100, min_samples_split=20; total time=   0.1s\n",
      "[CV] END criterion=mse, max_depth=6, max_leaf_nodes=5, min_samples_leaf=20, min_samples_split=10; total time=   0.1s\n",
      "[CV] END criterion=mse, max_depth=6, max_leaf_nodes=5, min_samples_leaf=20, min_samples_split=10; total time=   0.1s\n",
      "[CV] END criterion=mse, max_depth=6, max_leaf_nodes=5, min_samples_leaf=20, min_samples_split=10; total time=   0.1s\n",
      "[CV] END criterion=mse, max_depth=6, max_leaf_nodes=5, min_samples_leaf=20, min_samples_split=10; total time=   0.1s\n",
      "[CV] END criterion=mse, max_depth=6, max_leaf_nodes=5, min_samples_leaf=20, min_samples_split=10; total time=   0.1s\n",
      "[CV] END criterion=mse, max_depth=6, max_leaf_nodes=5, min_samples_leaf=20, min_samples_split=20; total time=   0.1s\n",
      "[CV] END criterion=mse, max_depth=6, max_leaf_nodes=5, min_samples_leaf=20, min_samples_split=20; total time=   0.1s\n",
      "[CV] END criterion=mse, max_depth=6, max_leaf_nodes=5, min_samples_leaf=20, min_samples_split=20; total time=   0.1s\n",
      "[CV] END criterion=mse, max_depth=6, max_leaf_nodes=5, min_samples_leaf=20, min_samples_split=20; total time=   0.1s\n",
      "[CV] END criterion=mse, max_depth=6, max_leaf_nodes=5, min_samples_leaf=20, min_samples_split=20; total time=   0.1s\n",
      "[CV] END criterion=mse, max_depth=6, max_leaf_nodes=5, min_samples_leaf=40, min_samples_split=10; total time=   0.1s\n",
      "[CV] END criterion=mse, max_depth=6, max_leaf_nodes=5, min_samples_leaf=40, min_samples_split=10; total time=   0.1s\n",
      "[CV] END criterion=mse, max_depth=6, max_leaf_nodes=5, min_samples_leaf=40, min_samples_split=10; total time=   0.1s\n",
      "[CV] END criterion=mse, max_depth=6, max_leaf_nodes=5, min_samples_leaf=40, min_samples_split=10; total time=   0.1s\n",
      "[CV] END criterion=mse, max_depth=6, max_leaf_nodes=5, min_samples_leaf=40, min_samples_split=10; total time=   0.1s\n",
      "[CV] END criterion=mse, max_depth=6, max_leaf_nodes=5, min_samples_leaf=40, min_samples_split=20; total time=   0.1s\n",
      "[CV] END criterion=mse, max_depth=6, max_leaf_nodes=5, min_samples_leaf=40, min_samples_split=20; total time=   0.1s\n",
      "[CV] END criterion=mse, max_depth=6, max_leaf_nodes=5, min_samples_leaf=40, min_samples_split=20; total time=   0.1s\n",
      "[CV] END criterion=mse, max_depth=6, max_leaf_nodes=5, min_samples_leaf=40, min_samples_split=20; total time=   0.1s\n",
      "[CV] END criterion=mse, max_depth=6, max_leaf_nodes=5, min_samples_leaf=40, min_samples_split=20; total time=   0.1s\n",
      "[CV] END criterion=mse, max_depth=6, max_leaf_nodes=5, min_samples_leaf=100, min_samples_split=10; total time=   0.1s\n",
      "[CV] END criterion=mse, max_depth=6, max_leaf_nodes=5, min_samples_leaf=100, min_samples_split=10; total time=   0.1s\n",
      "[CV] END criterion=mse, max_depth=6, max_leaf_nodes=5, min_samples_leaf=100, min_samples_split=10; total time=   0.1s\n",
      "[CV] END criterion=mse, max_depth=6, max_leaf_nodes=5, min_samples_leaf=100, min_samples_split=10; total time=   0.1s\n",
      "[CV] END criterion=mse, max_depth=6, max_leaf_nodes=5, min_samples_leaf=100, min_samples_split=10; total time=   0.1s\n",
      "[CV] END criterion=mse, max_depth=6, max_leaf_nodes=5, min_samples_leaf=100, min_samples_split=20; total time=   0.1s\n",
      "[CV] END criterion=mse, max_depth=6, max_leaf_nodes=5, min_samples_leaf=100, min_samples_split=20; total time=   0.1s\n",
      "[CV] END criterion=mse, max_depth=6, max_leaf_nodes=5, min_samples_leaf=100, min_samples_split=20; total time=   0.1s\n",
      "[CV] END criterion=mse, max_depth=6, max_leaf_nodes=5, min_samples_leaf=100, min_samples_split=20; total time=   0.1s\n",
      "[CV] END criterion=mse, max_depth=6, max_leaf_nodes=5, min_samples_leaf=100, min_samples_split=20; total time=   0.1s\n",
      "[CV] END criterion=mse, max_depth=6, max_leaf_nodes=20, min_samples_leaf=20, min_samples_split=10; total time=   0.2s\n",
      "[CV] END criterion=mse, max_depth=6, max_leaf_nodes=20, min_samples_leaf=20, min_samples_split=10; total time=   0.2s\n",
      "[CV] END criterion=mse, max_depth=6, max_leaf_nodes=20, min_samples_leaf=20, min_samples_split=10; total time=   0.2s\n",
      "[CV] END criterion=mse, max_depth=6, max_leaf_nodes=20, min_samples_leaf=20, min_samples_split=10; total time=   0.1s\n",
      "[CV] END criterion=mse, max_depth=6, max_leaf_nodes=20, min_samples_leaf=20, min_samples_split=10; total time=   0.2s\n",
      "[CV] END criterion=mse, max_depth=6, max_leaf_nodes=20, min_samples_leaf=20, min_samples_split=20; total time=   0.1s\n",
      "[CV] END criterion=mse, max_depth=6, max_leaf_nodes=20, min_samples_leaf=20, min_samples_split=20; total time=   0.1s\n",
      "[CV] END criterion=mse, max_depth=6, max_leaf_nodes=20, min_samples_leaf=20, min_samples_split=20; total time=   0.1s\n",
      "[CV] END criterion=mse, max_depth=6, max_leaf_nodes=20, min_samples_leaf=20, min_samples_split=20; total time=   0.1s\n",
      "[CV] END criterion=mse, max_depth=6, max_leaf_nodes=20, min_samples_leaf=20, min_samples_split=20; total time=   0.1s\n",
      "[CV] END criterion=mse, max_depth=6, max_leaf_nodes=20, min_samples_leaf=40, min_samples_split=10; total time=   0.2s\n",
      "[CV] END criterion=mse, max_depth=6, max_leaf_nodes=20, min_samples_leaf=40, min_samples_split=10; total time=   0.1s\n",
      "[CV] END criterion=mse, max_depth=6, max_leaf_nodes=20, min_samples_leaf=40, min_samples_split=10; total time=   0.1s\n",
      "[CV] END criterion=mse, max_depth=6, max_leaf_nodes=20, min_samples_leaf=40, min_samples_split=10; total time=   0.1s\n",
      "[CV] END criterion=mse, max_depth=6, max_leaf_nodes=20, min_samples_leaf=40, min_samples_split=10; total time=   0.1s\n",
      "[CV] END criterion=mse, max_depth=6, max_leaf_nodes=20, min_samples_leaf=40, min_samples_split=20; total time=   0.1s\n",
      "[CV] END criterion=mse, max_depth=6, max_leaf_nodes=20, min_samples_leaf=40, min_samples_split=20; total time=   0.2s\n",
      "[CV] END criterion=mse, max_depth=6, max_leaf_nodes=20, min_samples_leaf=40, min_samples_split=20; total time=   0.1s\n",
      "[CV] END criterion=mse, max_depth=6, max_leaf_nodes=20, min_samples_leaf=40, min_samples_split=20; total time=   0.1s\n",
      "[CV] END criterion=mse, max_depth=6, max_leaf_nodes=20, min_samples_leaf=40, min_samples_split=20; total time=   0.1s\n",
      "[CV] END criterion=mse, max_depth=6, max_leaf_nodes=20, min_samples_leaf=100, min_samples_split=10; total time=   0.1s\n",
      "[CV] END criterion=mse, max_depth=6, max_leaf_nodes=20, min_samples_leaf=100, min_samples_split=10; total time=   0.1s\n"
     ]
    },
    {
     "name": "stdout",
     "output_type": "stream",
     "text": [
      "[CV] END criterion=mse, max_depth=6, max_leaf_nodes=20, min_samples_leaf=100, min_samples_split=10; total time=   0.1s\n",
      "[CV] END criterion=mse, max_depth=6, max_leaf_nodes=20, min_samples_leaf=100, min_samples_split=10; total time=   0.1s\n",
      "[CV] END criterion=mse, max_depth=6, max_leaf_nodes=20, min_samples_leaf=100, min_samples_split=10; total time=   0.1s\n",
      "[CV] END criterion=mse, max_depth=6, max_leaf_nodes=20, min_samples_leaf=100, min_samples_split=20; total time=   0.2s\n",
      "[CV] END criterion=mse, max_depth=6, max_leaf_nodes=20, min_samples_leaf=100, min_samples_split=20; total time=   0.1s\n",
      "[CV] END criterion=mse, max_depth=6, max_leaf_nodes=20, min_samples_leaf=100, min_samples_split=20; total time=   0.1s\n",
      "[CV] END criterion=mse, max_depth=6, max_leaf_nodes=20, min_samples_leaf=100, min_samples_split=20; total time=   0.1s\n",
      "[CV] END criterion=mse, max_depth=6, max_leaf_nodes=20, min_samples_leaf=100, min_samples_split=20; total time=   0.1s\n",
      "[CV] END criterion=mse, max_depth=6, max_leaf_nodes=100, min_samples_leaf=20, min_samples_split=10; total time=   0.2s\n",
      "[CV] END criterion=mse, max_depth=6, max_leaf_nodes=100, min_samples_leaf=20, min_samples_split=10; total time=   0.2s\n",
      "[CV] END criterion=mse, max_depth=6, max_leaf_nodes=100, min_samples_leaf=20, min_samples_split=10; total time=   0.1s\n",
      "[CV] END criterion=mse, max_depth=6, max_leaf_nodes=100, min_samples_leaf=20, min_samples_split=10; total time=   0.1s\n",
      "[CV] END criterion=mse, max_depth=6, max_leaf_nodes=100, min_samples_leaf=20, min_samples_split=10; total time=   0.2s\n",
      "[CV] END criterion=mse, max_depth=6, max_leaf_nodes=100, min_samples_leaf=20, min_samples_split=20; total time=   0.1s\n",
      "[CV] END criterion=mse, max_depth=6, max_leaf_nodes=100, min_samples_leaf=20, min_samples_split=20; total time=   0.2s\n",
      "[CV] END criterion=mse, max_depth=6, max_leaf_nodes=100, min_samples_leaf=20, min_samples_split=20; total time=   0.1s\n",
      "[CV] END criterion=mse, max_depth=6, max_leaf_nodes=100, min_samples_leaf=20, min_samples_split=20; total time=   0.2s\n",
      "[CV] END criterion=mse, max_depth=6, max_leaf_nodes=100, min_samples_leaf=20, min_samples_split=20; total time=   0.2s\n",
      "[CV] END criterion=mse, max_depth=6, max_leaf_nodes=100, min_samples_leaf=40, min_samples_split=10; total time=   0.2s\n",
      "[CV] END criterion=mse, max_depth=6, max_leaf_nodes=100, min_samples_leaf=40, min_samples_split=10; total time=   0.2s\n",
      "[CV] END criterion=mse, max_depth=6, max_leaf_nodes=100, min_samples_leaf=40, min_samples_split=10; total time=   0.2s\n",
      "[CV] END criterion=mse, max_depth=6, max_leaf_nodes=100, min_samples_leaf=40, min_samples_split=10; total time=   0.2s\n",
      "[CV] END criterion=mse, max_depth=6, max_leaf_nodes=100, min_samples_leaf=40, min_samples_split=10; total time=   0.2s\n",
      "[CV] END criterion=mse, max_depth=6, max_leaf_nodes=100, min_samples_leaf=40, min_samples_split=20; total time=   0.2s\n",
      "[CV] END criterion=mse, max_depth=6, max_leaf_nodes=100, min_samples_leaf=40, min_samples_split=20; total time=   0.2s\n",
      "[CV] END criterion=mse, max_depth=6, max_leaf_nodes=100, min_samples_leaf=40, min_samples_split=20; total time=   0.2s\n",
      "[CV] END criterion=mse, max_depth=6, max_leaf_nodes=100, min_samples_leaf=40, min_samples_split=20; total time=   0.2s\n",
      "[CV] END criterion=mse, max_depth=6, max_leaf_nodes=100, min_samples_leaf=40, min_samples_split=20; total time=   0.2s\n",
      "[CV] END criterion=mse, max_depth=6, max_leaf_nodes=100, min_samples_leaf=100, min_samples_split=10; total time=   0.2s\n",
      "[CV] END criterion=mse, max_depth=6, max_leaf_nodes=100, min_samples_leaf=100, min_samples_split=10; total time=   0.1s\n",
      "[CV] END criterion=mse, max_depth=6, max_leaf_nodes=100, min_samples_leaf=100, min_samples_split=10; total time=   0.1s\n",
      "[CV] END criterion=mse, max_depth=6, max_leaf_nodes=100, min_samples_leaf=100, min_samples_split=10; total time=   0.1s\n",
      "[CV] END criterion=mse, max_depth=6, max_leaf_nodes=100, min_samples_leaf=100, min_samples_split=10; total time=   0.2s\n",
      "[CV] END criterion=mse, max_depth=6, max_leaf_nodes=100, min_samples_leaf=100, min_samples_split=20; total time=   0.2s\n",
      "[CV] END criterion=mse, max_depth=6, max_leaf_nodes=100, min_samples_leaf=100, min_samples_split=20; total time=   0.2s\n",
      "[CV] END criterion=mse, max_depth=6, max_leaf_nodes=100, min_samples_leaf=100, min_samples_split=20; total time=   0.1s\n",
      "[CV] END criterion=mse, max_depth=6, max_leaf_nodes=100, min_samples_leaf=100, min_samples_split=20; total time=   0.2s\n",
      "[CV] END criterion=mse, max_depth=6, max_leaf_nodes=100, min_samples_leaf=100, min_samples_split=20; total time=   0.1s\n",
      "[CV] END criterion=mse, max_depth=8, max_leaf_nodes=5, min_samples_leaf=20, min_samples_split=10; total time=   0.1s\n",
      "[CV] END criterion=mse, max_depth=8, max_leaf_nodes=5, min_samples_leaf=20, min_samples_split=10; total time=   0.1s\n",
      "[CV] END criterion=mse, max_depth=8, max_leaf_nodes=5, min_samples_leaf=20, min_samples_split=10; total time=   0.1s\n",
      "[CV] END criterion=mse, max_depth=8, max_leaf_nodes=5, min_samples_leaf=20, min_samples_split=10; total time=   0.1s\n",
      "[CV] END criterion=mse, max_depth=8, max_leaf_nodes=5, min_samples_leaf=20, min_samples_split=10; total time=   0.1s\n",
      "[CV] END criterion=mse, max_depth=8, max_leaf_nodes=5, min_samples_leaf=20, min_samples_split=20; total time=   0.1s\n",
      "[CV] END criterion=mse, max_depth=8, max_leaf_nodes=5, min_samples_leaf=20, min_samples_split=20; total time=   0.1s\n",
      "[CV] END criterion=mse, max_depth=8, max_leaf_nodes=5, min_samples_leaf=20, min_samples_split=20; total time=   0.1s\n",
      "[CV] END criterion=mse, max_depth=8, max_leaf_nodes=5, min_samples_leaf=20, min_samples_split=20; total time=   0.1s\n",
      "[CV] END criterion=mse, max_depth=8, max_leaf_nodes=5, min_samples_leaf=20, min_samples_split=20; total time=   0.1s\n",
      "[CV] END criterion=mse, max_depth=8, max_leaf_nodes=5, min_samples_leaf=40, min_samples_split=10; total time=   0.1s\n",
      "[CV] END criterion=mse, max_depth=8, max_leaf_nodes=5, min_samples_leaf=40, min_samples_split=10; total time=   0.1s\n",
      "[CV] END criterion=mse, max_depth=8, max_leaf_nodes=5, min_samples_leaf=40, min_samples_split=10; total time=   0.1s\n",
      "[CV] END criterion=mse, max_depth=8, max_leaf_nodes=5, min_samples_leaf=40, min_samples_split=10; total time=   0.1s\n",
      "[CV] END criterion=mse, max_depth=8, max_leaf_nodes=5, min_samples_leaf=40, min_samples_split=10; total time=   0.1s\n",
      "[CV] END criterion=mse, max_depth=8, max_leaf_nodes=5, min_samples_leaf=40, min_samples_split=20; total time=   0.1s\n",
      "[CV] END criterion=mse, max_depth=8, max_leaf_nodes=5, min_samples_leaf=40, min_samples_split=20; total time=   0.1s\n",
      "[CV] END criterion=mse, max_depth=8, max_leaf_nodes=5, min_samples_leaf=40, min_samples_split=20; total time=   0.1s\n",
      "[CV] END criterion=mse, max_depth=8, max_leaf_nodes=5, min_samples_leaf=40, min_samples_split=20; total time=   0.1s\n",
      "[CV] END criterion=mse, max_depth=8, max_leaf_nodes=5, min_samples_leaf=40, min_samples_split=20; total time=   0.1s\n",
      "[CV] END criterion=mse, max_depth=8, max_leaf_nodes=5, min_samples_leaf=100, min_samples_split=10; total time=   0.1s\n",
      "[CV] END criterion=mse, max_depth=8, max_leaf_nodes=5, min_samples_leaf=100, min_samples_split=10; total time=   0.1s\n",
      "[CV] END criterion=mse, max_depth=8, max_leaf_nodes=5, min_samples_leaf=100, min_samples_split=10; total time=   0.1s\n",
      "[CV] END criterion=mse, max_depth=8, max_leaf_nodes=5, min_samples_leaf=100, min_samples_split=10; total time=   0.1s\n",
      "[CV] END criterion=mse, max_depth=8, max_leaf_nodes=5, min_samples_leaf=100, min_samples_split=10; total time=   0.1s\n",
      "[CV] END criterion=mse, max_depth=8, max_leaf_nodes=5, min_samples_leaf=100, min_samples_split=20; total time=   0.1s\n",
      "[CV] END criterion=mse, max_depth=8, max_leaf_nodes=5, min_samples_leaf=100, min_samples_split=20; total time=   0.1s\n",
      "[CV] END criterion=mse, max_depth=8, max_leaf_nodes=5, min_samples_leaf=100, min_samples_split=20; total time=   0.1s\n",
      "[CV] END criterion=mse, max_depth=8, max_leaf_nodes=5, min_samples_leaf=100, min_samples_split=20; total time=   0.1s\n",
      "[CV] END criterion=mse, max_depth=8, max_leaf_nodes=5, min_samples_leaf=100, min_samples_split=20; total time=   0.1s\n",
      "[CV] END criterion=mse, max_depth=8, max_leaf_nodes=20, min_samples_leaf=20, min_samples_split=10; total time=   0.1s\n",
      "[CV] END criterion=mse, max_depth=8, max_leaf_nodes=20, min_samples_leaf=20, min_samples_split=10; total time=   0.2s\n"
     ]
    },
    {
     "name": "stdout",
     "output_type": "stream",
     "text": [
      "[CV] END criterion=mse, max_depth=8, max_leaf_nodes=20, min_samples_leaf=20, min_samples_split=10; total time=   0.1s\n",
      "[CV] END criterion=mse, max_depth=8, max_leaf_nodes=20, min_samples_leaf=20, min_samples_split=10; total time=   0.1s\n",
      "[CV] END criterion=mse, max_depth=8, max_leaf_nodes=20, min_samples_leaf=20, min_samples_split=10; total time=   0.1s\n",
      "[CV] END criterion=mse, max_depth=8, max_leaf_nodes=20, min_samples_leaf=20, min_samples_split=20; total time=   0.1s\n",
      "[CV] END criterion=mse, max_depth=8, max_leaf_nodes=20, min_samples_leaf=20, min_samples_split=20; total time=   0.1s\n",
      "[CV] END criterion=mse, max_depth=8, max_leaf_nodes=20, min_samples_leaf=20, min_samples_split=20; total time=   0.1s\n",
      "[CV] END criterion=mse, max_depth=8, max_leaf_nodes=20, min_samples_leaf=20, min_samples_split=20; total time=   0.2s\n",
      "[CV] END criterion=mse, max_depth=8, max_leaf_nodes=20, min_samples_leaf=20, min_samples_split=20; total time=   0.1s\n",
      "[CV] END criterion=mse, max_depth=8, max_leaf_nodes=20, min_samples_leaf=40, min_samples_split=10; total time=   0.1s\n",
      "[CV] END criterion=mse, max_depth=8, max_leaf_nodes=20, min_samples_leaf=40, min_samples_split=10; total time=   0.1s\n",
      "[CV] END criterion=mse, max_depth=8, max_leaf_nodes=20, min_samples_leaf=40, min_samples_split=10; total time=   0.1s\n",
      "[CV] END criterion=mse, max_depth=8, max_leaf_nodes=20, min_samples_leaf=40, min_samples_split=10; total time=   0.2s\n",
      "[CV] END criterion=mse, max_depth=8, max_leaf_nodes=20, min_samples_leaf=40, min_samples_split=10; total time=   0.1s\n",
      "[CV] END criterion=mse, max_depth=8, max_leaf_nodes=20, min_samples_leaf=40, min_samples_split=20; total time=   0.1s\n",
      "[CV] END criterion=mse, max_depth=8, max_leaf_nodes=20, min_samples_leaf=40, min_samples_split=20; total time=   0.2s\n",
      "[CV] END criterion=mse, max_depth=8, max_leaf_nodes=20, min_samples_leaf=40, min_samples_split=20; total time=   0.1s\n",
      "[CV] END criterion=mse, max_depth=8, max_leaf_nodes=20, min_samples_leaf=40, min_samples_split=20; total time=   0.2s\n",
      "[CV] END criterion=mse, max_depth=8, max_leaf_nodes=20, min_samples_leaf=40, min_samples_split=20; total time=   0.1s\n",
      "[CV] END criterion=mse, max_depth=8, max_leaf_nodes=20, min_samples_leaf=100, min_samples_split=10; total time=   0.1s\n",
      "[CV] END criterion=mse, max_depth=8, max_leaf_nodes=20, min_samples_leaf=100, min_samples_split=10; total time=   0.1s\n",
      "[CV] END criterion=mse, max_depth=8, max_leaf_nodes=20, min_samples_leaf=100, min_samples_split=10; total time=   0.1s\n",
      "[CV] END criterion=mse, max_depth=8, max_leaf_nodes=20, min_samples_leaf=100, min_samples_split=10; total time=   0.1s\n",
      "[CV] END criterion=mse, max_depth=8, max_leaf_nodes=20, min_samples_leaf=100, min_samples_split=10; total time=   0.2s\n",
      "[CV] END criterion=mse, max_depth=8, max_leaf_nodes=20, min_samples_leaf=100, min_samples_split=20; total time=   0.1s\n",
      "[CV] END criterion=mse, max_depth=8, max_leaf_nodes=20, min_samples_leaf=100, min_samples_split=20; total time=   0.1s\n",
      "[CV] END criterion=mse, max_depth=8, max_leaf_nodes=20, min_samples_leaf=100, min_samples_split=20; total time=   0.1s\n",
      "[CV] END criterion=mse, max_depth=8, max_leaf_nodes=20, min_samples_leaf=100, min_samples_split=20; total time=   0.2s\n",
      "[CV] END criterion=mse, max_depth=8, max_leaf_nodes=20, min_samples_leaf=100, min_samples_split=20; total time=   0.2s\n",
      "[CV] END criterion=mse, max_depth=8, max_leaf_nodes=100, min_samples_leaf=20, min_samples_split=10; total time=   0.2s\n",
      "[CV] END criterion=mse, max_depth=8, max_leaf_nodes=100, min_samples_leaf=20, min_samples_split=10; total time=   0.2s\n",
      "[CV] END criterion=mse, max_depth=8, max_leaf_nodes=100, min_samples_leaf=20, min_samples_split=10; total time=   0.2s\n",
      "[CV] END criterion=mse, max_depth=8, max_leaf_nodes=100, min_samples_leaf=20, min_samples_split=10; total time=   0.2s\n",
      "[CV] END criterion=mse, max_depth=8, max_leaf_nodes=100, min_samples_leaf=20, min_samples_split=10; total time=   0.2s\n",
      "[CV] END criterion=mse, max_depth=8, max_leaf_nodes=100, min_samples_leaf=20, min_samples_split=20; total time=   0.2s\n",
      "[CV] END criterion=mse, max_depth=8, max_leaf_nodes=100, min_samples_leaf=20, min_samples_split=20; total time=   0.2s\n",
      "[CV] END criterion=mse, max_depth=8, max_leaf_nodes=100, min_samples_leaf=20, min_samples_split=20; total time=   0.2s\n",
      "[CV] END criterion=mse, max_depth=8, max_leaf_nodes=100, min_samples_leaf=20, min_samples_split=20; total time=   0.2s\n",
      "[CV] END criterion=mse, max_depth=8, max_leaf_nodes=100, min_samples_leaf=20, min_samples_split=20; total time=   0.2s\n",
      "[CV] END criterion=mse, max_depth=8, max_leaf_nodes=100, min_samples_leaf=40, min_samples_split=10; total time=   0.2s\n",
      "[CV] END criterion=mse, max_depth=8, max_leaf_nodes=100, min_samples_leaf=40, min_samples_split=10; total time=   0.2s\n",
      "[CV] END criterion=mse, max_depth=8, max_leaf_nodes=100, min_samples_leaf=40, min_samples_split=10; total time=   0.2s\n",
      "[CV] END criterion=mse, max_depth=8, max_leaf_nodes=100, min_samples_leaf=40, min_samples_split=10; total time=   0.2s\n",
      "[CV] END criterion=mse, max_depth=8, max_leaf_nodes=100, min_samples_leaf=40, min_samples_split=10; total time=   0.2s\n",
      "[CV] END criterion=mse, max_depth=8, max_leaf_nodes=100, min_samples_leaf=40, min_samples_split=20; total time=   0.2s\n",
      "[CV] END criterion=mse, max_depth=8, max_leaf_nodes=100, min_samples_leaf=40, min_samples_split=20; total time=   0.2s\n",
      "[CV] END criterion=mse, max_depth=8, max_leaf_nodes=100, min_samples_leaf=40, min_samples_split=20; total time=   0.2s\n",
      "[CV] END criterion=mse, max_depth=8, max_leaf_nodes=100, min_samples_leaf=40, min_samples_split=20; total time=   0.2s\n",
      "[CV] END criterion=mse, max_depth=8, max_leaf_nodes=100, min_samples_leaf=40, min_samples_split=20; total time=   0.2s\n",
      "[CV] END criterion=mse, max_depth=8, max_leaf_nodes=100, min_samples_leaf=100, min_samples_split=10; total time=   0.2s\n",
      "[CV] END criterion=mse, max_depth=8, max_leaf_nodes=100, min_samples_leaf=100, min_samples_split=10; total time=   0.2s\n",
      "[CV] END criterion=mse, max_depth=8, max_leaf_nodes=100, min_samples_leaf=100, min_samples_split=10; total time=   0.2s\n",
      "[CV] END criterion=mse, max_depth=8, max_leaf_nodes=100, min_samples_leaf=100, min_samples_split=10; total time=   0.2s\n",
      "[CV] END criterion=mse, max_depth=8, max_leaf_nodes=100, min_samples_leaf=100, min_samples_split=10; total time=   0.2s\n",
      "[CV] END criterion=mse, max_depth=8, max_leaf_nodes=100, min_samples_leaf=100, min_samples_split=20; total time=   0.2s\n",
      "[CV] END criterion=mse, max_depth=8, max_leaf_nodes=100, min_samples_leaf=100, min_samples_split=20; total time=   0.2s\n",
      "[CV] END criterion=mse, max_depth=8, max_leaf_nodes=100, min_samples_leaf=100, min_samples_split=20; total time=   0.2s\n",
      "[CV] END criterion=mse, max_depth=8, max_leaf_nodes=100, min_samples_leaf=100, min_samples_split=20; total time=   0.2s\n",
      "[CV] END criterion=mse, max_depth=8, max_leaf_nodes=100, min_samples_leaf=100, min_samples_split=20; total time=   0.2s\n",
      "RMSE: 2516.4901436058767\n",
      "Test RMSE: 2495.5551406899185\n",
      "Training time: 0.23401117324829102\n",
      "Prediction time: 0.003443479537963867\n",
      "CPU times: user 31.6 s, sys: 32.1 ms, total: 31.6 s\n",
      "Wall time: 31.9 s\n"
     ]
    }
   ],
   "source": [
    "#Decision Tree\n",
    "\n",
    "#Define the parameter grid\n",
    "param_grid_dtree = {\n",
    "    \"criterion\": [\"mse\"],\n",
    "    \"min_samples_split\": [10, 20],\n",
    "    \"max_depth\": [2, 6, 8],\n",
    "    \"min_samples_leaf\": [20, 40, 100],\n",
    "    \"max_leaf_nodes\": [5, 20, 100],\n",
    "}\n",
    "\n",
    "#Create the DecisionTreeRegressor model\n",
    "dtree_model = DecisionTreeRegressor(random_state=101)\n",
    "\n",
    "#Define GridSearchCV with the custom scorer\n",
    "dtree_grid = GridSearchCV(dtree_model, param_grid_dtree, scoring=rmse_scorer, cv=KFold(n_splits=5, shuffle=True, random_state=101), verbose=2)\n",
    "\n",
    "#Perform grid search\n",
    "dtree_grid.fit(X_encoded_train, y_encoded_train)\n",
    "\n",
    "#Get the best fitted model and measure training time\n",
    "best_dtree_model = dtree_grid.best_estimator_\n",
    "start_training_time_dtree = time.time()\n",
    "best_dtree_model.fit(X_encoded_train, y_encoded_train)\n",
    "training_time_dtree = time.time() - start_training_time_dtree\n",
    "\n",
    "# Measure training time\n",
    "start_training_time_dtree = time.time()\n",
    "best_dtree_model = dtree_grid.best_estimator_\n",
    "best_dtree_model.fit(X_encoded_train, y_encoded_train)\n",
    "training_time_dtree = time.time() - start_training_time_dtree\n",
    "\n",
    "#Measure prediction time\n",
    "start_prediction_time_dtree = time.time()\n",
    "predictions_dtree = best_dtree_model.predict(X_encoded_test)\n",
    "prediction_time_dtree = time.time() - start_prediction_time_dtree\n",
    "\n",
    "#Evaluate the model on the test set\n",
    "test_rmse_dtree = np.sqrt(mean_squared_error(y_encoded_test, predictions_dtree))\n",
    "\n",
    "#Perform cross-validation with the best estimator and custom scorer\n",
    "scores_dtree = cross_val_score(best_dtree_model, X_encoded_train, y_encoded_train, cv=5, scoring=rmse_scorer)\n",
    "\n",
    "#Print the cross-validation scores\n",
    "print(\"RMSE:\", np.abs(scores_dtree.mean()))\n",
    "print(\"Test RMSE:\", test_rmse_dtree)\n",
    "\n",
    "# Print the training results\n",
    "print(\"Training time:\", training_time_dtree)\n",
    "print(\"Prediction time:\", prediction_time_dtree)"
   ]
  },
  {
   "cell_type": "code",
   "execution_count": 45,
   "metadata": {},
   "outputs": [
    {
     "name": "stdout",
     "output_type": "stream",
     "text": [
      "Fitting 5 folds for each of 54 candidates, totalling 270 fits\n",
      "[CV] END max_depth=3, min_samples_leaf=2, min_samples_split=2, n_estimators=5; total time=   0.3s\n",
      "[CV] END max_depth=3, min_samples_leaf=2, min_samples_split=2, n_estimators=5; total time=   0.3s\n",
      "[CV] END max_depth=3, min_samples_leaf=2, min_samples_split=2, n_estimators=5; total time=   0.3s\n",
      "[CV] END max_depth=3, min_samples_leaf=2, min_samples_split=2, n_estimators=5; total time=   0.3s\n",
      "[CV] END max_depth=3, min_samples_leaf=2, min_samples_split=2, n_estimators=5; total time=   0.3s\n",
      "[CV] END max_depth=3, min_samples_leaf=2, min_samples_split=2, n_estimators=10; total time=   0.5s\n",
      "[CV] END max_depth=3, min_samples_leaf=2, min_samples_split=2, n_estimators=10; total time=   0.5s\n",
      "[CV] END max_depth=3, min_samples_leaf=2, min_samples_split=2, n_estimators=10; total time=   0.5s\n",
      "[CV] END max_depth=3, min_samples_leaf=2, min_samples_split=2, n_estimators=10; total time=   0.5s\n",
      "[CV] END max_depth=3, min_samples_leaf=2, min_samples_split=2, n_estimators=10; total time=   0.5s\n",
      "[CV] END max_depth=3, min_samples_leaf=2, min_samples_split=3, n_estimators=5; total time=   0.3s\n",
      "[CV] END max_depth=3, min_samples_leaf=2, min_samples_split=3, n_estimators=5; total time=   0.3s\n",
      "[CV] END max_depth=3, min_samples_leaf=2, min_samples_split=3, n_estimators=5; total time=   0.3s\n",
      "[CV] END max_depth=3, min_samples_leaf=2, min_samples_split=3, n_estimators=5; total time=   0.3s\n",
      "[CV] END max_depth=3, min_samples_leaf=2, min_samples_split=3, n_estimators=5; total time=   0.3s\n",
      "[CV] END max_depth=3, min_samples_leaf=2, min_samples_split=3, n_estimators=10; total time=   0.5s\n",
      "[CV] END max_depth=3, min_samples_leaf=2, min_samples_split=3, n_estimators=10; total time=   0.5s\n",
      "[CV] END max_depth=3, min_samples_leaf=2, min_samples_split=3, n_estimators=10; total time=   0.5s\n",
      "[CV] END max_depth=3, min_samples_leaf=2, min_samples_split=3, n_estimators=10; total time=   0.5s\n",
      "[CV] END max_depth=3, min_samples_leaf=2, min_samples_split=3, n_estimators=10; total time=   0.5s\n",
      "[CV] END max_depth=3, min_samples_leaf=2, min_samples_split=6, n_estimators=5; total time=   0.3s\n",
      "[CV] END max_depth=3, min_samples_leaf=2, min_samples_split=6, n_estimators=5; total time=   0.3s\n",
      "[CV] END max_depth=3, min_samples_leaf=2, min_samples_split=6, n_estimators=5; total time=   0.3s\n",
      "[CV] END max_depth=3, min_samples_leaf=2, min_samples_split=6, n_estimators=5; total time=   0.3s\n",
      "[CV] END max_depth=3, min_samples_leaf=2, min_samples_split=6, n_estimators=5; total time=   0.3s\n",
      "[CV] END max_depth=3, min_samples_leaf=2, min_samples_split=6, n_estimators=10; total time=   0.5s\n",
      "[CV] END max_depth=3, min_samples_leaf=2, min_samples_split=6, n_estimators=10; total time=   0.5s\n",
      "[CV] END max_depth=3, min_samples_leaf=2, min_samples_split=6, n_estimators=10; total time=   0.5s\n",
      "[CV] END max_depth=3, min_samples_leaf=2, min_samples_split=6, n_estimators=10; total time=   0.5s\n",
      "[CV] END max_depth=3, min_samples_leaf=2, min_samples_split=6, n_estimators=10; total time=   0.5s\n",
      "[CV] END max_depth=3, min_samples_leaf=3, min_samples_split=2, n_estimators=5; total time=   0.3s\n",
      "[CV] END max_depth=3, min_samples_leaf=3, min_samples_split=2, n_estimators=5; total time=   0.3s\n",
      "[CV] END max_depth=3, min_samples_leaf=3, min_samples_split=2, n_estimators=5; total time=   0.3s\n",
      "[CV] END max_depth=3, min_samples_leaf=3, min_samples_split=2, n_estimators=5; total time=   0.3s\n",
      "[CV] END max_depth=3, min_samples_leaf=3, min_samples_split=2, n_estimators=5; total time=   0.3s\n",
      "[CV] END max_depth=3, min_samples_leaf=3, min_samples_split=2, n_estimators=10; total time=   0.5s\n",
      "[CV] END max_depth=3, min_samples_leaf=3, min_samples_split=2, n_estimators=10; total time=   0.5s\n",
      "[CV] END max_depth=3, min_samples_leaf=3, min_samples_split=2, n_estimators=10; total time=   0.5s\n",
      "[CV] END max_depth=3, min_samples_leaf=3, min_samples_split=2, n_estimators=10; total time=   0.5s\n",
      "[CV] END max_depth=3, min_samples_leaf=3, min_samples_split=2, n_estimators=10; total time=   0.5s\n",
      "[CV] END max_depth=3, min_samples_leaf=3, min_samples_split=3, n_estimators=5; total time=   0.3s\n",
      "[CV] END max_depth=3, min_samples_leaf=3, min_samples_split=3, n_estimators=5; total time=   0.3s\n",
      "[CV] END max_depth=3, min_samples_leaf=3, min_samples_split=3, n_estimators=5; total time=   0.3s\n",
      "[CV] END max_depth=3, min_samples_leaf=3, min_samples_split=3, n_estimators=5; total time=   0.3s\n",
      "[CV] END max_depth=3, min_samples_leaf=3, min_samples_split=3, n_estimators=5; total time=   0.3s\n",
      "[CV] END max_depth=3, min_samples_leaf=3, min_samples_split=3, n_estimators=10; total time=   0.5s\n",
      "[CV] END max_depth=3, min_samples_leaf=3, min_samples_split=3, n_estimators=10; total time=   0.5s\n",
      "[CV] END max_depth=3, min_samples_leaf=3, min_samples_split=3, n_estimators=10; total time=   0.5s\n",
      "[CV] END max_depth=3, min_samples_leaf=3, min_samples_split=3, n_estimators=10; total time=   0.5s\n",
      "[CV] END max_depth=3, min_samples_leaf=3, min_samples_split=3, n_estimators=10; total time=   0.5s\n",
      "[CV] END max_depth=3, min_samples_leaf=3, min_samples_split=6, n_estimators=5; total time=   0.3s\n",
      "[CV] END max_depth=3, min_samples_leaf=3, min_samples_split=6, n_estimators=5; total time=   0.3s\n",
      "[CV] END max_depth=3, min_samples_leaf=3, min_samples_split=6, n_estimators=5; total time=   0.3s\n",
      "[CV] END max_depth=3, min_samples_leaf=3, min_samples_split=6, n_estimators=5; total time=   0.3s\n",
      "[CV] END max_depth=3, min_samples_leaf=3, min_samples_split=6, n_estimators=5; total time=   0.3s\n",
      "[CV] END max_depth=3, min_samples_leaf=3, min_samples_split=6, n_estimators=10; total time=   0.5s\n",
      "[CV] END max_depth=3, min_samples_leaf=3, min_samples_split=6, n_estimators=10; total time=   0.5s\n",
      "[CV] END max_depth=3, min_samples_leaf=3, min_samples_split=6, n_estimators=10; total time=   0.5s\n",
      "[CV] END max_depth=3, min_samples_leaf=3, min_samples_split=6, n_estimators=10; total time=   0.5s\n",
      "[CV] END max_depth=3, min_samples_leaf=3, min_samples_split=6, n_estimators=10; total time=   0.5s\n",
      "[CV] END max_depth=3, min_samples_leaf=6, min_samples_split=2, n_estimators=5; total time=   0.2s\n",
      "[CV] END max_depth=3, min_samples_leaf=6, min_samples_split=2, n_estimators=5; total time=   0.3s\n",
      "[CV] END max_depth=3, min_samples_leaf=6, min_samples_split=2, n_estimators=5; total time=   0.3s\n",
      "[CV] END max_depth=3, min_samples_leaf=6, min_samples_split=2, n_estimators=5; total time=   0.3s\n",
      "[CV] END max_depth=3, min_samples_leaf=6, min_samples_split=2, n_estimators=5; total time=   0.3s\n",
      "[CV] END max_depth=3, min_samples_leaf=6, min_samples_split=2, n_estimators=10; total time=   0.5s\n",
      "[CV] END max_depth=3, min_samples_leaf=6, min_samples_split=2, n_estimators=10; total time=   0.5s\n",
      "[CV] END max_depth=3, min_samples_leaf=6, min_samples_split=2, n_estimators=10; total time=   0.5s\n",
      "[CV] END max_depth=3, min_samples_leaf=6, min_samples_split=2, n_estimators=10; total time=   0.5s\n",
      "[CV] END max_depth=3, min_samples_leaf=6, min_samples_split=2, n_estimators=10; total time=   0.5s\n",
      "[CV] END max_depth=3, min_samples_leaf=6, min_samples_split=3, n_estimators=5; total time=   0.3s\n",
      "[CV] END max_depth=3, min_samples_leaf=6, min_samples_split=3, n_estimators=5; total time=   0.3s\n",
      "[CV] END max_depth=3, min_samples_leaf=6, min_samples_split=3, n_estimators=5; total time=   0.3s\n",
      "[CV] END max_depth=3, min_samples_leaf=6, min_samples_split=3, n_estimators=5; total time=   0.3s\n",
      "[CV] END max_depth=3, min_samples_leaf=6, min_samples_split=3, n_estimators=5; total time=   0.3s\n",
      "[CV] END max_depth=3, min_samples_leaf=6, min_samples_split=3, n_estimators=10; total time=   0.5s\n",
      "[CV] END max_depth=3, min_samples_leaf=6, min_samples_split=3, n_estimators=10; total time=   0.5s\n",
      "[CV] END max_depth=3, min_samples_leaf=6, min_samples_split=3, n_estimators=10; total time=   0.5s\n",
      "[CV] END max_depth=3, min_samples_leaf=6, min_samples_split=3, n_estimators=10; total time=   0.5s\n",
      "[CV] END max_depth=3, min_samples_leaf=6, min_samples_split=3, n_estimators=10; total time=   0.5s\n",
      "[CV] END max_depth=3, min_samples_leaf=6, min_samples_split=6, n_estimators=5; total time=   0.3s\n",
      "[CV] END max_depth=3, min_samples_leaf=6, min_samples_split=6, n_estimators=5; total time=   0.3s\n",
      "[CV] END max_depth=3, min_samples_leaf=6, min_samples_split=6, n_estimators=5; total time=   0.3s\n"
     ]
    },
    {
     "name": "stdout",
     "output_type": "stream",
     "text": [
      "[CV] END max_depth=3, min_samples_leaf=6, min_samples_split=6, n_estimators=5; total time=   0.3s\n",
      "[CV] END max_depth=3, min_samples_leaf=6, min_samples_split=6, n_estimators=5; total time=   0.3s\n",
      "[CV] END max_depth=3, min_samples_leaf=6, min_samples_split=6, n_estimators=10; total time=   0.5s\n",
      "[CV] END max_depth=3, min_samples_leaf=6, min_samples_split=6, n_estimators=10; total time=   0.5s\n",
      "[CV] END max_depth=3, min_samples_leaf=6, min_samples_split=6, n_estimators=10; total time=   0.5s\n",
      "[CV] END max_depth=3, min_samples_leaf=6, min_samples_split=6, n_estimators=10; total time=   0.5s\n",
      "[CV] END max_depth=3, min_samples_leaf=6, min_samples_split=6, n_estimators=10; total time=   0.5s\n",
      "[CV] END max_depth=6, min_samples_leaf=2, min_samples_split=2, n_estimators=5; total time=   0.5s\n",
      "[CV] END max_depth=6, min_samples_leaf=2, min_samples_split=2, n_estimators=5; total time=   0.5s\n",
      "[CV] END max_depth=6, min_samples_leaf=2, min_samples_split=2, n_estimators=5; total time=   0.5s\n",
      "[CV] END max_depth=6, min_samples_leaf=2, min_samples_split=2, n_estimators=5; total time=   0.5s\n",
      "[CV] END max_depth=6, min_samples_leaf=2, min_samples_split=2, n_estimators=5; total time=   0.5s\n",
      "[CV] END max_depth=6, min_samples_leaf=2, min_samples_split=2, n_estimators=10; total time=   0.9s\n",
      "[CV] END max_depth=6, min_samples_leaf=2, min_samples_split=2, n_estimators=10; total time=   0.9s\n",
      "[CV] END max_depth=6, min_samples_leaf=2, min_samples_split=2, n_estimators=10; total time=   0.9s\n",
      "[CV] END max_depth=6, min_samples_leaf=2, min_samples_split=2, n_estimators=10; total time=   0.9s\n",
      "[CV] END max_depth=6, min_samples_leaf=2, min_samples_split=2, n_estimators=10; total time=   0.9s\n",
      "[CV] END max_depth=6, min_samples_leaf=2, min_samples_split=3, n_estimators=5; total time=   0.5s\n",
      "[CV] END max_depth=6, min_samples_leaf=2, min_samples_split=3, n_estimators=5; total time=   0.5s\n",
      "[CV] END max_depth=6, min_samples_leaf=2, min_samples_split=3, n_estimators=5; total time=   0.5s\n",
      "[CV] END max_depth=6, min_samples_leaf=2, min_samples_split=3, n_estimators=5; total time=   0.5s\n",
      "[CV] END max_depth=6, min_samples_leaf=2, min_samples_split=3, n_estimators=5; total time=   0.5s\n",
      "[CV] END max_depth=6, min_samples_leaf=2, min_samples_split=3, n_estimators=10; total time=   0.9s\n",
      "[CV] END max_depth=6, min_samples_leaf=2, min_samples_split=3, n_estimators=10; total time=   1.0s\n",
      "[CV] END max_depth=6, min_samples_leaf=2, min_samples_split=3, n_estimators=10; total time=   1.0s\n",
      "[CV] END max_depth=6, min_samples_leaf=2, min_samples_split=3, n_estimators=10; total time=   1.0s\n",
      "[CV] END max_depth=6, min_samples_leaf=2, min_samples_split=3, n_estimators=10; total time=   1.0s\n",
      "[CV] END max_depth=6, min_samples_leaf=2, min_samples_split=6, n_estimators=5; total time=   0.5s\n",
      "[CV] END max_depth=6, min_samples_leaf=2, min_samples_split=6, n_estimators=5; total time=   0.5s\n",
      "[CV] END max_depth=6, min_samples_leaf=2, min_samples_split=6, n_estimators=5; total time=   0.5s\n",
      "[CV] END max_depth=6, min_samples_leaf=2, min_samples_split=6, n_estimators=5; total time=   0.5s\n",
      "[CV] END max_depth=6, min_samples_leaf=2, min_samples_split=6, n_estimators=5; total time=   0.5s\n",
      "[CV] END max_depth=6, min_samples_leaf=2, min_samples_split=6, n_estimators=10; total time=   0.9s\n",
      "[CV] END max_depth=6, min_samples_leaf=2, min_samples_split=6, n_estimators=10; total time=   1.0s\n",
      "[CV] END max_depth=6, min_samples_leaf=2, min_samples_split=6, n_estimators=10; total time=   1.0s\n",
      "[CV] END max_depth=6, min_samples_leaf=2, min_samples_split=6, n_estimators=10; total time=   1.0s\n",
      "[CV] END max_depth=6, min_samples_leaf=2, min_samples_split=6, n_estimators=10; total time=   1.0s\n",
      "[CV] END max_depth=6, min_samples_leaf=3, min_samples_split=2, n_estimators=5; total time=   0.5s\n",
      "[CV] END max_depth=6, min_samples_leaf=3, min_samples_split=2, n_estimators=5; total time=   0.5s\n",
      "[CV] END max_depth=6, min_samples_leaf=3, min_samples_split=2, n_estimators=5; total time=   0.5s\n",
      "[CV] END max_depth=6, min_samples_leaf=3, min_samples_split=2, n_estimators=5; total time=   0.5s\n",
      "[CV] END max_depth=6, min_samples_leaf=3, min_samples_split=2, n_estimators=5; total time=   0.5s\n",
      "[CV] END max_depth=6, min_samples_leaf=3, min_samples_split=2, n_estimators=10; total time=   0.9s\n",
      "[CV] END max_depth=6, min_samples_leaf=3, min_samples_split=2, n_estimators=10; total time=   0.9s\n",
      "[CV] END max_depth=6, min_samples_leaf=3, min_samples_split=2, n_estimators=10; total time=   1.0s\n",
      "[CV] END max_depth=6, min_samples_leaf=3, min_samples_split=2, n_estimators=10; total time=   0.9s\n",
      "[CV] END max_depth=6, min_samples_leaf=3, min_samples_split=2, n_estimators=10; total time=   0.9s\n",
      "[CV] END max_depth=6, min_samples_leaf=3, min_samples_split=3, n_estimators=5; total time=   0.5s\n",
      "[CV] END max_depth=6, min_samples_leaf=3, min_samples_split=3, n_estimators=5; total time=   0.5s\n",
      "[CV] END max_depth=6, min_samples_leaf=3, min_samples_split=3, n_estimators=5; total time=   0.5s\n",
      "[CV] END max_depth=6, min_samples_leaf=3, min_samples_split=3, n_estimators=5; total time=   0.5s\n",
      "[CV] END max_depth=6, min_samples_leaf=3, min_samples_split=3, n_estimators=5; total time=   0.5s\n",
      "[CV] END max_depth=6, min_samples_leaf=3, min_samples_split=3, n_estimators=10; total time=   1.0s\n",
      "[CV] END max_depth=6, min_samples_leaf=3, min_samples_split=3, n_estimators=10; total time=   0.9s\n",
      "[CV] END max_depth=6, min_samples_leaf=3, min_samples_split=3, n_estimators=10; total time=   0.9s\n",
      "[CV] END max_depth=6, min_samples_leaf=3, min_samples_split=3, n_estimators=10; total time=   0.9s\n",
      "[CV] END max_depth=6, min_samples_leaf=3, min_samples_split=3, n_estimators=10; total time=   0.9s\n",
      "[CV] END max_depth=6, min_samples_leaf=3, min_samples_split=6, n_estimators=5; total time=   0.5s\n",
      "[CV] END max_depth=6, min_samples_leaf=3, min_samples_split=6, n_estimators=5; total time=   0.5s\n",
      "[CV] END max_depth=6, min_samples_leaf=3, min_samples_split=6, n_estimators=5; total time=   0.5s\n",
      "[CV] END max_depth=6, min_samples_leaf=3, min_samples_split=6, n_estimators=5; total time=   0.5s\n",
      "[CV] END max_depth=6, min_samples_leaf=3, min_samples_split=6, n_estimators=5; total time=   0.5s\n",
      "[CV] END max_depth=6, min_samples_leaf=3, min_samples_split=6, n_estimators=10; total time=   0.9s\n",
      "[CV] END max_depth=6, min_samples_leaf=3, min_samples_split=6, n_estimators=10; total time=   0.9s\n",
      "[CV] END max_depth=6, min_samples_leaf=3, min_samples_split=6, n_estimators=10; total time=   0.9s\n",
      "[CV] END max_depth=6, min_samples_leaf=3, min_samples_split=6, n_estimators=10; total time=   1.0s\n",
      "[CV] END max_depth=6, min_samples_leaf=3, min_samples_split=6, n_estimators=10; total time=   0.9s\n",
      "[CV] END max_depth=6, min_samples_leaf=6, min_samples_split=2, n_estimators=5; total time=   0.5s\n",
      "[CV] END max_depth=6, min_samples_leaf=6, min_samples_split=2, n_estimators=5; total time=   0.5s\n",
      "[CV] END max_depth=6, min_samples_leaf=6, min_samples_split=2, n_estimators=5; total time=   0.5s\n",
      "[CV] END max_depth=6, min_samples_leaf=6, min_samples_split=2, n_estimators=5; total time=   0.5s\n",
      "[CV] END max_depth=6, min_samples_leaf=6, min_samples_split=2, n_estimators=5; total time=   0.5s\n",
      "[CV] END max_depth=6, min_samples_leaf=6, min_samples_split=2, n_estimators=10; total time=   0.9s\n",
      "[CV] END max_depth=6, min_samples_leaf=6, min_samples_split=2, n_estimators=10; total time=   0.9s\n",
      "[CV] END max_depth=6, min_samples_leaf=6, min_samples_split=2, n_estimators=10; total time=   0.9s\n",
      "[CV] END max_depth=6, min_samples_leaf=6, min_samples_split=2, n_estimators=10; total time=   0.9s\n",
      "[CV] END max_depth=6, min_samples_leaf=6, min_samples_split=2, n_estimators=10; total time=   1.0s\n",
      "[CV] END max_depth=6, min_samples_leaf=6, min_samples_split=3, n_estimators=5; total time=   0.5s\n",
      "[CV] END max_depth=6, min_samples_leaf=6, min_samples_split=3, n_estimators=5; total time=   0.5s\n",
      "[CV] END max_depth=6, min_samples_leaf=6, min_samples_split=3, n_estimators=5; total time=   0.5s\n",
      "[CV] END max_depth=6, min_samples_leaf=6, min_samples_split=3, n_estimators=5; total time=   0.5s\n",
      "[CV] END max_depth=6, min_samples_leaf=6, min_samples_split=3, n_estimators=5; total time=   0.5s\n",
      "[CV] END max_depth=6, min_samples_leaf=6, min_samples_split=3, n_estimators=10; total time=   0.9s\n",
      "[CV] END max_depth=6, min_samples_leaf=6, min_samples_split=3, n_estimators=10; total time=   0.9s\n"
     ]
    },
    {
     "name": "stdout",
     "output_type": "stream",
     "text": [
      "[CV] END max_depth=6, min_samples_leaf=6, min_samples_split=3, n_estimators=10; total time=   0.9s\n",
      "[CV] END max_depth=6, min_samples_leaf=6, min_samples_split=3, n_estimators=10; total time=   1.0s\n",
      "[CV] END max_depth=6, min_samples_leaf=6, min_samples_split=3, n_estimators=10; total time=   1.0s\n",
      "[CV] END max_depth=6, min_samples_leaf=6, min_samples_split=6, n_estimators=5; total time=   0.5s\n",
      "[CV] END max_depth=6, min_samples_leaf=6, min_samples_split=6, n_estimators=5; total time=   0.5s\n",
      "[CV] END max_depth=6, min_samples_leaf=6, min_samples_split=6, n_estimators=5; total time=   0.5s\n",
      "[CV] END max_depth=6, min_samples_leaf=6, min_samples_split=6, n_estimators=5; total time=   0.5s\n",
      "[CV] END max_depth=6, min_samples_leaf=6, min_samples_split=6, n_estimators=5; total time=   0.5s\n",
      "[CV] END max_depth=6, min_samples_leaf=6, min_samples_split=6, n_estimators=10; total time=   1.0s\n",
      "[CV] END max_depth=6, min_samples_leaf=6, min_samples_split=6, n_estimators=10; total time=   1.0s\n",
      "[CV] END max_depth=6, min_samples_leaf=6, min_samples_split=6, n_estimators=10; total time=   1.0s\n",
      "[CV] END max_depth=6, min_samples_leaf=6, min_samples_split=6, n_estimators=10; total time=   1.0s\n",
      "[CV] END max_depth=6, min_samples_leaf=6, min_samples_split=6, n_estimators=10; total time=   1.0s\n",
      "[CV] END max_depth=8, min_samples_leaf=2, min_samples_split=2, n_estimators=5; total time=   0.6s\n",
      "[CV] END max_depth=8, min_samples_leaf=2, min_samples_split=2, n_estimators=5; total time=   0.6s\n",
      "[CV] END max_depth=8, min_samples_leaf=2, min_samples_split=2, n_estimators=5; total time=   0.6s\n",
      "[CV] END max_depth=8, min_samples_leaf=2, min_samples_split=2, n_estimators=5; total time=   0.6s\n",
      "[CV] END max_depth=8, min_samples_leaf=2, min_samples_split=2, n_estimators=5; total time=   0.6s\n",
      "[CV] END max_depth=8, min_samples_leaf=2, min_samples_split=2, n_estimators=10; total time=   1.2s\n",
      "[CV] END max_depth=8, min_samples_leaf=2, min_samples_split=2, n_estimators=10; total time=   1.2s\n",
      "[CV] END max_depth=8, min_samples_leaf=2, min_samples_split=2, n_estimators=10; total time=   1.2s\n",
      "[CV] END max_depth=8, min_samples_leaf=2, min_samples_split=2, n_estimators=10; total time=   1.2s\n",
      "[CV] END max_depth=8, min_samples_leaf=2, min_samples_split=2, n_estimators=10; total time=   1.2s\n",
      "[CV] END max_depth=8, min_samples_leaf=2, min_samples_split=3, n_estimators=5; total time=   0.6s\n",
      "[CV] END max_depth=8, min_samples_leaf=2, min_samples_split=3, n_estimators=5; total time=   0.6s\n",
      "[CV] END max_depth=8, min_samples_leaf=2, min_samples_split=3, n_estimators=5; total time=   0.6s\n",
      "[CV] END max_depth=8, min_samples_leaf=2, min_samples_split=3, n_estimators=5; total time=   0.6s\n",
      "[CV] END max_depth=8, min_samples_leaf=2, min_samples_split=3, n_estimators=5; total time=   0.6s\n",
      "[CV] END max_depth=8, min_samples_leaf=2, min_samples_split=3, n_estimators=10; total time=   1.2s\n",
      "[CV] END max_depth=8, min_samples_leaf=2, min_samples_split=3, n_estimators=10; total time=   1.2s\n",
      "[CV] END max_depth=8, min_samples_leaf=2, min_samples_split=3, n_estimators=10; total time=   1.2s\n",
      "[CV] END max_depth=8, min_samples_leaf=2, min_samples_split=3, n_estimators=10; total time=   1.3s\n",
      "[CV] END max_depth=8, min_samples_leaf=2, min_samples_split=3, n_estimators=10; total time=   1.3s\n",
      "[CV] END max_depth=8, min_samples_leaf=2, min_samples_split=6, n_estimators=5; total time=   0.7s\n",
      "[CV] END max_depth=8, min_samples_leaf=2, min_samples_split=6, n_estimators=5; total time=   0.6s\n",
      "[CV] END max_depth=8, min_samples_leaf=2, min_samples_split=6, n_estimators=5; total time=   0.6s\n",
      "[CV] END max_depth=8, min_samples_leaf=2, min_samples_split=6, n_estimators=5; total time=   0.6s\n",
      "[CV] END max_depth=8, min_samples_leaf=2, min_samples_split=6, n_estimators=5; total time=   0.6s\n",
      "[CV] END max_depth=8, min_samples_leaf=2, min_samples_split=6, n_estimators=10; total time=   1.3s\n",
      "[CV] END max_depth=8, min_samples_leaf=2, min_samples_split=6, n_estimators=10; total time=   1.2s\n",
      "[CV] END max_depth=8, min_samples_leaf=2, min_samples_split=6, n_estimators=10; total time=   1.2s\n",
      "[CV] END max_depth=8, min_samples_leaf=2, min_samples_split=6, n_estimators=10; total time=   1.2s\n",
      "[CV] END max_depth=8, min_samples_leaf=2, min_samples_split=6, n_estimators=10; total time=   1.2s\n",
      "[CV] END max_depth=8, min_samples_leaf=3, min_samples_split=2, n_estimators=5; total time=   0.6s\n",
      "[CV] END max_depth=8, min_samples_leaf=3, min_samples_split=2, n_estimators=5; total time=   0.6s\n",
      "[CV] END max_depth=8, min_samples_leaf=3, min_samples_split=2, n_estimators=5; total time=   0.6s\n",
      "[CV] END max_depth=8, min_samples_leaf=3, min_samples_split=2, n_estimators=5; total time=   0.6s\n",
      "[CV] END max_depth=8, min_samples_leaf=3, min_samples_split=2, n_estimators=5; total time=   0.6s\n",
      "[CV] END max_depth=8, min_samples_leaf=3, min_samples_split=2, n_estimators=10; total time=   1.2s\n",
      "[CV] END max_depth=8, min_samples_leaf=3, min_samples_split=2, n_estimators=10; total time=   1.2s\n",
      "[CV] END max_depth=8, min_samples_leaf=3, min_samples_split=2, n_estimators=10; total time=   1.2s\n",
      "[CV] END max_depth=8, min_samples_leaf=3, min_samples_split=2, n_estimators=10; total time=   1.3s\n",
      "[CV] END max_depth=8, min_samples_leaf=3, min_samples_split=2, n_estimators=10; total time=   1.2s\n",
      "[CV] END max_depth=8, min_samples_leaf=3, min_samples_split=3, n_estimators=5; total time=   0.6s\n",
      "[CV] END max_depth=8, min_samples_leaf=3, min_samples_split=3, n_estimators=5; total time=   0.6s\n",
      "[CV] END max_depth=8, min_samples_leaf=3, min_samples_split=3, n_estimators=5; total time=   0.6s\n",
      "[CV] END max_depth=8, min_samples_leaf=3, min_samples_split=3, n_estimators=5; total time=   0.6s\n",
      "[CV] END max_depth=8, min_samples_leaf=3, min_samples_split=3, n_estimators=5; total time=   0.6s\n",
      "[CV] END max_depth=8, min_samples_leaf=3, min_samples_split=3, n_estimators=10; total time=   1.3s\n",
      "[CV] END max_depth=8, min_samples_leaf=3, min_samples_split=3, n_estimators=10; total time=   1.3s\n",
      "[CV] END max_depth=8, min_samples_leaf=3, min_samples_split=3, n_estimators=10; total time=   1.2s\n",
      "[CV] END max_depth=8, min_samples_leaf=3, min_samples_split=3, n_estimators=10; total time=   1.2s\n",
      "[CV] END max_depth=8, min_samples_leaf=3, min_samples_split=3, n_estimators=10; total time=   1.2s\n",
      "[CV] END max_depth=8, min_samples_leaf=3, min_samples_split=6, n_estimators=5; total time=   0.6s\n",
      "[CV] END max_depth=8, min_samples_leaf=3, min_samples_split=6, n_estimators=5; total time=   0.6s\n",
      "[CV] END max_depth=8, min_samples_leaf=3, min_samples_split=6, n_estimators=5; total time=   0.6s\n",
      "[CV] END max_depth=8, min_samples_leaf=3, min_samples_split=6, n_estimators=5; total time=   0.6s\n",
      "[CV] END max_depth=8, min_samples_leaf=3, min_samples_split=6, n_estimators=5; total time=   0.6s\n",
      "[CV] END max_depth=8, min_samples_leaf=3, min_samples_split=6, n_estimators=10; total time=   1.3s\n",
      "[CV] END max_depth=8, min_samples_leaf=3, min_samples_split=6, n_estimators=10; total time=   1.3s\n",
      "[CV] END max_depth=8, min_samples_leaf=3, min_samples_split=6, n_estimators=10; total time=   1.3s\n",
      "[CV] END max_depth=8, min_samples_leaf=3, min_samples_split=6, n_estimators=10; total time=   1.3s\n",
      "[CV] END max_depth=8, min_samples_leaf=3, min_samples_split=6, n_estimators=10; total time=   1.3s\n",
      "[CV] END max_depth=8, min_samples_leaf=6, min_samples_split=2, n_estimators=5; total time=   0.7s\n",
      "[CV] END max_depth=8, min_samples_leaf=6, min_samples_split=2, n_estimators=5; total time=   0.7s\n",
      "[CV] END max_depth=8, min_samples_leaf=6, min_samples_split=2, n_estimators=5; total time=   0.6s\n",
      "[CV] END max_depth=8, min_samples_leaf=6, min_samples_split=2, n_estimators=5; total time=   0.6s\n",
      "[CV] END max_depth=8, min_samples_leaf=6, min_samples_split=2, n_estimators=5; total time=   0.6s\n",
      "[CV] END max_depth=8, min_samples_leaf=6, min_samples_split=2, n_estimators=10; total time=   1.2s\n",
      "[CV] END max_depth=8, min_samples_leaf=6, min_samples_split=2, n_estimators=10; total time=   1.2s\n",
      "[CV] END max_depth=8, min_samples_leaf=6, min_samples_split=2, n_estimators=10; total time=   1.2s\n",
      "[CV] END max_depth=8, min_samples_leaf=6, min_samples_split=2, n_estimators=10; total time=   1.2s\n",
      "[CV] END max_depth=8, min_samples_leaf=6, min_samples_split=2, n_estimators=10; total time=   1.2s\n",
      "[CV] END max_depth=8, min_samples_leaf=6, min_samples_split=3, n_estimators=5; total time=   0.6s\n"
     ]
    },
    {
     "name": "stdout",
     "output_type": "stream",
     "text": [
      "[CV] END max_depth=8, min_samples_leaf=6, min_samples_split=3, n_estimators=5; total time=   0.7s\n",
      "[CV] END max_depth=8, min_samples_leaf=6, min_samples_split=3, n_estimators=5; total time=   0.6s\n",
      "[CV] END max_depth=8, min_samples_leaf=6, min_samples_split=3, n_estimators=5; total time=   0.6s\n",
      "[CV] END max_depth=8, min_samples_leaf=6, min_samples_split=3, n_estimators=5; total time=   0.7s\n",
      "[CV] END max_depth=8, min_samples_leaf=6, min_samples_split=3, n_estimators=10; total time=   1.3s\n",
      "[CV] END max_depth=8, min_samples_leaf=6, min_samples_split=3, n_estimators=10; total time=   1.2s\n",
      "[CV] END max_depth=8, min_samples_leaf=6, min_samples_split=3, n_estimators=10; total time=   1.2s\n",
      "[CV] END max_depth=8, min_samples_leaf=6, min_samples_split=3, n_estimators=10; total time=   1.2s\n",
      "[CV] END max_depth=8, min_samples_leaf=6, min_samples_split=3, n_estimators=10; total time=   1.2s\n",
      "[CV] END max_depth=8, min_samples_leaf=6, min_samples_split=6, n_estimators=5; total time=   0.6s\n",
      "[CV] END max_depth=8, min_samples_leaf=6, min_samples_split=6, n_estimators=5; total time=   0.6s\n",
      "[CV] END max_depth=8, min_samples_leaf=6, min_samples_split=6, n_estimators=5; total time=   0.6s\n",
      "[CV] END max_depth=8, min_samples_leaf=6, min_samples_split=6, n_estimators=5; total time=   0.6s\n",
      "[CV] END max_depth=8, min_samples_leaf=6, min_samples_split=6, n_estimators=5; total time=   0.6s\n",
      "[CV] END max_depth=8, min_samples_leaf=6, min_samples_split=6, n_estimators=10; total time=   1.2s\n",
      "[CV] END max_depth=8, min_samples_leaf=6, min_samples_split=6, n_estimators=10; total time=   1.2s\n",
      "[CV] END max_depth=8, min_samples_leaf=6, min_samples_split=6, n_estimators=10; total time=   1.3s\n",
      "[CV] END max_depth=8, min_samples_leaf=6, min_samples_split=6, n_estimators=10; total time=   1.3s\n",
      "[CV] END max_depth=8, min_samples_leaf=6, min_samples_split=6, n_estimators=10; total time=   1.3s\n",
      "RMSE: 2389.4091770580676\n",
      "Test RMSE: 2366.2767131549053\n",
      "Training time: 1.4818060398101807\n",
      "Prediction time: 0.01737833023071289\n",
      "CPU times: user 3min 11s, sys: 168 ms, total: 3min 11s\n",
      "Wall time: 3min 12s\n"
     ]
    }
   ],
   "source": [
    "#Random Forest\n",
    "\n",
    "#Define paramater grid\n",
    "param_grid_rforest = {\n",
    "    'n_estimators': [5, 10],\n",
    "    'max_depth': [3, 6, 8],\n",
    "    'min_samples_split': [2, 3, 6],\n",
    "    'min_samples_leaf': [2, 3, 6]\n",
    "}\n",
    "\n",
    "#Create the model\n",
    "rforest_model = RandomForestRegressor(random_state=101)\n",
    "\n",
    "#Define GridSearchCV with the custom scorer\n",
    "rforest_grid = GridSearchCV(rforest_model, param_grid = param_grid_rforest, scoring = rmse_scorer, \n",
    "                                  cv = KFold(n_splits = 5, shuffle = True, random_state = 101), verbose = 2)\n",
    "\n",
    "#Perform grid search\n",
    "rforest_grid.fit(X_encoded_train, y_encoded_train)\n",
    "\n",
    "\n",
    "# Get the best fitted model and measure training time\n",
    "best_rforest_model = rforest_grid.best_estimator_\n",
    "start_training_time_rforest = time.time()\n",
    "best_rforest_model.fit(X_encoded_train, y_encoded_train)\n",
    "training_time_rforest = time.time() - start_training_time_rforest\n",
    "\n",
    "#Measure prediction time\n",
    "start_prediction_time_rforest = time.time()\n",
    "predictions_rforest = best_rforest_model.predict(X_encoded_test)\n",
    "prediction_time_rforest = time.time() - start_prediction_time_rforest\n",
    "\n",
    "#Evaluate the model on the test set\n",
    "test_rmse_rforest = np.sqrt(mean_squared_error(y_encoded_test, predictions_rforest))\n",
    "\n",
    "#Perform cross-validation with the best estimator and custom scorer\n",
    "scores_rforest = cross_val_score(best_rforest_model, X_encoded_train, y_encoded_train, \n",
    "                            cv=5, scoring=rmse_scorer)\n",
    "\n",
    "#Print the cross-validation scores\n",
    "print(\"RMSE:\", np.abs(scores_rforest.mean()))\n",
    "print(\"Test RMSE:\", test_rmse_rforest)\n",
    "\n",
    "# Print the training results\n",
    "print(\"Training time:\", training_time_rforest)\n",
    "print(\"Prediction time:\", prediction_time_rforest)"
   ]
  },
  {
   "cell_type": "code",
   "execution_count": 40,
   "metadata": {},
   "outputs": [
    {
     "name": "stdout",
     "output_type": "stream",
     "text": [
      "Fitting 5 folds for each of 48 candidates, totalling 240 fits\n",
      "[CV 1/5] END learning_rate=0.05, max_depth=1, n_estimators=50, num_leaves=31, subsample=0.8; total time=   0.3s\n",
      "[CV 2/5] END learning_rate=0.05, max_depth=1, n_estimators=50, num_leaves=31, subsample=0.8; total time=   0.4s\n",
      "[CV 3/5] END learning_rate=0.05, max_depth=1, n_estimators=50, num_leaves=31, subsample=0.8; total time=   0.3s\n",
      "[CV 4/5] END learning_rate=0.05, max_depth=1, n_estimators=50, num_leaves=31, subsample=0.8; total time=   0.4s\n",
      "[CV 5/5] END learning_rate=0.05, max_depth=1, n_estimators=50, num_leaves=31, subsample=0.8; total time=   0.3s\n",
      "[CV 1/5] END learning_rate=0.05, max_depth=1, n_estimators=50, num_leaves=31, subsample=1; total time=   0.4s\n",
      "[CV 2/5] END learning_rate=0.05, max_depth=1, n_estimators=50, num_leaves=31, subsample=1; total time=   0.3s\n",
      "[CV 3/5] END learning_rate=0.05, max_depth=1, n_estimators=50, num_leaves=31, subsample=1; total time=   0.4s\n",
      "[CV 4/5] END learning_rate=0.05, max_depth=1, n_estimators=50, num_leaves=31, subsample=1; total time=   0.3s\n",
      "[CV 5/5] END learning_rate=0.05, max_depth=1, n_estimators=50, num_leaves=31, subsample=1; total time=   0.4s\n",
      "[CV 1/5] END learning_rate=0.05, max_depth=1, n_estimators=50, num_leaves=63, subsample=0.8; total time=   0.3s\n",
      "[CV 2/5] END learning_rate=0.05, max_depth=1, n_estimators=50, num_leaves=63, subsample=0.8; total time=   0.4s\n",
      "[CV 3/5] END learning_rate=0.05, max_depth=1, n_estimators=50, num_leaves=63, subsample=0.8; total time=   0.3s\n",
      "[CV 4/5] END learning_rate=0.05, max_depth=1, n_estimators=50, num_leaves=63, subsample=0.8; total time=   0.4s\n",
      "[CV 5/5] END learning_rate=0.05, max_depth=1, n_estimators=50, num_leaves=63, subsample=0.8; total time=   0.4s\n",
      "[CV 1/5] END learning_rate=0.05, max_depth=1, n_estimators=50, num_leaves=63, subsample=1; total time=   0.3s\n",
      "[CV 2/5] END learning_rate=0.05, max_depth=1, n_estimators=50, num_leaves=63, subsample=1; total time=   0.4s\n",
      "[CV 3/5] END learning_rate=0.05, max_depth=1, n_estimators=50, num_leaves=63, subsample=1; total time=   0.4s\n",
      "[CV 4/5] END learning_rate=0.05, max_depth=1, n_estimators=50, num_leaves=63, subsample=1; total time=   0.3s\n",
      "[CV 5/5] END learning_rate=0.05, max_depth=1, n_estimators=50, num_leaves=63, subsample=1; total time=   0.4s\n",
      "[CV 1/5] END learning_rate=0.05, max_depth=1, n_estimators=100, num_leaves=31, subsample=0.8; total time=   0.5s\n",
      "[CV 2/5] END learning_rate=0.05, max_depth=1, n_estimators=100, num_leaves=31, subsample=0.8; total time=   0.5s\n",
      "[CV 3/5] END learning_rate=0.05, max_depth=1, n_estimators=100, num_leaves=31, subsample=0.8; total time=   0.5s\n",
      "[CV 4/5] END learning_rate=0.05, max_depth=1, n_estimators=100, num_leaves=31, subsample=0.8; total time=   0.5s\n",
      "[CV 5/5] END learning_rate=0.05, max_depth=1, n_estimators=100, num_leaves=31, subsample=0.8; total time=   0.6s\n",
      "[CV 1/5] END learning_rate=0.05, max_depth=1, n_estimators=100, num_leaves=31, subsample=1; total time=   0.5s\n",
      "[CV 2/5] END learning_rate=0.05, max_depth=1, n_estimators=100, num_leaves=31, subsample=1; total time=   0.4s\n",
      "[CV 3/5] END learning_rate=0.05, max_depth=1, n_estimators=100, num_leaves=31, subsample=1; total time=   0.5s\n",
      "[CV 4/5] END learning_rate=0.05, max_depth=1, n_estimators=100, num_leaves=31, subsample=1; total time=   0.5s\n",
      "[CV 5/5] END learning_rate=0.05, max_depth=1, n_estimators=100, num_leaves=31, subsample=1; total time=   0.5s\n",
      "[CV 1/5] END learning_rate=0.05, max_depth=1, n_estimators=100, num_leaves=63, subsample=0.8; total time=   0.5s\n",
      "[CV 2/5] END learning_rate=0.05, max_depth=1, n_estimators=100, num_leaves=63, subsample=0.8; total time=   0.5s\n",
      "[CV 3/5] END learning_rate=0.05, max_depth=1, n_estimators=100, num_leaves=63, subsample=0.8; total time=   0.5s\n",
      "[CV 4/5] END learning_rate=0.05, max_depth=1, n_estimators=100, num_leaves=63, subsample=0.8; total time=   0.5s\n",
      "[CV 5/5] END learning_rate=0.05, max_depth=1, n_estimators=100, num_leaves=63, subsample=0.8; total time=   0.5s\n",
      "[CV 1/5] END learning_rate=0.05, max_depth=1, n_estimators=100, num_leaves=63, subsample=1; total time=   0.5s\n",
      "[CV 2/5] END learning_rate=0.05, max_depth=1, n_estimators=100, num_leaves=63, subsample=1; total time=   0.5s\n",
      "[CV 3/5] END learning_rate=0.05, max_depth=1, n_estimators=100, num_leaves=63, subsample=1; total time=   0.5s\n",
      "[CV 4/5] END learning_rate=0.05, max_depth=1, n_estimators=100, num_leaves=63, subsample=1; total time=   0.6s\n",
      "[CV 5/5] END learning_rate=0.05, max_depth=1, n_estimators=100, num_leaves=63, subsample=1; total time=   0.5s\n",
      "[CV 1/5] END learning_rate=0.05, max_depth=3, n_estimators=50, num_leaves=31, subsample=0.8; total time=   0.4s\n",
      "[CV 2/5] END learning_rate=0.05, max_depth=3, n_estimators=50, num_leaves=31, subsample=0.8; total time=   0.5s\n",
      "[CV 3/5] END learning_rate=0.05, max_depth=3, n_estimators=50, num_leaves=31, subsample=0.8; total time=   0.5s\n",
      "[CV 4/5] END learning_rate=0.05, max_depth=3, n_estimators=50, num_leaves=31, subsample=0.8; total time=   0.4s\n",
      "[CV 5/5] END learning_rate=0.05, max_depth=3, n_estimators=50, num_leaves=31, subsample=0.8; total time=   0.4s\n",
      "[CV 1/5] END learning_rate=0.05, max_depth=3, n_estimators=50, num_leaves=31, subsample=1; total time=   0.5s\n",
      "[CV 2/5] END learning_rate=0.05, max_depth=3, n_estimators=50, num_leaves=31, subsample=1; total time=   0.4s\n",
      "[CV 3/5] END learning_rate=0.05, max_depth=3, n_estimators=50, num_leaves=31, subsample=1; total time=   0.5s\n",
      "[CV 4/5] END learning_rate=0.05, max_depth=3, n_estimators=50, num_leaves=31, subsample=1; total time=   0.5s\n",
      "[CV 5/5] END learning_rate=0.05, max_depth=3, n_estimators=50, num_leaves=31, subsample=1; total time=   0.5s\n",
      "[CV 1/5] END learning_rate=0.05, max_depth=3, n_estimators=50, num_leaves=63, subsample=0.8; total time=   0.5s\n",
      "[CV 2/5] END learning_rate=0.05, max_depth=3, n_estimators=50, num_leaves=63, subsample=0.8; total time=   0.4s\n",
      "[CV 3/5] END learning_rate=0.05, max_depth=3, n_estimators=50, num_leaves=63, subsample=0.8; total time=   0.5s\n",
      "[CV 4/5] END learning_rate=0.05, max_depth=3, n_estimators=50, num_leaves=63, subsample=0.8; total time=   0.4s\n",
      "[CV 5/5] END learning_rate=0.05, max_depth=3, n_estimators=50, num_leaves=63, subsample=0.8; total time=   0.5s\n",
      "[CV 1/5] END learning_rate=0.05, max_depth=3, n_estimators=50, num_leaves=63, subsample=1; total time=   0.5s\n",
      "[CV 2/5] END learning_rate=0.05, max_depth=3, n_estimators=50, num_leaves=63, subsample=1; total time=   0.5s\n",
      "[CV 3/5] END learning_rate=0.05, max_depth=3, n_estimators=50, num_leaves=63, subsample=1; total time=   0.5s\n",
      "[CV 4/5] END learning_rate=0.05, max_depth=3, n_estimators=50, num_leaves=63, subsample=1; total time=   0.5s\n",
      "[CV 5/5] END learning_rate=0.05, max_depth=3, n_estimators=50, num_leaves=63, subsample=1; total time=   0.6s\n",
      "[CV 1/5] END learning_rate=0.05, max_depth=3, n_estimators=100, num_leaves=31, subsample=0.8; total time=   0.7s\n",
      "[CV 2/5] END learning_rate=0.05, max_depth=3, n_estimators=100, num_leaves=31, subsample=0.8; total time=   0.7s\n",
      "[CV 3/5] END learning_rate=0.05, max_depth=3, n_estimators=100, num_leaves=31, subsample=0.8; total time=   0.8s\n",
      "[CV 4/5] END learning_rate=0.05, max_depth=3, n_estimators=100, num_leaves=31, subsample=0.8; total time=   0.7s\n",
      "[CV 5/5] END learning_rate=0.05, max_depth=3, n_estimators=100, num_leaves=31, subsample=0.8; total time=   0.7s\n",
      "[CV 1/5] END learning_rate=0.05, max_depth=3, n_estimators=100, num_leaves=31, subsample=1; total time=   0.8s\n",
      "[CV 2/5] END learning_rate=0.05, max_depth=3, n_estimators=100, num_leaves=31, subsample=1; total time=   0.7s\n",
      "[CV 3/5] END learning_rate=0.05, max_depth=3, n_estimators=100, num_leaves=31, subsample=1; total time=   0.8s\n",
      "[CV 4/5] END learning_rate=0.05, max_depth=3, n_estimators=100, num_leaves=31, subsample=1; total time=   0.7s\n",
      "[CV 5/5] END learning_rate=0.05, max_depth=3, n_estimators=100, num_leaves=31, subsample=1; total time=   0.8s\n",
      "[CV 1/5] END learning_rate=0.05, max_depth=3, n_estimators=100, num_leaves=63, subsample=0.8; total time=   0.7s\n",
      "[CV 2/5] END learning_rate=0.05, max_depth=3, n_estimators=100, num_leaves=63, subsample=0.8; total time=   0.8s\n",
      "[CV 3/5] END learning_rate=0.05, max_depth=3, n_estimators=100, num_leaves=63, subsample=0.8; total time=   0.8s\n"
     ]
    },
    {
     "name": "stdout",
     "output_type": "stream",
     "text": [
      "[CV 4/5] END learning_rate=0.05, max_depth=3, n_estimators=100, num_leaves=63, subsample=0.8; total time=   0.7s\n",
      "[CV 5/5] END learning_rate=0.05, max_depth=3, n_estimators=100, num_leaves=63, subsample=0.8; total time=   0.8s\n",
      "[CV 1/5] END learning_rate=0.05, max_depth=3, n_estimators=100, num_leaves=63, subsample=1; total time=   0.8s\n",
      "[CV 2/5] END learning_rate=0.05, max_depth=3, n_estimators=100, num_leaves=63, subsample=1; total time=   0.8s\n",
      "[CV 3/5] END learning_rate=0.05, max_depth=3, n_estimators=100, num_leaves=63, subsample=1; total time=   0.7s\n",
      "[CV 4/5] END learning_rate=0.05, max_depth=3, n_estimators=100, num_leaves=63, subsample=1; total time=   0.7s\n",
      "[CV 5/5] END learning_rate=0.05, max_depth=3, n_estimators=100, num_leaves=63, subsample=1; total time=   0.8s\n",
      "[CV 1/5] END learning_rate=0.05, max_depth=12, n_estimators=50, num_leaves=31, subsample=0.8; total time=   0.7s\n",
      "[CV 2/5] END learning_rate=0.05, max_depth=12, n_estimators=50, num_leaves=31, subsample=0.8; total time=   0.8s\n",
      "[CV 3/5] END learning_rate=0.05, max_depth=12, n_estimators=50, num_leaves=31, subsample=0.8; total time=   0.8s\n",
      "[CV 4/5] END learning_rate=0.05, max_depth=12, n_estimators=50, num_leaves=31, subsample=0.8; total time=   0.9s\n",
      "[CV 5/5] END learning_rate=0.05, max_depth=12, n_estimators=50, num_leaves=31, subsample=0.8; total time=   0.7s\n",
      "[CV 1/5] END learning_rate=0.05, max_depth=12, n_estimators=50, num_leaves=31, subsample=1; total time=   0.8s\n",
      "[CV 2/5] END learning_rate=0.05, max_depth=12, n_estimators=50, num_leaves=31, subsample=1; total time=   0.8s\n",
      "[CV 3/5] END learning_rate=0.05, max_depth=12, n_estimators=50, num_leaves=31, subsample=1; total time=   0.8s\n",
      "[CV 4/5] END learning_rate=0.05, max_depth=12, n_estimators=50, num_leaves=31, subsample=1; total time=   0.7s\n",
      "[CV 5/5] END learning_rate=0.05, max_depth=12, n_estimators=50, num_leaves=31, subsample=1; total time=   0.8s\n",
      "[CV 1/5] END learning_rate=0.05, max_depth=12, n_estimators=50, num_leaves=63, subsample=0.8; total time=   0.9s\n",
      "[CV 2/5] END learning_rate=0.05, max_depth=12, n_estimators=50, num_leaves=63, subsample=0.8; total time=   1.0s\n",
      "[CV 3/5] END learning_rate=0.05, max_depth=12, n_estimators=50, num_leaves=63, subsample=0.8; total time=   0.9s\n",
      "[CV 4/5] END learning_rate=0.05, max_depth=12, n_estimators=50, num_leaves=63, subsample=0.8; total time=   1.0s\n",
      "[CV 5/5] END learning_rate=0.05, max_depth=12, n_estimators=50, num_leaves=63, subsample=0.8; total time=   1.0s\n",
      "[CV 1/5] END learning_rate=0.05, max_depth=12, n_estimators=50, num_leaves=63, subsample=1; total time=   1.0s\n",
      "[CV 2/5] END learning_rate=0.05, max_depth=12, n_estimators=50, num_leaves=63, subsample=1; total time=   1.0s\n",
      "[CV 3/5] END learning_rate=0.05, max_depth=12, n_estimators=50, num_leaves=63, subsample=1; total time=   1.0s\n",
      "[CV 4/5] END learning_rate=0.05, max_depth=12, n_estimators=50, num_leaves=63, subsample=1; total time=   1.0s\n",
      "[CV 5/5] END learning_rate=0.05, max_depth=12, n_estimators=50, num_leaves=63, subsample=1; total time=   1.0s\n",
      "[CV 1/5] END learning_rate=0.05, max_depth=12, n_estimators=100, num_leaves=31, subsample=0.8; total time=   1.3s\n",
      "[CV 2/5] END learning_rate=0.05, max_depth=12, n_estimators=100, num_leaves=31, subsample=0.8; total time=   1.4s\n",
      "[CV 3/5] END learning_rate=0.05, max_depth=12, n_estimators=100, num_leaves=31, subsample=0.8; total time=   1.3s\n",
      "[CV 4/5] END learning_rate=0.05, max_depth=12, n_estimators=100, num_leaves=31, subsample=0.8; total time=   1.2s\n",
      "[CV 5/5] END learning_rate=0.05, max_depth=12, n_estimators=100, num_leaves=31, subsample=0.8; total time=   1.3s\n",
      "[CV 1/5] END learning_rate=0.05, max_depth=12, n_estimators=100, num_leaves=31, subsample=1; total time=   1.5s\n",
      "[CV 2/5] END learning_rate=0.05, max_depth=12, n_estimators=100, num_leaves=31, subsample=1; total time=   1.2s\n",
      "[CV 3/5] END learning_rate=0.05, max_depth=12, n_estimators=100, num_leaves=31, subsample=1; total time=   1.3s\n",
      "[CV 4/5] END learning_rate=0.05, max_depth=12, n_estimators=100, num_leaves=31, subsample=1; total time=   1.3s\n",
      "[CV 5/5] END learning_rate=0.05, max_depth=12, n_estimators=100, num_leaves=31, subsample=1; total time=   1.3s\n",
      "[CV 1/5] END learning_rate=0.05, max_depth=12, n_estimators=100, num_leaves=63, subsample=0.8; total time=   1.6s\n",
      "[CV 2/5] END learning_rate=0.05, max_depth=12, n_estimators=100, num_leaves=63, subsample=0.8; total time=   1.7s\n",
      "[CV 3/5] END learning_rate=0.05, max_depth=12, n_estimators=100, num_leaves=63, subsample=0.8; total time=   1.8s\n",
      "[CV 4/5] END learning_rate=0.05, max_depth=12, n_estimators=100, num_leaves=63, subsample=0.8; total time=   1.6s\n",
      "[CV 5/5] END learning_rate=0.05, max_depth=12, n_estimators=100, num_leaves=63, subsample=0.8; total time=   1.7s\n",
      "[CV 1/5] END learning_rate=0.05, max_depth=12, n_estimators=100, num_leaves=63, subsample=1; total time=   1.6s\n",
      "[CV 2/5] END learning_rate=0.05, max_depth=12, n_estimators=100, num_leaves=63, subsample=1; total time=   1.6s\n",
      "[CV 3/5] END learning_rate=0.05, max_depth=12, n_estimators=100, num_leaves=63, subsample=1; total time=   1.7s\n",
      "[CV 4/5] END learning_rate=0.05, max_depth=12, n_estimators=100, num_leaves=63, subsample=1; total time=   2.1s\n",
      "[CV 5/5] END learning_rate=0.05, max_depth=12, n_estimators=100, num_leaves=63, subsample=1; total time=   1.6s\n",
      "[CV 1/5] END learning_rate=0.1, max_depth=1, n_estimators=50, num_leaves=31, subsample=0.8; total time=   0.4s\n",
      "[CV 2/5] END learning_rate=0.1, max_depth=1, n_estimators=50, num_leaves=31, subsample=0.8; total time=   0.3s\n",
      "[CV 3/5] END learning_rate=0.1, max_depth=1, n_estimators=50, num_leaves=31, subsample=0.8; total time=   0.3s\n",
      "[CV 4/5] END learning_rate=0.1, max_depth=1, n_estimators=50, num_leaves=31, subsample=0.8; total time=   0.3s\n",
      "[CV 5/5] END learning_rate=0.1, max_depth=1, n_estimators=50, num_leaves=31, subsample=0.8; total time=   0.4s\n",
      "[CV 1/5] END learning_rate=0.1, max_depth=1, n_estimators=50, num_leaves=31, subsample=1; total time=   0.3s\n",
      "[CV 2/5] END learning_rate=0.1, max_depth=1, n_estimators=50, num_leaves=31, subsample=1; total time=   0.4s\n",
      "[CV 3/5] END learning_rate=0.1, max_depth=1, n_estimators=50, num_leaves=31, subsample=1; total time=   0.3s\n",
      "[CV 4/5] END learning_rate=0.1, max_depth=1, n_estimators=50, num_leaves=31, subsample=1; total time=   0.4s\n",
      "[CV 5/5] END learning_rate=0.1, max_depth=1, n_estimators=50, num_leaves=31, subsample=1; total time=   0.3s\n",
      "[CV 1/5] END learning_rate=0.1, max_depth=1, n_estimators=50, num_leaves=63, subsample=0.8; total time=   0.4s\n",
      "[CV 2/5] END learning_rate=0.1, max_depth=1, n_estimators=50, num_leaves=63, subsample=0.8; total time=   0.3s\n",
      "[CV 3/5] END learning_rate=0.1, max_depth=1, n_estimators=50, num_leaves=63, subsample=0.8; total time=   0.4s\n",
      "[CV 4/5] END learning_rate=0.1, max_depth=1, n_estimators=50, num_leaves=63, subsample=0.8; total time=   0.3s\n",
      "[CV 5/5] END learning_rate=0.1, max_depth=1, n_estimators=50, num_leaves=63, subsample=0.8; total time=   0.4s\n",
      "[CV 1/5] END learning_rate=0.1, max_depth=1, n_estimators=50, num_leaves=63, subsample=1; total time=   0.4s\n",
      "[CV 2/5] END learning_rate=0.1, max_depth=1, n_estimators=50, num_leaves=63, subsample=1; total time=   0.3s\n",
      "[CV 3/5] END learning_rate=0.1, max_depth=1, n_estimators=50, num_leaves=63, subsample=1; total time=   0.4s\n",
      "[CV 4/5] END learning_rate=0.1, max_depth=1, n_estimators=50, num_leaves=63, subsample=1; total time=   0.4s\n",
      "[CV 5/5] END learning_rate=0.1, max_depth=1, n_estimators=50, num_leaves=63, subsample=1; total time=   0.4s\n",
      "[CV 1/5] END learning_rate=0.1, max_depth=1, n_estimators=100, num_leaves=31, subsample=0.8; total time=   0.5s\n",
      "[CV 2/5] END learning_rate=0.1, max_depth=1, n_estimators=100, num_leaves=31, subsample=0.8; total time=   0.5s\n",
      "[CV 3/5] END learning_rate=0.1, max_depth=1, n_estimators=100, num_leaves=31, subsample=0.8; total time=   0.5s\n",
      "[CV 4/5] END learning_rate=0.1, max_depth=1, n_estimators=100, num_leaves=31, subsample=0.8; total time=   0.5s\n",
      "[CV 5/5] END learning_rate=0.1, max_depth=1, n_estimators=100, num_leaves=31, subsample=0.8; total time=   0.5s\n",
      "[CV 1/5] END learning_rate=0.1, max_depth=1, n_estimators=100, num_leaves=31, subsample=1; total time=   0.5s\n",
      "[CV 2/5] END learning_rate=0.1, max_depth=1, n_estimators=100, num_leaves=31, subsample=1; total time=   0.5s\n"
     ]
    },
    {
     "name": "stdout",
     "output_type": "stream",
     "text": [
      "[CV 3/5] END learning_rate=0.1, max_depth=1, n_estimators=100, num_leaves=31, subsample=1; total time=   0.5s\n",
      "[CV 4/5] END learning_rate=0.1, max_depth=1, n_estimators=100, num_leaves=31, subsample=1; total time=   0.5s\n",
      "[CV 5/5] END learning_rate=0.1, max_depth=1, n_estimators=100, num_leaves=31, subsample=1; total time=   0.5s\n",
      "[CV 1/5] END learning_rate=0.1, max_depth=1, n_estimators=100, num_leaves=63, subsample=0.8; total time=   0.5s\n",
      "[CV 2/5] END learning_rate=0.1, max_depth=1, n_estimators=100, num_leaves=63, subsample=0.8; total time=   0.6s\n",
      "[CV 3/5] END learning_rate=0.1, max_depth=1, n_estimators=100, num_leaves=63, subsample=0.8; total time=   0.5s\n",
      "[CV 4/5] END learning_rate=0.1, max_depth=1, n_estimators=100, num_leaves=63, subsample=0.8; total time=   0.5s\n",
      "[CV 5/5] END learning_rate=0.1, max_depth=1, n_estimators=100, num_leaves=63, subsample=0.8; total time=   0.6s\n",
      "[CV 1/5] END learning_rate=0.1, max_depth=1, n_estimators=100, num_leaves=63, subsample=1; total time=   0.7s\n",
      "[CV 2/5] END learning_rate=0.1, max_depth=1, n_estimators=100, num_leaves=63, subsample=1; total time=   0.6s\n",
      "[CV 3/5] END learning_rate=0.1, max_depth=1, n_estimators=100, num_leaves=63, subsample=1; total time=   0.5s\n",
      "[CV 4/5] END learning_rate=0.1, max_depth=1, n_estimators=100, num_leaves=63, subsample=1; total time=   0.6s\n",
      "[CV 5/5] END learning_rate=0.1, max_depth=1, n_estimators=100, num_leaves=63, subsample=1; total time=   0.5s\n",
      "[CV 1/5] END learning_rate=0.1, max_depth=3, n_estimators=50, num_leaves=31, subsample=0.8; total time=   0.5s\n",
      "[CV 2/5] END learning_rate=0.1, max_depth=3, n_estimators=50, num_leaves=31, subsample=0.8; total time=   0.5s\n",
      "[CV 3/5] END learning_rate=0.1, max_depth=3, n_estimators=50, num_leaves=31, subsample=0.8; total time=   0.4s\n",
      "[CV 4/5] END learning_rate=0.1, max_depth=3, n_estimators=50, num_leaves=31, subsample=0.8; total time=   0.5s\n",
      "[CV 5/5] END learning_rate=0.1, max_depth=3, n_estimators=50, num_leaves=31, subsample=0.8; total time=   0.5s\n",
      "[CV 1/5] END learning_rate=0.1, max_depth=3, n_estimators=50, num_leaves=31, subsample=1; total time=   0.4s\n",
      "[CV 2/5] END learning_rate=0.1, max_depth=3, n_estimators=50, num_leaves=31, subsample=1; total time=   0.5s\n",
      "[CV 3/5] END learning_rate=0.1, max_depth=3, n_estimators=50, num_leaves=31, subsample=1; total time=   0.5s\n",
      "[CV 4/5] END learning_rate=0.1, max_depth=3, n_estimators=50, num_leaves=31, subsample=1; total time=   0.5s\n",
      "[CV 5/5] END learning_rate=0.1, max_depth=3, n_estimators=50, num_leaves=31, subsample=1; total time=   0.5s\n",
      "[CV 1/5] END learning_rate=0.1, max_depth=3, n_estimators=50, num_leaves=63, subsample=0.8; total time=   0.4s\n",
      "[CV 2/5] END learning_rate=0.1, max_depth=3, n_estimators=50, num_leaves=63, subsample=0.8; total time=   0.5s\n",
      "[CV 3/5] END learning_rate=0.1, max_depth=3, n_estimators=50, num_leaves=63, subsample=0.8; total time=   0.5s\n",
      "[CV 4/5] END learning_rate=0.1, max_depth=3, n_estimators=50, num_leaves=63, subsample=0.8; total time=   0.4s\n",
      "[CV 5/5] END learning_rate=0.1, max_depth=3, n_estimators=50, num_leaves=63, subsample=0.8; total time=   0.5s\n",
      "[CV 1/5] END learning_rate=0.1, max_depth=3, n_estimators=50, num_leaves=63, subsample=1; total time=   0.5s\n",
      "[CV 2/5] END learning_rate=0.1, max_depth=3, n_estimators=50, num_leaves=63, subsample=1; total time=   0.4s\n",
      "[CV 3/5] END learning_rate=0.1, max_depth=3, n_estimators=50, num_leaves=63, subsample=1; total time=   0.5s\n",
      "[CV 4/5] END learning_rate=0.1, max_depth=3, n_estimators=50, num_leaves=63, subsample=1; total time=   0.5s\n",
      "[CV 5/5] END learning_rate=0.1, max_depth=3, n_estimators=50, num_leaves=63, subsample=1; total time=   0.5s\n",
      "[CV 1/5] END learning_rate=0.1, max_depth=3, n_estimators=100, num_leaves=31, subsample=0.8; total time=   0.8s\n",
      "[CV 2/5] END learning_rate=0.1, max_depth=3, n_estimators=100, num_leaves=31, subsample=0.8; total time=   0.7s\n",
      "[CV 3/5] END learning_rate=0.1, max_depth=3, n_estimators=100, num_leaves=31, subsample=0.8; total time=   0.7s\n",
      "[CV 4/5] END learning_rate=0.1, max_depth=3, n_estimators=100, num_leaves=31, subsample=0.8; total time=   0.7s\n",
      "[CV 5/5] END learning_rate=0.1, max_depth=3, n_estimators=100, num_leaves=31, subsample=0.8; total time=   0.8s\n",
      "[CV 1/5] END learning_rate=0.1, max_depth=3, n_estimators=100, num_leaves=31, subsample=1; total time=   0.7s\n",
      "[CV 2/5] END learning_rate=0.1, max_depth=3, n_estimators=100, num_leaves=31, subsample=1; total time=   0.7s\n",
      "[CV 3/5] END learning_rate=0.1, max_depth=3, n_estimators=100, num_leaves=31, subsample=1; total time=   0.8s\n",
      "[CV 4/5] END learning_rate=0.1, max_depth=3, n_estimators=100, num_leaves=31, subsample=1; total time=   0.8s\n",
      "[CV 5/5] END learning_rate=0.1, max_depth=3, n_estimators=100, num_leaves=31, subsample=1; total time=   0.7s\n",
      "[CV 1/5] END learning_rate=0.1, max_depth=3, n_estimators=100, num_leaves=63, subsample=0.8; total time=   0.7s\n",
      "[CV 2/5] END learning_rate=0.1, max_depth=3, n_estimators=100, num_leaves=63, subsample=0.8; total time=   0.7s\n",
      "[CV 3/5] END learning_rate=0.1, max_depth=3, n_estimators=100, num_leaves=63, subsample=0.8; total time=   0.8s\n",
      "[CV 4/5] END learning_rate=0.1, max_depth=3, n_estimators=100, num_leaves=63, subsample=0.8; total time=   0.7s\n",
      "[CV 5/5] END learning_rate=0.1, max_depth=3, n_estimators=100, num_leaves=63, subsample=0.8; total time=   0.7s\n",
      "[CV 1/5] END learning_rate=0.1, max_depth=3, n_estimators=100, num_leaves=63, subsample=1; total time=   0.7s\n",
      "[CV 2/5] END learning_rate=0.1, max_depth=3, n_estimators=100, num_leaves=63, subsample=1; total time=   0.7s\n",
      "[CV 3/5] END learning_rate=0.1, max_depth=3, n_estimators=100, num_leaves=63, subsample=1; total time=   0.7s\n",
      "[CV 4/5] END learning_rate=0.1, max_depth=3, n_estimators=100, num_leaves=63, subsample=1; total time=   0.7s\n",
      "[CV 5/5] END learning_rate=0.1, max_depth=3, n_estimators=100, num_leaves=63, subsample=1; total time=   0.8s\n",
      "[CV 1/5] END learning_rate=0.1, max_depth=12, n_estimators=50, num_leaves=31, subsample=0.8; total time=   0.7s\n",
      "[CV 2/5] END learning_rate=0.1, max_depth=12, n_estimators=50, num_leaves=31, subsample=0.8; total time=   0.7s\n",
      "[CV 3/5] END learning_rate=0.1, max_depth=12, n_estimators=50, num_leaves=31, subsample=0.8; total time=   0.7s\n",
      "[CV 4/5] END learning_rate=0.1, max_depth=12, n_estimators=50, num_leaves=31, subsample=0.8; total time=   0.7s\n",
      "[CV 5/5] END learning_rate=0.1, max_depth=12, n_estimators=50, num_leaves=31, subsample=0.8; total time=   0.8s\n",
      "[CV 1/5] END learning_rate=0.1, max_depth=12, n_estimators=50, num_leaves=31, subsample=1; total time=   0.7s\n",
      "[CV 2/5] END learning_rate=0.1, max_depth=12, n_estimators=50, num_leaves=31, subsample=1; total time=   1.0s\n",
      "[CV 3/5] END learning_rate=0.1, max_depth=12, n_estimators=50, num_leaves=31, subsample=1; total time=   0.7s\n",
      "[CV 4/5] END learning_rate=0.1, max_depth=12, n_estimators=50, num_leaves=31, subsample=1; total time=   0.7s\n",
      "[CV 5/5] END learning_rate=0.1, max_depth=12, n_estimators=50, num_leaves=31, subsample=1; total time=   0.7s\n",
      "[CV 1/5] END learning_rate=0.1, max_depth=12, n_estimators=50, num_leaves=63, subsample=0.8; total time=   0.9s\n",
      "[CV 2/5] END learning_rate=0.1, max_depth=12, n_estimators=50, num_leaves=63, subsample=0.8; total time=   1.1s\n",
      "[CV 3/5] END learning_rate=0.1, max_depth=12, n_estimators=50, num_leaves=63, subsample=0.8; total time=   0.9s\n",
      "[CV 4/5] END learning_rate=0.1, max_depth=12, n_estimators=50, num_leaves=63, subsample=0.8; total time=   0.9s\n",
      "[CV 5/5] END learning_rate=0.1, max_depth=12, n_estimators=50, num_leaves=63, subsample=0.8; total time=   0.9s\n",
      "[CV 1/5] END learning_rate=0.1, max_depth=12, n_estimators=50, num_leaves=63, subsample=1; total time=   0.8s\n",
      "[CV 2/5] END learning_rate=0.1, max_depth=12, n_estimators=50, num_leaves=63, subsample=1; total time=   1.0s\n",
      "[CV 3/5] END learning_rate=0.1, max_depth=12, n_estimators=50, num_leaves=63, subsample=1; total time=   1.0s\n",
      "[CV 4/5] END learning_rate=0.1, max_depth=12, n_estimators=50, num_leaves=63, subsample=1; total time=   1.0s\n",
      "[CV 5/5] END learning_rate=0.1, max_depth=12, n_estimators=50, num_leaves=63, subsample=1; total time=   0.9s\n",
      "[CV 1/5] END learning_rate=0.1, max_depth=12, n_estimators=100, num_leaves=31, subsample=0.8; total time=   1.3s\n"
     ]
    },
    {
     "name": "stdout",
     "output_type": "stream",
     "text": [
      "[CV 2/5] END learning_rate=0.1, max_depth=12, n_estimators=100, num_leaves=31, subsample=0.8; total time=   1.2s\n",
      "[CV 3/5] END learning_rate=0.1, max_depth=12, n_estimators=100, num_leaves=31, subsample=0.8; total time=   2.3s\n",
      "[CV 4/5] END learning_rate=0.1, max_depth=12, n_estimators=100, num_leaves=31, subsample=0.8; total time=   1.1s\n",
      "[CV 5/5] END learning_rate=0.1, max_depth=12, n_estimators=100, num_leaves=31, subsample=0.8; total time=   1.3s\n",
      "[CV 1/5] END learning_rate=0.1, max_depth=12, n_estimators=100, num_leaves=31, subsample=1; total time=   1.3s\n",
      "[CV 2/5] END learning_rate=0.1, max_depth=12, n_estimators=100, num_leaves=31, subsample=1; total time=   1.1s\n",
      "[CV 3/5] END learning_rate=0.1, max_depth=12, n_estimators=100, num_leaves=31, subsample=1; total time=   1.4s\n",
      "[CV 4/5] END learning_rate=0.1, max_depth=12, n_estimators=100, num_leaves=31, subsample=1; total time=   1.3s\n",
      "[CV 5/5] END learning_rate=0.1, max_depth=12, n_estimators=100, num_leaves=31, subsample=1; total time=   1.1s\n",
      "[CV 1/5] END learning_rate=0.1, max_depth=12, n_estimators=100, num_leaves=63, subsample=0.8; total time=   1.5s\n",
      "[CV 2/5] END learning_rate=0.1, max_depth=12, n_estimators=100, num_leaves=63, subsample=0.8; total time=   1.5s\n",
      "[CV 3/5] END learning_rate=0.1, max_depth=12, n_estimators=100, num_leaves=63, subsample=0.8; total time=   1.8s\n",
      "[CV 4/5] END learning_rate=0.1, max_depth=12, n_estimators=100, num_leaves=63, subsample=0.8; total time=   1.5s\n",
      "[CV 5/5] END learning_rate=0.1, max_depth=12, n_estimators=100, num_leaves=63, subsample=0.8; total time=   1.6s\n",
      "[CV 1/5] END learning_rate=0.1, max_depth=12, n_estimators=100, num_leaves=63, subsample=1; total time=   1.4s\n",
      "[CV 2/5] END learning_rate=0.1, max_depth=12, n_estimators=100, num_leaves=63, subsample=1; total time=   1.4s\n",
      "[CV 3/5] END learning_rate=0.1, max_depth=12, n_estimators=100, num_leaves=63, subsample=1; total time=   1.5s\n",
      "[CV 4/5] END learning_rate=0.1, max_depth=12, n_estimators=100, num_leaves=63, subsample=1; total time=   1.4s\n",
      "[CV 5/5] END learning_rate=0.1, max_depth=12, n_estimators=100, num_leaves=63, subsample=1; total time=   1.7s\n",
      "RMSE: 2143.8576132850567\n",
      "Test RMSE: 2121.5609175572217\n",
      "Training time: 1.5945460796356201\n",
      "Prediction time: 0.20604872703552246\n"
     ]
    }
   ],
   "source": [
    "#LightGBM\n",
    "\n",
    "#Define the parameter grid\n",
    "param_grid_lgbm = {'n_estimators': [50, 100],\n",
    "            'max_depth' : [1, 3, 12],\n",
    "            'num_leaves': [31, 63],\n",
    "            'subsample': [0.8, 1],\n",
    "            'learning_rate': [0.05, 0.1]\n",
    "   }\n",
    "\n",
    "\n",
    "#Create model\n",
    "lgbm_model = lgb.LGBMRegressor(random_state= 101, n_jobs = -1)\n",
    "\n",
    "#Define RandomSearchCV with the custom scorer\n",
    "lgbm_grid = GridSearchCV(lgbm_model, param_grid = param_grid_lgbm, scoring = rmse_scorer, \n",
    "                                  cv = KFold(n_splits = 5, shuffle = True, random_state = 101), verbose = 3)\n",
    "\n",
    "#Perform grid search\n",
    "lgbm_grid.fit(X_encoded_train, y_encoded_train)\n",
    "\n",
    "#Get the best fitted model and measure training time\n",
    "best_lgbm_model = lgbm_grid.best_estimator_\n",
    "start_training_time_lgbm = time.time()\n",
    "best_lgbm_model.fit(X_encoded_train, y_encoded_train)\n",
    "training_time_lgbm = time.time() - start_training_time_lgbm\n",
    "\n",
    "#Measure prediction time on test data\n",
    "start_prediction_time_lgbm = time.time()\n",
    "predictions_lgbm = best_lgbm_model.predict(X_encoded_test)\n",
    "prediction_time_lgbm = time.time() - start_prediction_time_lgbm\n",
    "\n",
    "# Evaluate the model on the test set\n",
    "test_rmse_lgbm = np.sqrt(mean_squared_error(y_encoded_test, predictions_lgbm))\n",
    "\n",
    "#Perform cross-validation with the best estimator and custom scorer\n",
    "scores_lgbm = cross_val_score(best_lgbm_model, X_encoded_train, y_encoded_train, cv=5, scoring=rmse_scorer)\n",
    "\n",
    "#Print the cross-validation scores\n",
    "print(\"RMSE:\", np.abs(scores_lgbm.mean()))\n",
    "print(\"Test RMSE:\", test_rmse_lgbm)\n",
    "\n",
    "# Print the training results\n",
    "print(\"Training time:\", training_time_lgbm)\n",
    "print(\"Prediction time:\", prediction_time_lgbm)"
   ]
  },
  {
   "cell_type": "code",
   "execution_count": 44,
   "metadata": {},
   "outputs": [
    {
     "name": "stderr",
     "output_type": "stream",
     "text": [
      "/opt/conda/envs/python3/lib/python3.9/site-packages/sklearn/model_selection/_search.py:285: UserWarning: The total space of parameters 4 is smaller than n_iter=10. Running 4 iterations. For exhaustive searches, use GridSearchCV.\n",
      "  warnings.warn(\n"
     ]
    },
    {
     "name": "stdout",
     "output_type": "stream",
     "text": [
      "Fitting 3 folds for each of 4 candidates, totalling 12 fits\n",
      "0:\tlearn: 4907.5820528\ttotal: 16ms\tremaining: 1.59s\n",
      "1:\tlearn: 4759.7916982\ttotal: 28.8ms\tremaining: 1.41s\n",
      "2:\tlearn: 4622.4132854\ttotal: 41.5ms\tremaining: 1.34s\n",
      "3:\tlearn: 4491.2129328\ttotal: 54.3ms\tremaining: 1.3s\n",
      "4:\tlearn: 4373.1343741\ttotal: 68.6ms\tremaining: 1.3s\n",
      "5:\tlearn: 4259.3892062\ttotal: 82.6ms\tremaining: 1.29s\n",
      "6:\tlearn: 4152.3190100\ttotal: 95.3ms\tremaining: 1.27s\n",
      "7:\tlearn: 4049.7767861\ttotal: 108ms\tremaining: 1.25s\n",
      "8:\tlearn: 3954.9379005\ttotal: 124ms\tremaining: 1.25s\n",
      "9:\tlearn: 3867.5158118\ttotal: 137ms\tremaining: 1.23s\n",
      "10:\tlearn: 3783.8650423\ttotal: 150ms\tremaining: 1.21s\n",
      "11:\tlearn: 3703.3993647\ttotal: 164ms\tremaining: 1.2s\n",
      "12:\tlearn: 3630.4999047\ttotal: 176ms\tremaining: 1.18s\n",
      "13:\tlearn: 3560.3648844\ttotal: 189ms\tremaining: 1.16s\n",
      "14:\tlearn: 3495.0566435\ttotal: 202ms\tremaining: 1.14s\n",
      "15:\tlearn: 3433.8583252\ttotal: 215ms\tremaining: 1.13s\n",
      "16:\tlearn: 3376.9943681\ttotal: 228ms\tremaining: 1.11s\n",
      "17:\tlearn: 3325.6039139\ttotal: 240ms\tremaining: 1.09s\n",
      "18:\tlearn: 3276.6745788\ttotal: 253ms\tremaining: 1.08s\n",
      "19:\tlearn: 3229.4200649\ttotal: 266ms\tremaining: 1.06s\n",
      "20:\tlearn: 3187.1301659\ttotal: 279ms\tremaining: 1.05s\n",
      "21:\tlearn: 3146.3559401\ttotal: 293ms\tremaining: 1.04s\n",
      "22:\tlearn: 3108.6740096\ttotal: 306ms\tremaining: 1.02s\n",
      "23:\tlearn: 3073.2784558\ttotal: 319ms\tremaining: 1.01s\n",
      "24:\tlearn: 3031.8113937\ttotal: 333ms\tremaining: 998ms\n",
      "25:\tlearn: 2990.3193013\ttotal: 346ms\tremaining: 984ms\n",
      "26:\tlearn: 2952.3675793\ttotal: 358ms\tremaining: 969ms\n",
      "27:\tlearn: 2917.0354966\ttotal: 375ms\tremaining: 964ms\n",
      "28:\tlearn: 2885.1768141\ttotal: 388ms\tremaining: 949ms\n",
      "29:\tlearn: 2856.5558124\ttotal: 401ms\tremaining: 935ms\n",
      "30:\tlearn: 2828.6517607\ttotal: 413ms\tremaining: 920ms\n",
      "31:\tlearn: 2804.1068379\ttotal: 426ms\tremaining: 905ms\n",
      "32:\tlearn: 2779.1404913\ttotal: 438ms\tremaining: 890ms\n",
      "33:\tlearn: 2757.0631478\ttotal: 451ms\tremaining: 876ms\n",
      "34:\tlearn: 2737.0231056\ttotal: 464ms\tremaining: 862ms\n",
      "35:\tlearn: 2716.0614188\ttotal: 476ms\tremaining: 847ms\n",
      "36:\tlearn: 2697.3252678\ttotal: 489ms\tremaining: 832ms\n",
      "37:\tlearn: 2678.7694800\ttotal: 502ms\tremaining: 819ms\n",
      "38:\tlearn: 2661.4994789\ttotal: 514ms\tremaining: 805ms\n",
      "39:\tlearn: 2644.9150220\ttotal: 527ms\tremaining: 790ms\n",
      "40:\tlearn: 2628.3534427\ttotal: 540ms\tremaining: 777ms\n",
      "41:\tlearn: 2614.3954788\ttotal: 553ms\tremaining: 763ms\n",
      "42:\tlearn: 2599.4160010\ttotal: 565ms\tremaining: 750ms\n",
      "43:\tlearn: 2582.3873546\ttotal: 579ms\tremaining: 737ms\n",
      "44:\tlearn: 2566.5425311\ttotal: 592ms\tremaining: 724ms\n",
      "45:\tlearn: 2552.3252901\ttotal: 605ms\tremaining: 710ms\n",
      "46:\tlearn: 2538.9082733\ttotal: 617ms\tremaining: 696ms\n",
      "47:\tlearn: 2526.9193590\ttotal: 631ms\tremaining: 683ms\n",
      "48:\tlearn: 2515.2883661\ttotal: 644ms\tremaining: 671ms\n",
      "49:\tlearn: 2503.8189584\ttotal: 657ms\tremaining: 657ms\n",
      "50:\tlearn: 2492.4782563\ttotal: 671ms\tremaining: 644ms\n",
      "51:\tlearn: 2482.4624363\ttotal: 684ms\tremaining: 631ms\n",
      "52:\tlearn: 2472.5210388\ttotal: 697ms\tremaining: 618ms\n",
      "53:\tlearn: 2463.4730139\ttotal: 710ms\tremaining: 605ms\n",
      "54:\tlearn: 2454.1786412\ttotal: 722ms\tremaining: 591ms\n",
      "55:\tlearn: 2446.4877614\ttotal: 736ms\tremaining: 578ms\n",
      "56:\tlearn: 2439.1800337\ttotal: 749ms\tremaining: 565ms\n",
      "57:\tlearn: 2431.2895572\ttotal: 767ms\tremaining: 555ms\n",
      "58:\tlearn: 2423.9444716\ttotal: 780ms\tremaining: 542ms\n",
      "59:\tlearn: 2417.2678931\ttotal: 794ms\tremaining: 529ms\n",
      "60:\tlearn: 2411.7649186\ttotal: 807ms\tremaining: 516ms\n",
      "61:\tlearn: 2405.4038945\ttotal: 820ms\tremaining: 503ms\n",
      "62:\tlearn: 2398.5303203\ttotal: 834ms\tremaining: 490ms\n",
      "63:\tlearn: 2392.8249524\ttotal: 848ms\tremaining: 477ms\n",
      "64:\tlearn: 2387.7613713\ttotal: 861ms\tremaining: 464ms\n",
      "65:\tlearn: 2383.1716042\ttotal: 874ms\tremaining: 450ms\n",
      "66:\tlearn: 2378.3403999\ttotal: 887ms\tremaining: 437ms\n",
      "67:\tlearn: 2373.0675302\ttotal: 900ms\tremaining: 424ms\n",
      "68:\tlearn: 2368.7330280\ttotal: 914ms\tremaining: 411ms\n",
      "69:\tlearn: 2363.7319184\ttotal: 928ms\tremaining: 398ms\n",
      "70:\tlearn: 2358.8502738\ttotal: 941ms\tremaining: 384ms\n",
      "71:\tlearn: 2354.1880032\ttotal: 954ms\tremaining: 371ms\n",
      "72:\tlearn: 2350.5956137\ttotal: 971ms\tremaining: 359ms\n",
      "73:\tlearn: 2346.2990186\ttotal: 984ms\tremaining: 346ms\n",
      "74:\tlearn: 2342.1532111\ttotal: 998ms\tremaining: 333ms\n",
      "75:\tlearn: 2338.1720953\ttotal: 1.01s\tremaining: 319ms\n",
      "76:\tlearn: 2334.4168769\ttotal: 1.02s\tremaining: 306ms\n",
      "77:\tlearn: 2331.1029439\ttotal: 1.04s\tremaining: 293ms\n",
      "78:\tlearn: 2327.3437645\ttotal: 1.05s\tremaining: 279ms\n",
      "79:\tlearn: 2324.0450802\ttotal: 1.06s\tremaining: 266ms\n",
      "80:\tlearn: 2321.3693086\ttotal: 1.08s\tremaining: 253ms\n",
      "81:\tlearn: 2317.7110080\ttotal: 1.09s\tremaining: 240ms\n",
      "82:\tlearn: 2315.2267395\ttotal: 1.1s\tremaining: 226ms\n",
      "83:\tlearn: 2312.5333422\ttotal: 1.12s\tremaining: 213ms\n",
      "84:\tlearn: 2309.8491689\ttotal: 1.13s\tremaining: 200ms\n",
      "85:\tlearn: 2307.1141601\ttotal: 1.15s\tremaining: 186ms\n",
      "86:\tlearn: 2304.2658941\ttotal: 1.16s\tremaining: 173ms\n",
      "87:\tlearn: 2300.7846844\ttotal: 1.18s\tremaining: 160ms\n",
      "88:\tlearn: 2298.4046842\ttotal: 1.19s\tremaining: 147ms\n",
      "89:\tlearn: 2295.9464028\ttotal: 1.2s\tremaining: 134ms\n",
      "90:\tlearn: 2293.7242100\ttotal: 1.22s\tremaining: 120ms\n",
      "91:\tlearn: 2291.4083502\ttotal: 1.23s\tremaining: 107ms\n",
      "92:\tlearn: 2289.1063536\ttotal: 1.24s\tremaining: 93.6ms\n",
      "93:\tlearn: 2286.9772142\ttotal: 1.26s\tremaining: 80.2ms\n",
      "94:\tlearn: 2285.2246064\ttotal: 1.27s\tremaining: 66.8ms\n",
      "95:\tlearn: 2282.9357422\ttotal: 1.28s\tremaining: 53.5ms\n",
      "96:\tlearn: 2281.2778103\ttotal: 1.3s\tremaining: 40.1ms\n",
      "97:\tlearn: 2279.0681438\ttotal: 1.31s\tremaining: 26.7ms\n",
      "98:\tlearn: 2277.3412669\ttotal: 1.32s\tremaining: 13.4ms\n",
      "99:\tlearn: 2275.6028490\ttotal: 1.34s\tremaining: 0us\n",
      "0:\tlearn: 4888.4061994\ttotal: 16.9ms\tremaining: 1.67s\n",
      "1:\tlearn: 4740.7847922\ttotal: 30.5ms\tremaining: 1.49s\n",
      "2:\tlearn: 4604.9271666\ttotal: 43.6ms\tremaining: 1.41s\n",
      "3:\tlearn: 4476.7748460\ttotal: 56.9ms\tremaining: 1.36s\n",
      "4:\tlearn: 4357.4054129\ttotal: 71.4ms\tremaining: 1.36s\n",
      "5:\tlearn: 4243.5602795\ttotal: 85ms\tremaining: 1.33s\n",
      "6:\tlearn: 4136.9920553\ttotal: 97.8ms\tremaining: 1.3s\n",
      "7:\tlearn: 4038.3219576\ttotal: 111ms\tremaining: 1.27s\n",
      "8:\tlearn: 3945.5603036\ttotal: 127ms\tremaining: 1.28s\n",
      "9:\tlearn: 3858.5919525\ttotal: 140ms\tremaining: 1.26s\n",
      "10:\tlearn: 3775.3485914\ttotal: 153ms\tremaining: 1.24s\n",
      "11:\tlearn: 3698.3392430\ttotal: 166ms\tremaining: 1.22s\n",
      "12:\tlearn: 3623.0505780\ttotal: 180ms\tremaining: 1.2s\n",
      "13:\tlearn: 3551.6590967\ttotal: 194ms\tremaining: 1.19s\n",
      "14:\tlearn: 3491.7956492\ttotal: 207ms\tremaining: 1.17s\n",
      "15:\tlearn: 3433.1505557\ttotal: 221ms\tremaining: 1.16s\n",
      "16:\tlearn: 3375.9690323\ttotal: 234ms\tremaining: 1.14s\n",
      "17:\tlearn: 3321.1689125\ttotal: 253ms\tremaining: 1.15s\n",
      "18:\tlearn: 3271.4550617\ttotal: 266ms\tremaining: 1.13s\n",
      "19:\tlearn: 3227.0352799\ttotal: 278ms\tremaining: 1.11s\n",
      "20:\tlearn: 3183.5062712\ttotal: 292ms\tremaining: 1.1s\n",
      "21:\tlearn: 3136.4422012\ttotal: 305ms\tremaining: 1.08s\n",
      "22:\tlearn: 3092.9712493\ttotal: 318ms\tremaining: 1.06s\n",
      "23:\tlearn: 3053.4640605\ttotal: 331ms\tremaining: 1.05s\n",
      "24:\tlearn: 3016.1295444\ttotal: 343ms\tremaining: 1.03s\n",
      "25:\tlearn: 2980.2861292\ttotal: 357ms\tremaining: 1.01s\n",
      "26:\tlearn: 2948.4076934\ttotal: 370ms\tremaining: 999ms\n",
      "27:\tlearn: 2918.8654596\ttotal: 383ms\tremaining: 984ms\n",
      "28:\tlearn: 2890.2933517\ttotal: 396ms\tremaining: 969ms\n",
      "29:\tlearn: 2864.5722313\ttotal: 408ms\tremaining: 952ms\n",
      "30:\tlearn: 2839.5016021\ttotal: 420ms\tremaining: 935ms\n",
      "31:\tlearn: 2816.2322740\ttotal: 433ms\tremaining: 920ms\n",
      "32:\tlearn: 2793.5613107\ttotal: 450ms\tremaining: 913ms\n",
      "33:\tlearn: 2772.4883643\ttotal: 462ms\tremaining: 897ms\n",
      "34:\tlearn: 2753.2072247\ttotal: 475ms\tremaining: 882ms\n",
      "35:\tlearn: 2733.4265206\ttotal: 488ms\tremaining: 867ms\n",
      "36:\tlearn: 2715.8990783\ttotal: 501ms\tremaining: 853ms\n",
      "37:\tlearn: 2699.4162380\ttotal: 514ms\tremaining: 839ms\n",
      "38:\tlearn: 2682.7194457\ttotal: 527ms\tremaining: 825ms\n",
      "39:\tlearn: 2663.6173681\ttotal: 540ms\tremaining: 809ms\n",
      "40:\tlearn: 2645.9650256\ttotal: 552ms\tremaining: 794ms\n",
      "41:\tlearn: 2629.7385644\ttotal: 565ms\tremaining: 780ms\n",
      "42:\tlearn: 2614.4515661\ttotal: 577ms\tremaining: 765ms\n",
      "43:\tlearn: 2601.2204072\ttotal: 589ms\tremaining: 750ms\n",
      "44:\tlearn: 2584.2657430\ttotal: 603ms\tremaining: 736ms\n",
      "45:\tlearn: 2569.0848919\ttotal: 615ms\tremaining: 722ms\n",
      "46:\tlearn: 2554.5485017\ttotal: 628ms\tremaining: 708ms\n",
      "47:\tlearn: 2541.3630541\ttotal: 645ms\tremaining: 698ms\n",
      "48:\tlearn: 2528.7191186\ttotal: 658ms\tremaining: 684ms\n",
      "49:\tlearn: 2517.8987671\ttotal: 670ms\tremaining: 670ms\n",
      "50:\tlearn: 2507.0537595\ttotal: 683ms\tremaining: 656ms\n",
      "51:\tlearn: 2496.7501088\ttotal: 695ms\tremaining: 642ms\n",
      "52:\tlearn: 2487.2648078\ttotal: 708ms\tremaining: 628ms\n",
      "53:\tlearn: 2477.1235004\ttotal: 721ms\tremaining: 614ms\n",
      "54:\tlearn: 2467.9881293\ttotal: 734ms\tremaining: 600ms\n",
      "55:\tlearn: 2459.1385703\ttotal: 747ms\tremaining: 587ms\n",
      "56:\tlearn: 2451.3899485\ttotal: 760ms\tremaining: 573ms\n",
      "57:\tlearn: 2444.0891867\ttotal: 772ms\tremaining: 559ms\n",
      "58:\tlearn: 2436.2441238\ttotal: 784ms\tremaining: 545ms\n",
      "59:\tlearn: 2429.1381368\ttotal: 797ms\tremaining: 531ms\n",
      "60:\tlearn: 2422.8568894\ttotal: 809ms\tremaining: 517ms\n",
      "61:\tlearn: 2416.8123481\ttotal: 822ms\tremaining: 504ms\n"
     ]
    },
    {
     "name": "stdout",
     "output_type": "stream",
     "text": [
      "62:\tlearn: 2411.1639144\ttotal: 835ms\tremaining: 490ms\n",
      "63:\tlearn: 2405.0802187\ttotal: 848ms\tremaining: 477ms\n",
      "64:\tlearn: 2398.6962158\ttotal: 860ms\tremaining: 463ms\n",
      "65:\tlearn: 2393.0709719\ttotal: 873ms\tremaining: 450ms\n",
      "66:\tlearn: 2388.3735911\ttotal: 886ms\tremaining: 436ms\n",
      "67:\tlearn: 2383.3896233\ttotal: 899ms\tremaining: 423ms\n",
      "68:\tlearn: 2378.1716205\ttotal: 912ms\tremaining: 410ms\n",
      "69:\tlearn: 2373.8547921\ttotal: 925ms\tremaining: 396ms\n",
      "70:\tlearn: 2368.9297576\ttotal: 937ms\tremaining: 383ms\n",
      "71:\tlearn: 2364.2975249\ttotal: 950ms\tremaining: 369ms\n",
      "72:\tlearn: 2359.7773957\ttotal: 962ms\tremaining: 356ms\n",
      "73:\tlearn: 2355.6931610\ttotal: 975ms\tremaining: 342ms\n",
      "74:\tlearn: 2352.2592611\ttotal: 987ms\tremaining: 329ms\n",
      "75:\tlearn: 2349.0232886\ttotal: 999ms\tremaining: 315ms\n",
      "76:\tlearn: 2346.0102439\ttotal: 1.01s\tremaining: 302ms\n",
      "77:\tlearn: 2342.6338845\ttotal: 1.02s\tremaining: 289ms\n",
      "78:\tlearn: 2339.5526731\ttotal: 1.03s\tremaining: 275ms\n",
      "79:\tlearn: 2336.2667697\ttotal: 1.05s\tremaining: 262ms\n",
      "80:\tlearn: 2333.0667671\ttotal: 1.06s\tremaining: 249ms\n",
      "81:\tlearn: 2329.7530121\ttotal: 1.07s\tremaining: 235ms\n",
      "82:\tlearn: 2326.5456407\ttotal: 1.08s\tremaining: 222ms\n",
      "83:\tlearn: 2323.8659055\ttotal: 1.1s\tremaining: 209ms\n",
      "84:\tlearn: 2320.9095158\ttotal: 1.11s\tremaining: 196ms\n",
      "85:\tlearn: 2317.6722776\ttotal: 1.12s\tremaining: 183ms\n",
      "86:\tlearn: 2314.6759168\ttotal: 1.14s\tremaining: 170ms\n",
      "87:\tlearn: 2311.9433839\ttotal: 1.15s\tremaining: 157ms\n",
      "88:\tlearn: 2309.2696582\ttotal: 1.16s\tremaining: 144ms\n",
      "89:\tlearn: 2306.3989306\ttotal: 1.18s\tremaining: 131ms\n",
      "90:\tlearn: 2304.3717977\ttotal: 1.19s\tremaining: 118ms\n",
      "91:\tlearn: 2301.3217409\ttotal: 1.2s\tremaining: 105ms\n",
      "92:\tlearn: 2299.2384612\ttotal: 1.22s\tremaining: 91.6ms\n",
      "93:\tlearn: 2296.8314201\ttotal: 1.23s\tremaining: 78.5ms\n",
      "94:\tlearn: 2294.2346479\ttotal: 1.24s\tremaining: 65.5ms\n",
      "95:\tlearn: 2291.8121311\ttotal: 1.26s\tremaining: 52.4ms\n",
      "96:\tlearn: 2289.5056956\ttotal: 1.27s\tremaining: 39.3ms\n",
      "97:\tlearn: 2287.0270558\ttotal: 1.28s\tremaining: 26.2ms\n",
      "98:\tlearn: 2285.3192033\ttotal: 1.3s\tremaining: 13.1ms\n",
      "99:\tlearn: 2283.7520633\ttotal: 1.31s\tremaining: 0us\n",
      "0:\tlearn: 4899.5332979\ttotal: 16.4ms\tremaining: 1.63s\n",
      "1:\tlearn: 4751.5497198\ttotal: 32.1ms\tremaining: 1.57s\n",
      "2:\tlearn: 4612.0910909\ttotal: 50.1ms\tremaining: 1.62s\n",
      "3:\tlearn: 4483.2826142\ttotal: 65.6ms\tremaining: 1.57s\n",
      "4:\tlearn: 4362.7474303\ttotal: 84.5ms\tremaining: 1.61s\n",
      "5:\tlearn: 4250.6078460\ttotal: 99.5ms\tremaining: 1.56s\n",
      "6:\tlearn: 4145.8181070\ttotal: 112ms\tremaining: 1.49s\n",
      "7:\tlearn: 4045.4845349\ttotal: 125ms\tremaining: 1.44s\n",
      "8:\tlearn: 3950.1888080\ttotal: 138ms\tremaining: 1.39s\n",
      "9:\tlearn: 3864.6601235\ttotal: 151ms\tremaining: 1.36s\n",
      "10:\tlearn: 3782.9601686\ttotal: 164ms\tremaining: 1.32s\n",
      "11:\tlearn: 3705.6512800\ttotal: 177ms\tremaining: 1.3s\n",
      "12:\tlearn: 3635.6433130\ttotal: 190ms\tremaining: 1.27s\n",
      "13:\tlearn: 3568.8924171\ttotal: 202ms\tremaining: 1.24s\n",
      "14:\tlearn: 3503.2587633\ttotal: 215ms\tremaining: 1.22s\n",
      "15:\tlearn: 3441.4763707\ttotal: 229ms\tremaining: 1.2s\n",
      "16:\tlearn: 3386.3962848\ttotal: 242ms\tremaining: 1.18s\n",
      "17:\tlearn: 3332.0245420\ttotal: 255ms\tremaining: 1.16s\n",
      "18:\tlearn: 3282.5314268\ttotal: 268ms\tremaining: 1.14s\n",
      "19:\tlearn: 3238.2379517\ttotal: 280ms\tremaining: 1.12s\n",
      "20:\tlearn: 3193.0624962\ttotal: 294ms\tremaining: 1.1s\n",
      "21:\tlearn: 3147.1870774\ttotal: 308ms\tremaining: 1.09s\n",
      "22:\tlearn: 3110.2037506\ttotal: 322ms\tremaining: 1.08s\n",
      "23:\tlearn: 3070.7685160\ttotal: 335ms\tremaining: 1.06s\n",
      "24:\tlearn: 3034.2744455\ttotal: 347ms\tremaining: 1.04s\n",
      "25:\tlearn: 2999.0991477\ttotal: 360ms\tremaining: 1.02s\n",
      "26:\tlearn: 2966.1478850\ttotal: 373ms\tremaining: 1.01s\n",
      "27:\tlearn: 2935.0641258\ttotal: 388ms\tremaining: 999ms\n",
      "28:\tlearn: 2905.4006276\ttotal: 403ms\tremaining: 986ms\n",
      "29:\tlearn: 2877.9847793\ttotal: 416ms\tremaining: 971ms\n",
      "30:\tlearn: 2851.9226579\ttotal: 430ms\tremaining: 956ms\n",
      "31:\tlearn: 2831.9771087\ttotal: 443ms\tremaining: 941ms\n",
      "32:\tlearn: 2809.6085944\ttotal: 456ms\tremaining: 925ms\n",
      "33:\tlearn: 2790.8301030\ttotal: 469ms\tremaining: 910ms\n",
      "34:\tlearn: 2769.6511848\ttotal: 481ms\tremaining: 894ms\n",
      "35:\tlearn: 2750.2950339\ttotal: 494ms\tremaining: 878ms\n",
      "36:\tlearn: 2734.3545225\ttotal: 507ms\tremaining: 863ms\n",
      "37:\tlearn: 2714.5927431\ttotal: 520ms\tremaining: 848ms\n",
      "38:\tlearn: 2696.9039070\ttotal: 532ms\tremaining: 832ms\n",
      "39:\tlearn: 2677.3483765\ttotal: 545ms\tremaining: 817ms\n",
      "40:\tlearn: 2659.9323567\ttotal: 557ms\tremaining: 802ms\n",
      "41:\tlearn: 2645.1198294\ttotal: 570ms\tremaining: 788ms\n",
      "42:\tlearn: 2630.2648391\ttotal: 584ms\tremaining: 774ms\n",
      "43:\tlearn: 2617.0617201\ttotal: 597ms\tremaining: 759ms\n",
      "44:\tlearn: 2603.0972810\ttotal: 609ms\tremaining: 745ms\n",
      "45:\tlearn: 2587.2604976\ttotal: 623ms\tremaining: 731ms\n",
      "46:\tlearn: 2572.5702739\ttotal: 636ms\tremaining: 717ms\n",
      "47:\tlearn: 2558.7408572\ttotal: 654ms\tremaining: 708ms\n",
      "48:\tlearn: 2545.9168008\ttotal: 666ms\tremaining: 694ms\n",
      "49:\tlearn: 2534.3746415\ttotal: 680ms\tremaining: 680ms\n",
      "50:\tlearn: 2522.4257293\ttotal: 694ms\tremaining: 666ms\n",
      "51:\tlearn: 2510.1381881\ttotal: 707ms\tremaining: 653ms\n",
      "52:\tlearn: 2499.6270979\ttotal: 721ms\tremaining: 639ms\n",
      "53:\tlearn: 2489.9422570\ttotal: 734ms\tremaining: 625ms\n",
      "54:\tlearn: 2479.7036166\ttotal: 748ms\tremaining: 612ms\n",
      "55:\tlearn: 2471.2137348\ttotal: 761ms\tremaining: 598ms\n",
      "56:\tlearn: 2462.5833494\ttotal: 774ms\tremaining: 584ms\n",
      "57:\tlearn: 2453.9596854\ttotal: 786ms\tremaining: 569ms\n",
      "58:\tlearn: 2447.2863603\ttotal: 799ms\tremaining: 555ms\n",
      "59:\tlearn: 2439.3117086\ttotal: 811ms\tremaining: 541ms\n",
      "60:\tlearn: 2431.8295533\ttotal: 824ms\tremaining: 527ms\n",
      "61:\tlearn: 2425.5610338\ttotal: 838ms\tremaining: 513ms\n",
      "62:\tlearn: 2419.5401920\ttotal: 853ms\tremaining: 501ms\n",
      "63:\tlearn: 2413.2363821\ttotal: 866ms\tremaining: 487ms\n",
      "64:\tlearn: 2407.5127894\ttotal: 878ms\tremaining: 473ms\n",
      "65:\tlearn: 2401.8888777\ttotal: 891ms\tremaining: 459ms\n",
      "66:\tlearn: 2396.9517208\ttotal: 904ms\tremaining: 445ms\n",
      "67:\tlearn: 2392.0158854\ttotal: 916ms\tremaining: 431ms\n",
      "68:\tlearn: 2386.5367423\ttotal: 929ms\tremaining: 417ms\n",
      "69:\tlearn: 2381.9719222\ttotal: 941ms\tremaining: 403ms\n",
      "70:\tlearn: 2377.7400154\ttotal: 954ms\tremaining: 390ms\n",
      "71:\tlearn: 2373.0736748\ttotal: 967ms\tremaining: 376ms\n",
      "72:\tlearn: 2368.0720275\ttotal: 979ms\tremaining: 362ms\n",
      "73:\tlearn: 2363.5935825\ttotal: 992ms\tremaining: 349ms\n",
      "74:\tlearn: 2360.2623317\ttotal: 1s\tremaining: 335ms\n",
      "75:\tlearn: 2356.7257818\ttotal: 1.02s\tremaining: 321ms\n",
      "76:\tlearn: 2352.6080203\ttotal: 1.03s\tremaining: 307ms\n",
      "77:\tlearn: 2348.6930101\ttotal: 1.04s\tremaining: 294ms\n",
      "78:\tlearn: 2345.0818686\ttotal: 1.05s\tremaining: 280ms\n",
      "79:\tlearn: 2341.5023418\ttotal: 1.07s\tremaining: 267ms\n",
      "80:\tlearn: 2337.8858274\ttotal: 1.08s\tremaining: 253ms\n",
      "81:\tlearn: 2334.5043118\ttotal: 1.09s\tremaining: 240ms\n",
      "82:\tlearn: 2331.5926826\ttotal: 1.1s\tremaining: 226ms\n",
      "83:\tlearn: 2328.9148120\ttotal: 1.12s\tremaining: 213ms\n",
      "84:\tlearn: 2326.1646042\ttotal: 1.13s\tremaining: 199ms\n",
      "85:\tlearn: 2323.2263908\ttotal: 1.14s\tremaining: 186ms\n",
      "86:\tlearn: 2320.4299867\ttotal: 1.15s\tremaining: 172ms\n",
      "87:\tlearn: 2317.7765790\ttotal: 1.17s\tremaining: 159ms\n",
      "88:\tlearn: 2314.5614909\ttotal: 1.18s\tremaining: 146ms\n",
      "89:\tlearn: 2312.2423158\ttotal: 1.19s\tremaining: 132ms\n",
      "90:\tlearn: 2310.2239046\ttotal: 1.2s\tremaining: 119ms\n",
      "91:\tlearn: 2308.2515396\ttotal: 1.22s\tremaining: 106ms\n",
      "92:\tlearn: 2305.8184562\ttotal: 1.23s\tremaining: 92.7ms\n",
      "93:\tlearn: 2303.2958866\ttotal: 1.25s\tremaining: 79.5ms\n",
      "94:\tlearn: 2300.8616624\ttotal: 1.26s\tremaining: 66.3ms\n",
      "95:\tlearn: 2297.7570271\ttotal: 1.27s\tremaining: 53ms\n",
      "96:\tlearn: 2295.5627238\ttotal: 1.28s\tremaining: 39.7ms\n",
      "97:\tlearn: 2293.8810990\ttotal: 1.3s\tremaining: 26.5ms\n",
      "98:\tlearn: 2291.6578142\ttotal: 1.31s\tremaining: 13.3ms\n",
      "99:\tlearn: 2289.4941372\ttotal: 1.33s\tremaining: 0us\n",
      "0:\tlearn: 4753.4129542\ttotal: 16.8ms\tremaining: 1.66s\n",
      "1:\tlearn: 4479.6967296\ttotal: 30.7ms\tremaining: 1.5s\n",
      "2:\tlearn: 4241.2134814\ttotal: 45.7ms\tremaining: 1.48s\n",
      "3:\tlearn: 4030.7059043\ttotal: 58.7ms\tremaining: 1.41s\n",
      "4:\tlearn: 3845.0715661\ttotal: 73.3ms\tremaining: 1.39s\n",
      "5:\tlearn: 3686.0147727\ttotal: 85.8ms\tremaining: 1.34s\n",
      "6:\tlearn: 3541.8642275\ttotal: 98.3ms\tremaining: 1.3s\n",
      "7:\tlearn: 3420.0602557\ttotal: 111ms\tremaining: 1.28s\n",
      "8:\tlearn: 3312.2359721\ttotal: 127ms\tremaining: 1.28s\n",
      "9:\tlearn: 3214.2634353\ttotal: 139ms\tremaining: 1.25s\n",
      "10:\tlearn: 3128.0924161\ttotal: 152ms\tremaining: 1.23s\n",
      "11:\tlearn: 3056.3479873\ttotal: 165ms\tremaining: 1.21s\n",
      "12:\tlearn: 2978.4495533\ttotal: 178ms\tremaining: 1.19s\n",
      "13:\tlearn: 2915.3377982\ttotal: 190ms\tremaining: 1.17s\n",
      "14:\tlearn: 2860.3815608\ttotal: 203ms\tremaining: 1.15s\n",
      "15:\tlearn: 2809.4765308\ttotal: 216ms\tremaining: 1.13s\n"
     ]
    },
    {
     "name": "stdout",
     "output_type": "stream",
     "text": [
      "16:\tlearn: 2766.0744661\ttotal: 233ms\tremaining: 1.14s\n",
      "17:\tlearn: 2718.9715562\ttotal: 247ms\tremaining: 1.12s\n",
      "18:\tlearn: 2681.3021261\ttotal: 259ms\tremaining: 1.1s\n",
      "19:\tlearn: 2647.3768399\ttotal: 272ms\tremaining: 1.09s\n",
      "20:\tlearn: 2616.9029704\ttotal: 284ms\tremaining: 1.07s\n",
      "21:\tlearn: 2590.4924094\ttotal: 297ms\tremaining: 1.05s\n",
      "22:\tlearn: 2564.1912338\ttotal: 310ms\tremaining: 1.04s\n",
      "23:\tlearn: 2536.0936582\ttotal: 323ms\tremaining: 1.02s\n",
      "24:\tlearn: 2510.5555023\ttotal: 337ms\tremaining: 1.01s\n",
      "25:\tlearn: 2487.0776771\ttotal: 350ms\tremaining: 995ms\n",
      "26:\tlearn: 2467.4716936\ttotal: 363ms\tremaining: 980ms\n",
      "27:\tlearn: 2449.5309411\ttotal: 375ms\tremaining: 965ms\n",
      "28:\tlearn: 2435.3195261\ttotal: 387ms\tremaining: 949ms\n",
      "29:\tlearn: 2420.9158735\ttotal: 400ms\tremaining: 933ms\n",
      "30:\tlearn: 2406.0591476\ttotal: 412ms\tremaining: 917ms\n",
      "31:\tlearn: 2393.6998861\ttotal: 425ms\tremaining: 903ms\n",
      "32:\tlearn: 2382.6090094\ttotal: 439ms\tremaining: 891ms\n",
      "33:\tlearn: 2371.0387860\ttotal: 452ms\tremaining: 877ms\n",
      "34:\tlearn: 2360.9507296\ttotal: 465ms\tremaining: 863ms\n",
      "35:\tlearn: 2352.6295489\ttotal: 477ms\tremaining: 848ms\n",
      "36:\tlearn: 2343.8632949\ttotal: 489ms\tremaining: 833ms\n",
      "37:\tlearn: 2336.8615165\ttotal: 502ms\tremaining: 819ms\n",
      "38:\tlearn: 2328.3226940\ttotal: 515ms\tremaining: 806ms\n",
      "39:\tlearn: 2321.5194563\ttotal: 533ms\tremaining: 799ms\n",
      "40:\tlearn: 2316.3070009\ttotal: 546ms\tremaining: 785ms\n",
      "41:\tlearn: 2310.6123691\ttotal: 559ms\tremaining: 771ms\n",
      "42:\tlearn: 2304.2585830\ttotal: 572ms\tremaining: 758ms\n",
      "43:\tlearn: 2299.9714999\ttotal: 585ms\tremaining: 745ms\n",
      "44:\tlearn: 2293.9780777\ttotal: 599ms\tremaining: 732ms\n",
      "45:\tlearn: 2288.7551975\ttotal: 612ms\tremaining: 718ms\n",
      "46:\tlearn: 2284.5466115\ttotal: 625ms\tremaining: 705ms\n",
      "47:\tlearn: 2279.7051737\ttotal: 638ms\tremaining: 691ms\n",
      "48:\tlearn: 2276.0379166\ttotal: 652ms\tremaining: 679ms\n",
      "49:\tlearn: 2273.1806530\ttotal: 665ms\tremaining: 665ms\n",
      "50:\tlearn: 2269.4840618\ttotal: 678ms\tremaining: 652ms\n",
      "51:\tlearn: 2265.5241622\ttotal: 692ms\tremaining: 639ms\n",
      "52:\tlearn: 2259.9659077\ttotal: 705ms\tremaining: 625ms\n",
      "53:\tlearn: 2256.7860550\ttotal: 719ms\tremaining: 612ms\n",
      "54:\tlearn: 2253.8054973\ttotal: 736ms\tremaining: 602ms\n",
      "55:\tlearn: 2251.0615416\ttotal: 749ms\tremaining: 588ms\n",
      "56:\tlearn: 2247.2723842\ttotal: 762ms\tremaining: 575ms\n",
      "57:\tlearn: 2244.6712758\ttotal: 775ms\tremaining: 561ms\n",
      "58:\tlearn: 2239.6950534\ttotal: 788ms\tremaining: 548ms\n",
      "59:\tlearn: 2237.8438960\ttotal: 802ms\tremaining: 535ms\n",
      "60:\tlearn: 2235.9191791\ttotal: 816ms\tremaining: 522ms\n",
      "61:\tlearn: 2232.7439472\ttotal: 830ms\tremaining: 509ms\n",
      "62:\tlearn: 2230.6483988\ttotal: 844ms\tremaining: 496ms\n",
      "63:\tlearn: 2228.2990934\ttotal: 857ms\tremaining: 482ms\n",
      "64:\tlearn: 2224.8643203\ttotal: 871ms\tremaining: 469ms\n",
      "65:\tlearn: 2221.5598189\ttotal: 884ms\tremaining: 456ms\n",
      "66:\tlearn: 2219.7966180\ttotal: 899ms\tremaining: 443ms\n",
      "67:\tlearn: 2217.4540852\ttotal: 913ms\tremaining: 429ms\n",
      "68:\tlearn: 2216.0944446\ttotal: 930ms\tremaining: 418ms\n",
      "69:\tlearn: 2214.6864479\ttotal: 943ms\tremaining: 404ms\n",
      "70:\tlearn: 2212.3720257\ttotal: 957ms\tremaining: 391ms\n",
      "71:\tlearn: 2208.8487647\ttotal: 970ms\tremaining: 377ms\n",
      "72:\tlearn: 2205.9743283\ttotal: 983ms\tremaining: 364ms\n",
      "73:\tlearn: 2204.4723699\ttotal: 997ms\tremaining: 350ms\n",
      "74:\tlearn: 2202.5650047\ttotal: 1.01s\tremaining: 337ms\n",
      "75:\tlearn: 2200.4239626\ttotal: 1.02s\tremaining: 324ms\n",
      "76:\tlearn: 2198.9332679\ttotal: 1.04s\tremaining: 311ms\n",
      "77:\tlearn: 2197.7007089\ttotal: 1.05s\tremaining: 297ms\n",
      "78:\tlearn: 2194.7619966\ttotal: 1.07s\tremaining: 283ms\n",
      "79:\tlearn: 2192.8030111\ttotal: 1.08s\tremaining: 270ms\n",
      "80:\tlearn: 2191.2854650\ttotal: 1.09s\tremaining: 257ms\n",
      "81:\tlearn: 2189.3318138\ttotal: 1.11s\tremaining: 243ms\n",
      "82:\tlearn: 2188.0113849\ttotal: 1.12s\tremaining: 229ms\n",
      "83:\tlearn: 2186.1753766\ttotal: 1.13s\tremaining: 216ms\n",
      "84:\tlearn: 2185.1467857\ttotal: 1.15s\tremaining: 202ms\n",
      "85:\tlearn: 2184.0538748\ttotal: 1.16s\tremaining: 189ms\n",
      "86:\tlearn: 2182.0134673\ttotal: 1.17s\tremaining: 175ms\n",
      "87:\tlearn: 2180.1335419\ttotal: 1.19s\tremaining: 162ms\n",
      "88:\tlearn: 2178.8761367\ttotal: 1.2s\tremaining: 148ms\n",
      "89:\tlearn: 2176.3291695\ttotal: 1.21s\tremaining: 135ms\n",
      "90:\tlearn: 2175.1248790\ttotal: 1.23s\tremaining: 121ms\n",
      "91:\tlearn: 2174.1171638\ttotal: 1.24s\tremaining: 108ms\n",
      "92:\tlearn: 2172.6659522\ttotal: 1.25s\tremaining: 94.2ms\n",
      "93:\tlearn: 2169.2458900\ttotal: 1.26s\tremaining: 80.8ms\n",
      "94:\tlearn: 2168.0280964\ttotal: 1.28s\tremaining: 67.3ms\n",
      "95:\tlearn: 2166.6683744\ttotal: 1.29s\tremaining: 53.9ms\n",
      "96:\tlearn: 2163.7608325\ttotal: 1.31s\tremaining: 40.4ms\n",
      "97:\tlearn: 2158.3896911\ttotal: 1.32s\tremaining: 27.1ms\n",
      "98:\tlearn: 2157.1637892\ttotal: 1.34s\tremaining: 13.5ms\n",
      "99:\tlearn: 2156.1851243\ttotal: 1.35s\tremaining: 0us\n",
      "0:\tlearn: 4737.3766820\ttotal: 16.1ms\tremaining: 1.59s\n",
      "1:\tlearn: 4462.7912154\ttotal: 29.2ms\tremaining: 1.43s\n",
      "2:\tlearn: 4226.0941283\ttotal: 41.8ms\tremaining: 1.35s\n",
      "3:\tlearn: 4019.9344305\ttotal: 54.2ms\tremaining: 1.3s\n",
      "4:\tlearn: 3834.9135172\ttotal: 68.8ms\tremaining: 1.31s\n",
      "5:\tlearn: 3673.7974873\ttotal: 81.4ms\tremaining: 1.27s\n",
      "6:\tlearn: 3530.3157184\ttotal: 93.5ms\tremaining: 1.24s\n",
      "7:\tlearn: 3406.9868403\ttotal: 106ms\tremaining: 1.22s\n",
      "8:\tlearn: 3292.3537933\ttotal: 121ms\tremaining: 1.23s\n",
      "9:\tlearn: 3198.9692663\ttotal: 134ms\tremaining: 1.21s\n",
      "10:\tlearn: 3115.6701269\ttotal: 147ms\tremaining: 1.19s\n",
      "11:\tlearn: 3031.9806003\ttotal: 160ms\tremaining: 1.17s\n",
      "12:\tlearn: 2958.0499065\ttotal: 173ms\tremaining: 1.16s\n",
      "13:\tlearn: 2893.2860560\ttotal: 186ms\tremaining: 1.14s\n",
      "14:\tlearn: 2841.2476752\ttotal: 199ms\tremaining: 1.13s\n",
      "15:\tlearn: 2793.2384258\ttotal: 212ms\tremaining: 1.11s\n",
      "16:\tlearn: 2752.7819312\ttotal: 224ms\tremaining: 1.09s\n",
      "17:\tlearn: 2717.3902715\ttotal: 237ms\tremaining: 1.08s\n",
      "18:\tlearn: 2680.5776622\ttotal: 249ms\tremaining: 1.06s\n",
      "19:\tlearn: 2643.5324820\ttotal: 262ms\tremaining: 1.05s\n",
      "20:\tlearn: 2612.7820349\ttotal: 274ms\tremaining: 1.03s\n",
      "21:\tlearn: 2584.0857185\ttotal: 291ms\tremaining: 1.03s\n",
      "22:\tlearn: 2559.1708571\ttotal: 304ms\tremaining: 1.02s\n",
      "23:\tlearn: 2536.4999913\ttotal: 316ms\tremaining: 1s\n",
      "24:\tlearn: 2509.8609194\ttotal: 329ms\tremaining: 988ms\n",
      "25:\tlearn: 2487.6327959\ttotal: 343ms\tremaining: 975ms\n",
      "26:\tlearn: 2467.9687843\ttotal: 355ms\tremaining: 960ms\n",
      "27:\tlearn: 2450.2423962\ttotal: 368ms\tremaining: 945ms\n",
      "28:\tlearn: 2433.3189136\ttotal: 396ms\tremaining: 970ms\n",
      "29:\tlearn: 2419.2781109\ttotal: 412ms\tremaining: 962ms\n",
      "30:\tlearn: 2407.0081935\ttotal: 426ms\tremaining: 948ms\n",
      "31:\tlearn: 2395.4694100\ttotal: 438ms\tremaining: 932ms\n",
      "32:\tlearn: 2385.8631662\ttotal: 451ms\tremaining: 915ms\n",
      "33:\tlearn: 2376.7077788\ttotal: 492ms\tremaining: 955ms\n",
      "34:\tlearn: 2368.1423246\ttotal: 504ms\tremaining: 936ms\n",
      "35:\tlearn: 2360.3223396\ttotal: 516ms\tremaining: 918ms\n",
      "36:\tlearn: 2351.9653643\ttotal: 529ms\tremaining: 901ms\n",
      "37:\tlearn: 2343.9505136\ttotal: 542ms\tremaining: 885ms\n",
      "38:\tlearn: 2337.0705411\ttotal: 555ms\tremaining: 868ms\n",
      "39:\tlearn: 2331.3072052\ttotal: 568ms\tremaining: 852ms\n",
      "40:\tlearn: 2324.2599700\ttotal: 580ms\tremaining: 835ms\n",
      "41:\tlearn: 2318.7472083\ttotal: 593ms\tremaining: 818ms\n",
      "42:\tlearn: 2314.8818915\ttotal: 605ms\tremaining: 802ms\n",
      "43:\tlearn: 2310.2709936\ttotal: 617ms\tremaining: 785ms\n",
      "44:\tlearn: 2305.6458874\ttotal: 630ms\tremaining: 769ms\n",
      "45:\tlearn: 2301.3438411\ttotal: 642ms\tremaining: 754ms\n",
      "46:\tlearn: 2296.0637379\ttotal: 655ms\tremaining: 738ms\n",
      "47:\tlearn: 2292.3518063\ttotal: 667ms\tremaining: 723ms\n",
      "48:\tlearn: 2288.1118790\ttotal: 680ms\tremaining: 707ms\n",
      "49:\tlearn: 2284.2468153\ttotal: 696ms\tremaining: 696ms\n",
      "50:\tlearn: 2279.6286353\ttotal: 709ms\tremaining: 681ms\n",
      "51:\tlearn: 2276.5374505\ttotal: 721ms\tremaining: 666ms\n",
      "52:\tlearn: 2272.9777316\ttotal: 734ms\tremaining: 651ms\n",
      "53:\tlearn: 2269.5852453\ttotal: 746ms\tremaining: 635ms\n",
      "54:\tlearn: 2266.6766481\ttotal: 758ms\tremaining: 620ms\n",
      "55:\tlearn: 2262.8095380\ttotal: 771ms\tremaining: 606ms\n",
      "56:\tlearn: 2259.9843360\ttotal: 784ms\tremaining: 591ms\n",
      "57:\tlearn: 2253.4920088\ttotal: 796ms\tremaining: 577ms\n",
      "58:\tlearn: 2250.3293845\ttotal: 808ms\tremaining: 562ms\n",
      "59:\tlearn: 2246.9847430\ttotal: 821ms\tremaining: 547ms\n",
      "60:\tlearn: 2244.8355915\ttotal: 834ms\tremaining: 533ms\n",
      "61:\tlearn: 2241.7736763\ttotal: 847ms\tremaining: 519ms\n",
      "62:\tlearn: 2238.5129168\ttotal: 859ms\tremaining: 505ms\n",
      "63:\tlearn: 2236.3756584\ttotal: 872ms\tremaining: 490ms\n",
      "64:\tlearn: 2234.3377308\ttotal: 888ms\tremaining: 478ms\n",
      "65:\tlearn: 2232.3358120\ttotal: 900ms\tremaining: 464ms\n",
      "66:\tlearn: 2230.6160002\ttotal: 913ms\tremaining: 450ms\n",
      "67:\tlearn: 2228.8482943\ttotal: 925ms\tremaining: 435ms\n",
      "68:\tlearn: 2226.5358322\ttotal: 937ms\tremaining: 421ms\n",
      "69:\tlearn: 2224.6889762\ttotal: 949ms\tremaining: 407ms\n",
      "70:\tlearn: 2222.5171286\ttotal: 963ms\tremaining: 393ms\n",
      "71:\tlearn: 2219.4396219\ttotal: 975ms\tremaining: 379ms\n",
      "72:\tlearn: 2217.8104675\ttotal: 987ms\tremaining: 365ms\n",
      "73:\tlearn: 2216.0942934\ttotal: 1000ms\tremaining: 351ms\n",
      "74:\tlearn: 2214.3632520\ttotal: 1.01s\tremaining: 337ms\n",
      "75:\tlearn: 2212.7993543\ttotal: 1.02s\tremaining: 323ms\n"
     ]
    },
    {
     "name": "stdout",
     "output_type": "stream",
     "text": [
      "76:\tlearn: 2211.1833623\ttotal: 1.04s\tremaining: 310ms\n",
      "77:\tlearn: 2209.7796128\ttotal: 1.05s\tremaining: 296ms\n",
      "78:\tlearn: 2208.5284294\ttotal: 1.06s\tremaining: 282ms\n",
      "79:\tlearn: 2207.0729768\ttotal: 1.07s\tremaining: 268ms\n",
      "80:\tlearn: 2205.6512200\ttotal: 1.09s\tremaining: 256ms\n",
      "81:\tlearn: 2202.7522794\ttotal: 1.1s\tremaining: 242ms\n",
      "82:\tlearn: 2200.3908200\ttotal: 1.11s\tremaining: 228ms\n",
      "83:\tlearn: 2198.1322694\ttotal: 1.13s\tremaining: 215ms\n",
      "84:\tlearn: 2196.7854540\ttotal: 1.14s\tremaining: 201ms\n",
      "85:\tlearn: 2193.3521886\ttotal: 1.16s\tremaining: 188ms\n",
      "86:\tlearn: 2191.0706610\ttotal: 1.17s\tremaining: 175ms\n",
      "87:\tlearn: 2188.3238067\ttotal: 1.18s\tremaining: 161ms\n",
      "88:\tlearn: 2187.2557424\ttotal: 1.2s\tremaining: 148ms\n",
      "89:\tlearn: 2186.1468277\ttotal: 1.21s\tremaining: 135ms\n",
      "90:\tlearn: 2184.6278622\ttotal: 1.22s\tremaining: 121ms\n",
      "91:\tlearn: 2182.9948531\ttotal: 1.24s\tremaining: 108ms\n",
      "92:\tlearn: 2180.3951564\ttotal: 1.25s\tremaining: 94ms\n",
      "93:\tlearn: 2179.1051655\ttotal: 1.26s\tremaining: 80.5ms\n",
      "94:\tlearn: 2176.6270013\ttotal: 1.27s\tremaining: 67.1ms\n",
      "95:\tlearn: 2174.3450973\ttotal: 1.29s\tremaining: 53.9ms\n",
      "96:\tlearn: 2173.2541491\ttotal: 1.31s\tremaining: 40.4ms\n",
      "97:\tlearn: 2171.6809064\ttotal: 1.32s\tremaining: 26.9ms\n",
      "98:\tlearn: 2169.7749425\ttotal: 1.33s\tremaining: 13.5ms\n",
      "99:\tlearn: 2168.2894958\ttotal: 1.34s\tremaining: 0us\n",
      "0:\tlearn: 4745.2517845\ttotal: 16.3ms\tremaining: 1.62s\n",
      "1:\tlearn: 4472.8178916\ttotal: 31ms\tremaining: 1.52s\n",
      "2:\tlearn: 4238.8721611\ttotal: 48.4ms\tremaining: 1.57s\n",
      "3:\tlearn: 4025.7145440\ttotal: 63.1ms\tremaining: 1.51s\n",
      "4:\tlearn: 3840.5181295\ttotal: 79.8ms\tremaining: 1.51s\n",
      "5:\tlearn: 3676.1131246\ttotal: 92.4ms\tremaining: 1.45s\n",
      "6:\tlearn: 3541.8032241\ttotal: 105ms\tremaining: 1.39s\n",
      "7:\tlearn: 3415.4086840\ttotal: 117ms\tremaining: 1.35s\n",
      "8:\tlearn: 3309.0035908\ttotal: 130ms\tremaining: 1.31s\n",
      "9:\tlearn: 3209.7519721\ttotal: 143ms\tremaining: 1.29s\n",
      "10:\tlearn: 3128.9836102\ttotal: 155ms\tremaining: 1.26s\n",
      "11:\tlearn: 3042.5551840\ttotal: 168ms\tremaining: 1.23s\n",
      "12:\tlearn: 2977.2019082\ttotal: 181ms\tremaining: 1.21s\n",
      "13:\tlearn: 2916.0848684\ttotal: 193ms\tremaining: 1.19s\n",
      "14:\tlearn: 2866.2262715\ttotal: 206ms\tremaining: 1.17s\n",
      "15:\tlearn: 2814.7711952\ttotal: 219ms\tremaining: 1.15s\n",
      "16:\tlearn: 2770.2098996\ttotal: 232ms\tremaining: 1.13s\n",
      "17:\tlearn: 2731.6253381\ttotal: 244ms\tremaining: 1.11s\n",
      "18:\tlearn: 2696.5103966\ttotal: 261ms\tremaining: 1.11s\n",
      "19:\tlearn: 2659.1732188\ttotal: 274ms\tremaining: 1.1s\n",
      "20:\tlearn: 2629.3461772\ttotal: 286ms\tremaining: 1.08s\n",
      "21:\tlearn: 2601.3431334\ttotal: 299ms\tremaining: 1.06s\n",
      "22:\tlearn: 2567.9514077\ttotal: 312ms\tremaining: 1.04s\n",
      "23:\tlearn: 2538.0857379\ttotal: 325ms\tremaining: 1.03s\n",
      "24:\tlearn: 2513.8960493\ttotal: 337ms\tremaining: 1.01s\n",
      "25:\tlearn: 2493.8453167\ttotal: 350ms\tremaining: 995ms\n",
      "26:\tlearn: 2474.1255937\ttotal: 362ms\tremaining: 979ms\n",
      "27:\tlearn: 2456.8831116\ttotal: 375ms\tremaining: 963ms\n",
      "28:\tlearn: 2443.0402540\ttotal: 387ms\tremaining: 948ms\n",
      "29:\tlearn: 2428.0993578\ttotal: 400ms\tremaining: 933ms\n",
      "30:\tlearn: 2416.8610813\ttotal: 412ms\tremaining: 917ms\n",
      "31:\tlearn: 2404.1312924\ttotal: 425ms\tremaining: 903ms\n",
      "32:\tlearn: 2394.8331007\ttotal: 437ms\tremaining: 888ms\n",
      "33:\tlearn: 2384.7656450\ttotal: 454ms\tremaining: 881ms\n",
      "34:\tlearn: 2374.2958851\ttotal: 467ms\tremaining: 867ms\n",
      "35:\tlearn: 2365.1657584\ttotal: 479ms\tremaining: 852ms\n",
      "36:\tlearn: 2357.4556176\ttotal: 491ms\tremaining: 837ms\n",
      "37:\tlearn: 2349.7049104\ttotal: 504ms\tremaining: 822ms\n",
      "38:\tlearn: 2342.9619811\ttotal: 516ms\tremaining: 807ms\n",
      "39:\tlearn: 2335.8712666\ttotal: 529ms\tremaining: 793ms\n",
      "40:\tlearn: 2330.7672831\ttotal: 541ms\tremaining: 779ms\n",
      "41:\tlearn: 2322.7929559\ttotal: 554ms\tremaining: 764ms\n",
      "42:\tlearn: 2317.3609224\ttotal: 566ms\tremaining: 750ms\n",
      "43:\tlearn: 2312.1992074\ttotal: 578ms\tremaining: 736ms\n",
      "44:\tlearn: 2306.2881215\ttotal: 591ms\tremaining: 723ms\n",
      "45:\tlearn: 2299.9595052\ttotal: 604ms\tremaining: 709ms\n",
      "46:\tlearn: 2295.9296832\ttotal: 616ms\tremaining: 695ms\n",
      "47:\tlearn: 2290.0941631\ttotal: 629ms\tremaining: 681ms\n",
      "48:\tlearn: 2285.7920733\ttotal: 641ms\tremaining: 667ms\n",
      "49:\tlearn: 2281.9936592\ttotal: 658ms\tremaining: 658ms\n",
      "50:\tlearn: 2278.0673778\ttotal: 671ms\tremaining: 645ms\n",
      "51:\tlearn: 2273.8591311\ttotal: 683ms\tremaining: 631ms\n",
      "52:\tlearn: 2270.1401461\ttotal: 696ms\tremaining: 617ms\n",
      "53:\tlearn: 2266.5171826\ttotal: 708ms\tremaining: 603ms\n",
      "54:\tlearn: 2262.7733049\ttotal: 721ms\tremaining: 590ms\n",
      "55:\tlearn: 2258.6350982\ttotal: 733ms\tremaining: 576ms\n",
      "56:\tlearn: 2255.8077101\ttotal: 746ms\tremaining: 563ms\n",
      "57:\tlearn: 2252.0216703\ttotal: 758ms\tremaining: 549ms\n",
      "58:\tlearn: 2249.6529535\ttotal: 771ms\tremaining: 536ms\n",
      "59:\tlearn: 2246.7140129\ttotal: 784ms\tremaining: 522ms\n",
      "60:\tlearn: 2243.1616622\ttotal: 797ms\tremaining: 510ms\n",
      "61:\tlearn: 2239.5307387\ttotal: 810ms\tremaining: 497ms\n",
      "62:\tlearn: 2237.1901619\ttotal: 823ms\tremaining: 483ms\n",
      "63:\tlearn: 2234.1976553\ttotal: 836ms\tremaining: 470ms\n",
      "64:\tlearn: 2232.6224933\ttotal: 853ms\tremaining: 460ms\n",
      "65:\tlearn: 2230.0623349\ttotal: 866ms\tremaining: 446ms\n",
      "66:\tlearn: 2227.0622378\ttotal: 879ms\tremaining: 433ms\n",
      "67:\tlearn: 2225.2153442\ttotal: 892ms\tremaining: 420ms\n",
      "68:\tlearn: 2223.3210962\ttotal: 905ms\tremaining: 406ms\n",
      "69:\tlearn: 2221.3279595\ttotal: 918ms\tremaining: 394ms\n",
      "70:\tlearn: 2219.8819939\ttotal: 932ms\tremaining: 381ms\n",
      "71:\tlearn: 2216.9142774\ttotal: 945ms\tremaining: 368ms\n",
      "72:\tlearn: 2215.0423306\ttotal: 958ms\tremaining: 355ms\n",
      "73:\tlearn: 2213.9966711\ttotal: 972ms\tremaining: 342ms\n",
      "74:\tlearn: 2211.8895988\ttotal: 986ms\tremaining: 329ms\n",
      "75:\tlearn: 2210.4243096\ttotal: 999ms\tremaining: 316ms\n",
      "76:\tlearn: 2204.3996413\ttotal: 1.01s\tremaining: 302ms\n",
      "77:\tlearn: 2202.9779016\ttotal: 1.02s\tremaining: 289ms\n",
      "78:\tlearn: 2200.1819776\ttotal: 1.04s\tremaining: 276ms\n",
      "79:\tlearn: 2197.0008077\ttotal: 1.05s\tremaining: 263ms\n",
      "80:\tlearn: 2195.6446473\ttotal: 1.06s\tremaining: 250ms\n",
      "81:\tlearn: 2194.8371401\ttotal: 1.08s\tremaining: 237ms\n",
      "82:\tlearn: 2193.1299642\ttotal: 1.09s\tremaining: 224ms\n",
      "83:\tlearn: 2190.3776004\ttotal: 1.11s\tremaining: 211ms\n",
      "84:\tlearn: 2188.4267776\ttotal: 1.12s\tremaining: 198ms\n",
      "85:\tlearn: 2187.0289888\ttotal: 1.14s\tremaining: 185ms\n",
      "86:\tlearn: 2184.9747349\ttotal: 1.15s\tremaining: 172ms\n",
      "87:\tlearn: 2183.1304636\ttotal: 1.16s\tremaining: 159ms\n",
      "88:\tlearn: 2181.7349229\ttotal: 1.18s\tremaining: 145ms\n",
      "89:\tlearn: 2180.0776814\ttotal: 1.19s\tremaining: 132ms\n",
      "90:\tlearn: 2178.7157100\ttotal: 1.2s\tremaining: 119ms\n",
      "91:\tlearn: 2177.8003448\ttotal: 1.22s\tremaining: 106ms\n",
      "92:\tlearn: 2175.4318084\ttotal: 1.23s\tremaining: 92.6ms\n",
      "93:\tlearn: 2174.1735404\ttotal: 1.25s\tremaining: 79.7ms\n",
      "94:\tlearn: 2170.9304961\ttotal: 1.26s\tremaining: 66.4ms\n",
      "95:\tlearn: 2169.9894895\ttotal: 1.27s\tremaining: 53.1ms\n",
      "96:\tlearn: 2168.8354734\ttotal: 1.29s\tremaining: 39.9ms\n",
      "97:\tlearn: 2166.9797568\ttotal: 1.3s\tremaining: 26.6ms\n",
      "98:\tlearn: 2164.4800906\ttotal: 1.31s\tremaining: 13.3ms\n",
      "99:\tlearn: 2163.0952958\ttotal: 1.33s\tremaining: 0us\n",
      "0:\tlearn: 4897.0572506\ttotal: 22.4ms\tremaining: 2.21s\n",
      "1:\tlearn: 4738.0364220\ttotal: 41.8ms\tremaining: 2.05s\n",
      "2:\tlearn: 4588.1044487\ttotal: 61.2ms\tremaining: 1.98s\n",
      "3:\tlearn: 4449.1660270\ttotal: 82.6ms\tremaining: 1.98s\n",
      "4:\tlearn: 4319.0511037\ttotal: 103ms\tremaining: 1.96s\n",
      "5:\tlearn: 4199.8177206\ttotal: 122ms\tremaining: 1.91s\n",
      "6:\tlearn: 4087.4613677\ttotal: 141ms\tremaining: 1.87s\n",
      "7:\tlearn: 3980.5386788\ttotal: 160ms\tremaining: 1.84s\n",
      "8:\tlearn: 3879.8584241\ttotal: 181ms\tremaining: 1.83s\n",
      "9:\tlearn: 3787.8364470\ttotal: 201ms\tremaining: 1.81s\n",
      "10:\tlearn: 3697.6625436\ttotal: 220ms\tremaining: 1.78s\n",
      "11:\tlearn: 3617.4943402\ttotal: 243ms\tremaining: 1.78s\n",
      "12:\tlearn: 3543.6263322\ttotal: 262ms\tremaining: 1.75s\n",
      "13:\tlearn: 3470.4612598\ttotal: 280ms\tremaining: 1.72s\n",
      "14:\tlearn: 3401.8820430\ttotal: 299ms\tremaining: 1.69s\n",
      "15:\tlearn: 3337.9041249\ttotal: 317ms\tremaining: 1.67s\n",
      "16:\tlearn: 3276.9297355\ttotal: 336ms\tremaining: 1.64s\n",
      "17:\tlearn: 3223.5585494\ttotal: 355ms\tremaining: 1.62s\n",
      "18:\tlearn: 3171.9352386\ttotal: 374ms\tremaining: 1.59s\n",
      "19:\tlearn: 3117.5841847\ttotal: 392ms\tremaining: 1.57s\n",
      "20:\tlearn: 3065.1218592\ttotal: 411ms\tremaining: 1.55s\n",
      "21:\tlearn: 3016.2507004\ttotal: 429ms\tremaining: 1.52s\n",
      "22:\tlearn: 2970.1915165\ttotal: 448ms\tremaining: 1.5s\n",
      "23:\tlearn: 2927.0106151\ttotal: 467ms\tremaining: 1.48s\n",
      "24:\tlearn: 2886.1968657\ttotal: 486ms\tremaining: 1.46s\n",
      "25:\tlearn: 2850.3324874\ttotal: 505ms\tremaining: 1.44s\n",
      "26:\tlearn: 2815.5260576\ttotal: 523ms\tremaining: 1.41s\n",
      "27:\tlearn: 2783.6968093\ttotal: 546ms\tremaining: 1.4s\n",
      "28:\tlearn: 2755.3414295\ttotal: 565ms\tremaining: 1.38s\n",
      "29:\tlearn: 2727.5243893\ttotal: 583ms\tremaining: 1.36s\n",
      "30:\tlearn: 2702.8633787\ttotal: 602ms\tremaining: 1.34s\n",
      "31:\tlearn: 2678.9531459\ttotal: 620ms\tremaining: 1.32s\n",
      "32:\tlearn: 2652.8743123\ttotal: 640ms\tremaining: 1.3s\n"
     ]
    },
    {
     "name": "stdout",
     "output_type": "stream",
     "text": [
      "33:\tlearn: 2628.8672792\ttotal: 660ms\tremaining: 1.28s\n",
      "34:\tlearn: 2605.2868697\ttotal: 678ms\tremaining: 1.26s\n",
      "35:\tlearn: 2584.5447542\ttotal: 697ms\tremaining: 1.24s\n",
      "36:\tlearn: 2564.5939312\ttotal: 716ms\tremaining: 1.22s\n",
      "37:\tlearn: 2546.2919920\ttotal: 738ms\tremaining: 1.2s\n",
      "38:\tlearn: 2529.6060254\ttotal: 757ms\tremaining: 1.18s\n",
      "39:\tlearn: 2513.6513173\ttotal: 775ms\tremaining: 1.16s\n",
      "40:\tlearn: 2498.0193945\ttotal: 794ms\tremaining: 1.14s\n",
      "41:\tlearn: 2483.0666094\ttotal: 813ms\tremaining: 1.12s\n",
      "42:\tlearn: 2469.3503068\ttotal: 832ms\tremaining: 1.1s\n",
      "43:\tlearn: 2457.7849902\ttotal: 850ms\tremaining: 1.08s\n",
      "44:\tlearn: 2444.8338055\ttotal: 869ms\tremaining: 1.06s\n",
      "45:\tlearn: 2432.8961341\ttotal: 888ms\tremaining: 1.04s\n",
      "46:\tlearn: 2418.9627364\ttotal: 907ms\tremaining: 1.02s\n",
      "47:\tlearn: 2404.9663299\ttotal: 925ms\tremaining: 1s\n",
      "48:\tlearn: 2392.4081914\ttotal: 947ms\tremaining: 986ms\n",
      "49:\tlearn: 2380.3952010\ttotal: 966ms\tremaining: 966ms\n",
      "50:\tlearn: 2369.6710753\ttotal: 984ms\tremaining: 946ms\n",
      "51:\tlearn: 2359.6296779\ttotal: 1s\tremaining: 926ms\n",
      "52:\tlearn: 2349.7281661\ttotal: 1.02s\tremaining: 906ms\n",
      "53:\tlearn: 2341.1344397\ttotal: 1.04s\tremaining: 886ms\n",
      "54:\tlearn: 2332.1206259\ttotal: 1.06s\tremaining: 866ms\n",
      "55:\tlearn: 2324.6362379\ttotal: 1.08s\tremaining: 847ms\n",
      "56:\tlearn: 2316.6764655\ttotal: 1.1s\tremaining: 827ms\n",
      "57:\tlearn: 2309.6324937\ttotal: 1.11s\tremaining: 807ms\n",
      "58:\tlearn: 2303.4691465\ttotal: 1.14s\tremaining: 790ms\n",
      "59:\tlearn: 2297.9002894\ttotal: 1.16s\tremaining: 771ms\n",
      "60:\tlearn: 2290.6721391\ttotal: 1.18s\tremaining: 751ms\n",
      "61:\tlearn: 2284.3651936\ttotal: 1.19s\tremaining: 732ms\n",
      "62:\tlearn: 2278.9331357\ttotal: 1.21s\tremaining: 713ms\n",
      "63:\tlearn: 2273.5061527\ttotal: 1.23s\tremaining: 693ms\n",
      "64:\tlearn: 2267.5078907\ttotal: 1.25s\tremaining: 674ms\n",
      "65:\tlearn: 2263.4467056\ttotal: 1.27s\tremaining: 654ms\n",
      "66:\tlearn: 2258.4133045\ttotal: 1.29s\tremaining: 634ms\n",
      "67:\tlearn: 2253.9171469\ttotal: 1.31s\tremaining: 615ms\n",
      "68:\tlearn: 2249.3617039\ttotal: 1.33s\tremaining: 598ms\n",
      "69:\tlearn: 2245.4900585\ttotal: 1.35s\tremaining: 578ms\n",
      "70:\tlearn: 2241.6860409\ttotal: 1.37s\tremaining: 559ms\n",
      "71:\tlearn: 2236.7841668\ttotal: 1.39s\tremaining: 539ms\n",
      "72:\tlearn: 2233.0540107\ttotal: 1.4s\tremaining: 520ms\n",
      "73:\tlearn: 2228.8158303\ttotal: 1.42s\tremaining: 500ms\n",
      "74:\tlearn: 2225.5937729\ttotal: 1.44s\tremaining: 480ms\n",
      "75:\tlearn: 2222.4560739\ttotal: 1.46s\tremaining: 461ms\n",
      "76:\tlearn: 2219.9436116\ttotal: 1.48s\tremaining: 442ms\n",
      "77:\tlearn: 2217.0634948\ttotal: 1.5s\tremaining: 422ms\n",
      "78:\tlearn: 2214.5122073\ttotal: 1.52s\tremaining: 403ms\n",
      "79:\tlearn: 2211.7777561\ttotal: 1.54s\tremaining: 385ms\n",
      "80:\tlearn: 2208.5856461\ttotal: 1.56s\tremaining: 366ms\n",
      "81:\tlearn: 2205.9418667\ttotal: 1.58s\tremaining: 346ms\n",
      "82:\tlearn: 2203.7976279\ttotal: 1.59s\tremaining: 327ms\n",
      "83:\tlearn: 2201.1171224\ttotal: 1.61s\tremaining: 307ms\n",
      "84:\tlearn: 2198.9985996\ttotal: 1.63s\tremaining: 288ms\n",
      "85:\tlearn: 2196.1850948\ttotal: 1.65s\tremaining: 269ms\n",
      "86:\tlearn: 2193.6896272\ttotal: 1.67s\tremaining: 250ms\n",
      "87:\tlearn: 2190.6304232\ttotal: 1.69s\tremaining: 231ms\n",
      "88:\tlearn: 2188.6142944\ttotal: 1.71s\tremaining: 211ms\n",
      "89:\tlearn: 2185.9157855\ttotal: 1.73s\tremaining: 193ms\n",
      "90:\tlearn: 2183.9551321\ttotal: 1.75s\tremaining: 173ms\n",
      "91:\tlearn: 2181.5919261\ttotal: 1.77s\tremaining: 154ms\n",
      "92:\tlearn: 2179.1238064\ttotal: 1.79s\tremaining: 135ms\n",
      "93:\tlearn: 2177.6062876\ttotal: 1.81s\tremaining: 115ms\n",
      "94:\tlearn: 2175.4513417\ttotal: 1.83s\tremaining: 96.2ms\n",
      "95:\tlearn: 2173.3115104\ttotal: 1.84s\tremaining: 76.9ms\n",
      "96:\tlearn: 2171.4799260\ttotal: 1.86s\tremaining: 57.6ms\n",
      "97:\tlearn: 2169.0305468\ttotal: 1.88s\tremaining: 38.4ms\n",
      "98:\tlearn: 2167.4072027\ttotal: 1.9s\tremaining: 19.2ms\n",
      "99:\tlearn: 2165.0715394\ttotal: 1.92s\tremaining: 0us\n",
      "0:\tlearn: 4874.9109181\ttotal: 21.1ms\tremaining: 2.08s\n",
      "1:\tlearn: 4719.9645367\ttotal: 39.8ms\tremaining: 1.95s\n",
      "2:\tlearn: 4571.2823661\ttotal: 58.9ms\tremaining: 1.91s\n",
      "3:\tlearn: 4433.8936732\ttotal: 79.9ms\tremaining: 1.92s\n",
      "4:\tlearn: 4304.7349728\ttotal: 100ms\tremaining: 1.9s\n",
      "5:\tlearn: 4181.0483947\ttotal: 119ms\tremaining: 1.86s\n",
      "6:\tlearn: 4066.7090587\ttotal: 141ms\tremaining: 1.87s\n",
      "7:\tlearn: 3961.6954315\ttotal: 160ms\tremaining: 1.84s\n",
      "8:\tlearn: 3861.1558708\ttotal: 179ms\tremaining: 1.81s\n",
      "9:\tlearn: 3767.9279550\ttotal: 197ms\tremaining: 1.77s\n",
      "10:\tlearn: 3680.3267496\ttotal: 215ms\tremaining: 1.74s\n",
      "11:\tlearn: 3595.9331918\ttotal: 233ms\tremaining: 1.71s\n",
      "12:\tlearn: 3516.7709467\ttotal: 252ms\tremaining: 1.68s\n",
      "13:\tlearn: 3445.5409708\ttotal: 270ms\tremaining: 1.66s\n",
      "14:\tlearn: 3375.0562557\ttotal: 288ms\tremaining: 1.63s\n",
      "15:\tlearn: 3312.0045511\ttotal: 306ms\tremaining: 1.6s\n",
      "16:\tlearn: 3254.2831764\ttotal: 324ms\tremaining: 1.58s\n",
      "17:\tlearn: 3200.4856265\ttotal: 342ms\tremaining: 1.56s\n",
      "18:\tlearn: 3149.3835851\ttotal: 360ms\tremaining: 1.53s\n",
      "19:\tlearn: 3093.8645448\ttotal: 378ms\tremaining: 1.51s\n",
      "20:\tlearn: 3041.0104620\ttotal: 397ms\tremaining: 1.49s\n",
      "21:\tlearn: 2990.0909177\ttotal: 416ms\tremaining: 1.47s\n",
      "22:\tlearn: 2945.0738564\ttotal: 434ms\tremaining: 1.45s\n",
      "23:\tlearn: 2902.7569426\ttotal: 452ms\tremaining: 1.43s\n",
      "24:\tlearn: 2862.3419649\ttotal: 471ms\tremaining: 1.41s\n",
      "25:\tlearn: 2825.8679885\ttotal: 488ms\tremaining: 1.39s\n",
      "26:\tlearn: 2791.8879709\ttotal: 506ms\tremaining: 1.37s\n",
      "27:\tlearn: 2759.7611795\ttotal: 529ms\tremaining: 1.36s\n",
      "28:\tlearn: 2729.9695968\ttotal: 546ms\tremaining: 1.34s\n",
      "29:\tlearn: 2701.3872743\ttotal: 565ms\tremaining: 1.32s\n",
      "30:\tlearn: 2675.2988491\ttotal: 583ms\tremaining: 1.3s\n",
      "31:\tlearn: 2651.0692939\ttotal: 601ms\tremaining: 1.28s\n",
      "32:\tlearn: 2628.8327573\ttotal: 620ms\tremaining: 1.26s\n",
      "33:\tlearn: 2606.6370233\ttotal: 638ms\tremaining: 1.24s\n",
      "34:\tlearn: 2585.2570626\ttotal: 657ms\tremaining: 1.22s\n",
      "35:\tlearn: 2566.1699706\ttotal: 676ms\tremaining: 1.2s\n",
      "36:\tlearn: 2548.1611906\ttotal: 695ms\tremaining: 1.18s\n",
      "37:\tlearn: 2532.1371735\ttotal: 713ms\tremaining: 1.16s\n",
      "38:\tlearn: 2516.3072871\ttotal: 735ms\tremaining: 1.15s\n",
      "39:\tlearn: 2500.4529020\ttotal: 753ms\tremaining: 1.13s\n",
      "40:\tlearn: 2485.6198390\ttotal: 771ms\tremaining: 1.11s\n",
      "41:\tlearn: 2471.3347394\ttotal: 788ms\tremaining: 1.09s\n",
      "42:\tlearn: 2458.4762709\ttotal: 807ms\tremaining: 1.07s\n",
      "43:\tlearn: 2446.3835397\ttotal: 825ms\tremaining: 1.05s\n",
      "44:\tlearn: 2431.8715677\ttotal: 844ms\tremaining: 1.03s\n",
      "45:\tlearn: 2418.6599954\ttotal: 863ms\tremaining: 1.01s\n",
      "46:\tlearn: 2405.5423219\ttotal: 882ms\tremaining: 994ms\n",
      "47:\tlearn: 2394.8794199\ttotal: 900ms\tremaining: 975ms\n",
      "48:\tlearn: 2383.5918183\ttotal: 923ms\tremaining: 961ms\n",
      "49:\tlearn: 2372.3676550\ttotal: 942ms\tremaining: 942ms\n",
      "50:\tlearn: 2362.6679681\ttotal: 960ms\tremaining: 923ms\n",
      "51:\tlearn: 2353.5792151\ttotal: 978ms\tremaining: 903ms\n",
      "52:\tlearn: 2345.2702036\ttotal: 997ms\tremaining: 884ms\n",
      "53:\tlearn: 2336.1195065\ttotal: 1.01s\tremaining: 865ms\n",
      "54:\tlearn: 2327.8592405\ttotal: 1.03s\tremaining: 847ms\n",
      "55:\tlearn: 2320.4409701\ttotal: 1.05s\tremaining: 828ms\n",
      "56:\tlearn: 2312.1028842\ttotal: 1.07s\tremaining: 808ms\n",
      "57:\tlearn: 2305.5922488\ttotal: 1.09s\tremaining: 789ms\n",
      "58:\tlearn: 2299.2881101\ttotal: 1.11s\tremaining: 770ms\n",
      "59:\tlearn: 2293.6876239\ttotal: 1.13s\tremaining: 754ms\n",
      "60:\tlearn: 2288.2237085\ttotal: 1.15s\tremaining: 735ms\n",
      "61:\tlearn: 2282.7720870\ttotal: 1.17s\tremaining: 715ms\n",
      "62:\tlearn: 2277.5214756\ttotal: 1.18s\tremaining: 696ms\n",
      "63:\tlearn: 2272.2012284\ttotal: 1.2s\tremaining: 677ms\n",
      "64:\tlearn: 2267.1273415\ttotal: 1.22s\tremaining: 658ms\n",
      "65:\tlearn: 2262.7694424\ttotal: 1.24s\tremaining: 639ms\n",
      "66:\tlearn: 2258.6155816\ttotal: 1.26s\tremaining: 619ms\n",
      "67:\tlearn: 2254.5232699\ttotal: 1.27s\tremaining: 600ms\n",
      "68:\tlearn: 2250.3720449\ttotal: 1.29s\tremaining: 581ms\n",
      "69:\tlearn: 2246.6144853\ttotal: 1.31s\tremaining: 562ms\n",
      "70:\tlearn: 2243.0159527\ttotal: 1.33s\tremaining: 545ms\n",
      "71:\tlearn: 2239.8737624\ttotal: 1.35s\tremaining: 526ms\n",
      "72:\tlearn: 2236.3958957\ttotal: 1.37s\tremaining: 507ms\n",
      "73:\tlearn: 2233.0335921\ttotal: 1.39s\tremaining: 489ms\n",
      "74:\tlearn: 2230.0175435\ttotal: 1.41s\tremaining: 470ms\n",
      "75:\tlearn: 2227.2381681\ttotal: 1.43s\tremaining: 451ms\n",
      "76:\tlearn: 2224.4579900\ttotal: 1.45s\tremaining: 432ms\n",
      "77:\tlearn: 2221.6402836\ttotal: 1.46s\tremaining: 413ms\n",
      "78:\tlearn: 2219.0287554\ttotal: 1.48s\tremaining: 394ms\n",
      "79:\tlearn: 2216.2022767\ttotal: 1.5s\tremaining: 375ms\n",
      "80:\tlearn: 2213.6578221\ttotal: 1.52s\tremaining: 357ms\n",
      "81:\tlearn: 2211.2758504\ttotal: 1.54s\tremaining: 338ms\n",
      "82:\tlearn: 2209.0823299\ttotal: 1.56s\tremaining: 319ms\n",
      "83:\tlearn: 2206.4210964\ttotal: 1.57s\tremaining: 300ms\n",
      "84:\tlearn: 2204.0892729\ttotal: 1.59s\tremaining: 281ms\n",
      "85:\tlearn: 2201.0592231\ttotal: 1.61s\tremaining: 262ms\n",
      "86:\tlearn: 2199.0624505\ttotal: 1.63s\tremaining: 243ms\n",
      "87:\tlearn: 2195.8828372\ttotal: 1.65s\tremaining: 225ms\n",
      "88:\tlearn: 2193.6885707\ttotal: 1.67s\tremaining: 206ms\n"
     ]
    },
    {
     "name": "stdout",
     "output_type": "stream",
     "text": [
      "89:\tlearn: 2191.6029922\ttotal: 1.69s\tremaining: 187ms\n",
      "90:\tlearn: 2190.0263466\ttotal: 1.71s\tremaining: 169ms\n",
      "91:\tlearn: 2188.1268748\ttotal: 1.73s\tremaining: 150ms\n",
      "92:\tlearn: 2185.8467199\ttotal: 1.75s\tremaining: 131ms\n",
      "93:\tlearn: 2183.5444562\ttotal: 1.76s\tremaining: 113ms\n",
      "94:\tlearn: 2181.6315439\ttotal: 1.78s\tremaining: 93.7ms\n",
      "95:\tlearn: 2179.8570671\ttotal: 1.8s\tremaining: 75ms\n",
      "96:\tlearn: 2177.9527335\ttotal: 1.82s\tremaining: 56.2ms\n",
      "97:\tlearn: 2175.9883228\ttotal: 1.83s\tremaining: 37.4ms\n",
      "98:\tlearn: 2174.3556165\ttotal: 1.85s\tremaining: 18.7ms\n",
      "99:\tlearn: 2173.1577463\ttotal: 1.87s\tremaining: 0us\n",
      "0:\tlearn: 4888.3715690\ttotal: 21.9ms\tremaining: 2.17s\n",
      "1:\tlearn: 4731.1830068\ttotal: 42.7ms\tremaining: 2.09s\n",
      "2:\tlearn: 4582.9971576\ttotal: 62.7ms\tremaining: 2.03s\n",
      "3:\tlearn: 4441.4748434\ttotal: 80.4ms\tremaining: 1.93s\n",
      "4:\tlearn: 4311.5277005\ttotal: 98.6ms\tremaining: 1.87s\n",
      "5:\tlearn: 4188.8642415\ttotal: 117ms\tremaining: 1.83s\n",
      "6:\tlearn: 4076.7341277\ttotal: 135ms\tremaining: 1.79s\n",
      "7:\tlearn: 3968.3981313\ttotal: 153ms\tremaining: 1.76s\n",
      "8:\tlearn: 3870.2424170\ttotal: 173ms\tremaining: 1.75s\n",
      "9:\tlearn: 3775.6927002\ttotal: 195ms\tremaining: 1.75s\n",
      "10:\tlearn: 3689.5513984\ttotal: 215ms\tremaining: 1.74s\n",
      "11:\tlearn: 3606.7170398\ttotal: 235ms\tremaining: 1.72s\n",
      "12:\tlearn: 3529.0426876\ttotal: 253ms\tremaining: 1.7s\n",
      "13:\tlearn: 3456.2232282\ttotal: 278ms\tremaining: 1.71s\n",
      "14:\tlearn: 3386.6674160\ttotal: 300ms\tremaining: 1.7s\n",
      "15:\tlearn: 3321.2259271\ttotal: 319ms\tremaining: 1.68s\n",
      "16:\tlearn: 3262.8719525\ttotal: 337ms\tremaining: 1.64s\n",
      "17:\tlearn: 3206.9677737\ttotal: 355ms\tremaining: 1.62s\n",
      "18:\tlearn: 3156.6913069\ttotal: 373ms\tremaining: 1.59s\n",
      "19:\tlearn: 3107.0969169\ttotal: 395ms\tremaining: 1.58s\n",
      "20:\tlearn: 3056.7212172\ttotal: 415ms\tremaining: 1.56s\n",
      "21:\tlearn: 3008.6546075\ttotal: 433ms\tremaining: 1.54s\n",
      "22:\tlearn: 2963.8952229\ttotal: 452ms\tremaining: 1.51s\n",
      "23:\tlearn: 2922.2055320\ttotal: 476ms\tremaining: 1.51s\n",
      "24:\tlearn: 2884.3639232\ttotal: 497ms\tremaining: 1.49s\n",
      "25:\tlearn: 2849.6557779\ttotal: 516ms\tremaining: 1.47s\n",
      "26:\tlearn: 2816.1108839\ttotal: 533ms\tremaining: 1.44s\n",
      "27:\tlearn: 2785.0964558\ttotal: 551ms\tremaining: 1.42s\n",
      "28:\tlearn: 2755.5736061\ttotal: 570ms\tremaining: 1.39s\n",
      "29:\tlearn: 2728.2764873\ttotal: 590ms\tremaining: 1.38s\n",
      "30:\tlearn: 2701.6970852\ttotal: 614ms\tremaining: 1.36s\n",
      "31:\tlearn: 2676.7469548\ttotal: 632ms\tremaining: 1.34s\n",
      "32:\tlearn: 2654.8796735\ttotal: 650ms\tremaining: 1.32s\n",
      "33:\tlearn: 2636.0441618\ttotal: 675ms\tremaining: 1.31s\n",
      "34:\tlearn: 2613.2758331\ttotal: 696ms\tremaining: 1.29s\n",
      "35:\tlearn: 2591.5194586\ttotal: 719ms\tremaining: 1.28s\n",
      "36:\tlearn: 2570.9181919\ttotal: 740ms\tremaining: 1.26s\n",
      "37:\tlearn: 2551.9669109\ttotal: 763ms\tremaining: 1.24s\n",
      "38:\tlearn: 2534.0842692\ttotal: 783ms\tremaining: 1.23s\n",
      "39:\tlearn: 2517.4622747\ttotal: 805ms\tremaining: 1.21s\n",
      "40:\tlearn: 2501.6369783\ttotal: 827ms\tremaining: 1.19s\n",
      "41:\tlearn: 2486.7060221\ttotal: 848ms\tremaining: 1.17s\n",
      "42:\tlearn: 2473.8434120\ttotal: 870ms\tremaining: 1.15s\n",
      "43:\tlearn: 2460.4340391\ttotal: 892ms\tremaining: 1.13s\n",
      "44:\tlearn: 2447.6652295\ttotal: 912ms\tremaining: 1.11s\n",
      "45:\tlearn: 2433.9419052\ttotal: 930ms\tremaining: 1.09s\n",
      "46:\tlearn: 2420.5387240\ttotal: 949ms\tremaining: 1.07s\n",
      "47:\tlearn: 2407.7732576\ttotal: 972ms\tremaining: 1.05s\n",
      "48:\tlearn: 2395.4339214\ttotal: 992ms\tremaining: 1.03s\n",
      "49:\tlearn: 2384.5799323\ttotal: 1.01s\tremaining: 1.01s\n",
      "50:\tlearn: 2373.3810001\ttotal: 1.03s\tremaining: 990ms\n",
      "51:\tlearn: 2362.8767177\ttotal: 1.05s\tremaining: 971ms\n",
      "52:\tlearn: 2353.6860764\ttotal: 1.07s\tremaining: 949ms\n",
      "53:\tlearn: 2343.8937278\ttotal: 1.09s\tremaining: 928ms\n",
      "54:\tlearn: 2335.0554009\ttotal: 1.11s\tremaining: 906ms\n",
      "55:\tlearn: 2326.2169490\ttotal: 1.13s\tremaining: 885ms\n",
      "56:\tlearn: 2318.2195467\ttotal: 1.14s\tremaining: 863ms\n",
      "57:\tlearn: 2311.1843977\ttotal: 1.17s\tremaining: 845ms\n",
      "58:\tlearn: 2304.7354513\ttotal: 1.19s\tremaining: 825ms\n",
      "59:\tlearn: 2299.1121858\ttotal: 1.21s\tremaining: 805ms\n",
      "60:\tlearn: 2292.8868374\ttotal: 1.23s\tremaining: 784ms\n",
      "61:\tlearn: 2287.1601166\ttotal: 1.25s\tremaining: 763ms\n",
      "62:\tlearn: 2281.5724264\ttotal: 1.26s\tremaining: 743ms\n",
      "63:\tlearn: 2276.3094837\ttotal: 1.29s\tremaining: 724ms\n",
      "64:\tlearn: 2270.7097016\ttotal: 1.31s\tremaining: 704ms\n",
      "65:\tlearn: 2265.8022010\ttotal: 1.33s\tremaining: 684ms\n",
      "66:\tlearn: 2260.7634915\ttotal: 1.34s\tremaining: 663ms\n",
      "67:\tlearn: 2257.0599375\ttotal: 1.36s\tremaining: 642ms\n",
      "68:\tlearn: 2253.3735152\ttotal: 1.38s\tremaining: 621ms\n",
      "69:\tlearn: 2249.5207744\ttotal: 1.4s\tremaining: 600ms\n",
      "70:\tlearn: 2245.7150511\ttotal: 1.42s\tremaining: 580ms\n",
      "71:\tlearn: 2241.4749247\ttotal: 1.44s\tremaining: 559ms\n",
      "72:\tlearn: 2238.6433506\ttotal: 1.45s\tremaining: 538ms\n",
      "73:\tlearn: 2235.4845007\ttotal: 1.48s\tremaining: 518ms\n",
      "74:\tlearn: 2231.9591620\ttotal: 1.49s\tremaining: 498ms\n",
      "75:\tlearn: 2229.1404046\ttotal: 1.51s\tremaining: 477ms\n",
      "76:\tlearn: 2226.1753628\ttotal: 1.53s\tremaining: 457ms\n",
      "77:\tlearn: 2222.7616762\ttotal: 1.55s\tremaining: 436ms\n",
      "78:\tlearn: 2219.8285558\ttotal: 1.57s\tremaining: 417ms\n",
      "79:\tlearn: 2216.9063110\ttotal: 1.59s\tremaining: 397ms\n",
      "80:\tlearn: 2214.2735043\ttotal: 1.6s\tremaining: 376ms\n",
      "81:\tlearn: 2212.1210869\ttotal: 1.62s\tremaining: 356ms\n",
      "82:\tlearn: 2209.5082617\ttotal: 1.64s\tremaining: 336ms\n",
      "83:\tlearn: 2206.6240568\ttotal: 1.66s\tremaining: 316ms\n",
      "84:\tlearn: 2204.3591288\ttotal: 1.68s\tremaining: 296ms\n",
      "85:\tlearn: 2202.1840149\ttotal: 1.69s\tremaining: 276ms\n",
      "86:\tlearn: 2199.8365315\ttotal: 1.71s\tremaining: 256ms\n",
      "87:\tlearn: 2197.3841806\ttotal: 1.73s\tremaining: 236ms\n",
      "88:\tlearn: 2195.3403487\ttotal: 1.75s\tremaining: 216ms\n",
      "89:\tlearn: 2193.0136763\ttotal: 1.77s\tremaining: 197ms\n",
      "90:\tlearn: 2191.0768470\ttotal: 1.79s\tremaining: 177ms\n",
      "91:\tlearn: 2189.1247240\ttotal: 1.81s\tremaining: 157ms\n",
      "92:\tlearn: 2186.3955882\ttotal: 1.83s\tremaining: 137ms\n",
      "93:\tlearn: 2184.1390578\ttotal: 1.85s\tremaining: 118ms\n",
      "94:\tlearn: 2181.5703645\ttotal: 1.87s\tremaining: 98.3ms\n",
      "95:\tlearn: 2179.7847307\ttotal: 1.89s\tremaining: 78.6ms\n",
      "96:\tlearn: 2178.1560529\ttotal: 1.9s\tremaining: 58.9ms\n",
      "97:\tlearn: 2176.3434560\ttotal: 1.92s\tremaining: 39.2ms\n",
      "98:\tlearn: 2174.8187247\ttotal: 1.94s\tremaining: 19.6ms\n",
      "99:\tlearn: 2173.1020548\ttotal: 1.96s\tremaining: 0us\n",
      "0:\tlearn: 4732.1993407\ttotal: 21.4ms\tremaining: 2.12s\n",
      "1:\tlearn: 4436.5981387\ttotal: 39.9ms\tremaining: 1.96s\n",
      "2:\tlearn: 4178.5570579\ttotal: 62.2ms\tremaining: 2.01s\n",
      "3:\tlearn: 3949.0053053\ttotal: 84.2ms\tremaining: 2.02s\n",
      "4:\tlearn: 3754.2148344\ttotal: 104ms\tremaining: 1.98s\n",
      "5:\tlearn: 3578.8110972\ttotal: 123ms\tremaining: 1.93s\n",
      "6:\tlearn: 3428.4627513\ttotal: 141ms\tremaining: 1.88s\n",
      "7:\tlearn: 3300.9986582\ttotal: 159ms\tremaining: 1.83s\n",
      "8:\tlearn: 3186.9700522\ttotal: 177ms\tremaining: 1.79s\n",
      "9:\tlearn: 3084.4491694\ttotal: 196ms\tremaining: 1.76s\n",
      "10:\tlearn: 2981.7506861\ttotal: 215ms\tremaining: 1.74s\n",
      "11:\tlearn: 2894.9662571\ttotal: 233ms\tremaining: 1.71s\n",
      "12:\tlearn: 2820.4175250\ttotal: 251ms\tremaining: 1.68s\n",
      "13:\tlearn: 2755.0015748\ttotal: 268ms\tremaining: 1.65s\n",
      "14:\tlearn: 2702.4889045\ttotal: 286ms\tremaining: 1.62s\n",
      "15:\tlearn: 2653.0893147\ttotal: 304ms\tremaining: 1.59s\n",
      "16:\tlearn: 2609.0729142\ttotal: 327ms\tremaining: 1.6s\n",
      "17:\tlearn: 2572.2012939\ttotal: 346ms\tremaining: 1.58s\n",
      "18:\tlearn: 2533.5728221\ttotal: 364ms\tremaining: 1.55s\n",
      "19:\tlearn: 2499.8254817\ttotal: 382ms\tremaining: 1.53s\n",
      "20:\tlearn: 2470.5159945\ttotal: 401ms\tremaining: 1.51s\n",
      "21:\tlearn: 2444.2535914\ttotal: 419ms\tremaining: 1.48s\n",
      "22:\tlearn: 2421.7885933\ttotal: 436ms\tremaining: 1.46s\n",
      "23:\tlearn: 2401.1409481\ttotal: 454ms\tremaining: 1.44s\n",
      "24:\tlearn: 2376.2161997\ttotal: 474ms\tremaining: 1.42s\n",
      "25:\tlearn: 2351.8629887\ttotal: 492ms\tremaining: 1.4s\n",
      "26:\tlearn: 2331.3783638\ttotal: 510ms\tremaining: 1.38s\n",
      "27:\tlearn: 2315.1237149\ttotal: 528ms\tremaining: 1.36s\n",
      "28:\tlearn: 2299.9651284\ttotal: 546ms\tremaining: 1.33s\n",
      "29:\tlearn: 2286.3377006\ttotal: 564ms\tremaining: 1.31s\n",
      "30:\tlearn: 2273.3711072\ttotal: 582ms\tremaining: 1.29s\n",
      "31:\tlearn: 2263.2338248\ttotal: 599ms\tremaining: 1.27s\n",
      "32:\tlearn: 2253.6738938\ttotal: 617ms\tremaining: 1.25s\n",
      "33:\tlearn: 2244.5795214\ttotal: 635ms\tremaining: 1.23s\n",
      "34:\tlearn: 2236.9439738\ttotal: 654ms\tremaining: 1.21s\n",
      "35:\tlearn: 2229.7483051\ttotal: 672ms\tremaining: 1.19s\n",
      "36:\tlearn: 2224.0252640\ttotal: 689ms\tremaining: 1.17s\n",
      "37:\tlearn: 2217.5431176\ttotal: 707ms\tremaining: 1.15s\n",
      "38:\tlearn: 2210.4992797\ttotal: 729ms\tremaining: 1.14s\n",
      "39:\tlearn: 2204.7074781\ttotal: 747ms\tremaining: 1.12s\n",
      "40:\tlearn: 2199.6667145\ttotal: 765ms\tremaining: 1.1s\n",
      "41:\tlearn: 2194.5049416\ttotal: 784ms\tremaining: 1.08s\n",
      "42:\tlearn: 2190.5315870\ttotal: 802ms\tremaining: 1.06s\n",
      "43:\tlearn: 2187.0261352\ttotal: 820ms\tremaining: 1.04s\n",
      "44:\tlearn: 2182.8013301\ttotal: 838ms\tremaining: 1.02s\n"
     ]
    },
    {
     "name": "stdout",
     "output_type": "stream",
     "text": [
      "45:\tlearn: 2177.3473328\ttotal: 857ms\tremaining: 1s\n",
      "46:\tlearn: 2170.9340498\ttotal: 875ms\tremaining: 987ms\n",
      "47:\tlearn: 2167.3842618\ttotal: 893ms\tremaining: 967ms\n",
      "48:\tlearn: 2162.4424952\ttotal: 911ms\tremaining: 948ms\n",
      "49:\tlearn: 2159.0017525\ttotal: 928ms\tremaining: 928ms\n",
      "50:\tlearn: 2154.3762681\ttotal: 946ms\tremaining: 909ms\n",
      "51:\tlearn: 2151.1911294\ttotal: 964ms\tremaining: 890ms\n",
      "52:\tlearn: 2148.5887818\ttotal: 982ms\tremaining: 870ms\n",
      "53:\tlearn: 2145.0881061\ttotal: 999ms\tremaining: 851ms\n",
      "54:\tlearn: 2141.5893215\ttotal: 1.02s\tremaining: 832ms\n",
      "55:\tlearn: 2136.7548297\ttotal: 1.03s\tremaining: 813ms\n",
      "56:\tlearn: 2132.5482585\ttotal: 1.05s\tremaining: 794ms\n",
      "57:\tlearn: 2129.0199042\ttotal: 1.07s\tremaining: 775ms\n",
      "58:\tlearn: 2126.2397739\ttotal: 1.09s\tremaining: 756ms\n",
      "59:\tlearn: 2123.9656147\ttotal: 1.11s\tremaining: 737ms\n",
      "60:\tlearn: 2120.4980911\ttotal: 1.13s\tremaining: 721ms\n",
      "61:\tlearn: 2118.3839508\ttotal: 1.15s\tremaining: 703ms\n",
      "62:\tlearn: 2115.4242287\ttotal: 1.16s\tremaining: 684ms\n",
      "63:\tlearn: 2113.2758862\ttotal: 1.18s\tremaining: 665ms\n",
      "64:\tlearn: 2110.8390994\ttotal: 1.2s\tremaining: 646ms\n",
      "65:\tlearn: 2108.6374854\ttotal: 1.22s\tremaining: 627ms\n",
      "66:\tlearn: 2105.5357568\ttotal: 1.23s\tremaining: 608ms\n",
      "67:\tlearn: 2103.8156847\ttotal: 1.25s\tremaining: 589ms\n",
      "68:\tlearn: 2101.6637511\ttotal: 1.27s\tremaining: 570ms\n",
      "69:\tlearn: 2099.1023339\ttotal: 1.29s\tremaining: 552ms\n",
      "70:\tlearn: 2097.3197312\ttotal: 1.3s\tremaining: 533ms\n",
      "71:\tlearn: 2095.1728936\ttotal: 1.33s\tremaining: 516ms\n",
      "72:\tlearn: 2092.1781115\ttotal: 1.34s\tremaining: 497ms\n",
      "73:\tlearn: 2090.4350010\ttotal: 1.36s\tremaining: 479ms\n",
      "74:\tlearn: 2088.2126992\ttotal: 1.38s\tremaining: 460ms\n",
      "75:\tlearn: 2086.9119700\ttotal: 1.4s\tremaining: 441ms\n",
      "76:\tlearn: 2085.2553136\ttotal: 1.42s\tremaining: 423ms\n",
      "77:\tlearn: 2083.2405845\ttotal: 1.43s\tremaining: 404ms\n",
      "78:\tlearn: 2081.7510760\ttotal: 1.45s\tremaining: 386ms\n",
      "79:\tlearn: 2078.3513487\ttotal: 1.47s\tremaining: 367ms\n",
      "80:\tlearn: 2076.3812489\ttotal: 1.49s\tremaining: 349ms\n",
      "81:\tlearn: 2074.6417747\ttotal: 1.5s\tremaining: 330ms\n",
      "82:\tlearn: 2073.0306150\ttotal: 1.53s\tremaining: 313ms\n",
      "83:\tlearn: 2071.2838194\ttotal: 1.54s\tremaining: 294ms\n",
      "84:\tlearn: 2069.3370337\ttotal: 1.56s\tremaining: 276ms\n",
      "85:\tlearn: 2067.9787053\ttotal: 1.58s\tremaining: 257ms\n",
      "86:\tlearn: 2065.2350341\ttotal: 1.6s\tremaining: 239ms\n",
      "87:\tlearn: 2063.3095800\ttotal: 1.61s\tremaining: 220ms\n",
      "88:\tlearn: 2062.1576253\ttotal: 1.63s\tremaining: 202ms\n",
      "89:\tlearn: 2060.3406969\ttotal: 1.65s\tremaining: 183ms\n",
      "90:\tlearn: 2058.6981931\ttotal: 1.67s\tremaining: 165ms\n",
      "91:\tlearn: 2057.5542772\ttotal: 1.69s\tremaining: 147ms\n",
      "92:\tlearn: 2054.8355649\ttotal: 1.7s\tremaining: 128ms\n",
      "93:\tlearn: 2052.0735680\ttotal: 1.72s\tremaining: 110ms\n",
      "94:\tlearn: 2050.2833467\ttotal: 1.74s\tremaining: 91.6ms\n",
      "95:\tlearn: 2049.3992784\ttotal: 1.76s\tremaining: 73.2ms\n",
      "96:\tlearn: 2048.4524284\ttotal: 1.77s\tremaining: 54.9ms\n",
      "97:\tlearn: 2046.6718712\ttotal: 1.79s\tremaining: 36.6ms\n",
      "98:\tlearn: 2045.5247345\ttotal: 1.81s\tremaining: 18.3ms\n",
      "99:\tlearn: 2042.7518688\ttotal: 1.83s\tremaining: 0us\n",
      "0:\tlearn: 4710.1918384\ttotal: 21.7ms\tremaining: 2.15s\n",
      "1:\tlearn: 4418.1135378\ttotal: 40.7ms\tremaining: 1.99s\n",
      "2:\tlearn: 4159.6955711\ttotal: 58.7ms\tremaining: 1.9s\n",
      "3:\tlearn: 3935.1747078\ttotal: 79.1ms\tremaining: 1.9s\n",
      "4:\tlearn: 3738.5751446\ttotal: 99.5ms\tremaining: 1.89s\n",
      "5:\tlearn: 3568.0329551\ttotal: 117ms\tremaining: 1.83s\n",
      "6:\tlearn: 3419.3935188\ttotal: 136ms\tremaining: 1.8s\n",
      "7:\tlearn: 3293.4796829\ttotal: 153ms\tremaining: 1.76s\n",
      "8:\tlearn: 3177.5855339\ttotal: 172ms\tremaining: 1.73s\n",
      "9:\tlearn: 3078.6614147\ttotal: 190ms\tremaining: 1.71s\n",
      "10:\tlearn: 2992.0931340\ttotal: 208ms\tremaining: 1.68s\n",
      "11:\tlearn: 2900.5896392\ttotal: 228ms\tremaining: 1.67s\n",
      "12:\tlearn: 2818.1825080\ttotal: 246ms\tremaining: 1.65s\n",
      "13:\tlearn: 2750.6167867\ttotal: 264ms\tremaining: 1.62s\n",
      "14:\tlearn: 2691.5090137\ttotal: 282ms\tremaining: 1.6s\n",
      "15:\tlearn: 2641.2235555\ttotal: 299ms\tremaining: 1.57s\n",
      "16:\tlearn: 2593.7354370\ttotal: 318ms\tremaining: 1.55s\n",
      "17:\tlearn: 2554.5046740\ttotal: 336ms\tremaining: 1.53s\n",
      "18:\tlearn: 2522.2333647\ttotal: 353ms\tremaining: 1.5s\n",
      "19:\tlearn: 2489.8052364\ttotal: 371ms\tremaining: 1.48s\n",
      "20:\tlearn: 2463.9338852\ttotal: 389ms\tremaining: 1.46s\n",
      "21:\tlearn: 2434.9735957\ttotal: 407ms\tremaining: 1.44s\n",
      "22:\tlearn: 2409.3545927\ttotal: 425ms\tremaining: 1.42s\n",
      "23:\tlearn: 2386.6669288\ttotal: 443ms\tremaining: 1.4s\n",
      "24:\tlearn: 2366.3183737\ttotal: 461ms\tremaining: 1.38s\n",
      "25:\tlearn: 2348.0109968\ttotal: 478ms\tremaining: 1.36s\n",
      "26:\tlearn: 2332.0961332\ttotal: 495ms\tremaining: 1.34s\n",
      "27:\tlearn: 2316.7764175\ttotal: 514ms\tremaining: 1.32s\n",
      "28:\tlearn: 2305.6676485\ttotal: 532ms\tremaining: 1.3s\n",
      "29:\tlearn: 2293.8778977\ttotal: 550ms\tremaining: 1.28s\n",
      "30:\tlearn: 2282.0039376\ttotal: 567ms\tremaining: 1.26s\n",
      "31:\tlearn: 2273.5161399\ttotal: 585ms\tremaining: 1.24s\n",
      "32:\tlearn: 2263.2757580\ttotal: 602ms\tremaining: 1.22s\n",
      "33:\tlearn: 2254.9409776\ttotal: 620ms\tremaining: 1.2s\n",
      "34:\tlearn: 2245.9426431\ttotal: 638ms\tremaining: 1.18s\n",
      "35:\tlearn: 2237.3736346\ttotal: 657ms\tremaining: 1.17s\n",
      "36:\tlearn: 2230.7737066\ttotal: 675ms\tremaining: 1.15s\n",
      "37:\tlearn: 2225.6891147\ttotal: 693ms\tremaining: 1.13s\n",
      "38:\tlearn: 2219.8346318\ttotal: 714ms\tremaining: 1.12s\n",
      "39:\tlearn: 2214.7186361\ttotal: 734ms\tremaining: 1.1s\n",
      "40:\tlearn: 2209.4348490\ttotal: 752ms\tremaining: 1.08s\n",
      "41:\tlearn: 2204.9027443\ttotal: 770ms\tremaining: 1.06s\n",
      "42:\tlearn: 2200.4830222\ttotal: 788ms\tremaining: 1.04s\n",
      "43:\tlearn: 2196.3536984\ttotal: 807ms\tremaining: 1.03s\n",
      "44:\tlearn: 2191.6896027\ttotal: 825ms\tremaining: 1.01s\n",
      "45:\tlearn: 2188.4063020\ttotal: 843ms\tremaining: 990ms\n",
      "46:\tlearn: 2184.9075491\ttotal: 861ms\tremaining: 971ms\n",
      "47:\tlearn: 2181.7338633\ttotal: 879ms\tremaining: 953ms\n",
      "48:\tlearn: 2177.8973941\ttotal: 901ms\tremaining: 938ms\n",
      "49:\tlearn: 2175.0644758\ttotal: 920ms\tremaining: 920ms\n",
      "50:\tlearn: 2170.6930939\ttotal: 939ms\tremaining: 902ms\n",
      "51:\tlearn: 2167.8497670\ttotal: 957ms\tremaining: 884ms\n",
      "52:\tlearn: 2163.4635945\ttotal: 976ms\tremaining: 866ms\n",
      "53:\tlearn: 2161.2464703\ttotal: 995ms\tremaining: 847ms\n",
      "54:\tlearn: 2159.1286844\ttotal: 1.01s\tremaining: 828ms\n",
      "55:\tlearn: 2156.4783689\ttotal: 1.03s\tremaining: 809ms\n",
      "56:\tlearn: 2151.3996268\ttotal: 1.05s\tremaining: 790ms\n",
      "57:\tlearn: 2147.0298648\ttotal: 1.06s\tremaining: 772ms\n",
      "58:\tlearn: 2145.2489204\ttotal: 1.08s\tremaining: 753ms\n",
      "59:\tlearn: 2141.2584730\ttotal: 1.1s\tremaining: 737ms\n",
      "60:\tlearn: 2139.2964623\ttotal: 1.12s\tremaining: 718ms\n",
      "61:\tlearn: 2137.4489972\ttotal: 1.14s\tremaining: 699ms\n",
      "62:\tlearn: 2134.0074263\ttotal: 1.16s\tremaining: 680ms\n",
      "63:\tlearn: 2132.3034355\ttotal: 1.18s\tremaining: 662ms\n",
      "64:\tlearn: 2130.4781315\ttotal: 1.19s\tremaining: 643ms\n",
      "65:\tlearn: 2127.5229168\ttotal: 1.21s\tremaining: 625ms\n",
      "66:\tlearn: 2125.8311627\ttotal: 1.23s\tremaining: 606ms\n",
      "67:\tlearn: 2122.8116091\ttotal: 1.25s\tremaining: 587ms\n",
      "68:\tlearn: 2120.1415211\ttotal: 1.26s\tremaining: 568ms\n",
      "69:\tlearn: 2117.7262590\ttotal: 1.28s\tremaining: 550ms\n",
      "70:\tlearn: 2112.1561066\ttotal: 1.3s\tremaining: 533ms\n",
      "71:\tlearn: 2110.5040546\ttotal: 1.32s\tremaining: 514ms\n",
      "72:\tlearn: 2107.7198161\ttotal: 1.34s\tremaining: 496ms\n",
      "73:\tlearn: 2104.1516845\ttotal: 1.36s\tremaining: 477ms\n",
      "74:\tlearn: 2101.7473228\ttotal: 1.38s\tremaining: 459ms\n",
      "75:\tlearn: 2100.3483030\ttotal: 1.39s\tremaining: 440ms\n",
      "76:\tlearn: 2099.1578929\ttotal: 1.41s\tremaining: 422ms\n",
      "77:\tlearn: 2097.0490481\ttotal: 1.43s\tremaining: 403ms\n",
      "78:\tlearn: 2095.8472747\ttotal: 1.45s\tremaining: 384ms\n",
      "79:\tlearn: 2092.8357965\ttotal: 1.46s\tremaining: 366ms\n",
      "80:\tlearn: 2089.0870337\ttotal: 1.48s\tremaining: 348ms\n",
      "81:\tlearn: 2087.1825942\ttotal: 1.5s\tremaining: 330ms\n",
      "82:\tlearn: 2084.8175341\ttotal: 1.52s\tremaining: 312ms\n",
      "83:\tlearn: 2082.8432588\ttotal: 1.54s\tremaining: 293ms\n",
      "84:\tlearn: 2078.5920472\ttotal: 1.56s\tremaining: 275ms\n",
      "85:\tlearn: 2077.6474075\ttotal: 1.58s\tremaining: 257ms\n",
      "86:\tlearn: 2074.9434226\ttotal: 1.6s\tremaining: 239ms\n",
      "87:\tlearn: 2073.4694369\ttotal: 1.61s\tremaining: 220ms\n",
      "88:\tlearn: 2070.6774552\ttotal: 1.63s\tremaining: 202ms\n",
      "89:\tlearn: 2069.4441105\ttotal: 1.65s\tremaining: 183ms\n",
      "90:\tlearn: 2067.9155546\ttotal: 1.67s\tremaining: 165ms\n",
      "91:\tlearn: 2065.4394713\ttotal: 1.69s\tremaining: 147ms\n",
      "92:\tlearn: 2064.4378257\ttotal: 1.71s\tremaining: 128ms\n",
      "93:\tlearn: 2062.3044706\ttotal: 1.73s\tremaining: 110ms\n",
      "94:\tlearn: 2060.7991763\ttotal: 1.74s\tremaining: 91.8ms\n",
      "95:\tlearn: 2059.2371773\ttotal: 1.76s\tremaining: 73.4ms\n",
      "96:\tlearn: 2057.0437637\ttotal: 1.78s\tremaining: 55.1ms\n",
      "97:\tlearn: 2054.6328920\ttotal: 1.8s\tremaining: 36.7ms\n",
      "98:\tlearn: 2052.9115696\ttotal: 1.82s\tremaining: 18.4ms\n",
      "99:\tlearn: 2052.0044559\ttotal: 1.84s\tremaining: 0us\n"
     ]
    },
    {
     "name": "stdout",
     "output_type": "stream",
     "text": [
      "0:\tlearn: 4722.7557965\ttotal: 21.9ms\tremaining: 2.17s\n",
      "1:\tlearn: 4430.7160136\ttotal: 43.2ms\tremaining: 2.12s\n",
      "2:\tlearn: 4173.6426092\ttotal: 64ms\tremaining: 2.07s\n",
      "3:\tlearn: 3947.2431326\ttotal: 82.1ms\tremaining: 1.97s\n",
      "4:\tlearn: 3750.1954664\ttotal: 100ms\tremaining: 1.9s\n",
      "5:\tlearn: 3578.1413713\ttotal: 119ms\tremaining: 1.87s\n",
      "6:\tlearn: 3430.3749455\ttotal: 137ms\tremaining: 1.83s\n",
      "7:\tlearn: 3296.5261919\ttotal: 156ms\tremaining: 1.8s\n",
      "8:\tlearn: 3179.6703125\ttotal: 175ms\tremaining: 1.77s\n",
      "9:\tlearn: 3081.1055985\ttotal: 193ms\tremaining: 1.74s\n",
      "10:\tlearn: 2979.9762098\ttotal: 213ms\tremaining: 1.72s\n",
      "11:\tlearn: 2890.4320956\ttotal: 231ms\tremaining: 1.69s\n",
      "12:\tlearn: 2812.4226839\ttotal: 250ms\tremaining: 1.67s\n",
      "13:\tlearn: 2742.8045676\ttotal: 268ms\tremaining: 1.65s\n",
      "14:\tlearn: 2682.5024169\ttotal: 290ms\tremaining: 1.64s\n",
      "15:\tlearn: 2632.5416738\ttotal: 309ms\tremaining: 1.62s\n",
      "16:\tlearn: 2590.6842209\ttotal: 327ms\tremaining: 1.59s\n",
      "17:\tlearn: 2551.7277018\ttotal: 345ms\tremaining: 1.57s\n",
      "18:\tlearn: 2519.1253554\ttotal: 363ms\tremaining: 1.55s\n",
      "19:\tlearn: 2488.0066626\ttotal: 381ms\tremaining: 1.52s\n",
      "20:\tlearn: 2460.7235619\ttotal: 400ms\tremaining: 1.5s\n",
      "21:\tlearn: 2436.3244774\ttotal: 419ms\tremaining: 1.48s\n",
      "22:\tlearn: 2414.7032030\ttotal: 436ms\tremaining: 1.46s\n",
      "23:\tlearn: 2389.1874859\ttotal: 455ms\tremaining: 1.44s\n",
      "24:\tlearn: 2367.4105636\ttotal: 477ms\tremaining: 1.43s\n",
      "25:\tlearn: 2348.2639440\ttotal: 495ms\tremaining: 1.41s\n",
      "26:\tlearn: 2331.7135559\ttotal: 514ms\tremaining: 1.39s\n",
      "27:\tlearn: 2316.7460253\ttotal: 532ms\tremaining: 1.37s\n",
      "28:\tlearn: 2302.0223701\ttotal: 550ms\tremaining: 1.35s\n",
      "29:\tlearn: 2289.9760309\ttotal: 568ms\tremaining: 1.32s\n",
      "30:\tlearn: 2280.3657692\ttotal: 585ms\tremaining: 1.3s\n",
      "31:\tlearn: 2271.5793829\ttotal: 603ms\tremaining: 1.28s\n",
      "32:\tlearn: 2262.7357526\ttotal: 621ms\tremaining: 1.26s\n",
      "33:\tlearn: 2255.6320547\ttotal: 639ms\tremaining: 1.24s\n",
      "34:\tlearn: 2246.6766404\ttotal: 657ms\tremaining: 1.22s\n",
      "35:\tlearn: 2238.5394869\ttotal: 680ms\tremaining: 1.21s\n",
      "36:\tlearn: 2231.8631713\ttotal: 697ms\tremaining: 1.19s\n",
      "37:\tlearn: 2225.6453387\ttotal: 716ms\tremaining: 1.17s\n",
      "38:\tlearn: 2220.5387726\ttotal: 735ms\tremaining: 1.15s\n",
      "39:\tlearn: 2215.6645222\ttotal: 753ms\tremaining: 1.13s\n",
      "40:\tlearn: 2211.5457958\ttotal: 771ms\tremaining: 1.11s\n",
      "41:\tlearn: 2205.3581238\ttotal: 791ms\tremaining: 1.09s\n",
      "42:\tlearn: 2201.4123003\ttotal: 808ms\tremaining: 1.07s\n",
      "43:\tlearn: 2196.8878167\ttotal: 827ms\tremaining: 1.05s\n",
      "44:\tlearn: 2191.2352898\ttotal: 845ms\tremaining: 1.03s\n",
      "45:\tlearn: 2186.2386663\ttotal: 864ms\tremaining: 1.01s\n",
      "46:\tlearn: 2181.9477594\ttotal: 881ms\tremaining: 994ms\n",
      "47:\tlearn: 2179.1465323\ttotal: 899ms\tremaining: 974ms\n",
      "48:\tlearn: 2176.4033157\ttotal: 917ms\tremaining: 954ms\n",
      "49:\tlearn: 2173.0623502\ttotal: 935ms\tremaining: 935ms\n",
      "50:\tlearn: 2168.8894844\ttotal: 953ms\tremaining: 915ms\n",
      "51:\tlearn: 2165.9644219\ttotal: 971ms\tremaining: 897ms\n",
      "52:\tlearn: 2163.9450026\ttotal: 990ms\tremaining: 878ms\n",
      "53:\tlearn: 2160.0205160\ttotal: 1.01s\tremaining: 858ms\n",
      "54:\tlearn: 2157.4748712\ttotal: 1.02s\tremaining: 839ms\n",
      "55:\tlearn: 2155.1889568\ttotal: 1.04s\tremaining: 820ms\n",
      "56:\tlearn: 2151.2884507\ttotal: 1.06s\tremaining: 801ms\n",
      "57:\tlearn: 2148.1705433\ttotal: 1.08s\tremaining: 785ms\n",
      "58:\tlearn: 2145.2967455\ttotal: 1.1s\tremaining: 766ms\n",
      "59:\tlearn: 2143.6730958\ttotal: 1.12s\tremaining: 746ms\n",
      "60:\tlearn: 2141.9644458\ttotal: 1.14s\tremaining: 727ms\n",
      "61:\tlearn: 2139.2849175\ttotal: 1.15s\tremaining: 708ms\n",
      "62:\tlearn: 2136.6296638\ttotal: 1.17s\tremaining: 688ms\n",
      "63:\tlearn: 2134.2890085\ttotal: 1.19s\tremaining: 670ms\n",
      "64:\tlearn: 2131.6973158\ttotal: 1.21s\tremaining: 651ms\n",
      "65:\tlearn: 2130.2380463\ttotal: 1.23s\tremaining: 632ms\n",
      "66:\tlearn: 2129.1961847\ttotal: 1.24s\tremaining: 613ms\n",
      "67:\tlearn: 2124.4255543\ttotal: 1.26s\tremaining: 594ms\n",
      "68:\tlearn: 2122.7299803\ttotal: 1.28s\tremaining: 577ms\n",
      "69:\tlearn: 2119.8480496\ttotal: 1.3s\tremaining: 558ms\n",
      "70:\tlearn: 2117.3618655\ttotal: 1.32s\tremaining: 540ms\n",
      "71:\tlearn: 2115.6438965\ttotal: 1.34s\tremaining: 521ms\n",
      "72:\tlearn: 2113.1190107\ttotal: 1.36s\tremaining: 502ms\n",
      "73:\tlearn: 2111.6059024\ttotal: 1.38s\tremaining: 483ms\n",
      "74:\tlearn: 2109.0070042\ttotal: 1.39s\tremaining: 464ms\n",
      "75:\tlearn: 2107.0833643\ttotal: 1.41s\tremaining: 445ms\n",
      "76:\tlearn: 2103.8330142\ttotal: 1.43s\tremaining: 427ms\n",
      "77:\tlearn: 2100.1733589\ttotal: 1.45s\tremaining: 408ms\n",
      "78:\tlearn: 2096.6403895\ttotal: 1.46s\tremaining: 389ms\n",
      "79:\tlearn: 2093.2750130\ttotal: 1.48s\tremaining: 370ms\n",
      "80:\tlearn: 2091.9308908\ttotal: 1.5s\tremaining: 352ms\n",
      "81:\tlearn: 2089.4720247\ttotal: 1.52s\tremaining: 333ms\n",
      "82:\tlearn: 2086.9305541\ttotal: 1.53s\tremaining: 314ms\n",
      "83:\tlearn: 2084.8997164\ttotal: 1.55s\tremaining: 296ms\n",
      "84:\tlearn: 2083.2389827\ttotal: 1.57s\tremaining: 277ms\n",
      "85:\tlearn: 2080.4641469\ttotal: 1.59s\tremaining: 259ms\n",
      "86:\tlearn: 2078.5375513\ttotal: 1.61s\tremaining: 240ms\n",
      "87:\tlearn: 2077.1371624\ttotal: 1.62s\tremaining: 221ms\n",
      "88:\tlearn: 2075.0323172\ttotal: 1.64s\tremaining: 203ms\n",
      "89:\tlearn: 2073.4245259\ttotal: 1.66s\tremaining: 184ms\n",
      "90:\tlearn: 2071.8078162\ttotal: 1.68s\tremaining: 166ms\n",
      "91:\tlearn: 2071.0885065\ttotal: 1.7s\tremaining: 147ms\n",
      "92:\tlearn: 2068.6299693\ttotal: 1.71s\tremaining: 129ms\n",
      "93:\tlearn: 2067.0840981\ttotal: 1.73s\tremaining: 110ms\n",
      "94:\tlearn: 2065.2580202\ttotal: 1.75s\tremaining: 92ms\n",
      "95:\tlearn: 2063.4727842\ttotal: 1.77s\tremaining: 73.8ms\n",
      "96:\tlearn: 2062.0081310\ttotal: 1.79s\tremaining: 55.3ms\n",
      "97:\tlearn: 2060.3583222\ttotal: 1.81s\tremaining: 36.9ms\n",
      "98:\tlearn: 2059.7110905\ttotal: 1.83s\tremaining: 18.5ms\n",
      "99:\tlearn: 2058.7693952\ttotal: 1.84s\tremaining: 0us\n",
      "0:\tlearn: 4716.5816823\ttotal: 32ms\tremaining: 3.17s\n",
      "1:\tlearn: 4423.8849617\ttotal: 59ms\tremaining: 2.89s\n",
      "2:\tlearn: 4170.5958233\ttotal: 85.8ms\tremaining: 2.77s\n",
      "3:\tlearn: 3949.1875418\ttotal: 113ms\tremaining: 2.71s\n",
      "4:\tlearn: 3754.5896111\ttotal: 143ms\tremaining: 2.71s\n",
      "5:\tlearn: 3584.5388602\ttotal: 174ms\tremaining: 2.72s\n",
      "6:\tlearn: 3426.7204546\ttotal: 201ms\tremaining: 2.67s\n",
      "7:\tlearn: 3293.2692525\ttotal: 228ms\tremaining: 2.62s\n",
      "8:\tlearn: 3179.9223720\ttotal: 255ms\tremaining: 2.58s\n",
      "9:\tlearn: 3078.1568558\ttotal: 281ms\tremaining: 2.53s\n",
      "10:\tlearn: 2973.3783474\ttotal: 308ms\tremaining: 2.49s\n",
      "11:\tlearn: 2883.3364337\ttotal: 335ms\tremaining: 2.46s\n",
      "12:\tlearn: 2805.4127656\ttotal: 362ms\tremaining: 2.42s\n",
      "13:\tlearn: 2739.8297314\ttotal: 388ms\tremaining: 2.38s\n",
      "14:\tlearn: 2679.9049351\ttotal: 415ms\tremaining: 2.35s\n",
      "15:\tlearn: 2629.8174357\ttotal: 441ms\tremaining: 2.32s\n",
      "16:\tlearn: 2586.8776116\ttotal: 469ms\tremaining: 2.29s\n",
      "17:\tlearn: 2547.1265240\ttotal: 496ms\tremaining: 2.26s\n",
      "18:\tlearn: 2515.6416322\ttotal: 527ms\tremaining: 2.25s\n",
      "19:\tlearn: 2485.3445599\ttotal: 555ms\tremaining: 2.22s\n",
      "20:\tlearn: 2456.9819471\ttotal: 584ms\tremaining: 2.2s\n",
      "21:\tlearn: 2434.8975398\ttotal: 611ms\tremaining: 2.17s\n",
      "22:\tlearn: 2406.3587663\ttotal: 639ms\tremaining: 2.14s\n",
      "23:\tlearn: 2381.3478017\ttotal: 667ms\tremaining: 2.11s\n",
      "24:\tlearn: 2359.2292100\ttotal: 695ms\tremaining: 2.09s\n",
      "25:\tlearn: 2340.1080540\ttotal: 726ms\tremaining: 2.07s\n",
      "26:\tlearn: 2323.7615566\ttotal: 755ms\tremaining: 2.04s\n",
      "27:\tlearn: 2310.0798981\ttotal: 781ms\tremaining: 2.01s\n",
      "28:\tlearn: 2294.5147944\ttotal: 808ms\tremaining: 1.98s\n",
      "29:\tlearn: 2282.0882594\ttotal: 835ms\tremaining: 1.95s\n",
      "30:\tlearn: 2271.0524720\ttotal: 862ms\tremaining: 1.92s\n",
      "31:\tlearn: 2260.7744623\ttotal: 888ms\tremaining: 1.89s\n",
      "32:\tlearn: 2251.8687894\ttotal: 915ms\tremaining: 1.86s\n",
      "33:\tlearn: 2243.6600211\ttotal: 945ms\tremaining: 1.83s\n",
      "34:\tlearn: 2234.6916494\ttotal: 971ms\tremaining: 1.8s\n",
      "35:\tlearn: 2226.9516536\ttotal: 998ms\tremaining: 1.77s\n",
      "36:\tlearn: 2220.9243840\ttotal: 1.02s\tremaining: 1.74s\n",
      "37:\tlearn: 2214.3057146\ttotal: 1.05s\tremaining: 1.71s\n",
      "38:\tlearn: 2207.2015298\ttotal: 1.07s\tremaining: 1.68s\n",
      "39:\tlearn: 2202.2891910\ttotal: 1.1s\tremaining: 1.65s\n",
      "40:\tlearn: 2196.9368567\ttotal: 1.13s\tremaining: 1.63s\n",
      "41:\tlearn: 2193.0456206\ttotal: 1.16s\tremaining: 1.59s\n",
      "42:\tlearn: 2189.0662670\ttotal: 1.18s\tremaining: 1.56s\n",
      "43:\tlearn: 2184.9344796\ttotal: 1.21s\tremaining: 1.53s\n",
      "44:\tlearn: 2179.2959922\ttotal: 1.23s\tremaining: 1.51s\n",
      "45:\tlearn: 2175.0135839\ttotal: 1.26s\tremaining: 1.48s\n",
      "46:\tlearn: 2171.1348744\ttotal: 1.28s\tremaining: 1.45s\n",
      "47:\tlearn: 2167.2532432\ttotal: 1.31s\tremaining: 1.42s\n",
      "48:\tlearn: 2164.7740293\ttotal: 1.34s\tremaining: 1.39s\n",
      "49:\tlearn: 2159.5115778\ttotal: 1.36s\tremaining: 1.36s\n",
      "50:\tlearn: 2156.7607797\ttotal: 1.39s\tremaining: 1.33s\n",
      "51:\tlearn: 2153.0471083\ttotal: 1.42s\tremaining: 1.31s\n",
      "52:\tlearn: 2150.2993559\ttotal: 1.44s\tremaining: 1.28s\n",
      "53:\tlearn: 2147.1588470\ttotal: 1.47s\tremaining: 1.25s\n",
      "54:\tlearn: 2142.9259847\ttotal: 1.5s\tremaining: 1.22s\n",
      "55:\tlearn: 2140.4853968\ttotal: 1.52s\tremaining: 1.2s\n"
     ]
    },
    {
     "name": "stdout",
     "output_type": "stream",
     "text": [
      "56:\tlearn: 2137.7527320\ttotal: 1.55s\tremaining: 1.17s\n",
      "57:\tlearn: 2134.6991911\ttotal: 1.57s\tremaining: 1.14s\n",
      "58:\tlearn: 2130.9979520\ttotal: 1.6s\tremaining: 1.11s\n",
      "59:\tlearn: 2128.5914946\ttotal: 1.63s\tremaining: 1.08s\n",
      "60:\tlearn: 2125.3706295\ttotal: 1.65s\tremaining: 1.05s\n",
      "61:\tlearn: 2123.5202310\ttotal: 1.68s\tremaining: 1.03s\n",
      "62:\tlearn: 2120.9565525\ttotal: 1.7s\tremaining: 1000ms\n",
      "63:\tlearn: 2117.9998491\ttotal: 1.73s\tremaining: 972ms\n",
      "64:\tlearn: 2114.8439198\ttotal: 1.75s\tremaining: 945ms\n",
      "65:\tlearn: 2113.0136762\ttotal: 1.78s\tremaining: 917ms\n",
      "66:\tlearn: 2110.5262336\ttotal: 1.81s\tremaining: 890ms\n",
      "67:\tlearn: 2108.4272871\ttotal: 1.84s\tremaining: 864ms\n",
      "68:\tlearn: 2106.4255944\ttotal: 1.86s\tremaining: 837ms\n",
      "69:\tlearn: 2104.8452090\ttotal: 1.89s\tremaining: 810ms\n",
      "70:\tlearn: 2102.9051988\ttotal: 1.92s\tremaining: 782ms\n",
      "71:\tlearn: 2101.0073902\ttotal: 1.94s\tremaining: 755ms\n",
      "72:\tlearn: 2099.0171377\ttotal: 1.97s\tremaining: 728ms\n",
      "73:\tlearn: 2096.2243950\ttotal: 1.99s\tremaining: 700ms\n",
      "74:\tlearn: 2094.2744504\ttotal: 2.02s\tremaining: 674ms\n",
      "75:\tlearn: 2091.2946478\ttotal: 2.05s\tremaining: 647ms\n",
      "76:\tlearn: 2089.4001550\ttotal: 2.08s\tremaining: 621ms\n",
      "77:\tlearn: 2086.1309366\ttotal: 2.1s\tremaining: 594ms\n",
      "78:\tlearn: 2083.9318504\ttotal: 2.13s\tremaining: 567ms\n",
      "79:\tlearn: 2082.0760843\ttotal: 2.16s\tremaining: 540ms\n",
      "80:\tlearn: 2080.3389932\ttotal: 2.19s\tremaining: 513ms\n",
      "81:\tlearn: 2078.1849153\ttotal: 2.22s\tremaining: 487ms\n",
      "82:\tlearn: 2076.8334618\ttotal: 2.25s\tremaining: 460ms\n",
      "83:\tlearn: 2075.6279778\ttotal: 2.27s\tremaining: 433ms\n",
      "84:\tlearn: 2073.4679933\ttotal: 2.3s\tremaining: 406ms\n",
      "85:\tlearn: 2071.6971494\ttotal: 2.33s\tremaining: 379ms\n",
      "86:\tlearn: 2070.3545395\ttotal: 2.35s\tremaining: 352ms\n",
      "87:\tlearn: 2068.6023421\ttotal: 2.38s\tremaining: 325ms\n",
      "88:\tlearn: 2065.6529933\ttotal: 2.41s\tremaining: 298ms\n",
      "89:\tlearn: 2063.2516273\ttotal: 2.44s\tremaining: 271ms\n",
      "90:\tlearn: 2061.8143788\ttotal: 2.47s\tremaining: 244ms\n",
      "91:\tlearn: 2060.1082641\ttotal: 2.5s\tremaining: 217ms\n",
      "92:\tlearn: 2057.0212181\ttotal: 2.53s\tremaining: 190ms\n",
      "93:\tlearn: 2055.5374490\ttotal: 2.55s\tremaining: 163ms\n",
      "94:\tlearn: 2052.9716565\ttotal: 2.58s\tremaining: 136ms\n",
      "95:\tlearn: 2052.2035965\ttotal: 2.61s\tremaining: 109ms\n",
      "96:\tlearn: 2051.1310916\ttotal: 2.63s\tremaining: 81.4ms\n",
      "97:\tlearn: 2049.7257713\ttotal: 2.66s\tremaining: 54.3ms\n",
      "98:\tlearn: 2048.6290837\ttotal: 2.69s\tremaining: 27.1ms\n",
      "99:\tlearn: 2047.0590673\ttotal: 2.72s\tremaining: 0us\n",
      "0:\tlearn: 4716.5816823\ttotal: 36.1ms\tremaining: 3.57s\n",
      "1:\tlearn: 4423.8849617\ttotal: 63.5ms\tremaining: 3.11s\n",
      "2:\tlearn: 4170.5958233\ttotal: 91.6ms\tremaining: 2.96s\n",
      "3:\tlearn: 3949.1875418\ttotal: 120ms\tremaining: 2.87s\n",
      "4:\tlearn: 3754.5896111\ttotal: 149ms\tremaining: 2.84s\n",
      "5:\tlearn: 3584.5388602\ttotal: 182ms\tremaining: 2.85s\n",
      "6:\tlearn: 3426.7204546\ttotal: 211ms\tremaining: 2.8s\n",
      "7:\tlearn: 3293.2692525\ttotal: 239ms\tremaining: 2.75s\n",
      "8:\tlearn: 3179.9223720\ttotal: 265ms\tremaining: 2.68s\n",
      "9:\tlearn: 3078.1568558\ttotal: 292ms\tremaining: 2.63s\n",
      "10:\tlearn: 2973.3783474\ttotal: 325ms\tremaining: 2.63s\n",
      "11:\tlearn: 2883.3364337\ttotal: 352ms\tremaining: 2.58s\n",
      "12:\tlearn: 2805.4127656\ttotal: 378ms\tremaining: 2.53s\n",
      "13:\tlearn: 2739.8297314\ttotal: 405ms\tremaining: 2.49s\n",
      "14:\tlearn: 2679.9049351\ttotal: 433ms\tremaining: 2.45s\n",
      "15:\tlearn: 2629.8174357\ttotal: 459ms\tremaining: 2.41s\n",
      "16:\tlearn: 2586.8776116\ttotal: 485ms\tremaining: 2.37s\n",
      "17:\tlearn: 2547.1265240\ttotal: 516ms\tremaining: 2.35s\n",
      "18:\tlearn: 2515.6416322\ttotal: 542ms\tremaining: 2.31s\n",
      "19:\tlearn: 2485.3445599\ttotal: 568ms\tremaining: 2.27s\n",
      "20:\tlearn: 2456.9819471\ttotal: 596ms\tremaining: 2.24s\n",
      "21:\tlearn: 2434.8975398\ttotal: 622ms\tremaining: 2.21s\n",
      "22:\tlearn: 2406.3587663\ttotal: 649ms\tremaining: 2.17s\n",
      "23:\tlearn: 2381.3478017\ttotal: 676ms\tremaining: 2.14s\n",
      "24:\tlearn: 2359.2292100\ttotal: 707ms\tremaining: 2.12s\n",
      "25:\tlearn: 2340.1080540\ttotal: 732ms\tremaining: 2.08s\n",
      "26:\tlearn: 2323.7615566\ttotal: 757ms\tremaining: 2.05s\n",
      "27:\tlearn: 2310.0798981\ttotal: 784ms\tremaining: 2.02s\n",
      "28:\tlearn: 2294.5147944\ttotal: 810ms\tremaining: 1.98s\n",
      "29:\tlearn: 2282.0882594\ttotal: 837ms\tremaining: 1.95s\n",
      "30:\tlearn: 2271.0524720\ttotal: 863ms\tremaining: 1.92s\n",
      "31:\tlearn: 2260.7744623\ttotal: 889ms\tremaining: 1.89s\n",
      "32:\tlearn: 2251.8687894\ttotal: 919ms\tremaining: 1.87s\n",
      "33:\tlearn: 2243.6600211\ttotal: 946ms\tremaining: 1.83s\n",
      "34:\tlearn: 2234.6916494\ttotal: 972ms\tremaining: 1.8s\n",
      "35:\tlearn: 2226.9516536\ttotal: 998ms\tremaining: 1.77s\n",
      "36:\tlearn: 2220.9243840\ttotal: 1.02s\tremaining: 1.74s\n",
      "37:\tlearn: 2214.3057146\ttotal: 1.05s\tremaining: 1.71s\n",
      "38:\tlearn: 2207.2015298\ttotal: 1.08s\tremaining: 1.69s\n",
      "39:\tlearn: 2202.2891910\ttotal: 1.11s\tremaining: 1.66s\n",
      "40:\tlearn: 2196.9368567\ttotal: 1.13s\tremaining: 1.63s\n",
      "41:\tlearn: 2193.0456206\ttotal: 1.16s\tremaining: 1.6s\n",
      "42:\tlearn: 2189.0662670\ttotal: 1.18s\tremaining: 1.57s\n",
      "43:\tlearn: 2184.9344796\ttotal: 1.21s\tremaining: 1.54s\n",
      "44:\tlearn: 2179.2959922\ttotal: 1.24s\tremaining: 1.51s\n",
      "45:\tlearn: 2175.0135839\ttotal: 1.26s\tremaining: 1.48s\n",
      "46:\tlearn: 2171.1348744\ttotal: 1.29s\tremaining: 1.45s\n",
      "47:\tlearn: 2167.2532432\ttotal: 1.31s\tremaining: 1.42s\n",
      "48:\tlearn: 2164.7740293\ttotal: 1.34s\tremaining: 1.39s\n",
      "49:\tlearn: 2159.5115778\ttotal: 1.36s\tremaining: 1.36s\n",
      "50:\tlearn: 2156.7607797\ttotal: 1.4s\tremaining: 1.34s\n",
      "51:\tlearn: 2153.0471083\ttotal: 1.42s\tremaining: 1.31s\n",
      "52:\tlearn: 2150.2993559\ttotal: 1.45s\tremaining: 1.28s\n",
      "53:\tlearn: 2147.1588470\ttotal: 1.47s\tremaining: 1.25s\n",
      "54:\tlearn: 2142.9259847\ttotal: 1.5s\tremaining: 1.23s\n",
      "55:\tlearn: 2140.4853968\ttotal: 1.52s\tremaining: 1.2s\n",
      "56:\tlearn: 2137.7527320\ttotal: 1.55s\tremaining: 1.17s\n",
      "57:\tlearn: 2134.6991911\ttotal: 1.57s\tremaining: 1.14s\n",
      "58:\tlearn: 2130.9979520\ttotal: 1.6s\tremaining: 1.11s\n",
      "59:\tlearn: 2128.5914946\ttotal: 1.63s\tremaining: 1.09s\n",
      "60:\tlearn: 2125.3706295\ttotal: 1.66s\tremaining: 1.06s\n",
      "61:\tlearn: 2123.5202310\ttotal: 1.68s\tremaining: 1.03s\n",
      "62:\tlearn: 2120.9565525\ttotal: 1.71s\tremaining: 1s\n",
      "63:\tlearn: 2117.9998491\ttotal: 1.73s\tremaining: 975ms\n",
      "64:\tlearn: 2114.8439198\ttotal: 1.76s\tremaining: 948ms\n",
      "65:\tlearn: 2113.0136762\ttotal: 1.79s\tremaining: 920ms\n",
      "66:\tlearn: 2110.5262336\ttotal: 1.82s\tremaining: 895ms\n",
      "67:\tlearn: 2108.4272871\ttotal: 1.84s\tremaining: 868ms\n",
      "68:\tlearn: 2106.4255944\ttotal: 1.87s\tremaining: 841ms\n",
      "69:\tlearn: 2104.8452090\ttotal: 1.9s\tremaining: 814ms\n",
      "70:\tlearn: 2102.9051988\ttotal: 1.93s\tremaining: 786ms\n",
      "71:\tlearn: 2101.0073902\ttotal: 1.95s\tremaining: 759ms\n",
      "72:\tlearn: 2099.0171377\ttotal: 1.98s\tremaining: 732ms\n",
      "73:\tlearn: 2096.2243950\ttotal: 2.01s\tremaining: 706ms\n",
      "74:\tlearn: 2094.2744504\ttotal: 2.04s\tremaining: 678ms\n",
      "75:\tlearn: 2091.2946478\ttotal: 2.06s\tremaining: 651ms\n",
      "76:\tlearn: 2089.4001550\ttotal: 2.09s\tremaining: 624ms\n",
      "77:\tlearn: 2086.1309366\ttotal: 2.11s\tremaining: 597ms\n",
      "78:\tlearn: 2083.9318504\ttotal: 2.14s\tremaining: 569ms\n",
      "79:\tlearn: 2082.0760843\ttotal: 2.17s\tremaining: 542ms\n",
      "80:\tlearn: 2080.3389932\ttotal: 2.2s\tremaining: 515ms\n",
      "81:\tlearn: 2078.1849153\ttotal: 2.22s\tremaining: 488ms\n",
      "82:\tlearn: 2076.8334618\ttotal: 2.25s\tremaining: 461ms\n",
      "83:\tlearn: 2075.6279778\ttotal: 2.27s\tremaining: 433ms\n",
      "84:\tlearn: 2073.4679933\ttotal: 2.3s\tremaining: 406ms\n",
      "85:\tlearn: 2071.6971494\ttotal: 2.33s\tremaining: 379ms\n",
      "86:\tlearn: 2070.3545395\ttotal: 2.35s\tremaining: 352ms\n",
      "87:\tlearn: 2068.6023421\ttotal: 2.38s\tremaining: 324ms\n",
      "88:\tlearn: 2065.6529933\ttotal: 2.41s\tremaining: 298ms\n",
      "89:\tlearn: 2063.2516273\ttotal: 2.44s\tremaining: 271ms\n",
      "90:\tlearn: 2061.8143788\ttotal: 2.46s\tremaining: 243ms\n",
      "91:\tlearn: 2060.1082641\ttotal: 2.49s\tremaining: 216ms\n",
      "92:\tlearn: 2057.0212181\ttotal: 2.51s\tremaining: 189ms\n",
      "93:\tlearn: 2055.5374490\ttotal: 2.54s\tremaining: 162ms\n",
      "94:\tlearn: 2052.9716565\ttotal: 2.57s\tremaining: 135ms\n",
      "95:\tlearn: 2052.2035965\ttotal: 2.6s\tremaining: 108ms\n",
      "96:\tlearn: 2051.1310916\ttotal: 2.62s\tremaining: 81.1ms\n",
      "97:\tlearn: 2049.7257713\ttotal: 2.65s\tremaining: 54.1ms\n",
      "98:\tlearn: 2048.6290837\ttotal: 2.67s\tremaining: 27ms\n",
      "99:\tlearn: 2047.0590673\ttotal: 2.7s\tremaining: 0us\n",
      "0:\tlearn: 4722.5015929\ttotal: 28.4ms\tremaining: 2.81s\n",
      "1:\tlearn: 4425.5967047\ttotal: 52.4ms\tremaining: 2.57s\n",
      "2:\tlearn: 4169.8198390\ttotal: 74.6ms\tremaining: 2.41s\n",
      "3:\tlearn: 3944.0002473\ttotal: 99.9ms\tremaining: 2.4s\n",
      "4:\tlearn: 3752.8688791\ttotal: 122ms\tremaining: 2.32s\n",
      "5:\tlearn: 3579.1870278\ttotal: 144ms\tremaining: 2.26s\n",
      "6:\tlearn: 3426.7494354\ttotal: 166ms\tremaining: 2.21s\n",
      "7:\tlearn: 3294.6376740\ttotal: 189ms\tremaining: 2.17s\n",
      "8:\tlearn: 3181.7697704\ttotal: 211ms\tremaining: 2.13s\n"
     ]
    },
    {
     "name": "stdout",
     "output_type": "stream",
     "text": [
      "9:\tlearn: 3081.3477690\ttotal: 233ms\tremaining: 2.1s\n",
      "10:\tlearn: 2979.7731024\ttotal: 257ms\tremaining: 2.08s\n",
      "11:\tlearn: 2894.1810804\ttotal: 280ms\tremaining: 2.05s\n",
      "12:\tlearn: 2817.0925359\ttotal: 306ms\tremaining: 2.04s\n",
      "13:\tlearn: 2749.4861711\ttotal: 326ms\tremaining: 2s\n",
      "14:\tlearn: 2693.3754085\ttotal: 347ms\tremaining: 1.97s\n",
      "15:\tlearn: 2645.1539579\ttotal: 368ms\tremaining: 1.93s\n",
      "16:\tlearn: 2601.4331985\ttotal: 390ms\tremaining: 1.9s\n",
      "17:\tlearn: 2564.9021285\ttotal: 411ms\tremaining: 1.87s\n",
      "18:\tlearn: 2524.0251701\ttotal: 431ms\tremaining: 1.84s\n",
      "19:\tlearn: 2487.6905798\ttotal: 453ms\tremaining: 1.81s\n",
      "20:\tlearn: 2456.2022449\ttotal: 475ms\tremaining: 1.78s\n",
      "21:\tlearn: 2431.0659388\ttotal: 500ms\tremaining: 1.77s\n",
      "22:\tlearn: 2406.1711475\ttotal: 521ms\tremaining: 1.74s\n",
      "23:\tlearn: 2385.0524833\ttotal: 541ms\tremaining: 1.71s\n",
      "24:\tlearn: 2360.4763536\ttotal: 563ms\tremaining: 1.69s\n",
      "25:\tlearn: 2338.2781285\ttotal: 585ms\tremaining: 1.66s\n",
      "26:\tlearn: 2321.4720281\ttotal: 606ms\tremaining: 1.64s\n",
      "27:\tlearn: 2305.4109740\ttotal: 627ms\tremaining: 1.61s\n",
      "28:\tlearn: 2291.1375320\ttotal: 648ms\tremaining: 1.58s\n",
      "29:\tlearn: 2279.3684039\ttotal: 669ms\tremaining: 1.56s\n",
      "30:\tlearn: 2267.2227149\ttotal: 694ms\tremaining: 1.54s\n",
      "31:\tlearn: 2256.6730349\ttotal: 715ms\tremaining: 1.52s\n",
      "32:\tlearn: 2245.7054824\ttotal: 736ms\tremaining: 1.49s\n",
      "33:\tlearn: 2237.6344992\ttotal: 756ms\tremaining: 1.47s\n",
      "34:\tlearn: 2230.6613615\ttotal: 777ms\tremaining: 1.44s\n",
      "35:\tlearn: 2223.4039162\ttotal: 798ms\tremaining: 1.42s\n",
      "36:\tlearn: 2217.0599765\ttotal: 820ms\tremaining: 1.4s\n",
      "37:\tlearn: 2210.9519789\ttotal: 841ms\tremaining: 1.37s\n",
      "38:\tlearn: 2205.6839740\ttotal: 862ms\tremaining: 1.35s\n",
      "39:\tlearn: 2201.4239172\ttotal: 883ms\tremaining: 1.32s\n",
      "40:\tlearn: 2195.8433678\ttotal: 908ms\tremaining: 1.31s\n",
      "41:\tlearn: 2191.3987954\ttotal: 929ms\tremaining: 1.28s\n",
      "42:\tlearn: 2186.2725904\ttotal: 950ms\tremaining: 1.26s\n",
      "43:\tlearn: 2181.4217518\ttotal: 971ms\tremaining: 1.24s\n",
      "44:\tlearn: 2177.1304813\ttotal: 992ms\tremaining: 1.21s\n",
      "45:\tlearn: 2172.7242607\ttotal: 1.01s\tremaining: 1.19s\n",
      "46:\tlearn: 2170.0625457\ttotal: 1.03s\tremaining: 1.17s\n",
      "47:\tlearn: 2167.2007717\ttotal: 1.05s\tremaining: 1.14s\n",
      "48:\tlearn: 2162.6019406\ttotal: 1.07s\tremaining: 1.12s\n",
      "49:\tlearn: 2159.3967998\ttotal: 1.1s\tremaining: 1.1s\n",
      "50:\tlearn: 2155.7975671\ttotal: 1.12s\tremaining: 1.08s\n",
      "51:\tlearn: 2152.9639260\ttotal: 1.14s\tremaining: 1.05s\n",
      "52:\tlearn: 2150.5148500\ttotal: 1.16s\tremaining: 1.03s\n",
      "53:\tlearn: 2147.5635679\ttotal: 1.18s\tremaining: 1.01s\n",
      "54:\tlearn: 2142.7282501\ttotal: 1.21s\tremaining: 987ms\n",
      "55:\tlearn: 2138.5268754\ttotal: 1.23s\tremaining: 964ms\n",
      "56:\tlearn: 2135.6047174\ttotal: 1.25s\tremaining: 941ms\n",
      "57:\tlearn: 2132.3594159\ttotal: 1.27s\tremaining: 919ms\n",
      "58:\tlearn: 2130.1788612\ttotal: 1.29s\tremaining: 897ms\n",
      "59:\tlearn: 2126.9937434\ttotal: 1.31s\tremaining: 875ms\n",
      "60:\tlearn: 2124.1387278\ttotal: 1.33s\tremaining: 852ms\n",
      "61:\tlearn: 2120.1834432\ttotal: 1.35s\tremaining: 830ms\n",
      "62:\tlearn: 2117.0856506\ttotal: 1.38s\tremaining: 808ms\n",
      "63:\tlearn: 2113.6172658\ttotal: 1.4s\tremaining: 785ms\n",
      "64:\tlearn: 2111.3460710\ttotal: 1.42s\tremaining: 763ms\n",
      "65:\tlearn: 2109.2196896\ttotal: 1.44s\tremaining: 741ms\n",
      "66:\tlearn: 2107.4797807\ttotal: 1.46s\tremaining: 719ms\n",
      "67:\tlearn: 2104.0424628\ttotal: 1.48s\tremaining: 696ms\n",
      "68:\tlearn: 2102.0113045\ttotal: 1.5s\tremaining: 675ms\n",
      "69:\tlearn: 2099.6542556\ttotal: 1.52s\tremaining: 653ms\n",
      "70:\tlearn: 2098.1244114\ttotal: 1.54s\tremaining: 631ms\n",
      "71:\tlearn: 2096.1737428\ttotal: 1.57s\tremaining: 609ms\n",
      "72:\tlearn: 2093.9502245\ttotal: 1.59s\tremaining: 589ms\n",
      "73:\tlearn: 2092.1834835\ttotal: 1.61s\tremaining: 567ms\n",
      "74:\tlearn: 2089.1666938\ttotal: 1.64s\tremaining: 545ms\n",
      "75:\tlearn: 2087.3334782\ttotal: 1.66s\tremaining: 523ms\n",
      "76:\tlearn: 2085.9588515\ttotal: 1.68s\tremaining: 502ms\n",
      "77:\tlearn: 2084.2706128\ttotal: 1.7s\tremaining: 480ms\n",
      "78:\tlearn: 2083.1375316\ttotal: 1.72s\tremaining: 458ms\n",
      "79:\tlearn: 2080.4469611\ttotal: 1.75s\tremaining: 436ms\n",
      "80:\tlearn: 2079.3909445\ttotal: 1.77s\tremaining: 414ms\n",
      "81:\tlearn: 2076.9294697\ttotal: 1.79s\tremaining: 393ms\n",
      "82:\tlearn: 2075.2603072\ttotal: 1.81s\tremaining: 371ms\n",
      "83:\tlearn: 2074.0018527\ttotal: 1.83s\tremaining: 349ms\n",
      "84:\tlearn: 2072.6401216\ttotal: 1.85s\tremaining: 327ms\n",
      "85:\tlearn: 2070.0599014\ttotal: 1.88s\tremaining: 306ms\n",
      "86:\tlearn: 2068.1054763\ttotal: 1.9s\tremaining: 284ms\n",
      "87:\tlearn: 2064.4852091\ttotal: 1.92s\tremaining: 262ms\n",
      "88:\tlearn: 2062.9677044\ttotal: 1.94s\tremaining: 240ms\n",
      "89:\tlearn: 2061.1053584\ttotal: 1.97s\tremaining: 218ms\n",
      "90:\tlearn: 2059.0976845\ttotal: 1.99s\tremaining: 197ms\n",
      "91:\tlearn: 2057.5113725\ttotal: 2.01s\tremaining: 175ms\n",
      "92:\tlearn: 2056.0090465\ttotal: 2.04s\tremaining: 153ms\n",
      "93:\tlearn: 2055.0190771\ttotal: 2.06s\tremaining: 131ms\n",
      "94:\tlearn: 2053.3336912\ttotal: 2.08s\tremaining: 109ms\n",
      "95:\tlearn: 2050.8785776\ttotal: 2.1s\tremaining: 87.5ms\n",
      "96:\tlearn: 2049.7630359\ttotal: 2.12s\tremaining: 65.6ms\n",
      "97:\tlearn: 2048.0021617\ttotal: 2.14s\tremaining: 43.7ms\n",
      "98:\tlearn: 2046.8379209\ttotal: 2.16s\tremaining: 21.9ms\n",
      "99:\tlearn: 2044.6734857\ttotal: 2.19s\tremaining: 0us\n",
      "0:\tlearn: 4725.0359335\ttotal: 25.3ms\tremaining: 2.51s\n",
      "1:\tlearn: 4437.2523250\ttotal: 47.2ms\tremaining: 2.31s\n",
      "2:\tlearn: 4181.4946875\ttotal: 69.4ms\tremaining: 2.25s\n",
      "3:\tlearn: 3955.1706463\ttotal: 95.4ms\tremaining: 2.29s\n",
      "4:\tlearn: 3764.2100578\ttotal: 117ms\tremaining: 2.22s\n",
      "5:\tlearn: 3589.0717668\ttotal: 139ms\tremaining: 2.17s\n",
      "6:\tlearn: 3438.8935166\ttotal: 162ms\tremaining: 2.16s\n",
      "7:\tlearn: 3305.3871391\ttotal: 184ms\tremaining: 2.12s\n",
      "8:\tlearn: 3193.0531742\ttotal: 206ms\tremaining: 2.08s\n",
      "9:\tlearn: 3100.5997514\ttotal: 228ms\tremaining: 2.05s\n",
      "10:\tlearn: 3000.6158980\ttotal: 251ms\tremaining: 2.03s\n",
      "11:\tlearn: 2909.8855200\ttotal: 273ms\tremaining: 2s\n",
      "12:\tlearn: 2833.1856459\ttotal: 296ms\tremaining: 1.98s\n",
      "13:\tlearn: 2768.1286002\ttotal: 322ms\tremaining: 1.98s\n",
      "14:\tlearn: 2709.0972328\ttotal: 344ms\tremaining: 1.95s\n",
      "15:\tlearn: 2661.6731832\ttotal: 366ms\tremaining: 1.92s\n",
      "16:\tlearn: 2611.4968539\ttotal: 388ms\tremaining: 1.9s\n",
      "17:\tlearn: 2566.4601549\ttotal: 410ms\tremaining: 1.86s\n",
      "18:\tlearn: 2528.1447910\ttotal: 431ms\tremaining: 1.84s\n",
      "19:\tlearn: 2495.9319471\ttotal: 454ms\tremaining: 1.81s\n",
      "20:\tlearn: 2467.4243422\ttotal: 475ms\tremaining: 1.79s\n",
      "21:\tlearn: 2438.5769697\ttotal: 497ms\tremaining: 1.76s\n",
      "22:\tlearn: 2410.3806905\ttotal: 519ms\tremaining: 1.74s\n",
      "23:\tlearn: 2386.1395960\ttotal: 541ms\tremaining: 1.71s\n",
      "24:\tlearn: 2366.8998178\ttotal: 563ms\tremaining: 1.69s\n",
      "25:\tlearn: 2348.7600131\ttotal: 585ms\tremaining: 1.66s\n",
      "26:\tlearn: 2332.2846081\ttotal: 607ms\tremaining: 1.64s\n",
      "27:\tlearn: 2317.0044019\ttotal: 629ms\tremaining: 1.62s\n",
      "28:\tlearn: 2302.7406372\ttotal: 651ms\tremaining: 1.59s\n",
      "29:\tlearn: 2289.3551849\ttotal: 673ms\tremaining: 1.57s\n",
      "30:\tlearn: 2278.9447354\ttotal: 695ms\tremaining: 1.54s\n",
      "31:\tlearn: 2269.3440933\ttotal: 721ms\tremaining: 1.53s\n",
      "32:\tlearn: 2259.8164571\ttotal: 742ms\tremaining: 1.51s\n",
      "33:\tlearn: 2251.4136654\ttotal: 764ms\tremaining: 1.48s\n",
      "34:\tlearn: 2244.3921511\ttotal: 786ms\tremaining: 1.46s\n",
      "35:\tlearn: 2237.4918321\ttotal: 807ms\tremaining: 1.44s\n",
      "36:\tlearn: 2231.5920369\ttotal: 830ms\tremaining: 1.41s\n",
      "37:\tlearn: 2225.9066433\ttotal: 852ms\tremaining: 1.39s\n",
      "38:\tlearn: 2220.3567078\ttotal: 873ms\tremaining: 1.36s\n",
      "39:\tlearn: 2215.9257871\ttotal: 895ms\tremaining: 1.34s\n",
      "40:\tlearn: 2210.1424572\ttotal: 921ms\tremaining: 1.32s\n",
      "41:\tlearn: 2206.3076567\ttotal: 943ms\tremaining: 1.3s\n",
      "42:\tlearn: 2201.4387452\ttotal: 964ms\tremaining: 1.28s\n",
      "43:\tlearn: 2195.9146751\ttotal: 987ms\tremaining: 1.25s\n",
      "44:\tlearn: 2190.9172748\ttotal: 1.01s\tremaining: 1.23s\n",
      "45:\tlearn: 2187.8130219\ttotal: 1.03s\tremaining: 1.21s\n",
      "46:\tlearn: 2183.5093320\ttotal: 1.05s\tremaining: 1.18s\n",
      "47:\tlearn: 2180.3679180\ttotal: 1.07s\tremaining: 1.16s\n",
      "48:\tlearn: 2177.3352321\ttotal: 1.09s\tremaining: 1.14s\n",
      "49:\tlearn: 2174.1657335\ttotal: 1.12s\tremaining: 1.12s\n",
      "50:\tlearn: 2171.2544511\ttotal: 1.14s\tremaining: 1.09s\n",
      "51:\tlearn: 2165.8863508\ttotal: 1.16s\tremaining: 1.07s\n",
      "52:\tlearn: 2163.1345218\ttotal: 1.18s\tremaining: 1.04s\n",
      "53:\tlearn: 2161.2346355\ttotal: 1.2s\tremaining: 1.02s\n",
      "54:\tlearn: 2158.4967615\ttotal: 1.22s\tremaining: 998ms\n",
      "55:\tlearn: 2156.1650028\ttotal: 1.24s\tremaining: 975ms\n",
      "56:\tlearn: 2153.8326439\ttotal: 1.26s\tremaining: 952ms\n",
      "57:\tlearn: 2151.2965590\ttotal: 1.28s\tremaining: 929ms\n",
      "58:\tlearn: 2147.9077485\ttotal: 1.3s\tremaining: 906ms\n",
      "59:\tlearn: 2145.2482026\ttotal: 1.32s\tremaining: 883ms\n",
      "60:\tlearn: 2143.6251692\ttotal: 1.34s\tremaining: 860ms\n",
      "61:\tlearn: 2140.6302428\ttotal: 1.37s\tremaining: 838ms\n",
      "62:\tlearn: 2139.4603948\ttotal: 1.39s\tremaining: 815ms\n",
      "63:\tlearn: 2136.3156314\ttotal: 1.41s\tremaining: 792ms\n",
      "64:\tlearn: 2134.6503810\ttotal: 1.43s\tremaining: 770ms\n",
      "65:\tlearn: 2133.1044104\ttotal: 1.45s\tremaining: 747ms\n",
      "66:\tlearn: 2128.9710688\ttotal: 1.47s\tremaining: 725ms\n"
     ]
    },
    {
     "name": "stdout",
     "output_type": "stream",
     "text": [
      "67:\tlearn: 2126.1923440\ttotal: 1.49s\tremaining: 703ms\n",
      "68:\tlearn: 2120.4261958\ttotal: 1.52s\tremaining: 682ms\n",
      "69:\tlearn: 2117.5091196\ttotal: 1.54s\tremaining: 660ms\n",
      "70:\tlearn: 2114.4471396\ttotal: 1.56s\tremaining: 637ms\n",
      "71:\tlearn: 2110.1720648\ttotal: 1.58s\tremaining: 615ms\n",
      "72:\tlearn: 2107.4118270\ttotal: 1.6s\tremaining: 593ms\n",
      "73:\tlearn: 2106.2355259\ttotal: 1.62s\tremaining: 570ms\n",
      "74:\tlearn: 2102.5155252\ttotal: 1.64s\tremaining: 548ms\n",
      "75:\tlearn: 2100.6744132\ttotal: 1.67s\tremaining: 526ms\n",
      "76:\tlearn: 2097.1967476\ttotal: 1.69s\tremaining: 504ms\n",
      "77:\tlearn: 2094.9825040\ttotal: 1.71s\tremaining: 483ms\n",
      "78:\tlearn: 2092.2043347\ttotal: 1.73s\tremaining: 461ms\n",
      "79:\tlearn: 2092.2040631\ttotal: 1.74s\tremaining: 435ms\n",
      "80:\tlearn: 2091.4641918\ttotal: 1.76s\tremaining: 413ms\n",
      "81:\tlearn: 2089.2622958\ttotal: 1.78s\tremaining: 391ms\n",
      "82:\tlearn: 2087.9251083\ttotal: 1.8s\tremaining: 370ms\n",
      "83:\tlearn: 2085.6330390\ttotal: 1.82s\tremaining: 348ms\n",
      "84:\tlearn: 2083.6589978\ttotal: 1.85s\tremaining: 326ms\n",
      "85:\tlearn: 2081.6791019\ttotal: 1.87s\tremaining: 304ms\n",
      "86:\tlearn: 2078.8963076\ttotal: 1.89s\tremaining: 282ms\n",
      "87:\tlearn: 2078.2975892\ttotal: 1.91s\tremaining: 260ms\n",
      "88:\tlearn: 2078.2966847\ttotal: 1.92s\tremaining: 237ms\n",
      "89:\tlearn: 2077.0567769\ttotal: 1.94s\tremaining: 215ms\n",
      "90:\tlearn: 2075.7978693\ttotal: 1.96s\tremaining: 194ms\n",
      "91:\tlearn: 2074.7206628\ttotal: 1.98s\tremaining: 172ms\n",
      "92:\tlearn: 2072.8183218\ttotal: 2.01s\tremaining: 151ms\n",
      "93:\tlearn: 2070.3043864\ttotal: 2.03s\tremaining: 130ms\n",
      "94:\tlearn: 2068.4460849\ttotal: 2.05s\tremaining: 108ms\n",
      "95:\tlearn: 2066.4308452\ttotal: 2.07s\tremaining: 86.3ms\n",
      "96:\tlearn: 2064.3138993\ttotal: 2.09s\tremaining: 64.7ms\n",
      "97:\tlearn: 2061.9551352\ttotal: 2.11s\tremaining: 43.1ms\n",
      "98:\tlearn: 2059.2435954\ttotal: 2.13s\tremaining: 21.6ms\n",
      "99:\tlearn: 2058.1630924\ttotal: 2.16s\tremaining: 0us\n",
      "0:\tlearn: 4719.3498438\ttotal: 25.3ms\tremaining: 2.5s\n",
      "1:\tlearn: 4423.6490900\ttotal: 46.9ms\tremaining: 2.29s\n",
      "2:\tlearn: 4167.4659053\ttotal: 68.7ms\tremaining: 2.22s\n",
      "3:\tlearn: 3943.1279558\ttotal: 93.1ms\tremaining: 2.23s\n",
      "4:\tlearn: 3747.9412201\ttotal: 116ms\tremaining: 2.2s\n",
      "5:\tlearn: 3573.7560446\ttotal: 137ms\tremaining: 2.15s\n",
      "6:\tlearn: 3427.8293603\ttotal: 159ms\tremaining: 2.11s\n",
      "7:\tlearn: 3295.7716935\ttotal: 180ms\tremaining: 2.07s\n",
      "8:\tlearn: 3178.9117720\ttotal: 202ms\tremaining: 2.05s\n",
      "9:\tlearn: 3086.7501531\ttotal: 224ms\tremaining: 2.02s\n",
      "10:\tlearn: 2985.7767152\ttotal: 247ms\tremaining: 2s\n",
      "11:\tlearn: 2894.7587251\ttotal: 270ms\tremaining: 1.98s\n",
      "12:\tlearn: 2816.6645618\ttotal: 291ms\tremaining: 1.95s\n",
      "13:\tlearn: 2749.6336859\ttotal: 312ms\tremaining: 1.92s\n",
      "14:\tlearn: 2690.6684363\ttotal: 334ms\tremaining: 1.89s\n",
      "15:\tlearn: 2643.7265676\ttotal: 356ms\tremaining: 1.87s\n",
      "16:\tlearn: 2600.0917638\ttotal: 377ms\tremaining: 1.84s\n",
      "17:\tlearn: 2562.7010645\ttotal: 398ms\tremaining: 1.81s\n",
      "18:\tlearn: 2531.4571739\ttotal: 418ms\tremaining: 1.78s\n",
      "19:\tlearn: 2501.0031419\ttotal: 440ms\tremaining: 1.76s\n",
      "20:\tlearn: 2474.3746796\ttotal: 462ms\tremaining: 1.74s\n",
      "21:\tlearn: 2442.7416239\ttotal: 484ms\tremaining: 1.72s\n",
      "22:\tlearn: 2415.5173162\ttotal: 505ms\tremaining: 1.69s\n",
      "23:\tlearn: 2392.3476036\ttotal: 525ms\tremaining: 1.66s\n",
      "24:\tlearn: 2372.6818233\ttotal: 547ms\tremaining: 1.64s\n",
      "25:\tlearn: 2355.2269283\ttotal: 568ms\tremaining: 1.62s\n",
      "26:\tlearn: 2339.0847699\ttotal: 589ms\tremaining: 1.59s\n",
      "27:\tlearn: 2324.0843213\ttotal: 609ms\tremaining: 1.57s\n",
      "28:\tlearn: 2311.6268111\ttotal: 630ms\tremaining: 1.54s\n",
      "29:\tlearn: 2299.1811410\ttotal: 650ms\tremaining: 1.52s\n",
      "30:\tlearn: 2285.8796050\ttotal: 672ms\tremaining: 1.49s\n",
      "31:\tlearn: 2275.0232894\ttotal: 693ms\tremaining: 1.47s\n",
      "32:\tlearn: 2267.5886067\ttotal: 714ms\tremaining: 1.45s\n",
      "33:\tlearn: 2258.3672467\ttotal: 735ms\tremaining: 1.43s\n",
      "34:\tlearn: 2250.5050464\ttotal: 755ms\tremaining: 1.4s\n",
      "35:\tlearn: 2241.4286608\ttotal: 780ms\tremaining: 1.39s\n",
      "36:\tlearn: 2235.2238470\ttotal: 802ms\tremaining: 1.36s\n",
      "37:\tlearn: 2229.0849471\ttotal: 822ms\tremaining: 1.34s\n",
      "38:\tlearn: 2224.0984294\ttotal: 843ms\tremaining: 1.32s\n",
      "39:\tlearn: 2218.6445769\ttotal: 863ms\tremaining: 1.29s\n",
      "40:\tlearn: 2213.3292031\ttotal: 885ms\tremaining: 1.27s\n",
      "41:\tlearn: 2207.4520603\ttotal: 906ms\tremaining: 1.25s\n",
      "42:\tlearn: 2203.9192560\ttotal: 927ms\tremaining: 1.23s\n",
      "43:\tlearn: 2198.3778865\ttotal: 948ms\tremaining: 1.21s\n",
      "44:\tlearn: 2193.6184592\ttotal: 969ms\tremaining: 1.18s\n",
      "45:\tlearn: 2190.5310698\ttotal: 990ms\tremaining: 1.16s\n",
      "46:\tlearn: 2186.3134504\ttotal: 1.01s\tremaining: 1.14s\n",
      "47:\tlearn: 2182.4436201\ttotal: 1.03s\tremaining: 1.12s\n",
      "48:\tlearn: 2177.6135827\ttotal: 1.05s\tremaining: 1.09s\n",
      "49:\tlearn: 2173.9502580\ttotal: 1.07s\tremaining: 1.07s\n",
      "50:\tlearn: 2171.0480637\ttotal: 1.09s\tremaining: 1.05s\n",
      "51:\tlearn: 2167.3695761\ttotal: 1.11s\tremaining: 1.03s\n",
      "52:\tlearn: 2164.4866195\ttotal: 1.14s\tremaining: 1.01s\n",
      "53:\tlearn: 2161.3925005\ttotal: 1.16s\tremaining: 985ms\n",
      "54:\tlearn: 2158.9933262\ttotal: 1.18s\tremaining: 967ms\n",
      "55:\tlearn: 2156.4371597\ttotal: 1.2s\tremaining: 946ms\n",
      "56:\tlearn: 2154.3397085\ttotal: 1.22s\tremaining: 924ms\n",
      "57:\tlearn: 2150.5987852\ttotal: 1.25s\tremaining: 902ms\n",
      "58:\tlearn: 2148.3648943\ttotal: 1.27s\tremaining: 880ms\n",
      "59:\tlearn: 2145.7068333\ttotal: 1.29s\tremaining: 858ms\n",
      "60:\tlearn: 2142.7023535\ttotal: 1.31s\tremaining: 836ms\n",
      "61:\tlearn: 2140.5318214\ttotal: 1.33s\tremaining: 814ms\n",
      "62:\tlearn: 2136.7622723\ttotal: 1.35s\tremaining: 792ms\n",
      "63:\tlearn: 2134.6826372\ttotal: 1.37s\tremaining: 773ms\n",
      "64:\tlearn: 2132.6164727\ttotal: 1.39s\tremaining: 751ms\n",
      "65:\tlearn: 2130.0669695\ttotal: 1.42s\tremaining: 729ms\n",
      "66:\tlearn: 2127.0084531\ttotal: 1.44s\tremaining: 708ms\n",
      "67:\tlearn: 2125.4342024\ttotal: 1.46s\tremaining: 686ms\n",
      "68:\tlearn: 2122.6678014\ttotal: 1.48s\tremaining: 664ms\n",
      "69:\tlearn: 2121.1957569\ttotal: 1.5s\tremaining: 643ms\n",
      "70:\tlearn: 2118.8611908\ttotal: 1.52s\tremaining: 621ms\n",
      "71:\tlearn: 2116.1168580\ttotal: 1.54s\tremaining: 600ms\n",
      "72:\tlearn: 2113.2019637\ttotal: 1.56s\tremaining: 578ms\n",
      "73:\tlearn: 2110.4040876\ttotal: 1.58s\tremaining: 556ms\n",
      "74:\tlearn: 2108.2628856\ttotal: 1.6s\tremaining: 535ms\n",
      "75:\tlearn: 2105.6226989\ttotal: 1.63s\tremaining: 513ms\n",
      "76:\tlearn: 2102.8326150\ttotal: 1.65s\tremaining: 492ms\n",
      "77:\tlearn: 2100.6749620\ttotal: 1.67s\tremaining: 470ms\n",
      "78:\tlearn: 2098.2727324\ttotal: 1.69s\tremaining: 449ms\n",
      "79:\tlearn: 2095.6492929\ttotal: 1.71s\tremaining: 428ms\n",
      "80:\tlearn: 2093.8886494\ttotal: 1.73s\tremaining: 406ms\n",
      "81:\tlearn: 2091.2305481\ttotal: 1.75s\tremaining: 385ms\n",
      "82:\tlearn: 2089.6479891\ttotal: 1.78s\tremaining: 365ms\n",
      "83:\tlearn: 2087.5757248\ttotal: 1.8s\tremaining: 343ms\n",
      "84:\tlearn: 2086.1831237\ttotal: 1.82s\tremaining: 322ms\n",
      "85:\tlearn: 2084.3716853\ttotal: 1.84s\tremaining: 300ms\n",
      "86:\tlearn: 2079.5696977\ttotal: 1.86s\tremaining: 279ms\n",
      "87:\tlearn: 2077.0956259\ttotal: 1.89s\tremaining: 257ms\n",
      "88:\tlearn: 2073.2421576\ttotal: 1.91s\tremaining: 236ms\n",
      "89:\tlearn: 2070.6130641\ttotal: 1.93s\tremaining: 214ms\n",
      "90:\tlearn: 2069.3027785\ttotal: 1.95s\tremaining: 193ms\n",
      "91:\tlearn: 2066.9363885\ttotal: 1.97s\tremaining: 171ms\n",
      "92:\tlearn: 2066.0242168\ttotal: 1.99s\tremaining: 150ms\n",
      "93:\tlearn: 2064.6311497\ttotal: 2.01s\tremaining: 128ms\n",
      "94:\tlearn: 2063.2755926\ttotal: 2.03s\tremaining: 107ms\n",
      "95:\tlearn: 2062.4486638\ttotal: 2.05s\tremaining: 85.6ms\n",
      "96:\tlearn: 2061.1329922\ttotal: 2.08s\tremaining: 64.2ms\n",
      "97:\tlearn: 2059.5811439\ttotal: 2.1s\tremaining: 42.8ms\n",
      "98:\tlearn: 2056.9789841\ttotal: 2.12s\tremaining: 21.4ms\n",
      "99:\tlearn: 2056.2657410\ttotal: 2.14s\tremaining: 0us\n",
      "0:\tlearn: 4727.0224043\ttotal: 25.6ms\tremaining: 2.53s\n",
      "1:\tlearn: 4432.0107097\ttotal: 48.1ms\tremaining: 2.36s\n",
      "2:\tlearn: 4180.7363360\ttotal: 69.9ms\tremaining: 2.26s\n",
      "3:\tlearn: 3954.0019089\ttotal: 94.1ms\tremaining: 2.26s\n",
      "4:\tlearn: 3762.3056513\ttotal: 116ms\tremaining: 2.2s\n",
      "5:\tlearn: 3595.1774625\ttotal: 138ms\tremaining: 2.16s\n",
      "6:\tlearn: 3442.4363862\ttotal: 161ms\tremaining: 2.14s\n",
      "7:\tlearn: 3313.9837838\ttotal: 182ms\tremaining: 2.1s\n",
      "8:\tlearn: 3200.5080573\ttotal: 206ms\tremaining: 2.09s\n",
      "9:\tlearn: 3082.8701340\ttotal: 228ms\tremaining: 2.06s\n",
      "10:\tlearn: 2980.5698710\ttotal: 252ms\tremaining: 2.04s\n",
      "11:\tlearn: 2891.9390972\ttotal: 273ms\tremaining: 2s\n",
      "12:\tlearn: 2814.8437104\ttotal: 294ms\tremaining: 1.97s\n",
      "13:\tlearn: 2750.3347715\ttotal: 315ms\tremaining: 1.94s\n",
      "14:\tlearn: 2691.7477887\ttotal: 337ms\tremaining: 1.91s\n",
      "15:\tlearn: 2644.3324624\ttotal: 359ms\tremaining: 1.88s\n",
      "16:\tlearn: 2602.0991013\ttotal: 380ms\tremaining: 1.86s\n",
      "17:\tlearn: 2562.1573958\ttotal: 402ms\tremaining: 1.83s\n",
      "18:\tlearn: 2528.9293906\ttotal: 423ms\tremaining: 1.8s\n",
      "19:\tlearn: 2497.5323830\ttotal: 444ms\tremaining: 1.78s\n",
      "20:\tlearn: 2471.0994714\ttotal: 468ms\tremaining: 1.76s\n",
      "21:\tlearn: 2439.9068020\ttotal: 490ms\tremaining: 1.74s\n",
      "22:\tlearn: 2411.0955401\ttotal: 511ms\tremaining: 1.71s\n",
      "23:\tlearn: 2387.7593866\ttotal: 538ms\tremaining: 1.7s\n",
      "24:\tlearn: 2367.2337171\ttotal: 559ms\tremaining: 1.68s\n",
      "25:\tlearn: 2349.9039998\ttotal: 580ms\tremaining: 1.65s\n",
      "26:\tlearn: 2333.4500537\ttotal: 601ms\tremaining: 1.63s\n",
      "27:\tlearn: 2319.1465486\ttotal: 622ms\tremaining: 1.6s\n",
      "28:\tlearn: 2303.8747555\ttotal: 644ms\tremaining: 1.58s\n"
     ]
    },
    {
     "name": "stdout",
     "output_type": "stream",
     "text": [
      "29:\tlearn: 2289.8113769\ttotal: 667ms\tremaining: 1.55s\n",
      "30:\tlearn: 2279.5774956\ttotal: 688ms\tremaining: 1.53s\n",
      "31:\tlearn: 2270.1567316\ttotal: 709ms\tremaining: 1.51s\n",
      "32:\tlearn: 2261.5724081\ttotal: 731ms\tremaining: 1.48s\n",
      "33:\tlearn: 2254.8466357\ttotal: 752ms\tremaining: 1.46s\n",
      "34:\tlearn: 2245.5396605\ttotal: 774ms\tremaining: 1.44s\n",
      "35:\tlearn: 2239.2126304\ttotal: 796ms\tremaining: 1.41s\n",
      "36:\tlearn: 2232.2552504\ttotal: 818ms\tremaining: 1.39s\n",
      "37:\tlearn: 2224.7419006\ttotal: 840ms\tremaining: 1.37s\n",
      "38:\tlearn: 2219.7020110\ttotal: 861ms\tremaining: 1.35s\n",
      "39:\tlearn: 2215.3706166\ttotal: 882ms\tremaining: 1.32s\n",
      "40:\tlearn: 2210.2032813\ttotal: 904ms\tremaining: 1.3s\n",
      "41:\tlearn: 2206.2553258\ttotal: 930ms\tremaining: 1.28s\n",
      "42:\tlearn: 2200.4619727\ttotal: 953ms\tremaining: 1.26s\n",
      "43:\tlearn: 2196.1742852\ttotal: 974ms\tremaining: 1.24s\n",
      "44:\tlearn: 2192.5005916\ttotal: 996ms\tremaining: 1.22s\n",
      "45:\tlearn: 2187.5718918\ttotal: 1.02s\tremaining: 1.19s\n",
      "46:\tlearn: 2183.7308807\ttotal: 1.04s\tremaining: 1.17s\n",
      "47:\tlearn: 2180.5730552\ttotal: 1.06s\tremaining: 1.15s\n",
      "48:\tlearn: 2177.1740065\ttotal: 1.08s\tremaining: 1.12s\n",
      "49:\tlearn: 2173.4465034\ttotal: 1.1s\tremaining: 1.1s\n",
      "50:\tlearn: 2168.7708609\ttotal: 1.13s\tremaining: 1.08s\n",
      "51:\tlearn: 2165.6224806\ttotal: 1.15s\tremaining: 1.06s\n",
      "52:\tlearn: 2163.1010645\ttotal: 1.17s\tremaining: 1.04s\n",
      "53:\tlearn: 2158.4870405\ttotal: 1.19s\tremaining: 1.01s\n",
      "54:\tlearn: 2156.4051150\ttotal: 1.21s\tremaining: 991ms\n",
      "55:\tlearn: 2154.0127037\ttotal: 1.23s\tremaining: 969ms\n",
      "56:\tlearn: 2151.3590981\ttotal: 1.25s\tremaining: 945ms\n",
      "57:\tlearn: 2149.1273796\ttotal: 1.27s\tremaining: 922ms\n",
      "58:\tlearn: 2145.9697299\ttotal: 1.29s\tremaining: 900ms\n",
      "59:\tlearn: 2141.7279096\ttotal: 1.32s\tremaining: 877ms\n",
      "60:\tlearn: 2139.6623374\ttotal: 1.34s\tremaining: 855ms\n",
      "61:\tlearn: 2137.4794514\ttotal: 1.36s\tremaining: 832ms\n",
      "62:\tlearn: 2133.2380061\ttotal: 1.38s\tremaining: 809ms\n",
      "63:\tlearn: 2131.0781888\ttotal: 1.4s\tremaining: 787ms\n",
      "64:\tlearn: 2127.0604865\ttotal: 1.42s\tremaining: 765ms\n",
      "65:\tlearn: 2124.9091229\ttotal: 1.44s\tremaining: 743ms\n",
      "66:\tlearn: 2123.3731824\ttotal: 1.46s\tremaining: 720ms\n",
      "67:\tlearn: 2120.3872518\ttotal: 1.48s\tremaining: 698ms\n",
      "68:\tlearn: 2118.9943557\ttotal: 1.5s\tremaining: 676ms\n",
      "69:\tlearn: 2116.6145717\ttotal: 1.53s\tremaining: 657ms\n",
      "70:\tlearn: 2115.4933920\ttotal: 1.55s\tremaining: 635ms\n",
      "71:\tlearn: 2110.2983606\ttotal: 1.57s\tremaining: 612ms\n",
      "72:\tlearn: 2107.9135684\ttotal: 1.6s\tremaining: 591ms\n",
      "73:\tlearn: 2105.4199972\ttotal: 1.62s\tremaining: 568ms\n",
      "74:\tlearn: 2103.2321768\ttotal: 1.64s\tremaining: 546ms\n",
      "75:\tlearn: 2101.5914655\ttotal: 1.66s\tremaining: 524ms\n",
      "76:\tlearn: 2099.5371243\ttotal: 1.68s\tremaining: 502ms\n",
      "77:\tlearn: 2098.4103010\ttotal: 1.7s\tremaining: 480ms\n",
      "78:\tlearn: 2096.8116319\ttotal: 1.72s\tremaining: 458ms\n",
      "79:\tlearn: 2095.6960294\ttotal: 1.74s\tremaining: 436ms\n",
      "80:\tlearn: 2093.5720890\ttotal: 1.76s\tremaining: 414ms\n",
      "81:\tlearn: 2091.5597922\ttotal: 1.79s\tremaining: 392ms\n",
      "82:\tlearn: 2088.7619625\ttotal: 1.81s\tremaining: 370ms\n",
      "83:\tlearn: 2086.4742137\ttotal: 1.83s\tremaining: 349ms\n",
      "84:\tlearn: 2085.0915911\ttotal: 1.85s\tremaining: 327ms\n",
      "85:\tlearn: 2083.1561135\ttotal: 1.88s\tremaining: 305ms\n",
      "86:\tlearn: 2081.5993430\ttotal: 1.9s\tremaining: 283ms\n",
      "87:\tlearn: 2079.1893007\ttotal: 1.92s\tremaining: 262ms\n",
      "88:\tlearn: 2078.1039845\ttotal: 1.94s\tremaining: 240ms\n",
      "89:\tlearn: 2074.9561839\ttotal: 1.96s\tremaining: 218ms\n",
      "90:\tlearn: 2073.9039783\ttotal: 1.98s\tremaining: 196ms\n",
      "91:\tlearn: 2072.2768896\ttotal: 2s\tremaining: 174ms\n",
      "92:\tlearn: 2071.5068055\ttotal: 2.03s\tremaining: 153ms\n",
      "93:\tlearn: 2067.9337291\ttotal: 2.05s\tremaining: 131ms\n",
      "94:\tlearn: 2065.1928742\ttotal: 2.07s\tremaining: 109ms\n",
      "95:\tlearn: 2062.5702547\ttotal: 2.09s\tremaining: 87.3ms\n",
      "96:\tlearn: 2061.6394559\ttotal: 2.12s\tremaining: 65.4ms\n",
      "97:\tlearn: 2060.5589845\ttotal: 2.14s\tremaining: 43.6ms\n",
      "98:\tlearn: 2058.4519926\ttotal: 2.16s\tremaining: 21.8ms\n",
      "99:\tlearn: 2056.8417814\ttotal: 2.18s\tremaining: 0us\n",
      "0:\tlearn: 4723.1009124\ttotal: 26.8ms\tremaining: 2.65s\n",
      "1:\tlearn: 4427.9896054\ttotal: 49.2ms\tremaining: 2.41s\n",
      "2:\tlearn: 4172.8919778\ttotal: 70.8ms\tremaining: 2.29s\n",
      "3:\tlearn: 3950.0141429\ttotal: 96.3ms\tremaining: 2.31s\n",
      "4:\tlearn: 3760.0036463\ttotal: 119ms\tremaining: 2.27s\n",
      "5:\tlearn: 3587.9035788\ttotal: 143ms\tremaining: 2.23s\n",
      "6:\tlearn: 3430.9810724\ttotal: 165ms\tremaining: 2.19s\n",
      "7:\tlearn: 3302.8567795\ttotal: 186ms\tremaining: 2.14s\n",
      "8:\tlearn: 3189.9888111\ttotal: 210ms\tremaining: 2.12s\n",
      "9:\tlearn: 3073.5480575\ttotal: 232ms\tremaining: 2.09s\n",
      "10:\tlearn: 2974.3196574\ttotal: 255ms\tremaining: 2.06s\n",
      "11:\tlearn: 2892.8747469\ttotal: 280ms\tremaining: 2.05s\n",
      "12:\tlearn: 2812.4010633\ttotal: 302ms\tremaining: 2.02s\n",
      "13:\tlearn: 2744.3131733\ttotal: 323ms\tremaining: 1.99s\n",
      "14:\tlearn: 2687.2991203\ttotal: 346ms\tremaining: 1.96s\n",
      "15:\tlearn: 2634.9141186\ttotal: 367ms\tremaining: 1.93s\n",
      "16:\tlearn: 2592.1386724\ttotal: 389ms\tremaining: 1.9s\n",
      "17:\tlearn: 2551.1234965\ttotal: 410ms\tremaining: 1.87s\n",
      "18:\tlearn: 2519.0235693\ttotal: 432ms\tremaining: 1.84s\n",
      "19:\tlearn: 2487.9933887\ttotal: 455ms\tremaining: 1.82s\n",
      "20:\tlearn: 2460.7025556\ttotal: 480ms\tremaining: 1.81s\n",
      "21:\tlearn: 2430.4276237\ttotal: 503ms\tremaining: 1.78s\n",
      "22:\tlearn: 2404.0523430\ttotal: 524ms\tremaining: 1.75s\n",
      "23:\tlearn: 2378.2374993\ttotal: 548ms\tremaining: 1.74s\n",
      "24:\tlearn: 2356.3053255\ttotal: 570ms\tremaining: 1.71s\n",
      "25:\tlearn: 2339.6399811\ttotal: 591ms\tremaining: 1.68s\n",
      "26:\tlearn: 2324.6122818\ttotal: 612ms\tremaining: 1.65s\n",
      "27:\tlearn: 2309.6838126\ttotal: 634ms\tremaining: 1.63s\n",
      "28:\tlearn: 2297.0595914\ttotal: 659ms\tremaining: 1.61s\n",
      "29:\tlearn: 2283.9657705\ttotal: 681ms\tremaining: 1.59s\n",
      "30:\tlearn: 2272.9177446\ttotal: 702ms\tremaining: 1.56s\n",
      "31:\tlearn: 2263.1635808\ttotal: 723ms\tremaining: 1.54s\n",
      "32:\tlearn: 2254.4684297\ttotal: 744ms\tremaining: 1.51s\n",
      "33:\tlearn: 2246.2919827\ttotal: 766ms\tremaining: 1.49s\n",
      "34:\tlearn: 2238.6904117\ttotal: 787ms\tremaining: 1.46s\n",
      "35:\tlearn: 2229.6155977\ttotal: 808ms\tremaining: 1.44s\n",
      "36:\tlearn: 2224.4939731\ttotal: 830ms\tremaining: 1.41s\n",
      "37:\tlearn: 2218.6721626\ttotal: 852ms\tremaining: 1.39s\n",
      "38:\tlearn: 2212.8291651\ttotal: 878ms\tremaining: 1.37s\n",
      "39:\tlearn: 2207.2834782\ttotal: 899ms\tremaining: 1.35s\n",
      "40:\tlearn: 2201.6194437\ttotal: 921ms\tremaining: 1.32s\n",
      "41:\tlearn: 2196.9343651\ttotal: 943ms\tremaining: 1.3s\n",
      "42:\tlearn: 2190.8861224\ttotal: 964ms\tremaining: 1.28s\n",
      "43:\tlearn: 2185.3825560\ttotal: 986ms\tremaining: 1.25s\n",
      "44:\tlearn: 2180.2963530\ttotal: 1.01s\tremaining: 1.23s\n",
      "45:\tlearn: 2176.8220661\ttotal: 1.03s\tremaining: 1.21s\n",
      "46:\tlearn: 2172.7581090\ttotal: 1.05s\tremaining: 1.18s\n",
      "47:\tlearn: 2169.0730217\ttotal: 1.07s\tremaining: 1.16s\n",
      "48:\tlearn: 2166.4079385\ttotal: 1.09s\tremaining: 1.14s\n",
      "49:\tlearn: 2162.9197450\ttotal: 1.11s\tremaining: 1.11s\n",
      "50:\tlearn: 2160.2293210\ttotal: 1.14s\tremaining: 1.09s\n",
      "51:\tlearn: 2157.1232709\ttotal: 1.16s\tremaining: 1.07s\n",
      "52:\tlearn: 2154.4829090\ttotal: 1.18s\tremaining: 1.05s\n",
      "53:\tlearn: 2150.0196245\ttotal: 1.2s\tremaining: 1.02s\n",
      "54:\tlearn: 2147.7370436\ttotal: 1.22s\tremaining: 1s\n",
      "55:\tlearn: 2145.0640648\ttotal: 1.25s\tremaining: 981ms\n",
      "56:\tlearn: 2142.0814543\ttotal: 1.27s\tremaining: 959ms\n",
      "57:\tlearn: 2137.8382792\ttotal: 1.29s\tremaining: 936ms\n",
      "58:\tlearn: 2134.5234455\ttotal: 1.31s\tremaining: 913ms\n",
      "59:\tlearn: 2130.0606444\ttotal: 1.34s\tremaining: 891ms\n",
      "60:\tlearn: 2126.8405849\ttotal: 1.36s\tremaining: 870ms\n",
      "61:\tlearn: 2124.5304187\ttotal: 1.38s\tremaining: 847ms\n",
      "62:\tlearn: 2122.5024198\ttotal: 1.4s\tremaining: 824ms\n",
      "63:\tlearn: 2119.3850358\ttotal: 1.42s\tremaining: 801ms\n",
      "64:\tlearn: 2117.9642103\ttotal: 1.45s\tremaining: 778ms\n",
      "65:\tlearn: 2116.1320855\ttotal: 1.47s\tremaining: 756ms\n",
      "66:\tlearn: 2114.5105815\ttotal: 1.49s\tremaining: 733ms\n",
      "67:\tlearn: 2111.9975626\ttotal: 1.51s\tremaining: 711ms\n",
      "68:\tlearn: 2110.6106221\ttotal: 1.53s\tremaining: 688ms\n",
      "69:\tlearn: 2106.1762289\ttotal: 1.55s\tremaining: 666ms\n",
      "70:\tlearn: 2103.7101095\ttotal: 1.57s\tremaining: 643ms\n",
      "71:\tlearn: 2102.1425225\ttotal: 1.59s\tremaining: 620ms\n",
      "72:\tlearn: 2099.5966370\ttotal: 1.62s\tremaining: 598ms\n",
      "73:\tlearn: 2097.1173943\ttotal: 1.64s\tremaining: 575ms\n",
      "74:\tlearn: 2095.6694854\ttotal: 1.66s\tremaining: 553ms\n",
      "75:\tlearn: 2092.7059644\ttotal: 1.68s\tremaining: 530ms\n",
      "76:\tlearn: 2090.3449853\ttotal: 1.7s\tremaining: 508ms\n",
      "77:\tlearn: 2088.8066269\ttotal: 1.72s\tremaining: 486ms\n",
      "78:\tlearn: 2087.7581384\ttotal: 1.74s\tremaining: 463ms\n",
      "79:\tlearn: 2085.9508282\ttotal: 1.77s\tremaining: 442ms\n",
      "80:\tlearn: 2082.7985252\ttotal: 1.79s\tremaining: 420ms\n",
      "81:\tlearn: 2081.3216608\ttotal: 1.81s\tremaining: 398ms\n",
      "82:\tlearn: 2079.9341744\ttotal: 1.83s\tremaining: 375ms\n",
      "83:\tlearn: 2078.2330310\ttotal: 1.85s\tremaining: 353ms\n",
      "84:\tlearn: 2077.2373623\ttotal: 1.87s\tremaining: 331ms\n",
      "85:\tlearn: 2074.5167692\ttotal: 1.89s\tremaining: 308ms\n"
     ]
    },
    {
     "name": "stdout",
     "output_type": "stream",
     "text": [
      "86:\tlearn: 2069.7858183\ttotal: 1.92s\tremaining: 286ms\n",
      "87:\tlearn: 2068.4307792\ttotal: 1.94s\tremaining: 264ms\n",
      "88:\tlearn: 2066.2080501\ttotal: 1.96s\tremaining: 242ms\n",
      "89:\tlearn: 2063.6899929\ttotal: 1.98s\tremaining: 220ms\n",
      "90:\tlearn: 2062.3051012\ttotal: 2s\tremaining: 198ms\n",
      "91:\tlearn: 2060.9421034\ttotal: 2.02s\tremaining: 176ms\n",
      "92:\tlearn: 2059.5202035\ttotal: 2.04s\tremaining: 154ms\n",
      "93:\tlearn: 2057.7142699\ttotal: 2.06s\tremaining: 132ms\n",
      "94:\tlearn: 2056.6237363\ttotal: 2.08s\tremaining: 110ms\n",
      "95:\tlearn: 2054.3646527\ttotal: 2.1s\tremaining: 87.7ms\n",
      "96:\tlearn: 2051.6095463\ttotal: 2.13s\tremaining: 65.8ms\n",
      "97:\tlearn: 2048.8862296\ttotal: 2.15s\tremaining: 43.9ms\n",
      "98:\tlearn: 2046.2441855\ttotal: 2.17s\tremaining: 21.9ms\n",
      "99:\tlearn: 2044.9602138\ttotal: 2.19s\tremaining: 0us\n",
      "RMSE: 2071.405636547941\n",
      "Test RMSE: 2064.30355961189\n",
      "Training time: 2.9004037380218506\n",
      "Prediction time: 0.018863201141357422\n",
      "CPU times: user 37.2 s, sys: 248 ms, total: 37.4 s\n",
      "Wall time: 39.2 s\n"
     ]
    }
   ],
   "source": [
    "#CatBoost with hyperparameter tuning (optional)\n",
    "\n",
    "#Define the parameter grid\n",
    "param_grid_catboost = {\n",
    "    'iterations': [100],\n",
    "    'depth': [4, 6],\n",
    "    'learning_rate': [0.05, 0.1],\n",
    "    'subsample': [1.0],\n",
    "    'rsm': [1.0]\n",
    "}\n",
    "\n",
    "\n",
    "#Create model\n",
    "catboost_model = CatBoostRegressor(random_state= 101, cat_features = categorical_features, early_stopping_rounds=10)\n",
    "\n",
    "#Define GridSearchCV with the custom scorer\n",
    "catboost_grid = RandomizedSearchCV(catboost_model, param_distributions=param_grid_catboost, \n",
    "                                   n_iter=10, \n",
    "                                   scoring=rmse_scorer, \n",
    "                                   cv=KFold(n_splits=3, shuffle=True, random_state=101), \n",
    "                                   verbose=1, random_state=101)\n",
    "\n",
    "# Perform grid search\n",
    "catboost_grid.fit(X_original_train, y_original_train)\n",
    "\n",
    "# Get the best fitted model and measure training time\n",
    "best_catboost_model = catboost_grid.best_estimator_\n",
    "start_training_time_catboost = time.time()\n",
    "best_catboost_model.fit(X_original_train, y_original_train)\n",
    "training_time_catboost = time.time() - start_training_time_catboost\n",
    "\n",
    "# Measure prediction time\n",
    "start_prediction_time_catboost = time.time()\n",
    "predictions_catboost = best_catboost_model.predict(X_original_test)\n",
    "prediction_time_catboost = time.time() - start_prediction_time_catboost\n",
    "\n",
    "# Evaluate the model on the test set\n",
    "test_rmse_catboost = np.sqrt(mean_squared_error(y_original_test, predictions_catboost))\n",
    "\n",
    "# Perform cross-validation with the best estimator and custom scorer\n",
    "scores_catboost = cross_val_score(best_catboost_model, X_original_train, y_original_train, cv=5, scoring=rmse_scorer)\n",
    "\n",
    "#Print the cross-validation scores\n",
    "print(\"RMSE:\", np.abs(scores_catboost.mean()))\n",
    "print(\"Test RMSE:\", test_rmse_catboost)\n",
    "\n",
    "# Print the training results\n",
    "print(\"Training time:\", training_time_catboost)\n",
    "print(\"Prediction time:\", prediction_time_catboost)"
   ]
  },
  {
   "cell_type": "markdown",
   "metadata": {},
   "source": [
    "<div class=\"alert alert-block alert-danger\">\n",
    "<b>Reviewer's comment V1</b> <a class=\"tocSkip\"></a>\n",
    "\n",
    "Well done! Everything is correct. You need just to fix two small issues:\n",
    "1. The best model should be tested on the test data as usual\n",
    "2. For each model you need to measure two separate times: training time and prediction time. To do it, you can use library `time`. But keep in mind, that grid search time is not the same as model traning time. To measure model training time you need to select the best model, retrain it on train data and measure this time.\n",
    "    \n",
    "</div>"
   ]
  },
  {
   "cell_type": "markdown",
   "metadata": {},
   "source": [
    "<div class=\"alert alert-block alert-info\">\n",
    "<b>Student answer.</b> <a class=\"tocSkip\"></a>\n",
    "\n",
    "1. Updated code to check Test RMSE for all models not sure the best one<br>\n",
    "2. I added code for each model on training time with help from Dot and a tutor in Discord\n",
    "</div>"
   ]
  },
  {
   "cell_type": "markdown",
   "metadata": {},
   "source": [
    "<div class=\"alert alert-block alert-success\">\n",
    "<b>Reviewer's comment V2</b> <a class=\"tocSkip\"></a>\n",
    "\n",
    "Now everything is correct. Good job!\n",
    "    \n",
    "</div>"
   ]
  },
  {
   "cell_type": "markdown",
   "metadata": {},
   "source": [
    "## Model analysis"
   ]
  },
  {
   "cell_type": "markdown",
   "metadata": {},
   "source": [
    "I was able to improve the models enough to have better RMSE and Test RMSE scores than the baseline linear regression model.\n",
    "\n",
    "The most significant improvement was the CatBoost model w/ and RMSE of 2071 compared to 3370 baseline\n",
    "and a Test RMSE of 2064 compared to 6281 baseline.\n",
    "\n",
    "CatBoost also had the longest training time compared to the other models. It was about double that of Random Forest and LightGBM.\n",
    "\n",
    "Baseline Linear Regression:<br>\n",
    "RMSE: 3370.619291921021<br>\n",
    "Test RMSE: 6281.211347513317<br>\n",
    "\n",
    "Decision Tree:<br>\n",
    "RMSE: 2516.4901436058767<br>\n",
    "Test RMSE: 2495.5551406899185<br>\n",
    "Training time: 0.23401117324829102<br>\n",
    "Prediction time: 0.003443479537963867<br>\n",
    "\n",
    "Random Forest:<br>\n",
    "RMSE: 2389.4091770580676<br>\n",
    "Test RMSE: 2366.2767131549053<br>\n",
    "Training time: 1.4818060398101807<br>\n",
    "Prediction time: 0.01737833023071289<br>\n",
    "\n",
    "LightGBM:<br>\n",
    "RMSE: 2143.8576132850567<br>\n",
    "Test RMSE: 2121.5609175572217<br>\n",
    "Training time: 1.5945460796356201<br>\n",
    "Prediction time: 0.20604872703552246<br>\n",
    "\n",
    "CatBoost:<br>\n",
    "RMSE: 2071.405636547941<br>\n",
    "Test RMSE: 2064.30355961189<br>\n",
    "Training time: 2.9004037380218506<br>\n",
    "Prediction time: 0.018863201141357422<br>\n",
    "\n",
    "I had to decrease the parameter grid metrics a few times on a few of the models to get them to train in an acceptable timeframe."
   ]
  },
  {
   "cell_type": "markdown",
   "metadata": {},
   "source": [
    "# Checklist"
   ]
  },
  {
   "cell_type": "markdown",
   "metadata": {},
   "source": [
    "Type 'x' to check. Then press Shift+Enter."
   ]
  },
  {
   "cell_type": "markdown",
   "metadata": {},
   "source": [
    "- [x]  Jupyter Notebook is open\n",
    "- [x]  Code is error free\n",
    "- [x]  The cells with the code have been arranged in order of execution\n",
    "- [x]  The data has been downloaded and prepared\n",
    "- [x]  The models have been trained\n",
    "- [x]  The analysis of speed and quality of the models has been performed"
   ]
  },
  {
   "cell_type": "code",
   "execution_count": null,
   "metadata": {},
   "outputs": [],
   "source": []
  }
 ],
 "metadata": {
  "ExecuteTimeLog": [
   {
    "duration": 2967,
    "start_time": "2024-09-19T12:04:07.857Z"
   },
   {
    "duration": 18,
    "start_time": "2024-09-19T12:06:20.069Z"
   },
   {
    "duration": 2069,
    "start_time": "2024-09-19T12:06:36.507Z"
   },
   {
    "duration": 48,
    "start_time": "2024-09-19T12:06:52.676Z"
   },
   {
    "duration": 3,
    "start_time": "2024-09-19T12:07:01.886Z"
   },
   {
    "duration": 473,
    "start_time": "2024-09-19T12:07:17.004Z"
   },
   {
    "duration": 4,
    "start_time": "2024-09-19T12:08:38.750Z"
   },
   {
    "duration": 4,
    "start_time": "2024-09-19T12:09:25.458Z"
   },
   {
    "duration": 20,
    "start_time": "2024-09-19T12:09:46.404Z"
   },
   {
    "duration": 20,
    "start_time": "2024-09-19T12:09:58.114Z"
   },
   {
    "duration": 89,
    "start_time": "2024-09-19T12:10:13.945Z"
   },
   {
    "duration": 3,
    "start_time": "2024-09-19T12:15:45.903Z"
   },
   {
    "duration": 94,
    "start_time": "2024-09-19T12:15:49.199Z"
   },
   {
    "duration": 26,
    "start_time": "2024-09-19T12:19:29.513Z"
   },
   {
    "duration": 92,
    "start_time": "2024-09-19T12:19:36.177Z"
   },
   {
    "duration": 32,
    "start_time": "2024-09-19T12:23:25.745Z"
   },
   {
    "duration": 239,
    "start_time": "2024-09-19T12:36:18.063Z"
   },
   {
    "duration": 36116,
    "start_time": "2024-09-19T12:37:45.296Z"
   },
   {
    "duration": 61,
    "start_time": "2024-09-19T12:38:34.413Z"
   },
   {
    "duration": 15,
    "start_time": "2024-09-19T12:39:02.758Z"
   },
   {
    "duration": 172,
    "start_time": "2024-09-19T12:39:23.076Z"
   },
   {
    "duration": 204,
    "start_time": "2024-09-19T12:40:12.738Z"
   },
   {
    "duration": 61,
    "start_time": "2024-09-19T12:42:09.827Z"
   },
   {
    "duration": 12,
    "start_time": "2024-09-19T12:46:45.161Z"
   },
   {
    "duration": 6,
    "start_time": "2024-09-19T12:46:55.281Z"
   },
   {
    "duration": 6,
    "start_time": "2024-09-19T12:47:05.484Z"
   },
   {
    "duration": 465,
    "start_time": "2024-09-19T12:54:20.045Z"
   },
   {
    "duration": 6,
    "start_time": "2024-09-19T12:54:37.871Z"
   },
   {
    "duration": 4,
    "start_time": "2024-09-19T12:58:07.634Z"
   },
   {
    "duration": 52,
    "start_time": "2024-09-19T12:58:14.930Z"
   },
   {
    "duration": 2506,
    "start_time": "2024-09-19T12:59:18.937Z"
   },
   {
    "duration": 2470,
    "start_time": "2024-09-19T13:00:13.464Z"
   },
   {
    "duration": 60,
    "start_time": "2024-09-19T13:02:15.534Z"
   },
   {
    "duration": 26,
    "start_time": "2024-09-19T13:07:03.964Z"
   },
   {
    "duration": 21,
    "start_time": "2024-09-19T13:09:18.484Z"
   },
   {
    "duration": 42,
    "start_time": "2024-09-19T13:19:21.749Z"
   },
   {
    "duration": 3,
    "start_time": "2024-09-19T13:27:55.324Z"
   },
   {
    "duration": 78,
    "start_time": "2024-09-19T13:29:29.008Z"
   },
   {
    "duration": 75,
    "start_time": "2024-09-19T13:29:51.370Z"
   },
   {
    "duration": 76,
    "start_time": "2024-09-19T13:31:18.785Z"
   },
   {
    "duration": 2,
    "start_time": "2024-09-19T13:44:19.404Z"
   },
   {
    "duration": 2,
    "start_time": "2024-09-19T13:44:22.347Z"
   },
   {
    "duration": 69,
    "start_time": "2024-09-19T13:47:42.551Z"
   },
   {
    "duration": 3102,
    "start_time": "2024-09-19T14:36:37.937Z"
   },
   {
    "duration": 22,
    "start_time": "2024-09-19T14:38:57.950Z"
   },
   {
    "duration": 3,
    "start_time": "2024-09-19T14:39:41.409Z"
   },
   {
    "duration": 14984,
    "start_time": "2024-09-19T14:39:59.123Z"
   },
   {
    "duration": 25,
    "start_time": "2024-09-19T14:40:14.110Z"
   },
   {
    "duration": 17,
    "start_time": "2024-09-19T14:40:20.253Z"
   },
   {
    "duration": 1495,
    "start_time": "2024-09-19T14:40:24.047Z"
   },
   {
    "duration": 21,
    "start_time": "2024-09-19T14:40:43.126Z"
   },
   {
    "duration": 1249,
    "start_time": "2024-09-19T14:40:57.765Z"
   },
   {
    "duration": 22,
    "start_time": "2024-09-19T14:41:08.494Z"
   },
   {
    "duration": 21,
    "start_time": "2024-09-19T14:42:07.091Z"
   },
   {
    "duration": 1482,
    "start_time": "2024-09-19T14:42:45.866Z"
   },
   {
    "duration": 3,
    "start_time": "2024-09-19T14:43:36.210Z"
   },
   {
    "duration": 28,
    "start_time": "2024-09-19T14:47:03.153Z"
   },
   {
    "duration": 1460,
    "start_time": "2024-09-19T14:47:11.478Z"
   },
   {
    "duration": 4,
    "start_time": "2024-09-19T14:47:14.165Z"
   },
   {
    "duration": 23,
    "start_time": "2024-09-19T14:47:21.362Z"
   },
   {
    "duration": 1310,
    "start_time": "2024-09-19T14:47:30.137Z"
   },
   {
    "duration": 4,
    "start_time": "2024-09-19T14:47:42.451Z"
   },
   {
    "duration": 15,
    "start_time": "2024-09-19T14:51:50.853Z"
   },
   {
    "duration": 27,
    "start_time": "2024-09-19T14:54:32.734Z"
   },
   {
    "duration": 22,
    "start_time": "2024-09-19T15:15:00.552Z"
   },
   {
    "duration": 3,
    "start_time": "2024-09-19T15:16:56.179Z"
   },
   {
    "duration": 1478,
    "start_time": "2024-09-19T15:25:10.568Z"
   },
   {
    "duration": 25,
    "start_time": "2024-09-19T15:25:24.985Z"
   },
   {
    "duration": 7,
    "start_time": "2024-09-19T15:27:14.579Z"
   },
   {
    "duration": 20,
    "start_time": "2024-09-19T15:27:19.438Z"
   },
   {
    "duration": 1244,
    "start_time": "2024-09-19T15:27:27.873Z"
   },
   {
    "duration": 1277,
    "start_time": "2024-09-19T15:36:48.986Z"
   },
   {
    "duration": 0,
    "start_time": "2024-09-19T15:36:50.266Z"
   },
   {
    "duration": 0,
    "start_time": "2024-09-19T15:36:50.267Z"
   },
   {
    "duration": 0,
    "start_time": "2024-09-19T15:36:50.268Z"
   },
   {
    "duration": 0,
    "start_time": "2024-09-19T15:36:50.269Z"
   },
   {
    "duration": 0,
    "start_time": "2024-09-19T15:36:50.271Z"
   },
   {
    "duration": 0,
    "start_time": "2024-09-19T15:36:50.271Z"
   },
   {
    "duration": 0,
    "start_time": "2024-09-19T15:36:50.273Z"
   },
   {
    "duration": 0,
    "start_time": "2024-09-19T15:36:50.273Z"
   },
   {
    "duration": 0,
    "start_time": "2024-09-19T15:36:50.275Z"
   },
   {
    "duration": 0,
    "start_time": "2024-09-19T15:36:50.277Z"
   },
   {
    "duration": 0,
    "start_time": "2024-09-19T15:36:50.278Z"
   },
   {
    "duration": 0,
    "start_time": "2024-09-19T15:36:50.279Z"
   },
   {
    "duration": 0,
    "start_time": "2024-09-19T15:36:50.281Z"
   },
   {
    "duration": 0,
    "start_time": "2024-09-19T15:36:50.283Z"
   },
   {
    "duration": 0,
    "start_time": "2024-09-19T15:36:50.308Z"
   },
   {
    "duration": 0,
    "start_time": "2024-09-19T15:36:50.310Z"
   },
   {
    "duration": 0,
    "start_time": "2024-09-19T15:36:50.311Z"
   },
   {
    "duration": 0,
    "start_time": "2024-09-19T15:36:50.312Z"
   },
   {
    "duration": 0,
    "start_time": "2024-09-19T15:36:50.313Z"
   },
   {
    "duration": 0,
    "start_time": "2024-09-19T15:36:50.315Z"
   },
   {
    "duration": 0,
    "start_time": "2024-09-19T15:36:50.317Z"
   },
   {
    "duration": 3,
    "start_time": "2024-09-19T15:36:55.435Z"
   },
   {
    "duration": 16,
    "start_time": "2024-09-19T15:36:57.590Z"
   },
   {
    "duration": 0,
    "start_time": "2024-09-19T15:36:57.608Z"
   },
   {
    "duration": 0,
    "start_time": "2024-09-19T15:36:57.609Z"
   },
   {
    "duration": 0,
    "start_time": "2024-09-19T15:36:57.610Z"
   },
   {
    "duration": 18,
    "start_time": "2024-09-19T15:36:57.612Z"
   },
   {
    "duration": 0,
    "start_time": "2024-09-19T15:36:57.631Z"
   },
   {
    "duration": 0,
    "start_time": "2024-09-19T15:36:57.633Z"
   },
   {
    "duration": 0,
    "start_time": "2024-09-19T15:36:57.634Z"
   },
   {
    "duration": 0,
    "start_time": "2024-09-19T15:36:57.636Z"
   },
   {
    "duration": 0,
    "start_time": "2024-09-19T15:36:57.637Z"
   },
   {
    "duration": 0,
    "start_time": "2024-09-19T15:36:57.638Z"
   },
   {
    "duration": 0,
    "start_time": "2024-09-19T15:36:57.639Z"
   },
   {
    "duration": 0,
    "start_time": "2024-09-19T15:36:57.640Z"
   },
   {
    "duration": 0,
    "start_time": "2024-09-19T15:36:57.641Z"
   },
   {
    "duration": 0,
    "start_time": "2024-09-19T15:36:57.643Z"
   },
   {
    "duration": 0,
    "start_time": "2024-09-19T15:36:57.643Z"
   },
   {
    "duration": 0,
    "start_time": "2024-09-19T15:36:57.646Z"
   },
   {
    "duration": 0,
    "start_time": "2024-09-19T15:36:57.647Z"
   },
   {
    "duration": 1,
    "start_time": "2024-09-19T15:36:57.648Z"
   },
   {
    "duration": 0,
    "start_time": "2024-09-19T15:36:57.650Z"
   },
   {
    "duration": 0,
    "start_time": "2024-09-19T15:36:57.652Z"
   },
   {
    "duration": 0,
    "start_time": "2024-09-19T15:36:57.653Z"
   },
   {
    "duration": 1372,
    "start_time": "2024-09-19T15:37:58.815Z"
   },
   {
    "duration": 24,
    "start_time": "2024-09-19T15:38:38.408Z"
   },
   {
    "duration": 51975,
    "start_time": "2024-09-19T15:43:59.119Z"
   },
   {
    "duration": 24,
    "start_time": "2024-09-19T15:45:10.996Z"
   },
   {
    "duration": 1220,
    "start_time": "2024-09-19T15:45:53.163Z"
   },
   {
    "duration": 23,
    "start_time": "2024-09-19T15:50:44.432Z"
   },
   {
    "duration": 10156,
    "start_time": "2024-09-19T15:50:48.996Z"
   },
   {
    "duration": 1262,
    "start_time": "2024-09-19T15:57:34.650Z"
   },
   {
    "duration": 9976,
    "start_time": "2024-09-19T15:57:40.745Z"
   },
   {
    "duration": 5,
    "start_time": "2024-09-19T16:00:44.645Z"
   },
   {
    "duration": 76758,
    "start_time": "2024-09-19T16:00:49.379Z"
   },
   {
    "duration": 11439,
    "start_time": "2024-09-19T16:02:06.140Z"
   },
   {
    "duration": 4,
    "start_time": "2024-09-19T16:09:23.896Z"
   },
   {
    "duration": 23,
    "start_time": "2024-09-19T16:09:39.836Z"
   },
   {
    "duration": 4,
    "start_time": "2024-09-19T16:17:58.351Z"
   },
   {
    "duration": 456,
    "start_time": "2024-09-19T16:17:58.363Z"
   },
   {
    "duration": 22,
    "start_time": "2024-09-19T16:17:58.821Z"
   },
   {
    "duration": 4,
    "start_time": "2024-09-19T16:17:58.846Z"
   },
   {
    "duration": 31,
    "start_time": "2024-09-19T16:17:58.852Z"
   },
   {
    "duration": 110,
    "start_time": "2024-09-19T16:17:58.886Z"
   },
   {
    "duration": 61,
    "start_time": "2024-09-19T16:17:59.009Z"
   },
   {
    "duration": 35921,
    "start_time": "2024-09-19T16:17:59.071Z"
   },
   {
    "duration": 162,
    "start_time": "2024-09-19T16:18:34.994Z"
   },
   {
    "duration": 222,
    "start_time": "2024-09-19T16:18:35.159Z"
   },
   {
    "duration": 65,
    "start_time": "2024-09-19T16:18:35.383Z"
   },
   {
    "duration": 7,
    "start_time": "2024-09-19T16:18:35.449Z"
   },
   {
    "duration": 7,
    "start_time": "2024-09-19T16:18:35.458Z"
   },
   {
    "duration": 45,
    "start_time": "2024-09-19T16:18:35.467Z"
   },
   {
    "duration": 19,
    "start_time": "2024-09-19T16:18:35.515Z"
   },
   {
    "duration": 3,
    "start_time": "2024-09-19T16:18:35.536Z"
   },
   {
    "duration": 94,
    "start_time": "2024-09-19T16:18:35.540Z"
   },
   {
    "duration": 85,
    "start_time": "2024-09-19T16:18:35.636Z"
   },
   {
    "duration": 87,
    "start_time": "2024-09-19T16:18:35.723Z"
   },
   {
    "duration": 3,
    "start_time": "2024-09-19T16:18:35.811Z"
   },
   {
    "duration": 3042,
    "start_time": "2024-09-19T21:59:31.247Z"
   },
   {
    "duration": 1913,
    "start_time": "2024-09-19T22:04:17.702Z"
   },
   {
    "duration": 43,
    "start_time": "2024-09-19T22:04:38.745Z"
   },
   {
    "duration": 25,
    "start_time": "2024-09-19T22:05:39.120Z"
   },
   {
    "duration": 155,
    "start_time": "2024-09-21T14:20:54.396Z"
   },
   {
    "duration": 2794,
    "start_time": "2024-09-21T14:21:02.797Z"
   },
   {
    "duration": 485,
    "start_time": "2024-09-21T14:21:05.593Z"
   },
   {
    "duration": 29,
    "start_time": "2024-09-21T14:21:06.080Z"
   },
   {
    "duration": 3,
    "start_time": "2024-09-21T14:21:06.112Z"
   },
   {
    "duration": 42,
    "start_time": "2024-09-21T14:21:06.117Z"
   },
   {
    "duration": 94,
    "start_time": "2024-09-21T14:21:06.161Z"
   },
   {
    "duration": 66,
    "start_time": "2024-09-21T14:21:06.257Z"
   },
   {
    "duration": 34438,
    "start_time": "2024-09-21T14:21:06.325Z"
   },
   {
    "duration": 170,
    "start_time": "2024-09-21T14:21:40.765Z"
   },
   {
    "duration": 212,
    "start_time": "2024-09-21T14:21:40.938Z"
   },
   {
    "duration": 76,
    "start_time": "2024-09-21T14:21:41.151Z"
   },
   {
    "duration": 64,
    "start_time": "2024-09-21T14:21:41.229Z"
   },
   {
    "duration": 15,
    "start_time": "2024-09-21T14:21:41.295Z"
   },
   {
    "duration": 7,
    "start_time": "2024-09-21T14:21:41.312Z"
   },
   {
    "duration": 24,
    "start_time": "2024-09-21T14:21:41.320Z"
   },
   {
    "duration": 15,
    "start_time": "2024-09-21T14:21:41.346Z"
   },
   {
    "duration": 3,
    "start_time": "2024-09-21T14:21:41.363Z"
   },
   {
    "duration": 108,
    "start_time": "2024-09-21T14:21:41.368Z"
   },
   {
    "duration": 78,
    "start_time": "2024-09-21T14:21:41.478Z"
   },
   {
    "duration": 78,
    "start_time": "2024-09-21T14:21:41.558Z"
   },
   {
    "duration": 2,
    "start_time": "2024-09-21T14:21:41.638Z"
   },
   {
    "duration": 3,
    "start_time": "2024-09-21T14:21:41.642Z"
   },
   {
    "duration": 3,
    "start_time": "2024-09-21T14:21:41.647Z"
   },
   {
    "duration": 0,
    "start_time": "2024-09-21T14:21:41.651Z"
   },
   {
    "duration": 0,
    "start_time": "2024-09-21T14:21:41.653Z"
   },
   {
    "duration": 0,
    "start_time": "2024-09-21T14:21:41.655Z"
   },
   {
    "duration": 0,
    "start_time": "2024-09-21T14:21:41.656Z"
   },
   {
    "duration": 93,
    "start_time": "2024-09-21T14:23:01.170Z"
   },
   {
    "duration": 6,
    "start_time": "2024-09-21T14:23:01.948Z"
   },
   {
    "duration": 5,
    "start_time": "2024-09-21T14:23:04.814Z"
   },
   {
    "duration": 15,
    "start_time": "2024-09-21T14:23:05.498Z"
   },
   {
    "duration": 13,
    "start_time": "2024-09-21T14:23:05.973Z"
   },
   {
    "duration": 3,
    "start_time": "2024-09-21T14:23:08.621Z"
   },
   {
    "duration": 78,
    "start_time": "2024-09-21T14:23:09.980Z"
   },
   {
    "duration": 75,
    "start_time": "2024-09-21T14:23:11.298Z"
   },
   {
    "duration": 38,
    "start_time": "2024-09-21T14:23:30.294Z"
   },
   {
    "duration": 39,
    "start_time": "2024-09-21T14:23:34.726Z"
   },
   {
    "duration": 39,
    "start_time": "2024-09-21T14:24:39.964Z"
   },
   {
    "duration": 71,
    "start_time": "2024-09-21T14:24:52.453Z"
   },
   {
    "duration": 8,
    "start_time": "2024-09-21T14:28:52.641Z"
   },
   {
    "duration": 40,
    "start_time": "2024-09-21T14:29:03.622Z"
   },
   {
    "duration": 3,
    "start_time": "2024-09-21T14:33:59.309Z"
   },
   {
    "duration": 758,
    "start_time": "2024-09-21T14:57:11.627Z"
   },
   {
    "duration": 5,
    "start_time": "2024-09-21T14:57:20.823Z"
   },
   {
    "duration": 386,
    "start_time": "2024-09-21T14:57:20.830Z"
   },
   {
    "duration": 18,
    "start_time": "2024-09-21T14:57:21.218Z"
   },
   {
    "duration": 2,
    "start_time": "2024-09-21T14:57:21.238Z"
   },
   {
    "duration": 27,
    "start_time": "2024-09-21T14:57:21.243Z"
   },
   {
    "duration": 112,
    "start_time": "2024-09-21T14:57:21.272Z"
   },
   {
    "duration": 64,
    "start_time": "2024-09-21T14:57:21.385Z"
   },
   {
    "duration": 34700,
    "start_time": "2024-09-21T14:57:21.450Z"
   },
   {
    "duration": 157,
    "start_time": "2024-09-21T14:57:56.152Z"
   },
   {
    "duration": 210,
    "start_time": "2024-09-21T14:57:56.311Z"
   },
   {
    "duration": 8,
    "start_time": "2024-09-21T14:57:56.522Z"
   },
   {
    "duration": 6,
    "start_time": "2024-09-21T14:57:56.532Z"
   },
   {
    "duration": 24,
    "start_time": "2024-09-21T14:57:56.539Z"
   },
   {
    "duration": 42,
    "start_time": "2024-09-21T14:57:56.567Z"
   },
   {
    "duration": 8,
    "start_time": "2024-09-21T14:57:56.611Z"
   },
   {
    "duration": 47,
    "start_time": "2024-09-21T14:57:56.621Z"
   },
   {
    "duration": 3,
    "start_time": "2024-09-21T14:57:56.670Z"
   },
   {
    "duration": 95,
    "start_time": "2024-09-21T14:57:56.674Z"
   },
   {
    "duration": 82,
    "start_time": "2024-09-21T14:57:56.771Z"
   },
   {
    "duration": 36,
    "start_time": "2024-09-21T14:57:56.855Z"
   },
   {
    "duration": 50,
    "start_time": "2024-09-21T14:57:56.893Z"
   },
   {
    "duration": 83,
    "start_time": "2024-09-21T14:57:56.945Z"
   },
   {
    "duration": 19,
    "start_time": "2024-09-21T14:57:57.029Z"
   },
   {
    "duration": 0,
    "start_time": "2024-09-21T14:57:57.050Z"
   },
   {
    "duration": 0,
    "start_time": "2024-09-21T14:57:57.052Z"
   },
   {
    "duration": 0,
    "start_time": "2024-09-21T14:57:57.053Z"
   },
   {
    "duration": 0,
    "start_time": "2024-09-21T14:57:57.055Z"
   },
   {
    "duration": 0,
    "start_time": "2024-09-21T14:57:57.056Z"
   },
   {
    "duration": 0,
    "start_time": "2024-09-21T14:57:57.058Z"
   },
   {
    "duration": 20,
    "start_time": "2024-09-21T15:03:55.263Z"
   },
   {
    "duration": 5,
    "start_time": "2024-09-21T15:07:21.214Z"
   },
   {
    "duration": 86,
    "start_time": "2024-09-21T15:07:33.329Z"
   },
   {
    "duration": 87,
    "start_time": "2024-09-21T15:07:42.847Z"
   },
   {
    "duration": 154,
    "start_time": "2024-09-21T15:08:59.003Z"
   },
   {
    "duration": 3,
    "start_time": "2024-09-21T15:27:35.217Z"
   },
   {
    "duration": 2,
    "start_time": "2024-09-21T15:27:39.493Z"
   },
   {
    "duration": 150,
    "start_time": "2024-09-21T15:28:23.653Z"
   },
   {
    "duration": 4,
    "start_time": "2024-09-21T15:31:01.874Z"
   },
   {
    "duration": 424,
    "start_time": "2024-09-21T15:31:01.881Z"
   },
   {
    "duration": 20,
    "start_time": "2024-09-21T15:31:02.307Z"
   },
   {
    "duration": 3,
    "start_time": "2024-09-21T15:31:02.329Z"
   },
   {
    "duration": 21,
    "start_time": "2024-09-21T15:31:02.335Z"
   },
   {
    "duration": 118,
    "start_time": "2024-09-21T15:31:02.358Z"
   },
   {
    "duration": 71,
    "start_time": "2024-09-21T15:31:02.478Z"
   },
   {
    "duration": 3,
    "start_time": "2024-09-21T15:31:02.550Z"
   },
   {
    "duration": 229,
    "start_time": "2024-09-21T15:31:02.554Z"
   },
   {
    "duration": 286,
    "start_time": "2024-09-21T15:31:02.785Z"
   },
   {
    "duration": 7,
    "start_time": "2024-09-21T15:31:03.073Z"
   },
   {
    "duration": 7,
    "start_time": "2024-09-21T15:31:03.081Z"
   },
   {
    "duration": 53,
    "start_time": "2024-09-21T15:31:03.090Z"
   },
   {
    "duration": 31,
    "start_time": "2024-09-21T15:31:03.148Z"
   },
   {
    "duration": 32,
    "start_time": "2024-09-21T15:31:03.181Z"
   },
   {
    "duration": 59,
    "start_time": "2024-09-21T15:31:03.215Z"
   },
   {
    "duration": 3,
    "start_time": "2024-09-21T15:31:03.276Z"
   },
   {
    "duration": 95,
    "start_time": "2024-09-21T15:31:03.280Z"
   },
   {
    "duration": 84,
    "start_time": "2024-09-21T15:31:03.377Z"
   },
   {
    "duration": 61,
    "start_time": "2024-09-21T15:31:03.463Z"
   },
   {
    "duration": 63,
    "start_time": "2024-09-21T15:31:03.526Z"
   },
   {
    "duration": 1095,
    "start_time": "2024-09-21T15:31:54.745Z"
   },
   {
    "duration": 462,
    "start_time": "2024-09-21T15:31:55.843Z"
   },
   {
    "duration": 23,
    "start_time": "2024-09-21T15:31:56.308Z"
   },
   {
    "duration": 3,
    "start_time": "2024-09-21T15:31:56.332Z"
   },
   {
    "duration": 32,
    "start_time": "2024-09-21T15:31:56.337Z"
   },
   {
    "duration": 107,
    "start_time": "2024-09-21T15:31:56.371Z"
   },
   {
    "duration": 71,
    "start_time": "2024-09-21T15:31:56.480Z"
   },
   {
    "duration": 2,
    "start_time": "2024-09-21T15:31:56.553Z"
   },
   {
    "duration": 225,
    "start_time": "2024-09-21T15:31:56.557Z"
   },
   {
    "duration": 278,
    "start_time": "2024-09-21T15:31:56.784Z"
   },
   {
    "duration": 7,
    "start_time": "2024-09-21T15:31:57.064Z"
   },
   {
    "duration": 6,
    "start_time": "2024-09-21T15:31:57.073Z"
   },
   {
    "duration": 45,
    "start_time": "2024-09-21T15:31:57.081Z"
   },
   {
    "duration": 22,
    "start_time": "2024-09-21T15:31:57.129Z"
   },
   {
    "duration": 17,
    "start_time": "2024-09-21T15:31:57.153Z"
   },
   {
    "duration": 59,
    "start_time": "2024-09-21T15:32:12.480Z"
   },
   {
    "duration": 4,
    "start_time": "2024-09-21T15:32:25.506Z"
   },
   {
    "duration": 409,
    "start_time": "2024-09-21T15:32:25.513Z"
   },
   {
    "duration": 19,
    "start_time": "2024-09-21T15:32:25.924Z"
   },
   {
    "duration": 2,
    "start_time": "2024-09-21T15:32:25.945Z"
   },
   {
    "duration": 20,
    "start_time": "2024-09-21T15:32:25.949Z"
   },
   {
    "duration": 112,
    "start_time": "2024-09-21T15:32:25.971Z"
   },
   {
    "duration": 69,
    "start_time": "2024-09-21T15:32:26.085Z"
   },
   {
    "duration": 3,
    "start_time": "2024-09-21T15:32:26.155Z"
   },
   {
    "duration": 229,
    "start_time": "2024-09-21T15:32:26.160Z"
   },
   {
    "duration": 262,
    "start_time": "2024-09-21T15:32:26.392Z"
   },
   {
    "duration": 6,
    "start_time": "2024-09-21T15:32:26.656Z"
   },
   {
    "duration": 6,
    "start_time": "2024-09-21T15:32:26.664Z"
   },
   {
    "duration": 54,
    "start_time": "2024-09-21T15:32:26.671Z"
   },
   {
    "duration": 29,
    "start_time": "2024-09-21T15:32:26.730Z"
   },
   {
    "duration": 18,
    "start_time": "2024-09-21T15:32:26.761Z"
   },
   {
    "duration": 80,
    "start_time": "2024-09-21T15:32:26.781Z"
   },
   {
    "duration": 3,
    "start_time": "2024-09-21T15:32:26.863Z"
   },
   {
    "duration": 89,
    "start_time": "2024-09-21T15:32:26.868Z"
   },
   {
    "duration": 82,
    "start_time": "2024-09-21T15:32:26.959Z"
   },
   {
    "duration": 56,
    "start_time": "2024-09-21T15:32:27.043Z"
   },
   {
    "duration": 74,
    "start_time": "2024-09-21T15:32:27.100Z"
   },
   {
    "duration": 159,
    "start_time": "2024-09-21T15:32:58.967Z"
   },
   {
    "duration": 13,
    "start_time": "2024-09-21T15:33:03.963Z"
   },
   {
    "duration": 11,
    "start_time": "2024-09-21T15:33:07.382Z"
   },
   {
    "duration": 1116,
    "start_time": "2024-09-21T15:33:16.140Z"
   },
   {
    "duration": 468,
    "start_time": "2024-09-21T15:33:17.258Z"
   },
   {
    "duration": 27,
    "start_time": "2024-09-21T15:33:17.727Z"
   },
   {
    "duration": 2,
    "start_time": "2024-09-21T15:33:17.756Z"
   },
   {
    "duration": 48,
    "start_time": "2024-09-21T15:33:17.762Z"
   },
   {
    "duration": 105,
    "start_time": "2024-09-21T15:33:17.812Z"
   },
   {
    "duration": 58,
    "start_time": "2024-09-21T15:33:17.919Z"
   },
   {
    "duration": 2,
    "start_time": "2024-09-21T15:33:17.979Z"
   },
   {
    "duration": 228,
    "start_time": "2024-09-21T15:33:17.983Z"
   },
   {
    "duration": 276,
    "start_time": "2024-09-21T15:33:18.213Z"
   },
   {
    "duration": 17,
    "start_time": "2024-09-21T15:33:18.491Z"
   },
   {
    "duration": 6,
    "start_time": "2024-09-21T15:33:18.510Z"
   },
   {
    "duration": 28,
    "start_time": "2024-09-21T15:33:18.518Z"
   },
   {
    "duration": 22,
    "start_time": "2024-09-21T15:33:18.551Z"
   },
   {
    "duration": 35,
    "start_time": "2024-09-21T15:33:18.575Z"
   },
   {
    "duration": 56,
    "start_time": "2024-09-21T15:33:18.612Z"
   },
   {
    "duration": 2,
    "start_time": "2024-09-21T15:33:18.672Z"
   },
   {
    "duration": 89,
    "start_time": "2024-09-21T15:33:18.676Z"
   },
   {
    "duration": 83,
    "start_time": "2024-09-21T15:33:18.766Z"
   },
   {
    "duration": 59,
    "start_time": "2024-09-21T15:33:18.851Z"
   },
   {
    "duration": 67,
    "start_time": "2024-09-21T15:33:18.912Z"
   },
   {
    "duration": 159,
    "start_time": "2024-09-21T15:39:56.600Z"
   },
   {
    "duration": 12,
    "start_time": "2024-09-21T15:40:00.811Z"
   },
   {
    "duration": 1075,
    "start_time": "2024-09-21T15:40:12.894Z"
   },
   {
    "duration": 476,
    "start_time": "2024-09-21T15:40:13.972Z"
   },
   {
    "duration": 21,
    "start_time": "2024-09-21T15:40:14.450Z"
   },
   {
    "duration": 3,
    "start_time": "2024-09-21T15:40:14.472Z"
   },
   {
    "duration": 43,
    "start_time": "2024-09-21T15:40:14.478Z"
   },
   {
    "duration": 96,
    "start_time": "2024-09-21T15:40:14.523Z"
   },
   {
    "duration": 58,
    "start_time": "2024-09-21T15:40:14.620Z"
   },
   {
    "duration": 3,
    "start_time": "2024-09-21T15:40:14.679Z"
   },
   {
    "duration": 249,
    "start_time": "2024-09-21T15:40:14.684Z"
   },
   {
    "duration": 296,
    "start_time": "2024-09-21T15:40:14.935Z"
   },
   {
    "duration": 7,
    "start_time": "2024-09-21T15:40:15.233Z"
   },
   {
    "duration": 6,
    "start_time": "2024-09-21T15:40:15.242Z"
   },
   {
    "duration": 33,
    "start_time": "2024-09-21T15:40:15.249Z"
   },
   {
    "duration": 29,
    "start_time": "2024-09-21T15:40:15.308Z"
   },
   {
    "duration": 14,
    "start_time": "2024-09-21T15:40:15.339Z"
   },
   {
    "duration": 58,
    "start_time": "2024-09-21T15:40:20.045Z"
   },
   {
    "duration": 3,
    "start_time": "2024-09-21T15:40:31.891Z"
   },
   {
    "duration": 75,
    "start_time": "2024-09-21T15:40:32.977Z"
   },
   {
    "duration": 78,
    "start_time": "2024-09-21T15:40:37.344Z"
   },
   {
    "duration": 56,
    "start_time": "2024-09-21T15:40:39.148Z"
   },
   {
    "duration": 58,
    "start_time": "2024-09-21T15:40:40.813Z"
   },
   {
    "duration": 158,
    "start_time": "2024-09-21T15:40:54.803Z"
   },
   {
    "duration": 13,
    "start_time": "2024-09-21T15:40:58.034Z"
   },
   {
    "duration": 12,
    "start_time": "2024-09-21T15:41:00.559Z"
   },
   {
    "duration": 1280,
    "start_time": "2024-09-21T15:41:25.412Z"
   },
   {
    "duration": 507,
    "start_time": "2024-09-21T15:41:26.695Z"
   },
   {
    "duration": 36,
    "start_time": "2024-09-21T15:41:27.204Z"
   },
   {
    "duration": 3,
    "start_time": "2024-09-21T15:41:27.242Z"
   },
   {
    "duration": 36,
    "start_time": "2024-09-21T15:41:27.248Z"
   },
   {
    "duration": 125,
    "start_time": "2024-09-21T15:41:27.286Z"
   },
   {
    "duration": 59,
    "start_time": "2024-09-21T15:41:27.412Z"
   },
   {
    "duration": 7,
    "start_time": "2024-09-21T15:41:33.459Z"
   },
   {
    "duration": 40,
    "start_time": "2024-09-21T15:41:34.806Z"
   },
   {
    "duration": 29,
    "start_time": "2024-09-21T15:41:35.766Z"
   },
   {
    "duration": 18,
    "start_time": "2024-09-21T15:41:37.052Z"
   },
   {
    "duration": 59,
    "start_time": "2024-09-21T15:41:37.854Z"
   },
   {
    "duration": 3,
    "start_time": "2024-09-21T15:41:39.045Z"
   },
   {
    "duration": 75,
    "start_time": "2024-09-21T15:41:42.573Z"
   },
   {
    "duration": 75,
    "start_time": "2024-09-21T15:41:45.643Z"
   },
   {
    "duration": 54,
    "start_time": "2024-09-21T15:41:48.343Z"
   },
   {
    "duration": 71,
    "start_time": "2024-09-21T15:41:51.570Z"
   },
   {
    "duration": 1110,
    "start_time": "2024-09-21T15:43:02.041Z"
   },
   {
    "duration": 1096,
    "start_time": "2024-09-21T15:43:14.624Z"
   },
   {
    "duration": 476,
    "start_time": "2024-09-21T15:43:20.903Z"
   },
   {
    "duration": 23,
    "start_time": "2024-09-21T15:43:24.582Z"
   },
   {
    "duration": 4,
    "start_time": "2024-09-21T15:43:25.435Z"
   },
   {
    "duration": 32,
    "start_time": "2024-09-21T15:43:26.446Z"
   },
   {
    "duration": 101,
    "start_time": "2024-09-21T15:43:27.206Z"
   },
   {
    "duration": 72,
    "start_time": "2024-09-21T15:43:28.163Z"
   },
   {
    "duration": 2,
    "start_time": "2024-09-21T15:43:31.808Z"
   },
   {
    "duration": 233,
    "start_time": "2024-09-21T15:43:33.927Z"
   },
   {
    "duration": 299,
    "start_time": "2024-09-21T15:43:35.031Z"
   },
   {
    "duration": 7,
    "start_time": "2024-09-21T15:43:36.675Z"
   },
   {
    "duration": 8,
    "start_time": "2024-09-21T15:43:39.772Z"
   },
   {
    "duration": 36,
    "start_time": "2024-09-21T15:43:40.472Z"
   },
   {
    "duration": 27,
    "start_time": "2024-09-21T15:43:41.588Z"
   },
   {
    "duration": 15,
    "start_time": "2024-09-21T15:43:42.410Z"
   },
   {
    "duration": 58,
    "start_time": "2024-09-21T15:43:43.551Z"
   },
   {
    "duration": 3,
    "start_time": "2024-09-21T15:43:49.229Z"
   },
   {
    "duration": 77,
    "start_time": "2024-09-21T15:43:52.537Z"
   },
   {
    "duration": 74,
    "start_time": "2024-09-21T15:44:03.641Z"
   },
   {
    "duration": 68,
    "start_time": "2024-09-21T15:44:07.181Z"
   },
   {
    "duration": 59,
    "start_time": "2024-09-21T15:44:10.325Z"
   },
   {
    "duration": 242,
    "start_time": "2024-09-21T15:45:05.277Z"
   },
   {
    "duration": 14,
    "start_time": "2024-09-21T15:45:10.541Z"
   },
   {
    "duration": 15,
    "start_time": "2024-09-21T15:45:26.161Z"
   },
   {
    "duration": 16,
    "start_time": "2024-09-21T15:48:39.200Z"
   },
   {
    "duration": 115,
    "start_time": "2024-09-21T15:48:49.300Z"
   },
   {
    "duration": 348,
    "start_time": "2024-09-21T15:50:56.554Z"
   },
   {
    "duration": 13,
    "start_time": "2024-09-21T15:52:26.937Z"
   },
   {
    "duration": 14,
    "start_time": "2024-09-21T15:53:07.512Z"
   },
   {
    "duration": 353,
    "start_time": "2024-09-21T15:53:08.697Z"
   },
   {
    "duration": 11,
    "start_time": "2024-09-21T15:54:01.571Z"
   },
   {
    "duration": 6,
    "start_time": "2024-09-21T15:54:26.372Z"
   },
   {
    "duration": 16,
    "start_time": "2024-09-21T15:54:43.292Z"
   },
   {
    "duration": 343,
    "start_time": "2024-09-21T15:54:45.556Z"
   },
   {
    "duration": 159,
    "start_time": "2024-09-21T15:55:58.022Z"
   },
   {
    "duration": 29,
    "start_time": "2024-09-21T16:01:12.018Z"
   },
   {
    "duration": 24,
    "start_time": "2024-09-21T16:02:31.336Z"
   },
   {
    "duration": 26,
    "start_time": "2024-09-21T16:08:41.399Z"
   },
   {
    "duration": 31,
    "start_time": "2024-09-21T16:09:34.290Z"
   },
   {
    "duration": 17,
    "start_time": "2024-09-21T16:15:49.123Z"
   },
   {
    "duration": 31,
    "start_time": "2024-09-21T16:15:58.840Z"
   },
   {
    "duration": 17,
    "start_time": "2024-09-21T16:19:49.981Z"
   },
   {
    "duration": 5,
    "start_time": "2024-09-21T16:20:26.773Z"
   },
   {
    "duration": 3,
    "start_time": "2024-09-21T16:20:32.086Z"
   },
   {
    "duration": 4,
    "start_time": "2024-09-21T16:36:01.435Z"
   },
   {
    "duration": 6,
    "start_time": "2024-09-21T16:44:49.795Z"
   },
   {
    "duration": 57403,
    "start_time": "2024-09-21T16:44:57.201Z"
   },
   {
    "duration": 5,
    "start_time": "2024-09-21T16:46:45.563Z"
   },
   {
    "duration": 57495,
    "start_time": "2024-09-21T16:47:07.270Z"
   },
   {
    "duration": 57481,
    "start_time": "2024-09-21T16:53:27.173Z"
   },
   {
    "duration": 57476,
    "start_time": "2024-09-21T17:01:21.365Z"
   },
   {
    "duration": 10,
    "start_time": "2024-09-21T17:48:11.660Z"
   },
   {
    "duration": 174,
    "start_time": "2024-09-21T17:48:17.746Z"
   },
   {
    "duration": 2839,
    "start_time": "2024-09-21T17:48:46.955Z"
   },
   {
    "duration": 94,
    "start_time": "2024-09-21T17:48:58.622Z"
   },
   {
    "duration": 3,
    "start_time": "2024-09-21T17:49:07.067Z"
   },
   {
    "duration": 18,
    "start_time": "2024-09-21T17:49:11.057Z"
   },
   {
    "duration": 4,
    "start_time": "2024-09-21T17:49:34.349Z"
   },
   {
    "duration": 484,
    "start_time": "2024-09-21T17:49:34.355Z"
   },
   {
    "duration": 21,
    "start_time": "2024-09-21T17:49:34.841Z"
   },
   {
    "duration": 3,
    "start_time": "2024-09-21T17:49:34.864Z"
   },
   {
    "duration": 44,
    "start_time": "2024-09-21T17:49:34.870Z"
   },
   {
    "duration": 100,
    "start_time": "2024-09-21T17:49:34.916Z"
   },
   {
    "duration": 69,
    "start_time": "2024-09-21T17:49:35.018Z"
   },
   {
    "duration": 2,
    "start_time": "2024-09-21T17:49:35.089Z"
   },
   {
    "duration": 224,
    "start_time": "2024-09-21T17:49:35.093Z"
   },
   {
    "duration": 286,
    "start_time": "2024-09-21T17:49:35.319Z"
   },
   {
    "duration": 7,
    "start_time": "2024-09-21T17:49:35.607Z"
   },
   {
    "duration": 6,
    "start_time": "2024-09-21T17:49:35.616Z"
   },
   {
    "duration": 33,
    "start_time": "2024-09-21T17:49:35.623Z"
   },
   {
    "duration": 48,
    "start_time": "2024-09-21T17:49:35.659Z"
   },
   {
    "duration": 16,
    "start_time": "2024-09-21T17:49:35.709Z"
   },
   {
    "duration": 71,
    "start_time": "2024-09-21T17:49:35.727Z"
   },
   {
    "duration": 3,
    "start_time": "2024-09-21T17:49:35.800Z"
   },
   {
    "duration": 93,
    "start_time": "2024-09-21T17:49:35.805Z"
   },
   {
    "duration": 75,
    "start_time": "2024-09-21T17:49:35.900Z"
   },
   {
    "duration": 53,
    "start_time": "2024-09-21T17:49:35.986Z"
   },
   {
    "duration": 76,
    "start_time": "2024-09-21T17:49:36.041Z"
   },
   {
    "duration": 18,
    "start_time": "2024-09-21T17:49:36.119Z"
   },
   {
    "duration": 390,
    "start_time": "2024-09-21T17:49:36.138Z"
   },
   {
    "duration": 171,
    "start_time": "2024-09-21T17:49:36.530Z"
   },
   {
    "duration": 3,
    "start_time": "2024-09-21T17:49:36.703Z"
   },
   {
    "duration": 84,
    "start_time": "2024-09-21T17:49:36.707Z"
   },
   {
    "duration": 134254,
    "start_time": "2024-09-21T17:49:42.036Z"
   },
   {
    "duration": 63,
    "start_time": "2024-09-21T17:55:19.948Z"
   },
   {
    "duration": 374296,
    "start_time": "2024-09-21T17:55:50.799Z"
   },
   {
    "duration": 2806,
    "start_time": "2024-09-21T20:50:18.240Z"
   },
   {
    "duration": 457,
    "start_time": "2024-09-21T20:50:21.049Z"
   },
   {
    "duration": 20,
    "start_time": "2024-09-21T20:50:21.509Z"
   },
   {
    "duration": 3,
    "start_time": "2024-09-21T20:50:21.531Z"
   },
   {
    "duration": 30,
    "start_time": "2024-09-21T20:50:21.536Z"
   },
   {
    "duration": 113,
    "start_time": "2024-09-21T20:50:21.568Z"
   },
   {
    "duration": 66,
    "start_time": "2024-09-21T20:50:21.684Z"
   },
   {
    "duration": 2,
    "start_time": "2024-09-21T20:50:21.752Z"
   },
   {
    "duration": 228,
    "start_time": "2024-09-21T20:50:21.757Z"
   },
   {
    "duration": 280,
    "start_time": "2024-09-21T20:50:21.987Z"
   },
   {
    "duration": 7,
    "start_time": "2024-09-21T20:50:22.268Z"
   },
   {
    "duration": 6,
    "start_time": "2024-09-21T20:50:22.277Z"
   },
   {
    "duration": 45,
    "start_time": "2024-09-21T20:50:22.285Z"
   },
   {
    "duration": 21,
    "start_time": "2024-09-21T20:50:22.333Z"
   },
   {
    "duration": 17,
    "start_time": "2024-09-21T20:50:22.356Z"
   },
   {
    "duration": 73,
    "start_time": "2024-09-21T20:50:22.375Z"
   },
   {
    "duration": 2,
    "start_time": "2024-09-21T20:50:22.450Z"
   },
   {
    "duration": 88,
    "start_time": "2024-09-21T20:50:22.454Z"
   },
   {
    "duration": 87,
    "start_time": "2024-09-21T20:50:22.544Z"
   },
   {
    "duration": 53,
    "start_time": "2024-09-21T20:50:22.633Z"
   },
   {
    "duration": 76,
    "start_time": "2024-09-21T20:50:22.687Z"
   },
   {
    "duration": 16,
    "start_time": "2024-09-21T20:50:22.765Z"
   },
   {
    "duration": 373,
    "start_time": "2024-09-21T20:50:22.783Z"
   },
   {
    "duration": 176,
    "start_time": "2024-09-21T20:50:23.158Z"
   },
   {
    "duration": 3,
    "start_time": "2024-09-21T20:50:26.810Z"
   },
   {
    "duration": 4429,
    "start_time": "2024-09-21T20:50:33.495Z"
   },
   {
    "duration": 2824,
    "start_time": "2024-09-21T22:37:16.204Z"
   },
   {
    "duration": 482,
    "start_time": "2024-09-21T22:37:19.030Z"
   },
   {
    "duration": 22,
    "start_time": "2024-09-21T22:37:19.513Z"
   },
   {
    "duration": 3,
    "start_time": "2024-09-21T22:37:19.537Z"
   },
   {
    "duration": 32,
    "start_time": "2024-09-21T22:37:19.542Z"
   },
   {
    "duration": 112,
    "start_time": "2024-09-21T22:37:19.575Z"
   },
   {
    "duration": 69,
    "start_time": "2024-09-21T22:37:19.689Z"
   },
   {
    "duration": 2,
    "start_time": "2024-09-21T22:37:19.760Z"
   },
   {
    "duration": 234,
    "start_time": "2024-09-21T22:37:19.763Z"
   },
   {
    "duration": 299,
    "start_time": "2024-09-21T22:37:19.999Z"
   },
   {
    "duration": 11,
    "start_time": "2024-09-21T22:37:20.299Z"
   },
   {
    "duration": 6,
    "start_time": "2024-09-21T22:37:20.312Z"
   },
   {
    "duration": 36,
    "start_time": "2024-09-21T22:37:20.319Z"
   },
   {
    "duration": 48,
    "start_time": "2024-09-21T22:37:20.358Z"
   },
   {
    "duration": 15,
    "start_time": "2024-09-21T22:37:20.408Z"
   },
   {
    "duration": 59,
    "start_time": "2024-09-21T22:37:20.425Z"
   },
   {
    "duration": 3,
    "start_time": "2024-09-21T22:37:20.485Z"
   },
   {
    "duration": 76,
    "start_time": "2024-09-21T22:37:20.506Z"
   },
   {
    "duration": 83,
    "start_time": "2024-09-21T22:37:20.585Z"
   },
   {
    "duration": 62,
    "start_time": "2024-09-21T22:37:20.670Z"
   },
   {
    "duration": 73,
    "start_time": "2024-09-21T22:37:20.734Z"
   },
   {
    "duration": 17,
    "start_time": "2024-09-21T22:37:20.809Z"
   },
   {
    "duration": 390,
    "start_time": "2024-09-21T22:37:20.828Z"
   },
   {
    "duration": 176,
    "start_time": "2024-09-21T22:37:21.220Z"
   },
   {
    "duration": 170,
    "start_time": "2024-09-21T22:37:58.728Z"
   },
   {
    "duration": 3,
    "start_time": "2024-09-21T22:38:06.817Z"
   },
   {
    "duration": 4004,
    "start_time": "2024-09-21T22:38:11.819Z"
   },
   {
    "duration": 8,
    "start_time": "2024-09-21T23:00:40.343Z"
   },
   {
    "duration": 7,
    "start_time": "2024-09-21T23:02:33.934Z"
   },
   {
    "duration": 114,
    "start_time": "2024-09-21T23:02:46.162Z"
   },
   {
    "duration": 633,
    "start_time": "2024-09-21T23:03:28.443Z"
   },
   {
    "duration": 5,
    "start_time": "2024-09-21T23:05:08.382Z"
   },
   {
    "duration": 1885,
    "start_time": "2024-09-21T23:06:57.124Z"
   },
   {
    "duration": 109,
    "start_time": "2024-09-21T23:09:28.742Z"
   },
   {
    "duration": 4,
    "start_time": "2024-09-21T23:29:29.817Z"
   },
   {
    "duration": 58,
    "start_time": "2024-09-21T23:29:43.471Z"
   },
   {
    "duration": 3,
    "start_time": "2024-09-21T23:30:10.681Z"
   },
   {
    "duration": 126,
    "start_time": "2024-09-21T23:30:33.166Z"
   },
   {
    "duration": 5,
    "start_time": "2024-09-21T23:30:54.620Z"
   },
   {
    "duration": 402,
    "start_time": "2024-09-21T23:30:54.627Z"
   },
   {
    "duration": 17,
    "start_time": "2024-09-21T23:30:55.031Z"
   },
   {
    "duration": 2,
    "start_time": "2024-09-21T23:30:55.050Z"
   },
   {
    "duration": 19,
    "start_time": "2024-09-21T23:30:55.055Z"
   },
   {
    "duration": 112,
    "start_time": "2024-09-21T23:30:55.076Z"
   },
   {
    "duration": 67,
    "start_time": "2024-09-21T23:30:55.190Z"
   },
   {
    "duration": 3,
    "start_time": "2024-09-21T23:30:55.258Z"
   },
   {
    "duration": 215,
    "start_time": "2024-09-21T23:30:55.263Z"
   },
   {
    "duration": 247,
    "start_time": "2024-09-21T23:30:55.480Z"
   },
   {
    "duration": 8,
    "start_time": "2024-09-21T23:30:55.729Z"
   },
   {
    "duration": 7,
    "start_time": "2024-09-21T23:30:55.738Z"
   },
   {
    "duration": 33,
    "start_time": "2024-09-21T23:30:55.746Z"
   },
   {
    "duration": 45,
    "start_time": "2024-09-21T23:30:55.782Z"
   },
   {
    "duration": 16,
    "start_time": "2024-09-21T23:30:55.829Z"
   },
   {
    "duration": 71,
    "start_time": "2024-09-21T23:30:55.849Z"
   },
   {
    "duration": 3,
    "start_time": "2024-09-21T23:30:55.921Z"
   },
   {
    "duration": 58,
    "start_time": "2024-09-21T23:30:55.926Z"
   },
   {
    "duration": 3,
    "start_time": "2024-09-21T23:30:56.005Z"
   },
   {
    "duration": 76,
    "start_time": "2024-09-21T23:30:56.009Z"
   },
   {
    "duration": 84,
    "start_time": "2024-09-21T23:30:56.087Z"
   },
   {
    "duration": 67,
    "start_time": "2024-09-21T23:30:56.173Z"
   },
   {
    "duration": 74,
    "start_time": "2024-09-21T23:30:56.242Z"
   },
   {
    "duration": 14,
    "start_time": "2024-09-21T23:30:56.319Z"
   },
   {
    "duration": 369,
    "start_time": "2024-09-21T23:30:56.337Z"
   },
   {
    "duration": 174,
    "start_time": "2024-09-21T23:30:56.709Z"
   },
   {
    "duration": 3,
    "start_time": "2024-09-21T23:33:02.181Z"
   },
   {
    "duration": 100,
    "start_time": "2024-09-21T23:33:21.314Z"
   },
   {
    "duration": 51,
    "start_time": "2024-09-21T23:34:11.233Z"
   },
   {
    "duration": 16479,
    "start_time": "2024-09-21T23:48:09.380Z"
   },
   {
    "duration": 36,
    "start_time": "2024-09-21T23:48:33.284Z"
   },
   {
    "duration": 20257,
    "start_time": "2024-09-21T23:48:37.288Z"
   },
   {
    "duration": 73,
    "start_time": "2024-09-21T23:52:10.712Z"
   },
   {
    "duration": 16,
    "start_time": "2024-09-21T23:52:15.046Z"
   },
   {
    "duration": 587,
    "start_time": "2024-09-21T23:59:01.102Z"
   },
   {
    "duration": 1111,
    "start_time": "2024-09-21T23:59:21.294Z"
   },
   {
    "duration": 423,
    "start_time": "2024-09-21T23:59:22.407Z"
   },
   {
    "duration": 20,
    "start_time": "2024-09-21T23:59:22.832Z"
   },
   {
    "duration": 2,
    "start_time": "2024-09-21T23:59:22.854Z"
   },
   {
    "duration": 48,
    "start_time": "2024-09-21T23:59:22.858Z"
   },
   {
    "duration": 107,
    "start_time": "2024-09-21T23:59:22.908Z"
   },
   {
    "duration": 60,
    "start_time": "2024-09-21T23:59:23.017Z"
   },
   {
    "duration": 35161,
    "start_time": "2024-09-21T23:59:23.078Z"
   },
   {
    "duration": 161,
    "start_time": "2024-09-21T23:59:58.241Z"
   },
   {
    "duration": 211,
    "start_time": "2024-09-21T23:59:58.404Z"
   },
   {
    "duration": 8,
    "start_time": "2024-09-21T23:59:58.618Z"
   },
   {
    "duration": 6,
    "start_time": "2024-09-22T00:00:40.787Z"
   },
   {
    "duration": 31,
    "start_time": "2024-09-22T00:00:42.414Z"
   },
   {
    "duration": 18,
    "start_time": "2024-09-22T00:00:43.032Z"
   },
   {
    "duration": 10,
    "start_time": "2024-09-22T00:00:46.810Z"
   },
   {
    "duration": 40,
    "start_time": "2024-09-22T00:00:51.409Z"
   },
   {
    "duration": 3,
    "start_time": "2024-09-22T00:03:32.120Z"
   },
   {
    "duration": 72,
    "start_time": "2024-09-22T00:03:34.528Z"
   },
   {
    "duration": 18,
    "start_time": "2024-09-22T00:03:39.255Z"
   },
   {
    "duration": 4,
    "start_time": "2024-09-22T00:07:18.239Z"
   },
   {
    "duration": 5,
    "start_time": "2024-09-22T00:07:23.888Z"
   },
   {
    "duration": 15,
    "start_time": "2024-09-22T00:07:44.643Z"
   },
   {
    "duration": 19,
    "start_time": "2024-09-22T00:08:03.264Z"
   },
   {
    "duration": 947,
    "start_time": "2024-09-22T00:08:51.047Z"
   },
   {
    "duration": 1023,
    "start_time": "2024-09-22T00:09:16.475Z"
   },
   {
    "duration": 413,
    "start_time": "2024-09-22T00:09:17.500Z"
   },
   {
    "duration": 20,
    "start_time": "2024-09-22T00:09:17.915Z"
   },
   {
    "duration": 3,
    "start_time": "2024-09-22T00:09:17.937Z"
   },
   {
    "duration": 31,
    "start_time": "2024-09-22T00:09:17.942Z"
   },
   {
    "duration": 108,
    "start_time": "2024-09-22T00:09:17.975Z"
   },
   {
    "duration": 66,
    "start_time": "2024-09-22T00:09:18.085Z"
   },
   {
    "duration": 35381,
    "start_time": "2024-09-22T00:09:18.153Z"
   },
   {
    "duration": 165,
    "start_time": "2024-09-22T00:09:53.536Z"
   },
   {
    "duration": 204,
    "start_time": "2024-09-22T00:09:53.705Z"
   },
   {
    "duration": 7,
    "start_time": "2024-09-22T00:09:53.911Z"
   },
   {
    "duration": 7,
    "start_time": "2024-09-22T00:09:53.919Z"
   },
   {
    "duration": 32,
    "start_time": "2024-09-22T00:09:53.927Z"
   },
   {
    "duration": 20,
    "start_time": "2024-09-22T00:09:53.961Z"
   },
   {
    "duration": 24,
    "start_time": "2024-09-22T00:10:20.413Z"
   },
   {
    "duration": 6,
    "start_time": "2024-09-22T00:10:35.351Z"
   },
   {
    "duration": 10,
    "start_time": "2024-09-22T00:10:39.311Z"
   },
   {
    "duration": 40,
    "start_time": "2024-09-22T00:10:42.156Z"
   },
   {
    "duration": 3,
    "start_time": "2024-09-22T00:10:55.449Z"
   },
   {
    "duration": 76,
    "start_time": "2024-09-22T00:10:57.782Z"
   },
   {
    "duration": 19,
    "start_time": "2024-09-22T00:11:10.640Z"
   },
   {
    "duration": 3,
    "start_time": "2024-09-22T00:11:16.034Z"
   },
   {
    "duration": 12,
    "start_time": "2024-09-22T00:11:16.823Z"
   },
   {
    "duration": 9,
    "start_time": "2024-09-22T00:11:17.791Z"
   },
   {
    "duration": 7,
    "start_time": "2024-09-22T00:11:18.862Z"
   },
   {
    "duration": 1033,
    "start_time": "2024-09-22T00:11:20.825Z"
   },
   {
    "duration": 8,
    "start_time": "2024-09-22T00:12:05.930Z"
   },
   {
    "duration": 9,
    "start_time": "2024-09-22T00:13:00.848Z"
   },
   {
    "duration": 186,
    "start_time": "2024-09-22T00:13:01.992Z"
   },
   {
    "duration": 101,
    "start_time": "2024-09-22T00:13:03.155Z"
   },
   {
    "duration": 3,
    "start_time": "2024-09-22T00:13:06.408Z"
   },
   {
    "duration": 16,
    "start_time": "2024-09-22T00:13:13.099Z"
   },
   {
    "duration": 507,
    "start_time": "2024-09-22T00:13:18.221Z"
   },
   {
    "duration": 14,
    "start_time": "2024-09-22T00:16:37.847Z"
   },
   {
    "duration": 113,
    "start_time": "2024-09-22T00:16:51.174Z"
   },
   {
    "duration": 4,
    "start_time": "2024-09-22T00:19:19.951Z"
   },
   {
    "duration": 261,
    "start_time": "2024-09-22T00:19:22.494Z"
   },
   {
    "duration": 1024,
    "start_time": "2024-09-22T00:19:34.370Z"
   },
   {
    "duration": 402,
    "start_time": "2024-09-22T00:19:35.396Z"
   },
   {
    "duration": 25,
    "start_time": "2024-09-22T00:19:35.800Z"
   },
   {
    "duration": 3,
    "start_time": "2024-09-22T00:19:35.827Z"
   },
   {
    "duration": 30,
    "start_time": "2024-09-22T00:19:35.832Z"
   },
   {
    "duration": 111,
    "start_time": "2024-09-22T00:19:35.864Z"
   },
   {
    "duration": 68,
    "start_time": "2024-09-22T00:19:35.976Z"
   },
   {
    "duration": 35593,
    "start_time": "2024-09-22T00:19:36.046Z"
   },
   {
    "duration": 165,
    "start_time": "2024-09-22T00:20:11.640Z"
   },
   {
    "duration": 213,
    "start_time": "2024-09-22T00:20:11.807Z"
   },
   {
    "duration": 60,
    "start_time": "2024-09-22T00:20:12.022Z"
   },
   {
    "duration": 79,
    "start_time": "2024-09-22T00:20:12.084Z"
   },
   {
    "duration": 7,
    "start_time": "2024-09-22T00:20:12.164Z"
   },
   {
    "duration": 6,
    "start_time": "2024-09-22T00:20:12.175Z"
   },
   {
    "duration": 40,
    "start_time": "2024-09-22T00:20:12.182Z"
   },
   {
    "duration": 16,
    "start_time": "2024-09-22T00:20:12.224Z"
   },
   {
    "duration": 6,
    "start_time": "2024-09-22T00:20:12.241Z"
   },
   {
    "duration": 4,
    "start_time": "2024-09-22T00:20:12.249Z"
   },
   {
    "duration": 3,
    "start_time": "2024-09-22T00:20:33.359Z"
   },
   {
    "duration": 11,
    "start_time": "2024-09-22T00:20:35.943Z"
   },
   {
    "duration": 3,
    "start_time": "2024-09-22T00:20:56.891Z"
   },
   {
    "duration": 71,
    "start_time": "2024-09-22T00:20:57.762Z"
   },
   {
    "duration": 14,
    "start_time": "2024-09-22T00:20:59.645Z"
   },
   {
    "duration": 2,
    "start_time": "2024-09-22T00:21:07.435Z"
   },
   {
    "duration": 12,
    "start_time": "2024-09-22T00:21:08.224Z"
   },
   {
    "duration": 10,
    "start_time": "2024-09-22T00:21:08.968Z"
   },
   {
    "duration": 7,
    "start_time": "2024-09-22T00:21:09.785Z"
   },
   {
    "duration": 4,
    "start_time": "2024-09-22T00:21:11.118Z"
   },
   {
    "duration": 181,
    "start_time": "2024-09-22T00:21:11.893Z"
   },
   {
    "duration": 84,
    "start_time": "2024-09-22T00:21:12.842Z"
   },
   {
    "duration": 2,
    "start_time": "2024-09-22T00:21:16.163Z"
   },
   {
    "duration": 916,
    "start_time": "2024-09-22T00:21:23.947Z"
   },
   {
    "duration": 214,
    "start_time": "2024-09-22T00:21:36.975Z"
   },
   {
    "duration": 3,
    "start_time": "2024-09-22T00:22:27.930Z"
   },
   {
    "duration": 7,
    "start_time": "2024-09-22T00:22:29.793Z"
   },
   {
    "duration": 15,
    "start_time": "2024-09-22T00:22:32.319Z"
   },
   {
    "duration": 2,
    "start_time": "2024-09-22T00:22:56.214Z"
   },
   {
    "duration": 12,
    "start_time": "2024-09-22T00:23:09.008Z"
   },
   {
    "duration": 3,
    "start_time": "2024-09-22T00:27:43.034Z"
   },
   {
    "duration": 380,
    "start_time": "2024-09-22T00:28:12.116Z"
   },
   {
    "duration": 0,
    "start_time": "2024-09-22T00:29:44.648Z"
   },
   {
    "duration": 1112,
    "start_time": "2024-09-22T00:29:51.388Z"
   },
   {
    "duration": 417,
    "start_time": "2024-09-22T00:29:55.689Z"
   },
   {
    "duration": 19,
    "start_time": "2024-09-22T00:29:58.117Z"
   },
   {
    "duration": 3,
    "start_time": "2024-09-22T00:29:59.099Z"
   },
   {
    "duration": 31,
    "start_time": "2024-09-22T00:30:00.937Z"
   },
   {
    "duration": 91,
    "start_time": "2024-09-22T00:30:01.939Z"
   },
   {
    "duration": 60,
    "start_time": "2024-09-22T00:30:03.045Z"
   },
   {
    "duration": 35920,
    "start_time": "2024-09-22T00:30:06.214Z"
   },
   {
    "duration": 152,
    "start_time": "2024-09-22T00:30:43.943Z"
   },
   {
    "duration": 214,
    "start_time": "2024-09-22T00:30:45.074Z"
   },
   {
    "duration": 60,
    "start_time": "2024-09-22T00:30:46.198Z"
   },
   {
    "duration": 65,
    "start_time": "2024-09-22T00:30:47.647Z"
   },
   {
    "duration": 7,
    "start_time": "2024-09-22T00:30:48.783Z"
   },
   {
    "duration": 6,
    "start_time": "2024-09-22T00:30:49.885Z"
   },
   {
    "duration": 28,
    "start_time": "2024-09-22T00:30:51.056Z"
   },
   {
    "duration": 18,
    "start_time": "2024-09-22T00:30:51.900Z"
   },
   {
    "duration": 5,
    "start_time": "2024-09-22T00:30:52.863Z"
   },
   {
    "duration": 4,
    "start_time": "2024-09-22T00:30:54.794Z"
   },
   {
    "duration": 14,
    "start_time": "2024-09-22T00:30:56.420Z"
   },
   {
    "duration": 41,
    "start_time": "2024-09-22T00:30:57.360Z"
   },
   {
    "duration": 3,
    "start_time": "2024-09-22T00:31:01.081Z"
   },
   {
    "duration": 70,
    "start_time": "2024-09-22T00:31:07.539Z"
   },
   {
    "duration": 19,
    "start_time": "2024-09-22T00:31:11.092Z"
   },
   {
    "duration": 3,
    "start_time": "2024-09-22T00:31:13.757Z"
   },
   {
    "duration": 13,
    "start_time": "2024-09-22T00:31:17.846Z"
   },
   {
    "duration": 9,
    "start_time": "2024-09-22T00:31:18.963Z"
   },
   {
    "duration": 7,
    "start_time": "2024-09-22T00:31:20.024Z"
   },
   {
    "duration": 4,
    "start_time": "2024-09-22T00:31:22.293Z"
   },
   {
    "duration": 195,
    "start_time": "2024-09-22T00:31:23.457Z"
   },
   {
    "duration": 93,
    "start_time": "2024-09-22T00:31:24.615Z"
   },
   {
    "duration": 4,
    "start_time": "2024-09-22T00:31:27.705Z"
   },
   {
    "duration": 2267,
    "start_time": "2024-09-22T00:31:40.654Z"
   },
   {
    "duration": 2877,
    "start_time": "2024-09-22T14:49:57.933Z"
   },
   {
    "duration": 463,
    "start_time": "2024-09-22T14:50:00.813Z"
   },
   {
    "duration": 23,
    "start_time": "2024-09-22T14:50:01.278Z"
   },
   {
    "duration": 3,
    "start_time": "2024-09-22T14:50:01.305Z"
   },
   {
    "duration": 32,
    "start_time": "2024-09-22T14:50:01.310Z"
   },
   {
    "duration": 110,
    "start_time": "2024-09-22T14:50:01.344Z"
   },
   {
    "duration": 70,
    "start_time": "2024-09-22T14:50:01.456Z"
   },
   {
    "duration": 33842,
    "start_time": "2024-09-22T14:50:01.528Z"
   },
   {
    "duration": 159,
    "start_time": "2024-09-22T14:50:35.372Z"
   },
   {
    "duration": 211,
    "start_time": "2024-09-22T14:50:35.533Z"
   },
   {
    "duration": 68,
    "start_time": "2024-09-22T14:50:35.746Z"
   },
   {
    "duration": 65,
    "start_time": "2024-09-22T14:50:35.816Z"
   },
   {
    "duration": 23,
    "start_time": "2024-09-22T14:50:35.883Z"
   },
   {
    "duration": 7,
    "start_time": "2024-09-22T14:50:35.910Z"
   },
   {
    "duration": 30,
    "start_time": "2024-09-22T14:50:35.918Z"
   },
   {
    "duration": 18,
    "start_time": "2024-09-22T14:50:35.950Z"
   },
   {
    "duration": 5,
    "start_time": "2024-09-22T14:50:35.970Z"
   },
   {
    "duration": 28,
    "start_time": "2024-09-22T14:50:35.977Z"
   },
   {
    "duration": 15,
    "start_time": "2024-09-22T14:50:36.008Z"
   },
   {
    "duration": 40,
    "start_time": "2024-09-22T14:50:36.024Z"
   },
   {
    "duration": 3,
    "start_time": "2024-09-22T14:50:36.065Z"
   },
   {
    "duration": 98,
    "start_time": "2024-09-22T14:50:36.070Z"
   },
   {
    "duration": 15,
    "start_time": "2024-09-22T14:50:36.170Z"
   },
   {
    "duration": 3,
    "start_time": "2024-09-22T14:50:36.187Z"
   },
   {
    "duration": 24,
    "start_time": "2024-09-22T14:50:36.191Z"
   },
   {
    "duration": 9,
    "start_time": "2024-09-22T14:50:36.217Z"
   },
   {
    "duration": 7,
    "start_time": "2024-09-22T14:50:36.228Z"
   },
   {
    "duration": 4,
    "start_time": "2024-09-22T14:50:36.236Z"
   },
   {
    "duration": 222,
    "start_time": "2024-09-22T14:50:36.241Z"
   },
   {
    "duration": 97,
    "start_time": "2024-09-22T14:50:36.465Z"
   },
   {
    "duration": 3,
    "start_time": "2024-09-22T14:52:01.353Z"
   },
   {
    "duration": 408,
    "start_time": "2024-09-22T14:55:54.193Z"
   },
   {
    "duration": 16681,
    "start_time": "2024-09-22T14:59:11.429Z"
   },
   {
    "duration": 95,
    "start_time": "2024-09-22T17:31:10.825Z"
   },
   {
    "duration": 2730,
    "start_time": "2024-09-22T17:31:35.570Z"
   },
   {
    "duration": 451,
    "start_time": "2024-09-22T17:31:38.303Z"
   },
   {
    "duration": 18,
    "start_time": "2024-09-22T17:31:38.757Z"
   },
   {
    "duration": 2,
    "start_time": "2024-09-22T17:31:38.777Z"
   },
   {
    "duration": 44,
    "start_time": "2024-09-22T17:31:38.782Z"
   },
   {
    "duration": 96,
    "start_time": "2024-09-22T17:31:38.828Z"
   },
   {
    "duration": 58,
    "start_time": "2024-09-22T17:31:38.926Z"
   },
   {
    "duration": 34711,
    "start_time": "2024-09-22T17:31:38.985Z"
   },
   {
    "duration": 187,
    "start_time": "2024-09-22T17:32:13.698Z"
   },
   {
    "duration": 222,
    "start_time": "2024-09-22T17:32:13.886Z"
   },
   {
    "duration": 65,
    "start_time": "2024-09-22T17:32:14.110Z"
   },
   {
    "duration": 68,
    "start_time": "2024-09-22T17:32:14.177Z"
   },
   {
    "duration": 7,
    "start_time": "2024-09-22T17:32:14.247Z"
   },
   {
    "duration": 5,
    "start_time": "2024-09-22T17:32:14.257Z"
   },
   {
    "duration": 31,
    "start_time": "2024-09-22T17:32:14.264Z"
   },
   {
    "duration": 33,
    "start_time": "2024-09-22T17:32:14.297Z"
   },
   {
    "duration": 5,
    "start_time": "2024-09-22T17:32:14.332Z"
   },
   {
    "duration": 6,
    "start_time": "2024-09-22T17:32:14.339Z"
   },
   {
    "duration": 15,
    "start_time": "2024-09-22T17:32:14.346Z"
   },
   {
    "duration": 40,
    "start_time": "2024-09-22T17:32:14.363Z"
   },
   {
    "duration": 5,
    "start_time": "2024-09-22T17:32:14.425Z"
   },
   {
    "duration": 76,
    "start_time": "2024-09-22T17:32:14.432Z"
   },
   {
    "duration": 26,
    "start_time": "2024-09-22T17:32:14.510Z"
   },
   {
    "duration": 2,
    "start_time": "2024-09-22T17:32:14.538Z"
   },
   {
    "duration": 12,
    "start_time": "2024-09-22T17:32:14.542Z"
   },
   {
    "duration": 9,
    "start_time": "2024-09-22T17:32:14.556Z"
   },
   {
    "duration": 7,
    "start_time": "2024-09-22T17:32:14.567Z"
   },
   {
    "duration": 4,
    "start_time": "2024-09-22T17:32:14.575Z"
   },
   {
    "duration": 227,
    "start_time": "2024-09-22T17:32:14.581Z"
   },
   {
    "duration": 95,
    "start_time": "2024-09-22T17:32:14.810Z"
   },
   {
    "duration": 3,
    "start_time": "2024-09-22T17:32:24.561Z"
   },
   {
    "duration": 79513,
    "start_time": "2024-09-22T17:32:30.918Z"
   },
   {
    "duration": 165,
    "start_time": "2024-09-22T18:00:30.806Z"
   },
   {
    "duration": 11,
    "start_time": "2024-09-22T18:00:43.983Z"
   },
   {
    "duration": 351,
    "start_time": "2024-09-22T18:04:26.558Z"
   },
   {
    "duration": 272,
    "start_time": "2024-09-22T18:05:13.075Z"
   },
   {
    "duration": 1477,
    "start_time": "2024-09-22T18:05:36.354Z"
   },
   {
    "duration": 1551,
    "start_time": "2024-09-22T18:06:16.141Z"
   },
   {
    "duration": 383,
    "start_time": "2024-09-22T18:06:38.128Z"
   },
   {
    "duration": 50988,
    "start_time": "2024-09-22T18:08:14.896Z"
   },
   {
    "duration": 1489,
    "start_time": "2024-09-22T18:09:52.658Z"
   },
   {
    "duration": 74,
    "start_time": "2024-09-22T18:10:11.627Z"
   },
   {
    "duration": 20393,
    "start_time": "2024-09-22T18:10:45.505Z"
   },
   {
    "duration": 859554,
    "start_time": "2024-09-22T18:11:48.111Z"
   },
   {
    "duration": 291245,
    "start_time": "2024-09-22T18:26:29.914Z"
   },
   {
    "duration": 66348,
    "start_time": "2024-09-22T18:31:23.683Z"
   },
   {
    "duration": 4,
    "start_time": "2024-09-22T18:32:42.362Z"
   },
   {
    "duration": 60424,
    "start_time": "2024-09-22T18:32:48.966Z"
   },
   {
    "duration": 29239,
    "start_time": "2024-09-22T18:33:52.276Z"
   },
   {
    "duration": 58063,
    "start_time": "2024-09-22T18:34:24.424Z"
   },
   {
    "duration": 78078,
    "start_time": "2024-09-22T18:36:10.153Z"
   },
   {
    "duration": 254998,
    "start_time": "2024-09-22T18:37:45.638Z"
   },
   {
    "duration": 40038,
    "start_time": "2024-09-22T18:42:51.806Z"
   },
   {
    "duration": 64,
    "start_time": "2024-09-22T18:44:54.063Z"
   },
   {
    "duration": 10,
    "start_time": "2024-09-22T20:07:09.582Z"
   },
   {
    "duration": 2717,
    "start_time": "2024-09-22T20:12:12.168Z"
   },
   {
    "duration": 463,
    "start_time": "2024-09-22T20:12:14.887Z"
   },
   {
    "duration": 19,
    "start_time": "2024-09-22T20:12:15.352Z"
   },
   {
    "duration": 2,
    "start_time": "2024-09-22T20:12:15.373Z"
   },
   {
    "duration": 47,
    "start_time": "2024-09-22T20:12:15.377Z"
   },
   {
    "duration": 98,
    "start_time": "2024-09-22T20:12:15.426Z"
   },
   {
    "duration": 56,
    "start_time": "2024-09-22T20:12:15.526Z"
   },
   {
    "duration": 35412,
    "start_time": "2024-09-22T20:12:15.584Z"
   },
   {
    "duration": 157,
    "start_time": "2024-09-22T20:12:50.998Z"
   },
   {
    "duration": 208,
    "start_time": "2024-09-22T20:12:51.158Z"
   },
   {
    "duration": 68,
    "start_time": "2024-09-22T20:12:51.368Z"
   },
   {
    "duration": 7,
    "start_time": "2024-09-22T20:12:51.438Z"
   },
   {
    "duration": 6,
    "start_time": "2024-09-22T20:12:51.447Z"
   },
   {
    "duration": 24,
    "start_time": "2024-09-22T20:12:51.454Z"
   },
   {
    "duration": 44,
    "start_time": "2024-09-22T20:12:51.480Z"
   },
   {
    "duration": 4,
    "start_time": "2024-09-22T20:12:51.526Z"
   },
   {
    "duration": 4,
    "start_time": "2024-09-22T20:12:51.532Z"
   },
   {
    "duration": 11,
    "start_time": "2024-09-22T20:12:51.537Z"
   },
   {
    "duration": 39,
    "start_time": "2024-09-22T20:12:51.549Z"
   },
   {
    "duration": 2,
    "start_time": "2024-09-22T20:12:51.590Z"
   },
   {
    "duration": 105,
    "start_time": "2024-09-22T20:12:51.594Z"
   },
   {
    "duration": 25,
    "start_time": "2024-09-22T20:12:51.701Z"
   },
   {
    "duration": 2,
    "start_time": "2024-09-22T20:12:51.727Z"
   },
   {
    "duration": 12,
    "start_time": "2024-09-22T20:12:51.731Z"
   },
   {
    "duration": 9,
    "start_time": "2024-09-22T20:12:51.745Z"
   },
   {
    "duration": 7,
    "start_time": "2024-09-22T20:12:51.756Z"
   },
   {
    "duration": 3,
    "start_time": "2024-09-22T20:12:51.765Z"
   },
   {
    "duration": 233,
    "start_time": "2024-09-22T20:12:51.771Z"
   },
   {
    "duration": 89,
    "start_time": "2024-09-22T20:12:52.005Z"
   },
   {
    "duration": 9,
    "start_time": "2024-09-22T20:14:37.327Z"
   },
   {
    "duration": 7,
    "start_time": "2024-09-22T20:14:42.716Z"
   },
   {
    "duration": 4,
    "start_time": "2024-09-22T22:11:16.806Z"
   },
   {
    "duration": 2827,
    "start_time": "2024-09-24T14:21:54.017Z"
   },
   {
    "duration": 461,
    "start_time": "2024-09-24T14:21:56.846Z"
   },
   {
    "duration": 22,
    "start_time": "2024-09-24T14:21:57.309Z"
   },
   {
    "duration": 3,
    "start_time": "2024-09-24T14:21:57.333Z"
   },
   {
    "duration": 30,
    "start_time": "2024-09-24T14:21:57.339Z"
   },
   {
    "duration": 106,
    "start_time": "2024-09-24T14:21:57.370Z"
   },
   {
    "duration": 75,
    "start_time": "2024-09-24T14:21:57.478Z"
   },
   {
    "duration": 34777,
    "start_time": "2024-09-24T14:21:57.555Z"
   },
   {
    "duration": 172,
    "start_time": "2024-09-24T14:22:32.334Z"
   },
   {
    "duration": 207,
    "start_time": "2024-09-24T14:22:32.508Z"
   },
   {
    "duration": 60,
    "start_time": "2024-09-24T14:22:32.717Z"
   },
   {
    "duration": 6,
    "start_time": "2024-09-24T14:22:32.779Z"
   },
   {
    "duration": 22,
    "start_time": "2024-09-24T14:22:32.787Z"
   },
   {
    "duration": 33,
    "start_time": "2024-09-24T14:22:32.812Z"
   },
   {
    "duration": 20,
    "start_time": "2024-09-24T14:22:32.847Z"
   },
   {
    "duration": 5,
    "start_time": "2024-09-24T14:22:32.873Z"
   },
   {
    "duration": 4,
    "start_time": "2024-09-24T14:22:32.882Z"
   },
   {
    "duration": 15,
    "start_time": "2024-09-24T14:22:32.906Z"
   },
   {
    "duration": 42,
    "start_time": "2024-09-24T14:22:32.923Z"
   },
   {
    "duration": 3,
    "start_time": "2024-09-24T14:22:32.967Z"
   },
   {
    "duration": 96,
    "start_time": "2024-09-24T14:22:32.971Z"
   },
   {
    "duration": 19,
    "start_time": "2024-09-24T14:22:33.069Z"
   },
   {
    "duration": 16,
    "start_time": "2024-09-24T14:22:33.090Z"
   },
   {
    "duration": 14,
    "start_time": "2024-09-24T14:22:33.108Z"
   },
   {
    "duration": 11,
    "start_time": "2024-09-24T14:22:33.124Z"
   },
   {
    "duration": 7,
    "start_time": "2024-09-24T14:22:33.137Z"
   },
   {
    "duration": 13,
    "start_time": "2024-09-24T14:23:46.503Z"
   },
   {
    "duration": 8,
    "start_time": "2024-09-24T14:24:31.166Z"
   },
   {
    "duration": 21,
    "start_time": "2024-09-24T14:25:54.216Z"
   },
   {
    "duration": 20,
    "start_time": "2024-09-24T14:29:57.412Z"
   },
   {
    "duration": 21,
    "start_time": "2024-09-24T14:31:57.479Z"
   },
   {
    "duration": 9,
    "start_time": "2024-09-24T14:47:48.071Z"
   },
   {
    "duration": 8,
    "start_time": "2024-09-24T14:49:40.176Z"
   },
   {
    "duration": 89,
    "start_time": "2024-09-24T14:52:35.097Z"
   },
   {
    "duration": 2,
    "start_time": "2024-09-24T14:52:42.210Z"
   },
   {
    "duration": 64,
    "start_time": "2024-09-24T14:54:01.670Z"
   },
   {
    "duration": 95,
    "start_time": "2024-09-24T15:05:06.888Z"
   },
   {
    "duration": 1089,
    "start_time": "2024-09-24T15:05:52.618Z"
   },
   {
    "duration": 408,
    "start_time": "2024-09-24T15:05:53.709Z"
   },
   {
    "duration": 28,
    "start_time": "2024-09-24T15:05:54.118Z"
   },
   {
    "duration": 4,
    "start_time": "2024-09-24T15:05:54.151Z"
   },
   {
    "duration": 32,
    "start_time": "2024-09-24T15:05:54.157Z"
   },
   {
    "duration": 106,
    "start_time": "2024-09-24T15:05:54.190Z"
   },
   {
    "duration": 58,
    "start_time": "2024-09-24T15:05:54.306Z"
   },
   {
    "duration": 35542,
    "start_time": "2024-09-24T15:05:54.366Z"
   },
   {
    "duration": 155,
    "start_time": "2024-09-24T15:06:29.910Z"
   },
   {
    "duration": 203,
    "start_time": "2024-09-24T15:06:30.069Z"
   },
   {
    "duration": 69,
    "start_time": "2024-09-24T15:06:30.274Z"
   },
   {
    "duration": 93,
    "start_time": "2024-09-24T15:06:30.344Z"
   },
   {
    "duration": 7,
    "start_time": "2024-09-24T15:06:30.439Z"
   },
   {
    "duration": 6,
    "start_time": "2024-09-24T15:06:30.447Z"
   },
   {
    "duration": 21,
    "start_time": "2024-09-24T15:06:30.454Z"
   },
   {
    "duration": 31,
    "start_time": "2024-09-24T15:06:30.477Z"
   },
   {
    "duration": 7,
    "start_time": "2024-09-24T15:06:30.511Z"
   },
   {
    "duration": 5,
    "start_time": "2024-09-24T15:06:30.519Z"
   },
   {
    "duration": 9,
    "start_time": "2024-09-24T15:06:30.526Z"
   },
   {
    "duration": 32,
    "start_time": "2024-09-24T15:06:30.537Z"
   },
   {
    "duration": 5,
    "start_time": "2024-09-24T15:06:30.571Z"
   },
   {
    "duration": 83,
    "start_time": "2024-09-24T15:06:30.577Z"
   },
   {
    "duration": 15,
    "start_time": "2024-09-24T15:06:30.662Z"
   },
   {
    "duration": 112,
    "start_time": "2024-09-24T15:06:30.679Z"
   },
   {
    "duration": 12,
    "start_time": "2024-09-24T15:06:30.794Z"
   },
   {
    "duration": 12,
    "start_time": "2024-09-24T15:06:30.808Z"
   },
   {
    "duration": 8,
    "start_time": "2024-09-24T15:06:30.821Z"
   },
   {
    "duration": 17,
    "start_time": "2024-09-24T15:06:30.832Z"
   },
   {
    "duration": 14,
    "start_time": "2024-09-24T15:06:30.850Z"
   },
   {
    "duration": 46,
    "start_time": "2024-09-24T15:06:30.865Z"
   },
   {
    "duration": 8,
    "start_time": "2024-09-24T15:06:30.912Z"
   },
   {
    "duration": 7,
    "start_time": "2024-09-24T15:07:24.902Z"
   },
   {
    "duration": 82,
    "start_time": "2024-09-24T15:07:26.653Z"
   },
   {
    "duration": 2,
    "start_time": "2024-09-24T15:07:30.503Z"
   },
   {
    "duration": 95,
    "start_time": "2024-09-24T15:07:32.514Z"
   },
   {
    "duration": 2914,
    "start_time": "2024-09-25T13:22:47.586Z"
   },
   {
    "duration": 480,
    "start_time": "2024-09-25T13:22:50.502Z"
   },
   {
    "duration": 29,
    "start_time": "2024-09-25T13:22:50.987Z"
   },
   {
    "duration": 4,
    "start_time": "2024-09-25T13:22:51.018Z"
   },
   {
    "duration": 33,
    "start_time": "2024-09-25T13:22:51.024Z"
   },
   {
    "duration": 115,
    "start_time": "2024-09-25T13:22:51.060Z"
   },
   {
    "duration": 62,
    "start_time": "2024-09-25T13:22:51.187Z"
   },
   {
    "duration": 34623,
    "start_time": "2024-09-25T13:22:51.252Z"
   },
   {
    "duration": 168,
    "start_time": "2024-09-25T13:23:25.876Z"
   },
   {
    "duration": 212,
    "start_time": "2024-09-25T13:23:26.047Z"
   },
   {
    "duration": 68,
    "start_time": "2024-09-25T13:23:26.261Z"
   },
   {
    "duration": 86,
    "start_time": "2024-09-25T13:23:26.331Z"
   },
   {
    "duration": 6,
    "start_time": "2024-09-25T13:23:26.419Z"
   },
   {
    "duration": 4,
    "start_time": "2024-09-25T13:23:26.427Z"
   },
   {
    "duration": 20,
    "start_time": "2024-09-25T13:23:26.433Z"
   },
   {
    "duration": 33,
    "start_time": "2024-09-25T13:23:26.455Z"
   },
   {
    "duration": 5,
    "start_time": "2024-09-25T13:23:26.490Z"
   },
   {
    "duration": 3,
    "start_time": "2024-09-25T13:23:26.497Z"
   },
   {
    "duration": 10,
    "start_time": "2024-09-25T13:23:26.501Z"
   },
   {
    "duration": 33,
    "start_time": "2024-09-25T13:23:26.512Z"
   },
   {
    "duration": 4,
    "start_time": "2024-09-25T13:23:26.548Z"
   },
   {
    "duration": 84,
    "start_time": "2024-09-25T13:23:26.553Z"
   },
   {
    "duration": 15,
    "start_time": "2024-09-25T13:23:26.638Z"
   },
   {
    "duration": 112,
    "start_time": "2024-09-25T13:23:26.655Z"
   },
   {
    "duration": 2,
    "start_time": "2024-09-25T13:23:26.769Z"
   },
   {
    "duration": 19,
    "start_time": "2024-09-25T13:23:26.773Z"
   },
   {
    "duration": 8,
    "start_time": "2024-09-25T13:23:26.794Z"
   },
   {
    "duration": 17,
    "start_time": "2024-09-25T13:23:26.805Z"
   },
   {
    "duration": 14,
    "start_time": "2024-09-25T13:23:26.824Z"
   },
   {
    "duration": 47,
    "start_time": "2024-09-25T13:23:26.840Z"
   },
   {
    "duration": 7,
    "start_time": "2024-09-25T13:23:26.889Z"
   },
   {
    "duration": 7,
    "start_time": "2024-09-25T13:23:26.898Z"
   },
   {
    "duration": 101,
    "start_time": "2024-09-25T13:23:26.906Z"
   },
   {
    "duration": 3,
    "start_time": "2024-09-25T13:23:32.273Z"
   },
   {
    "duration": 24201,
    "start_time": "2024-09-25T13:23:46.942Z"
   },
   {
    "duration": 4,
    "start_time": "2024-09-25T13:25:32.170Z"
   },
   {
    "duration": 27163,
    "start_time": "2024-09-25T13:26:09.493Z"
   },
   {
    "duration": 38979,
    "start_time": "2024-09-25T13:27:54.548Z"
   },
   {
    "duration": 39195,
    "start_time": "2024-09-25T13:29:59.447Z"
   },
   {
    "duration": 32341,
    "start_time": "2024-09-25T14:11:18.549Z"
   },
   {
    "duration": 31965,
    "start_time": "2024-09-25T14:48:48.574Z"
   },
   {
    "duration": 194695,
    "start_time": "2024-09-25T14:52:50.712Z"
   },
   {
    "duration": 192175,
    "start_time": "2024-09-25T14:57:37.787Z"
   },
   {
    "duration": 39194,
    "start_time": "2024-09-25T15:17:48.689Z"
   },
   {
    "duration": 192642,
    "start_time": "2024-09-25T15:23:12.160Z"
   },
   {
    "duration": 31886,
    "start_time": "2024-09-25T15:27:33.197Z"
   },
   {
    "duration": 541,
    "start_time": "2024-09-25T15:33:26.330Z"
   },
   {
    "duration": 691,
    "start_time": "2024-09-25T15:35:40.617Z"
   },
   {
    "duration": 646,
    "start_time": "2024-09-25T15:36:00.803Z"
   },
   {
    "duration": 8,
    "start_time": "2024-09-25T15:40:17.573Z"
   },
   {
    "duration": 8,
    "start_time": "2024-09-25T15:40:37.211Z"
   },
   {
    "duration": 11,
    "start_time": "2024-09-25T16:20:22.339Z"
   },
   {
    "duration": 1151,
    "start_time": "2024-09-25T16:23:37.435Z"
   },
   {
    "duration": 3,
    "start_time": "2024-09-25T16:24:13.184Z"
   },
   {
    "duration": 436,
    "start_time": "2024-09-25T16:24:15.917Z"
   },
   {
    "duration": 450,
    "start_time": "2024-09-25T16:24:55.538Z"
   },
   {
    "duration": 18,
    "start_time": "2024-09-25T16:26:04.080Z"
   },
   {
    "duration": 473,
    "start_time": "2024-09-25T16:26:31.502Z"
   },
   {
    "duration": 840,
    "start_time": "2024-09-25T16:28:09.510Z"
   },
   {
    "duration": 858,
    "start_time": "2024-09-25T16:29:51.015Z"
   },
   {
    "duration": 28,
    "start_time": "2024-09-25T16:33:45.193Z"
   },
   {
    "duration": 14,
    "start_time": "2024-09-25T16:33:54.866Z"
   },
   {
    "duration": 3615,
    "start_time": "2024-09-25T16:35:41.509Z"
   },
   {
    "duration": 3112,
    "start_time": "2024-09-25T16:35:54.438Z"
   },
   {
    "duration": 1353,
    "start_time": "2024-09-25T16:39:42.410Z"
   },
   {
    "duration": 1203,
    "start_time": "2024-09-25T16:40:17.857Z"
   },
   {
    "duration": 4,
    "start_time": "2024-09-25T16:41:32.885Z"
   },
   {
    "duration": 3,
    "start_time": "2024-09-25T16:41:46.662Z"
   },
   {
    "duration": 3,
    "start_time": "2024-09-25T16:41:59.121Z"
   },
   {
    "duration": 4,
    "start_time": "2024-09-25T16:42:18.082Z"
   },
   {
    "duration": 165,
    "start_time": "2024-09-25T19:28:58.974Z"
   },
   {
    "duration": 2753,
    "start_time": "2024-09-25T19:29:09.099Z"
   },
   {
    "duration": 4,
    "start_time": "2024-09-25T19:29:20.879Z"
   },
   {
    "duration": 495,
    "start_time": "2024-09-25T19:29:20.888Z"
   },
   {
    "duration": 23,
    "start_time": "2024-09-25T19:29:21.385Z"
   },
   {
    "duration": 2,
    "start_time": "2024-09-25T19:29:21.410Z"
   },
   {
    "duration": 48,
    "start_time": "2024-09-25T19:29:21.414Z"
   },
   {
    "duration": 104,
    "start_time": "2024-09-25T19:29:21.466Z"
   },
   {
    "duration": 72,
    "start_time": "2024-09-25T19:29:21.571Z"
   },
   {
    "duration": 35174,
    "start_time": "2024-09-25T19:29:21.645Z"
   },
   {
    "duration": 159,
    "start_time": "2024-09-25T19:29:56.821Z"
   },
   {
    "duration": 202,
    "start_time": "2024-09-25T19:29:56.982Z"
   },
   {
    "duration": 69,
    "start_time": "2024-09-25T19:29:57.186Z"
   },
   {
    "duration": 85,
    "start_time": "2024-09-25T19:29:57.257Z"
   },
   {
    "duration": 7,
    "start_time": "2024-09-25T19:29:57.344Z"
   },
   {
    "duration": 5,
    "start_time": "2024-09-25T19:29:57.353Z"
   },
   {
    "duration": 21,
    "start_time": "2024-09-25T19:29:57.361Z"
   },
   {
    "duration": 12,
    "start_time": "2024-09-25T19:29:57.384Z"
   },
   {
    "duration": 4,
    "start_time": "2024-09-25T19:29:57.399Z"
   },
   {
    "duration": 38,
    "start_time": "2024-09-25T19:29:57.405Z"
   },
   {
    "duration": 10,
    "start_time": "2024-09-25T19:29:57.445Z"
   },
   {
    "duration": 35,
    "start_time": "2024-09-25T19:29:57.456Z"
   },
   {
    "duration": 3,
    "start_time": "2024-09-25T19:29:57.493Z"
   },
   {
    "duration": 90,
    "start_time": "2024-09-25T19:29:57.497Z"
   },
   {
    "duration": 15,
    "start_time": "2024-09-25T19:29:57.589Z"
   },
   {
    "duration": 109,
    "start_time": "2024-09-25T19:29:57.606Z"
   },
   {
    "duration": 3,
    "start_time": "2024-09-25T19:29:57.717Z"
   },
   {
    "duration": 23,
    "start_time": "2024-09-25T19:29:57.722Z"
   },
   {
    "duration": 8,
    "start_time": "2024-09-25T19:29:57.747Z"
   },
   {
    "duration": 17,
    "start_time": "2024-09-25T19:29:57.757Z"
   },
   {
    "duration": 13,
    "start_time": "2024-09-25T19:29:57.776Z"
   },
   {
    "duration": 8,
    "start_time": "2024-09-25T19:29:57.791Z"
   },
   {
    "duration": 42,
    "start_time": "2024-09-25T19:29:57.801Z"
   },
   {
    "duration": 7,
    "start_time": "2024-09-25T19:29:57.844Z"
   },
   {
    "duration": 92,
    "start_time": "2024-09-25T19:29:57.853Z"
   },
   {
    "duration": 3,
    "start_time": "2024-09-25T19:29:57.947Z"
   },
   {
    "duration": 3,
    "start_time": "2024-09-25T19:29:57.952Z"
   },
   {
    "duration": 19888,
    "start_time": "2024-09-25T19:30:16.365Z"
   },
   {
    "duration": 46866,
    "start_time": "2024-09-25T19:37:14.581Z"
   },
   {
    "duration": 188407,
    "start_time": "2024-09-25T19:44:34.353Z"
   },
   {
    "duration": 3205,
    "start_time": "2024-09-25T19:50:16.671Z"
   },
   {
    "duration": 114,
    "start_time": "2024-09-25T19:54:19.533Z"
   },
   {
    "duration": 57,
    "start_time": "2024-09-25T19:55:07.888Z"
   }
  ],
  "kernelspec": {
   "display_name": "Python 3 (ipykernel)",
   "language": "python",
   "name": "python3"
  },
  "language_info": {
   "codemirror_mode": {
    "name": "ipython",
    "version": 3
   },
   "file_extension": ".py",
   "mimetype": "text/x-python",
   "name": "python",
   "nbconvert_exporter": "python",
   "pygments_lexer": "ipython3",
   "version": "3.9.19"
  },
  "toc": {
   "base_numbering": 1,
   "nav_menu": {},
   "number_sections": true,
   "sideBar": true,
   "skip_h1_title": true,
   "title_cell": "Table of Contents",
   "title_sidebar": "Contents",
   "toc_cell": false,
   "toc_position": {},
   "toc_section_display": true,
   "toc_window_display": false
  }
 },
 "nbformat": 4,
 "nbformat_minor": 2
}
